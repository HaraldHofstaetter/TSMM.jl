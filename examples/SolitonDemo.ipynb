{
 "cells": [
  {
   "cell_type": "code",
   "execution_count": 1,
   "metadata": {
    "collapsed": false,
    "scrolled": true
   },
   "outputs": [
    {
     "name": "stderr",
     "output_type": "stream",
     "text": [
      "/home/hofi/.julia/v0.4/Conda/deps/usr/lib/python2.7/site-packages/matplotlib/font_manager.py:273: UserWarning: Matplotlib is building the font cache using fc-list. This may take a moment.\n",
      "  warnings.warn('Matplotlib is building the font cache using fc-list. This may take a moment.')\n"
     ]
    }
   ],
   "source": [
    "using TSSM\n",
    "using PyPlot\n",
    "include(\"time_stepper.jl\");"
   ]
  },
  {
   "cell_type": "markdown",
   "metadata": {},
   "source": [
    "## Nonlinear Schrödinger equation without potential\n",
    "\n",
    "The soliton\n",
    "$$\\psi_\\mathrm{ex}(x,t)=\\frac{a\\mathrm{e}^{\\frac{1}{2}\\mathrm{i}((a^2-b^2)t-bx)}}{\\cosh(a(bt+x-c))}$$ \n",
    "is the exact solution of the cubic nonlinear Schrödinger\n",
    "$$\\mathrm{i}\\frac{\\partial}{\\partial t}\\psi(x,t)=-\\frac{1}{2}\\Delta\\psi(x,t)+\\kappa|\\psi(x,t)|^2\\psi(x,t),\n",
    "\\quad \\psi(x,0) = \\psi_\\mathrm{ex}(x,0),$$\n",
    "where $\\kappa=-1$, and $a,b,c\\in\\mathbb{R}$ are arbitrarily chosen parameters. "
   ]
  },
  {
   "cell_type": "code",
   "execution_count": 2,
   "metadata": {
    "collapsed": false
   },
   "outputs": [
    {
     "data": {
      "text/plain": [
       "soliton (generic function with 1 method)"
      ]
     },
     "execution_count": 2,
     "metadata": {},
     "output_type": "execute_result"
    }
   ],
   "source": [
    "const a = 2\n",
    "const b = 1\n",
    "const c = 0\n",
    "function soliton(x, t)\n",
    "    h = (a^2 - b^2)/2*t - b*x\n",
    "    (a./cosh(a*(b*t+x-c))).*exp(1im*h) \n",
    "end    "
   ]
  },
  {
   "cell_type": "markdown",
   "metadata": {},
   "source": [
    "We use a Fourier spectral method on the computational domain  $[x_\\mathrm{min},x_\\mathrm{max}]=[-16,16]$ with $n_x=2048$ discretization points:"
   ]
  },
  {
   "cell_type": "code",
   "execution_count": 3,
   "metadata": {
    "collapsed": false
   },
   "outputs": [
    {
     "data": {
      "text/plain": [
       "TSSM.Schroedinger1D{Float64}(Ptr{Void} @0x00000000053f7750)"
      ]
     },
     "execution_count": 3,
     "metadata": {},
     "output_type": "execute_result"
    }
   ],
   "source": [
    "nx = 2048\n",
    "xmin = -16\n",
    "xmax = +16\n",
    "method = Schroedinger1D(nx, xmin, xmax, cubic_coupling=-1)"
   ]
  },
  {
   "cell_type": "markdown",
   "metadata": {},
   "source": [
    "We integrate from $t_0=0$ to $t_\\mathrm{end}=1$ with initial data $\\psi_\\mathrm{ex}(x,t_0)$. As reference solution to be compared with the numerical solution at $t=t_\\mathrm{end}$ we use the exact solution $\\psi_\\mathrm{ex}(x,t_\\mathrm{end})$:"
   ]
  },
  {
   "cell_type": "code",
   "execution_count": 4,
   "metadata": {
    "collapsed": false
   },
   "outputs": [],
   "source": [
    "t0 = 0\n",
    "tend = 1\n",
    "psi = wave_function(method)\n",
    "psi_ref = wave_function(method)\n",
    "set!(psi, soliton, t0)        # initial data at t=t0\n",
    "set!(psi_ref, soliton, tend)  # reference solution at t=tend"
   ]
  },
  {
   "cell_type": "code",
   "execution_count": 5,
   "metadata": {
    "collapsed": false
   },
   "outputs": [
    {
     "data": {
      "image/png": "[encoded data removed]",
      "text/plain": [
       "PyPlot.Figure(PyObject <matplotlib.figure.Figure object at 0x7fc86709fb10>)"
      ]
     },
     "metadata": {},
     "output_type": "display_data"
    }
   ],
   "source": [
    "plot(get_nodes(method), abs(get_data(psi)).^2)\n",
    "hold(true)\n",
    "plot(get_nodes(method), abs(get_data(psi_ref)).^2)\n",
    "hold(false)"
   ]
  },
  {
   "cell_type": "markdown",
   "metadata": {},
   "source": [
    "Global error at $t=t_\\mathrm{end}$ for Strang splitting:"
   ]
  },
  {
   "cell_type": "code",
   "execution_count": 6,
   "metadata": {
    "collapsed": false
   },
   "outputs": [
    {
     "name": "stdout",
     "output_type": "stream",
     "text": [
      "             dt         err      p\n",
      "-----------------------------------\n",
      "  1   1.000e+00   1.586e+00\n",
      "  2   5.000e-01   9.603e-01   0.72\n",
      "  3   2.500e-01   4.448e-01   1.11\n",
      "  4   1.250e-01   1.502e-01   1.57\n",
      "  5   6.250e-02   4.157e-02   1.85\n",
      "  6   3.125e-02   1.071e-02   1.96\n",
      "  7   1.563e-02   2.698e-03   1.99\n",
      "  8   7.813e-03   6.758e-04   2.00\n",
      "  9   3.906e-03   1.690e-04   2.00\n",
      " 10   1.953e-03   4.226e-05   2.00\n",
      " 11   9.766e-04   1.057e-05   2.00\n",
      " 12   4.883e-04   2.642e-06   2.00\n"
     ]
    }
   ],
   "source": [
    "global_orders(psi, psi_ref, t0, tend, tend-t0, scheme=Strang, rows=12) \n",
    "; "
   ]
  },
  {
   "cell_type": "markdown",
   "metadata": {},
   "source": [
    "Next we use a scheme of order 5 (method \"PP 5/6 A\" from http://www.asc.tuwien.ac.at/~winfried/splitting):\n"
   ]
  },
  {
   "cell_type": "code",
   "execution_count": 7,
   "metadata": {
    "collapsed": false
   },
   "outputs": [
    {
     "name": "stdout",
     "output_type": "stream",
     "text": [
      "             dt         err      p\n",
      "-----------------------------------\n",
      "  1   1.000e+00   2.041e+00\n",
      "  2   5.000e-01   5.641e-01   1.85\n",
      "  3   2.500e-01   8.913e-02   2.66\n",
      "  4   1.250e-01   7.838e-03   3.51\n",
      "  5   6.250e-02   3.703e-04   4.40\n",
      "  6   3.125e-02   5.960e-06   5.96\n",
      "  7   1.563e-02   5.499e-08   6.76\n",
      "  8   7.813e-03   1.083e-09   5.67\n",
      "  9   3.906e-03   2.676e-11   5.34\n",
      " 10   1.953e-03   1.163e-12   4.52\n"
     ]
    }
   ],
   "source": [
    "scheme_5 = ( 0.201651044312324230,   0.578800656272664932, \n",
    "             0.562615975356569200,   0.273128836056524479, \n",
    "             0.253874038247554845,  -0.102733803148432142, \n",
    "            -0.835351693190370636,   0.068014946093165092, \n",
    "             0.068014946093165092,  -0.835351693190370636,\n",
    "            -0.102733803148432142,   0.253874038247554845, \n",
    "             0.273128836056524479,   0.562615975356569200, \n",
    "             0.578800656272664932,   0.201651044312324230 )          \n",
    "global_orders(psi, psi_ref, t0, tend, tend-t0, scheme=scheme_5, rows=10) \n",
    ";"
   ]
  },
  {
   "cell_type": "markdown",
   "metadata": {},
   "source": [
    "## Linear Schrödinger equation with time dependent potential\n",
    "\n",
    "The exact solution of the *linear* Schrödinger equation\n",
    "$$\\mathrm{i}\\frac{\\partial}{\\partial t}\\psi(x,t)=-\\frac{1}{2}\\Delta\\psi(x,t)+V(x,t)\\psi(x,t),\n",
    "\\quad \\psi(x,0) = \\psi_\\mathrm{ex}(x,0),$$\n",
    "with time dependent potential\n",
    "$$V(x,t)=\\kappa|\\psi_\\mathrm{ex}(x,t)|^2$$\n",
    "is by construction $\\psi_\\mathrm{ex}(x,t)$ form above."
   ]
  },
  {
   "cell_type": "code",
   "execution_count": 8,
   "metadata": {
    "collapsed": true
   },
   "outputs": [],
   "source": [
    "V(x,t) = -1*abs(soliton(x,t)).^2\n",
    "method = Schroedinger1D(nx, xmin, xmax, potential_t=V)\n",
    "psi = wave_function(method)\n",
    "psi_ref = wave_function(method)\n",
    "set!(psi, soliton, t0)        # initial data at t=t0\n",
    "set!(psi_ref, soliton, tend)  # reference solution at t=tend"
   ]
  },
  {
   "cell_type": "code",
   "execution_count": 9,
   "metadata": {
    "collapsed": false
   },
   "outputs": [
    {
     "data": {
      "image/png": "[encoded data removed]",
      "text/plain": [
       "PyPlot.Figure(PyObject <matplotlib.figure.Figure object at 0x7fc864990f50>)"
      ]
     },
     "metadata": {},
     "output_type": "display_data"
    }
   ],
   "source": [
    "plot(get_nodes(method), get_potential_t(method, 0))\n",
    "hold(true)\n",
    "plot(get_nodes(method), get_potential_t(method, 1))\n",
    "hold(false)"
   ]
  },
  {
   "cell_type": "markdown",
   "metadata": {},
   "source": [
    "We use an ABC scheme of order 3 (method \"PP 3/4 A 3\" from http://www.asc.tuwien.ac.at/~winfried/splitting) where\n",
    "the C operator propagates time:"
   ]
  },
  {
   "cell_type": "code",
   "execution_count": 10,
   "metadata": {
    "collapsed": false
   },
   "outputs": [
    {
     "name": "stdout",
     "output_type": "stream",
     "text": [
      "             dt         err      p\n",
      "-----------------------------------\n",
      "  1   1.000e+00   1.341e+00\n",
      "  2   5.000e-01   4.789e-01   1.49\n",
      "  3   2.500e-01   9.634e-02   2.31\n",
      "  4   1.250e-01   1.148e-02   3.07\n",
      "  5   6.250e-02   1.110e-03   3.37\n",
      "  6   3.125e-02   1.249e-04   3.15\n",
      "  7   1.563e-02   1.552e-05   3.01\n",
      "  8   7.813e-03   1.938e-06   3.00\n",
      "  9   3.906e-03   2.421e-07   3.00\n",
      " 10   1.953e-03   3.027e-08   3.00\n"
     ]
    }
   ],
   "source": [
    "#ABC scheme PP 3/4 A 3 \n",
    "scheme_3 = (  0.461601939364879971, -0.266589223588183997,  -0.360420727960349671,\n",
    "             -0.0678710530507800801, 0.0924576733143338354,  0.579154058410941403,\n",
    "             -0.0958868852260720250, 0.674131550273850162,   0.483422668461380403,\n",
    "              0.483422668461380403,  0.674131550273850162,  -0.0958868852260720250,\n",
    "              0.579154058410941403,  0.0924576733143338354, -0.0678710530507800801,\n",
    "             -0.360420727960349671, -0.266589223588183997,   0.461601939364879971 )\n",
    "global_orders(psi, psi_ref, t0, tend, tend-t0, scheme=scheme_3, rows=10, \n",
    "              operator_sequence=\"ABT\") \n",
    ";"
   ]
  },
  {
   "cell_type": "code",
   "execution_count": 11,
   "metadata": {
    "collapsed": false
   },
   "outputs": [
    {
     "name": "stdout",
     "output_type": "stream",
     "text": [
      "             dt         err      p\n",
      "-----------------------------------\n",
      "  1   1.000e+00   1.128e+00\n",
      "  2   5.000e-01   5.461e-01   1.05\n",
      "  3   2.500e-01   1.794e-01   1.61\n",
      "  4   1.250e-01   3.064e-02   2.55\n",
      "  5   6.250e-02   2.031e-03   3.91\n",
      "  6   3.125e-02   5.079e-05   5.32\n",
      "  7   1.563e-02   3.790e-06   3.74\n",
      "  8   7.813e-03   4.429e-07   3.10\n",
      "  9   3.906e-03   5.441e-08   3.03\n",
      " 10   1.953e-03   6.771e-09   3.01\n"
     ]
    }
   ],
   "source": [
    "global_orders(psi, psi_ref, t0, tend, tend-t0, scheme=scheme_3, rows=10, \n",
    "              operator_sequence=\"ATB\") \n",
    ";"
   ]
  },
  {
   "cell_type": "markdown",
   "metadata": {},
   "source": [
    "## Nonlinear Schrödinger equation with time dependent potential\n",
    "\n",
    "The exact solution of the *nonlinear* Schrödinger equation\n",
    "$$\\mathrm{i}\\frac{\\partial}{\\partial t}\\psi(x,t)=-\\frac{1}{2}\\Delta\\psi(x,t)+V_\\alpha(x,t)\\psi(x,t)+\\alpha\\kappa|\\psi_\\mathrm{ex}(x,t)|^2\\psi(x,t),\\quad\\psi(x,0) = \\psi_\\mathrm{ex}(x,0),$$\n",
    "with time dependent potential\n",
    "$$V_\\alpha(x,t)= (1-\\alpha)\\kappa|\\psi_\\mathrm{ex}(x,t)|^2$$\n",
    "and, e.g., $\\alpha=\\frac{1}{2}$ is again given by $\\psi_\\mathrm{ex}(x,t)$ form above."
   ]
  },
  {
   "cell_type": "code",
   "execution_count": 12,
   "metadata": {
    "collapsed": false
   },
   "outputs": [],
   "source": [
    "V1(x,t) = -0.5*abs(soliton(x,t)).^2\n",
    "method = Schroedinger1D(nx, xmin, xmax, potential_t=V1, cubic_coupling=-0.5)\n",
    "psi = wave_function(method)\n",
    "psi_ref = wave_function(method)\n",
    "set!(psi, soliton, t0)        # initial data at t=t0\n",
    "set!(psi_ref, soliton, tend)  # reference solution at t=tend"
   ]
  },
  {
   "cell_type": "code",
   "execution_count": 13,
   "metadata": {
    "collapsed": false
   },
   "outputs": [
    {
     "name": "stdout",
     "output_type": "stream",
     "text": [
      "             dt         err      p\n",
      "-----------------------------------\n",
      "  1   1.000e+00   1.128e+00\n",
      "  2   5.000e-01   4.499e-01   1.33\n",
      "  3   2.500e-01   9.886e-02   2.19\n",
      "  4   1.250e-01   1.328e-02   2.90\n",
      "  5   6.250e-02   1.170e-03   3.50\n",
      "  6   3.125e-02   1.169e-04   3.32\n",
      "  7   1.563e-02   1.437e-05   3.02\n",
      "  8   7.813e-03   1.793e-06   3.00\n",
      "  9   3.906e-03   2.241e-07   3.00\n",
      " 10   1.953e-03   2.803e-08   3.00\n"
     ]
    }
   ],
   "source": [
    "global_orders(psi, psi_ref, t0, tend, tend-t0, scheme=scheme_3, rows=10,\n",
    "              operator_sequence=\"ABT\") \n",
    ";"
   ]
  }
 ],
 "metadata": {
  "kernelspec": {
   "display_name": "Julia 0.4",
   "language": "julia",
   "name": "julia-0.4"
  },
  "language_info": {
   "file_extension": ".jl",
   "mimetype": "application/julia",
   "name": "julia",
   "version": "0.4.2"
  }
 },
 "nbformat": 4,
 "nbformat_minor": 0
}
