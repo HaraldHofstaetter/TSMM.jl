{
 "cells": [
  {
   "cell_type": "code",
   "execution_count": 1,
   "metadata": {
    "collapsed": false
   },
   "outputs": [
    {
     "name": "stdout",
     "output_type": "stream",
     "text": [
      "WF= WfFourier1D T= Float64 common\n",
      "WF= WfFourier2D T= Float64 common\n",
      "WF= WfFourier3D T= Float64 common\n",
      "WF= WfFourierReal1D T= Float64 common\n",
      "WF= WfFourierReal2D T= Float64 common\n",
      "WF= WfFourierReal3D T= Float64 common\n",
      "WF= WfSchroedinger1D T= Float64 common\n",
      "WF= WfSchroedinger2D T= Float64 common\n",
      "WF= WfSchroedinger3D T= Float64 common\n",
      "WF= WfSchroedingerReal1D T= Float64 common\n",
      "WF= WfSchroedingerReal2D T= Float64 common\n",
      "WF= WfSchroedingerReal3D T= Float64 common\n",
      "WF= WfSchroedinger1D T= Float64 (schroedinger_common)\n",
      "WF= WfSchroedinger2D T= Float64 (schroedinger_common)\n",
      "WF= WfSchroedinger3D T= Float64 (schroedinger_common)\n",
      "WF= WfSchroedingerReal1D T= Float64 (schroedinger_common)\n",
      "WF= WfSchroedingerReal2D T= Float64 (schroedinger_common)\n",
      "WF= WfSchroedingerReal3D T= Float64 (schroedinger_common)\n",
      " *** OPENMP n_threads =           4\n"
     ]
    }
   ],
   "source": [
    "using TSSM\n",
    "include(\"time_stepper.jl\");"
   ]
  },
  {
   "cell_type": "code",
   "execution_count": 2,
   "metadata": {
    "collapsed": false
   },
   "outputs": [
    {
     "data": {
      "text/plain": [
       "TSSM.Schroedinger1D{Float64}(Ptr{Void} @0x00000000033ebd30)"
      ]
     },
     "execution_count": 2,
     "metadata": {},
     "output_type": "execute_result"
    }
   ],
   "source": [
    "cubic_coupling = -1.0\n",
    "xmin=-16.0\n",
    "xmax=16.0\n",
    "Nx=1024\n",
    "\n",
    "m=Schroedinger1D(Nx,xmin, xmax,cubic_coupling=cubic_coupling)"
   ]
  },
  {
   "cell_type": "code",
   "execution_count": 3,
   "metadata": {
    "collapsed": false
   },
   "outputs": [
    {
     "data": {
      "text/plain": [
       "TSSM.WfSchroedinger1D{Float64}(Ptr{Void} @0x000000000301b8a0,TSSM.Schroedinger1D{Float64}(Ptr{Void} @0x00000000033ebd30))"
      ]
     },
     "execution_count": 3,
     "metadata": {},
     "output_type": "execute_result"
    }
   ],
   "source": [
    "psi=wave_function(m)"
   ]
  },
  {
   "cell_type": "code",
   "execution_count": 4,
   "metadata": {
    "collapsed": false
   },
   "outputs": [
    {
     "data": {
      "text/plain": [
       "soliton (generic function with 1 method)"
      ]
     },
     "execution_count": 4,
     "metadata": {},
     "output_type": "execute_result"
    }
   ],
   "source": [
    "const a=[2.0, 2.0,  0.0,  0.0] #aplitude\n",
    "const b=[1.0,-3.0,  1.0, -9.0] #speed\n",
    "const c=[5.0,-5.0,  0.0, -10.0] #offset x\n",
    "\n",
    "function soliton(x)\n",
    "    (a[1]/cosh(a[1]*(x-c[1]))) * exp(-b[1]*x*1im)+\n",
    "    (a[2]/cosh(a[2]*(x-c[2]))) * exp(-b[2]*x*1im)+\n",
    "    (a[3]/cosh(a[3]*(x-c[3]))) * exp(-b[3]*x*1im)+\n",
    "    (a[4]/cosh(a[4]*(x-c[4]))) * exp(-b[4]*x*1im)\n",
    "end"
   ]
  },
  {
   "cell_type": "code",
   "execution_count": 5,
   "metadata": {
    "collapsed": false
   },
   "outputs": [
    {
     "data": {
      "text/plain": [
       "PalindromicScheme((0.20165104431232422,0.578800656272665,0.5626159753565692,0.2731288360565245,0.25387403824755483,-0.10273380314843214,-0.8353516931903706,0.0680149460931651,0.0680149460931651,-0.8353516931903706,-0.10273380314843214,0.25387403824755483,0.2731288360565245,0.5626159753565692,0.578800656272665,0.20165104431232422),5)"
      ]
     },
     "execution_count": 5,
     "metadata": {},
     "output_type": "execute_result"
    }
   ],
   "source": [
    "palindromic_scheme_34 = PalindromicScheme( \n",
    "          ( 0.268330095781759925,  0.919661523017399857, \n",
    "           -0.187991618799159782, -0.187991618799159782, \n",
    "            0.919661523017399857,  0.268330095781759925 ),\n",
    "            3 )\n",
    "\n",
    "palindromic_scheme_56 = PalindromicScheme(\n",
    "          ( 0.201651044312324230,   0.578800656272664932, \n",
    "            0.562615975356569200,   0.273128836056524479, \n",
    "            0.253874038247554845,  -0.102733803148432142, \n",
    "           -0.835351693190370636,   0.068014946093165092, \n",
    "            0.068014946093165092,  -0.835351693190370636,\n",
    "           -0.102733803148432142,   0.253874038247554845, \n",
    "            0.273128836056524479,   0.562615975356569200, \n",
    "            0.578800656272664932,   0.201651044312324230 ),            \n",
    "            5 )"
   ]
  },
  {
   "cell_type": "code",
   "execution_count": 6,
   "metadata": {
    "collapsed": false
   },
   "outputs": [
    {
     "name": "stdout",
     "output_type": "stream",
     "text": [
      "get_nodes T=Float64\n"
     ]
    }
   ],
   "source": [
    "x = get_nodes(m);\n",
    "to_real_space!(psi);\n",
    "u = get_data(psi, true);"
   ]
  },
  {
   "cell_type": "code",
   "execution_count": 7,
   "metadata": {
    "collapsed": false
   },
   "outputs": [
    {
     "data": {
      "text/plain": [
       "1.0e-8"
      ]
     },
     "execution_count": 7,
     "metadata": {},
     "output_type": "execute_result"
    }
   ],
   "source": [
    "  tend=10.0\n",
    "  t0=0.0\n",
    "  out=1\n",
    "  tol=1e-8"
   ]
  },
  {
   "cell_type": "code",
   "execution_count": 8,
   "metadata": {
    "collapsed": false
   },
   "outputs": [
    {
     "name": "stdout",
     "output_type": "stream",
     "text": [
      "t=0.010\n",
      "t=0.050\n",
      "t=0.210\n",
      "t=0.850\n",
      "t=3.410\n",
      "t=10.000\n",
      "  0.280503 seconds (324.36 k allocations: 13.886 MB, 1.35% gc time)\n"
     ]
    }
   ],
   "source": [
    "set!(psi, soliton)\n",
    "\n",
    "plotdata=abs(u).^2\n",
    "steps=[0.0]\n",
    "mytime=[0.0]\n",
    "told=0.0\n",
    "nsteps=0\n",
    "\n",
    "\n",
    "@time  for t in adaptive_time_stepper(psi, t0, tend, 0.01, tol, palindromic_scheme_56, \"AB\")\n",
    "       #readline(STDIN)\n",
    "      push!(steps,t-told)\n",
    "      push!(mytime,t)\n",
    "      told=t\n",
    "      nsteps=nsteps+1\n",
    "  \n",
    "      if out==1\n",
    "      to_real_space!(psi)\n",
    "        plotdata = [plotdata abs(u).^2]\n",
    "         @printf(\"t=%5.3f\\n\", t)\n",
    "         #figure(2)\n",
    "         #hold(false)\n",
    "         #plot(x, abs(u).^2)\n",
    "         #hold(true)\n",
    "      end\n",
    "  end\n"
   ]
  },
  {
   "cell_type": "code",
   "execution_count": 9,
   "metadata": {
    "collapsed": false
   },
   "outputs": [
    {
     "name": "stderr",
     "output_type": "stream",
     "text": [
      "error in running finalizer: UndefVarError(var=:h)\n",
      "error in running finalizer: UndefVarError(var=:h)\n",
      "/home/hofi/.julia/v0.3/Conda/deps/usr/lib/python2.7/site-packages/matplotlib/collections.py:590: FutureWarning: elementwise comparison failed; returning scalar instead, but in the future will perform elementwise comparison\n",
      "  if self._edgecolors == str('face'):\n"
     ]
    },
    {
     "data": {
      "image/png": "[encoded data removed]",
      "text/plain": [
       "PyPlot.Figure(PyObject <matplotlib.figure.Figure object at 0x7f6ad9cc5550>)"
      ]
     },
     "metadata": {},
     "output_type": "display_data"
    }
   ],
   "source": [
    "  using PyPlot\n",
    "  figure(1)\n",
    "  hold(false)\n",
    "  if out==1\n",
    "  subplot(2, 1, 1)\n",
    "  pcolormesh(mytime,x,plotdata)\n",
    "  xlabel(\"t\")\n",
    "  ylabel(\"x\")\n",
    "  #colorbar()\n",
    "  axis([t0,tend,xmin,xmax])\n",
    "  title(\"abs(u)^2\")\n",
    "\n",
    "  subplot(2, 1, 2)\n",
    "  end\n",
    "  plot(mytime[1:end-2], steps[2:end-1])\n",
    "  xlabel(\"t\")\n",
    "  ylabel(\"stepsize\")\n",
    "  savefig(\"step.png\", bbox_inches=\"tight\")\n",
    "  #colorbar( )"
   ]
  },
  {
   "cell_type": "code",
   "execution_count": 10,
   "metadata": {
    "collapsed": false
   },
   "outputs": [
    {
     "data": {
      "text/plain": [
       "1024-element Array{Float64,1}:\n",
       " -15.9688\n",
       " -15.9375\n",
       " -15.9063\n",
       " -15.875 \n",
       " -15.8438\n",
       " -15.8125\n",
       " -15.7813\n",
       " -15.75  \n",
       " -15.7188\n",
       " -15.6875\n",
       " -15.6563\n",
       " -15.625 \n",
       " -15.5938\n",
       "   ⋮     \n",
       "  15.6563\n",
       "  15.6875\n",
       "  15.7188\n",
       "  15.75  \n",
       "  15.7813\n",
       "  15.8125\n",
       "  15.8438\n",
       "  15.875 \n",
       "  15.9063\n",
       "  15.9375\n",
       "  15.9688\n",
       "  16.0   "
      ]
     },
     "execution_count": 10,
     "metadata": {},
     "output_type": "execute_result"
    }
   ],
   "source": [
    "x"
   ]
  },
  {
   "cell_type": "code",
   "execution_count": null,
   "metadata": {
    "collapsed": true
   },
   "outputs": [],
   "source": []
  }
 ],
 "metadata": {
  "kernelspec": {
   "display_name": "Julia 0.4.1",
   "language": "julia",
   "name": "julia-0.4"
  },
  "language_info": {
   "file_extension": ".jl",
   "mimetype": "application/julia",
   "name": "julia",
   "version": "0.4.2"
  }
 },
 "nbformat": 4,
 "nbformat_minor": 0
}
