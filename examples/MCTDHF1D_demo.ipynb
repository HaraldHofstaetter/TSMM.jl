{
 "cells": [
  {
   "cell_type": "code",
   "execution_count": 1,
   "metadata": {
    "collapsed": false
   },
   "outputs": [
    {
     "name": "stdout",
     "output_type": "stream",
     "text": [
      " *** OPENMP n_threads =           4\n"
     ]
    }
   ],
   "source": [
    "using TSSM"
   ]
  },
  {
   "cell_type": "code",
   "execution_count": 2,
   "metadata": {
    "collapsed": false
   },
   "outputs": [
    {
     "data": {
      "text/plain": [
       "density2_tensor (generic function with 1 method)"
      ]
     },
     "execution_count": 2,
     "metadata": {},
     "output_type": "execute_result"
    }
   ],
   "source": [
    "push!(LOAD_PATH, pwd())\n",
    "include(\"mctdhf1d.jl\")"
   ]
  },
  {
   "cell_type": "code",
   "execution_count": 4,
   "metadata": {
    "collapsed": false
   },
   "outputs": [],
   "source": [
    "m = MCTDHF1D(3,5, 512, -10,10);"
   ]
  },
  {
   "cell_type": "code",
   "execution_count": 5,
   "metadata": {
    "collapsed": false
   },
   "outputs": [
    {
     "data": {
      "text/plain": [
       "5×5 Array{Array{Tuple{Int64,Int64,Int64},1},2}:\n",
       " Tuple{Int64,Int64,Int64}[(1,1,1),(2,2,1),(3,3,1),(1,1,1),(4,4,1),(5,5,1),(2,2,1),(4,4,1),(6,6,1),(3,3,1),(5,5,1),(6,6,1)]  …  Tuple{Int64,Int64,Int64}[(1,8,1),(2,9,1),(1,8,1),(4,10,1),(2,9,1),(4,10,1)]                                                  \n",
       " Tuple{Int64,Int64,Int64}[(4,7,1),(5,8,1),(4,7,1),(6,9,1),(5,8,1),(6,9,1)]                                                     Tuple{Int64,Int64,Int64}[(1,5,-1),(2,6,-1),(1,5,-1),(7,10,1),(2,6,-1),(7,10,1)]                                              \n",
       " Tuple{Int64,Int64,Int64}[(2,7,-1),(3,8,-1),(2,7,-1),(6,10,1),(3,8,-1),(6,10,1)]                                               Tuple{Int64,Int64,Int64}[(1,3,1),(4,6,-1),(1,3,1),(7,9,-1),(4,6,-1),(7,9,-1)]                                                \n",
       " Tuple{Int64,Int64,Int64}[(1,7,1),(3,9,-1),(1,7,1),(5,10,-1),(3,9,-1),(5,10,-1)]                                               Tuple{Int64,Int64,Int64}[(2,3,1),(4,5,1),(2,3,1),(7,8,1),(4,5,1),(7,8,1)]                                                    \n",
       " Tuple{Int64,Int64,Int64}[(1,8,1),(2,9,1),(1,8,1),(4,10,1),(2,9,1),(4,10,1)]                                                   Tuple{Int64,Int64,Int64}[(3,3,1),(5,5,1),(6,6,1),(3,3,1),(8,8,1),(9,9,1),(5,5,1),(8,8,1),(10,10,1),(6,6,1),(9,9,1),(10,10,1)]"
      ]
     },
     "execution_count": 5,
     "metadata": {},
     "output_type": "execute_result"
    }
   ],
   "source": [
    "m.density_rules"
   ]
  },
  {
   "cell_type": "code",
   "execution_count": 6,
   "metadata": {
    "collapsed": false
   },
   "outputs": [
    {
     "data": {
      "text/plain": [
       "5×5×5×5 Array{Array{Tuple{Int64,Int64,Int64},1},4}:\n",
       "[:, :, 1, 1] =\n",
       " Tuple{Int64,Int64,Int64}[]  …  Tuple{Int64,Int64,Int64}[]                       \n",
       " Tuple{Int64,Int64,Int64}[]     Tuple{Int64,Int64,Int64}[(1,5,-1),(2,6,-1)]      \n",
       " Tuple{Int64,Int64,Int64}[]     Tuple{Int64,Int64,Int64}[(1,3,1),(4,6,-1)]       \n",
       " Tuple{Int64,Int64,Int64}[]     Tuple{Int64,Int64,Int64}[(2,3,1),(4,5,1)]        \n",
       " Tuple{Int64,Int64,Int64}[]     Tuple{Int64,Int64,Int64}[(3,3,1),(5,5,1),(6,6,1)]\n",
       "\n",
       "[:, :, 2, 1] =\n",
       " Tuple{Int64,Int64,Int64}[]  …  Tuple{Int64,Int64,Int64}[(1,5,1),(2,6,1)]\n",
       " Tuple{Int64,Int64,Int64}[]     Tuple{Int64,Int64,Int64}[]               \n",
       " Tuple{Int64,Int64,Int64}[]     Tuple{Int64,Int64,Int64}[(7,6,-1)]       \n",
       " Tuple{Int64,Int64,Int64}[]     Tuple{Int64,Int64,Int64}[(7,5,1)]        \n",
       " Tuple{Int64,Int64,Int64}[]     Tuple{Int64,Int64,Int64}[(8,5,1),(9,6,1)]\n",
       "\n",
       "[:, :, 3, 1] =\n",
       " Tuple{Int64,Int64,Int64}[]  …  Tuple{Int64,Int64,Int64}[(1,3,-1),(4,6,1)] \n",
       " Tuple{Int64,Int64,Int64}[]     Tuple{Int64,Int64,Int64}[(7,6,1)]          \n",
       " Tuple{Int64,Int64,Int64}[]     Tuple{Int64,Int64,Int64}[]                 \n",
       " Tuple{Int64,Int64,Int64}[]     Tuple{Int64,Int64,Int64}[(7,3,-1)]         \n",
       " Tuple{Int64,Int64,Int64}[]     Tuple{Int64,Int64,Int64}[(8,3,-1),(10,6,1)]\n",
       "\n",
       "[:, :, 4, 1] =\n",
       " Tuple{Int64,Int64,Int64}[]  …  Tuple{Int64,Int64,Int64}[(2,3,-1),(4,5,-1)] \n",
       " Tuple{Int64,Int64,Int64}[]     Tuple{Int64,Int64,Int64}[(7,5,-1)]          \n",
       " Tuple{Int64,Int64,Int64}[]     Tuple{Int64,Int64,Int64}[(7,3,1)]           \n",
       " Tuple{Int64,Int64,Int64}[]     Tuple{Int64,Int64,Int64}[]                  \n",
       " Tuple{Int64,Int64,Int64}[]     Tuple{Int64,Int64,Int64}[(9,3,-1),(10,5,-1)]\n",
       "\n",
       "[:, :, 5, 1] =\n",
       " Tuple{Int64,Int64,Int64}[]  …  Tuple{Int64,Int64,Int64}[(3,3,-1),(5,5,-1),(6,6,-1)]\n",
       " Tuple{Int64,Int64,Int64}[]     Tuple{Int64,Int64,Int64}[(8,5,-1),(9,6,-1)]         \n",
       " Tuple{Int64,Int64,Int64}[]     Tuple{Int64,Int64,Int64}[(8,3,1),(10,6,-1)]         \n",
       " Tuple{Int64,Int64,Int64}[]     Tuple{Int64,Int64,Int64}[(9,3,1),(10,5,1)]          \n",
       " Tuple{Int64,Int64,Int64}[]     Tuple{Int64,Int64,Int64}[]                          \n",
       "\n",
       "[:, :, 1, 2] =\n",
       " Tuple{Int64,Int64,Int64}[]                            …  Tuple{Int64,Int64,Int64}[]                 \n",
       " Tuple{Int64,Int64,Int64}[(1,1,-1),(2,2,-1),(3,3,-1)]     Tuple{Int64,Int64,Int64}[(1,8,-1),(2,9,-1)]\n",
       " Tuple{Int64,Int64,Int64}[(2,4,-1),(3,5,-1)]              Tuple{Int64,Int64,Int64}[(4,9,-1)]         \n",
       " Tuple{Int64,Int64,Int64}[(1,4,1),(3,6,-1)]               Tuple{Int64,Int64,Int64}[(4,8,1)]          \n",
       " Tuple{Int64,Int64,Int64}[(1,5,1),(2,6,1)]                Tuple{Int64,Int64,Int64}[(5,8,1),(6,9,1)]  \n",
       "\n",
       "[:, :, 2, 2] =\n",
       " Tuple{Int64,Int64,Int64}[(1,1,1),(2,2,1),(3,3,1)]  …  Tuple{Int64,Int64,Int64}[(1,8,1),(2,9,1)]        \n",
       " Tuple{Int64,Int64,Int64}[]                            Tuple{Int64,Int64,Int64}[]                       \n",
       " Tuple{Int64,Int64,Int64}[(2,7,-1),(3,8,-1)]           Tuple{Int64,Int64,Int64}[(1,3,1),(7,9,-1)]       \n",
       " Tuple{Int64,Int64,Int64}[(1,7,1),(3,9,-1)]            Tuple{Int64,Int64,Int64}[(2,3,1),(7,8,1)]        \n",
       " Tuple{Int64,Int64,Int64}[(1,8,1),(2,9,1)]             Tuple{Int64,Int64,Int64}[(3,3,1),(8,8,1),(9,9,1)]\n",
       "\n",
       "[:, :, 3, 2] =\n",
       " Tuple{Int64,Int64,Int64}[(4,2,1),(5,3,1)]  …  Tuple{Int64,Int64,Int64}[(4,9,1)]         \n",
       " Tuple{Int64,Int64,Int64}[(2,7,1),(3,8,1)]     Tuple{Int64,Int64,Int64}[(1,3,-1),(7,9,1)]\n",
       " Tuple{Int64,Int64,Int64}[]                    Tuple{Int64,Int64,Int64}[]                \n",
       " Tuple{Int64,Int64,Int64}[(3,10,-1)]           Tuple{Int64,Int64,Int64}[(4,3,1)]         \n",
       " Tuple{Int64,Int64,Int64}[(2,10,1)]            Tuple{Int64,Int64,Int64}[(5,3,1),(10,9,1)]\n",
       "\n",
       "[:, :, 4, 2] =\n",
       " Tuple{Int64,Int64,Int64}[(4,1,-1),(6,3,1)]  …  Tuple{Int64,Int64,Int64}[(4,8,-1)]         \n",
       " Tuple{Int64,Int64,Int64}[(1,7,-1),(3,9,1)]     Tuple{Int64,Int64,Int64}[(2,3,-1),(7,8,-1)]\n",
       " Tuple{Int64,Int64,Int64}[(3,10,1)]             Tuple{Int64,Int64,Int64}[(4,3,-1)]         \n",
       " Tuple{Int64,Int64,Int64}[]                     Tuple{Int64,Int64,Int64}[]                 \n",
       " Tuple{Int64,Int64,Int64}[(1,10,-1)]            Tuple{Int64,Int64,Int64}[(6,3,1),(10,8,-1)]\n",
       "\n",
       "[:, :, 5, 2] =\n",
       " Tuple{Int64,Int64,Int64}[(5,1,-1),(6,2,-1)]  …  Tuple{Int64,Int64,Int64}[(5,8,-1),(6,9,-1)]         \n",
       " Tuple{Int64,Int64,Int64}[(1,8,-1),(2,9,-1)]     Tuple{Int64,Int64,Int64}[(3,3,-1),(8,8,-1),(9,9,-1)]\n",
       " Tuple{Int64,Int64,Int64}[(2,10,-1)]             Tuple{Int64,Int64,Int64}[(5,3,-1),(10,9,-1)]        \n",
       " Tuple{Int64,Int64,Int64}[(1,10,1)]              Tuple{Int64,Int64,Int64}[(6,3,-1),(10,8,1)]         \n",
       " Tuple{Int64,Int64,Int64}[]                      Tuple{Int64,Int64,Int64}[]                          \n",
       "\n",
       "[:, :, 1, 3] =\n",
       " Tuple{Int64,Int64,Int64}[]                            …  Tuple{Int64,Int64,Int64}[]                  \n",
       " Tuple{Int64,Int64,Int64}[(4,2,-1),(5,3,-1)]              Tuple{Int64,Int64,Int64}[(2,10,-1)]         \n",
       " Tuple{Int64,Int64,Int64}[(1,1,-1),(4,4,-1),(5,5,-1)]     Tuple{Int64,Int64,Int64}[(1,8,-1),(4,10,-1)]\n",
       " Tuple{Int64,Int64,Int64}[(1,2,-1),(5,6,-1)]              Tuple{Int64,Int64,Int64}[(2,8,-1)]          \n",
       " Tuple{Int64,Int64,Int64}[(1,3,-1),(4,6,1)]               Tuple{Int64,Int64,Int64}[(3,8,-1),(6,10,1)] \n",
       "\n",
       "[:, :, 2, 3] =\n",
       " Tuple{Int64,Int64,Int64}[(2,4,1),(3,5,1)]    …  Tuple{Int64,Int64,Int64}[(2,10,1)]         \n",
       " Tuple{Int64,Int64,Int64}[]                      Tuple{Int64,Int64,Int64}[]                 \n",
       " Tuple{Int64,Int64,Int64}[(4,7,-1),(5,8,-1)]     Tuple{Int64,Int64,Int64}[(1,5,1),(7,10,-1)]\n",
       " Tuple{Int64,Int64,Int64}[(5,9,-1)]              Tuple{Int64,Int64,Int64}[(2,5,1)]          \n",
       " Tuple{Int64,Int64,Int64}[(4,9,1)]               Tuple{Int64,Int64,Int64}[(3,5,1),(9,10,1)] \n",
       "\n",
       "[:, :, 3, 3] =\n",
       " Tuple{Int64,Int64,Int64}[(1,1,1),(4,4,1),(5,5,1)]  …  Tuple{Int64,Int64,Int64}[(1,8,1),(4,10,1)]         \n",
       " Tuple{Int64,Int64,Int64}[(4,7,1),(5,8,1)]             Tuple{Int64,Int64,Int64}[(1,5,-1),(7,10,1)]        \n",
       " Tuple{Int64,Int64,Int64}[]                            Tuple{Int64,Int64,Int64}[]                         \n",
       " Tuple{Int64,Int64,Int64}[(1,7,1),(5,10,-1)]           Tuple{Int64,Int64,Int64}[(4,5,1),(7,8,1)]          \n",
       " Tuple{Int64,Int64,Int64}[(1,8,1),(4,10,1)]            Tuple{Int64,Int64,Int64}[(5,5,1),(8,8,1),(10,10,1)]\n",
       "\n",
       "[:, :, 4, 3] =\n",
       " Tuple{Int64,Int64,Int64}[(2,1,1),(6,5,1)]    …  Tuple{Int64,Int64,Int64}[(2,8,1)]          \n",
       " Tuple{Int64,Int64,Int64}[(5,9,1)]               Tuple{Int64,Int64,Int64}[(2,5,-1)]         \n",
       " Tuple{Int64,Int64,Int64}[(1,7,-1),(5,10,1)]     Tuple{Int64,Int64,Int64}[(4,5,-1),(7,8,-1)]\n",
       " Tuple{Int64,Int64,Int64}[]                      Tuple{Int64,Int64,Int64}[]                 \n",
       " Tuple{Int64,Int64,Int64}[(1,9,1)]               Tuple{Int64,Int64,Int64}[(6,5,1),(9,8,1)]  \n",
       "\n",
       "[:, :, 5, 3] =\n",
       " Tuple{Int64,Int64,Int64}[(3,1,1),(6,4,-1)]    …  Tuple{Int64,Int64,Int64}[(3,8,1),(6,10,-1)]           \n",
       " Tuple{Int64,Int64,Int64}[(4,9,-1)]               Tuple{Int64,Int64,Int64}[(3,5,-1),(9,10,-1)]          \n",
       " Tuple{Int64,Int64,Int64}[(1,8,-1),(4,10,-1)]     Tuple{Int64,Int64,Int64}[(5,5,-1),(8,8,-1),(10,10,-1)]\n",
       " Tuple{Int64,Int64,Int64}[(1,9,-1)]               Tuple{Int64,Int64,Int64}[(6,5,-1),(9,8,-1)]           \n",
       " Tuple{Int64,Int64,Int64}[]                       Tuple{Int64,Int64,Int64}[]                            \n",
       "\n",
       "[:, :, 1, 4] =\n",
       " Tuple{Int64,Int64,Int64}[]                            …  Tuple{Int64,Int64,Int64}[]                  \n",
       " Tuple{Int64,Int64,Int64}[(4,1,1),(6,3,-1)]               Tuple{Int64,Int64,Int64}[(1,10,1)]          \n",
       " Tuple{Int64,Int64,Int64}[(2,1,-1),(6,5,-1)]              Tuple{Int64,Int64,Int64}[(1,9,-1)]          \n",
       " Tuple{Int64,Int64,Int64}[(2,2,-1),(4,4,-1),(6,6,-1)]     Tuple{Int64,Int64,Int64}[(2,9,-1),(4,10,-1)]\n",
       " Tuple{Int64,Int64,Int64}[(2,3,-1),(4,5,-1)]              Tuple{Int64,Int64,Int64}[(3,9,-1),(5,10,-1)]\n",
       "\n",
       "[:, :, 2, 4] =\n",
       " Tuple{Int64,Int64,Int64}[(1,4,-1),(3,6,1)]   …  Tuple{Int64,Int64,Int64}[(1,10,-1)]        \n",
       " Tuple{Int64,Int64,Int64}[]                      Tuple{Int64,Int64,Int64}[]                 \n",
       " Tuple{Int64,Int64,Int64}[(6,8,-1)]              Tuple{Int64,Int64,Int64}[(1,6,1)]          \n",
       " Tuple{Int64,Int64,Int64}[(4,7,-1),(6,9,-1)]     Tuple{Int64,Int64,Int64}[(2,6,1),(7,10,-1)]\n",
       " Tuple{Int64,Int64,Int64}[(4,8,-1)]              Tuple{Int64,Int64,Int64}[(3,6,1),(8,10,-1)]\n",
       "\n",
       "[:, :, 3, 4] =\n",
       " Tuple{Int64,Int64,Int64}[(1,2,1),(5,6,1)]    …  Tuple{Int64,Int64,Int64}[(1,9,1)]        \n",
       " Tuple{Int64,Int64,Int64}[(6,8,1)]               Tuple{Int64,Int64,Int64}[(1,6,-1)]       \n",
       " Tuple{Int64,Int64,Int64}[]                      Tuple{Int64,Int64,Int64}[]               \n",
       " Tuple{Int64,Int64,Int64}[(2,7,1),(6,10,-1)]     Tuple{Int64,Int64,Int64}[(4,6,1),(7,9,1)]\n",
       " Tuple{Int64,Int64,Int64}[(2,8,1)]               Tuple{Int64,Int64,Int64}[(5,6,1),(8,9,1)]\n",
       "\n",
       "[:, :, 4, 4] =\n",
       " Tuple{Int64,Int64,Int64}[(2,2,1),(4,4,1),(6,6,1)]  …  Tuple{Int64,Int64,Int64}[(2,9,1),(4,10,1)]         \n",
       " Tuple{Int64,Int64,Int64}[(4,7,1),(6,9,1)]             Tuple{Int64,Int64,Int64}[(2,6,-1),(7,10,1)]        \n",
       " Tuple{Int64,Int64,Int64}[(2,7,-1),(6,10,1)]           Tuple{Int64,Int64,Int64}[(4,6,-1),(7,9,-1)]        \n",
       " Tuple{Int64,Int64,Int64}[]                            Tuple{Int64,Int64,Int64}[]                         \n",
       " Tuple{Int64,Int64,Int64}[(2,9,1),(4,10,1)]            Tuple{Int64,Int64,Int64}[(6,6,1),(9,9,1),(10,10,1)]\n",
       "\n",
       "[:, :, 5, 4] =\n",
       " Tuple{Int64,Int64,Int64}[(3,2,1),(5,4,1)]     …  Tuple{Int64,Int64,Int64}[(3,9,1),(5,10,1)]            \n",
       " Tuple{Int64,Int64,Int64}[(4,8,1)]                Tuple{Int64,Int64,Int64}[(3,6,-1),(8,10,1)]           \n",
       " Tuple{Int64,Int64,Int64}[(2,8,-1)]               Tuple{Int64,Int64,Int64}[(5,6,-1),(8,9,-1)]           \n",
       " Tuple{Int64,Int64,Int64}[(2,9,-1),(4,10,-1)]     Tuple{Int64,Int64,Int64}[(6,6,-1),(9,9,-1),(10,10,-1)]\n",
       " Tuple{Int64,Int64,Int64}[]                       Tuple{Int64,Int64,Int64}[]                            \n",
       "\n",
       "[:, :, 1, 5] =\n",
       " Tuple{Int64,Int64,Int64}[]                            …  Tuple{Int64,Int64,Int64}[]\n",
       " Tuple{Int64,Int64,Int64}[(5,1,1),(6,2,1)]                Tuple{Int64,Int64,Int64}[]\n",
       " Tuple{Int64,Int64,Int64}[(3,1,-1),(6,4,1)]               Tuple{Int64,Int64,Int64}[]\n",
       " Tuple{Int64,Int64,Int64}[(3,2,-1),(5,4,-1)]              Tuple{Int64,Int64,Int64}[]\n",
       " Tuple{Int64,Int64,Int64}[(3,3,-1),(5,5,-1),(6,6,-1)]     Tuple{Int64,Int64,Int64}[]\n",
       "\n",
       "[:, :, 2, 5] =\n",
       " Tuple{Int64,Int64,Int64}[(1,5,-1),(2,6,-1)]  …  Tuple{Int64,Int64,Int64}[]\n",
       " Tuple{Int64,Int64,Int64}[]                      Tuple{Int64,Int64,Int64}[]\n",
       " Tuple{Int64,Int64,Int64}[(6,7,1)]               Tuple{Int64,Int64,Int64}[]\n",
       " Tuple{Int64,Int64,Int64}[(5,7,-1)]              Tuple{Int64,Int64,Int64}[]\n",
       " Tuple{Int64,Int64,Int64}[(5,8,-1),(6,9,-1)]     Tuple{Int64,Int64,Int64}[]\n",
       "\n",
       "[:, :, 3, 5] =\n",
       " Tuple{Int64,Int64,Int64}[(1,3,1),(4,6,-1)]   …  Tuple{Int64,Int64,Int64}[]\n",
       " Tuple{Int64,Int64,Int64}[(6,7,-1)]              Tuple{Int64,Int64,Int64}[]\n",
       " Tuple{Int64,Int64,Int64}[]                      Tuple{Int64,Int64,Int64}[]\n",
       " Tuple{Int64,Int64,Int64}[(3,7,1)]               Tuple{Int64,Int64,Int64}[]\n",
       " Tuple{Int64,Int64,Int64}[(3,8,1),(6,10,-1)]     Tuple{Int64,Int64,Int64}[]\n",
       "\n",
       "[:, :, 4, 5] =\n",
       " Tuple{Int64,Int64,Int64}[(2,3,1),(4,5,1)]   …  Tuple{Int64,Int64,Int64}[]\n",
       " Tuple{Int64,Int64,Int64}[(5,7,1)]              Tuple{Int64,Int64,Int64}[]\n",
       " Tuple{Int64,Int64,Int64}[(3,7,-1)]             Tuple{Int64,Int64,Int64}[]\n",
       " Tuple{Int64,Int64,Int64}[]                     Tuple{Int64,Int64,Int64}[]\n",
       " Tuple{Int64,Int64,Int64}[(3,9,1),(5,10,1)]     Tuple{Int64,Int64,Int64}[]\n",
       "\n",
       "[:, :, 5, 5] =\n",
       " Tuple{Int64,Int64,Int64}[(3,3,1),(5,5,1),(6,6,1)]  …  Tuple{Int64,Int64,Int64}[]\n",
       " Tuple{Int64,Int64,Int64}[(5,8,1),(6,9,1)]             Tuple{Int64,Int64,Int64}[]\n",
       " Tuple{Int64,Int64,Int64}[(3,8,-1),(6,10,1)]           Tuple{Int64,Int64,Int64}[]\n",
       " Tuple{Int64,Int64,Int64}[(3,9,-1),(5,10,-1)]          Tuple{Int64,Int64,Int64}[]\n",
       " Tuple{Int64,Int64,Int64}[]                            Tuple{Int64,Int64,Int64}[]"
      ]
     },
     "execution_count": 6,
     "metadata": {},
     "output_type": "execute_result"
    }
   ],
   "source": [
    "m.density2_rules"
   ]
  },
  {
   "cell_type": "code",
   "execution_count": 7,
   "metadata": {
    "collapsed": false,
    "scrolled": true
   },
   "outputs": [
    {
     "data": {
      "text/plain": [
       "WfMCTDHF1D(Complex{Float64}[0.0+0.0im,0.0+0.0im,0.0+0.0im,0.0+0.0im,0.0+0.0im,0.0+0.0im,0.0+0.0im,0.0+0.0im,0.0+0.0im,0.0+0.0im],TSSM.WfSchroedinger1D[TSSM.WfSchroedinger1D{Float64}(Ptr{Void} @0x0000000004bc3470,TSSM.Schroedinger1D{Float64}(Ptr{Void} @0x0000000004a3edc0)),TSSM.WfSchroedinger1D{Float64}(Ptr{Void} @0x0000000004b63ec0,TSSM.Schroedinger1D{Float64}(Ptr{Void} @0x0000000004a3edc0)),TSSM.WfSchroedinger1D{Float64}(Ptr{Void} @0x0000000004a8d9f0,TSSM.Schroedinger1D{Float64}(Ptr{Void} @0x0000000004a3edc0)),TSSM.WfSchroedinger1D{Float64}(Ptr{Void} @0x00000000049c12e0,TSSM.Schroedinger1D{Float64}(Ptr{Void} @0x0000000004a3edc0)),TSSM.WfSchroedinger1D{Float64}(Ptr{Void} @0x0000000004bd5180,TSSM.Schroedinger1D{Float64}(Ptr{Void} @0x0000000004a3edc0))],MCTDHF1D(TSSM.Schroedinger1D{Float64}(Ptr{Void} @0x0000000004a3edc0),3,5,10,Array{Int64,1}[[1,2,3],[1,2,4],[1,2,5],[1,3,4],[1,3,5],[1,4,5],[2,3,4],[2,3,5],[2,4,5],[3,4,5]],Array{Tuple{Int64,Int64,Int64},1}[Tuple{Int64,Int64,Int64}[(1,1,1),(2,2,1),(3,3,1),(1,1,1),(4,4,1),(5,5,1),(2,2,1),(4,4,1),(6,6,1),(3,3,1),(5,5,1),(6,6,1)] Tuple{Int64,Int64,Int64}[(4,7,1),(5,8,1),(4,7,1),(6,9,1),(5,8,1),(6,9,1)] … Tuple{Int64,Int64,Int64}[(1,7,1),(3,9,-1),(1,7,1),(5,10,-1),(3,9,-1),(5,10,-1)] Tuple{Int64,Int64,Int64}[(1,8,1),(2,9,1),(1,8,1),(4,10,1),(2,9,1),(4,10,1)]; Tuple{Int64,Int64,Int64}[(4,7,1),(5,8,1),(4,7,1),(6,9,1),(5,8,1),(6,9,1)] Tuple{Int64,Int64,Int64}[(1,1,1),(2,2,1),(3,3,1),(1,1,1),(7,7,1),(8,8,1),(2,2,1),(7,7,1),(9,9,1),(3,3,1),(8,8,1),(9,9,1)] … Tuple{Int64,Int64,Int64}[(1,4,-1),(3,6,1),(1,4,-1),(8,10,-1),(3,6,1),(8,10,-1)] Tuple{Int64,Int64,Int64}[(1,5,-1),(2,6,-1),(1,5,-1),(7,10,1),(2,6,-1),(7,10,1)]; … ; Tuple{Int64,Int64,Int64}[(1,7,1),(3,9,-1),(1,7,1),(5,10,-1),(3,9,-1),(5,10,-1)] Tuple{Int64,Int64,Int64}[(1,4,-1),(3,6,1),(1,4,-1),(8,10,-1),(3,6,1),(8,10,-1)] … Tuple{Int64,Int64,Int64}[(2,2,1),(4,4,1),(6,6,1),(2,2,1),(7,7,1),(9,9,1),(4,4,1),(7,7,1),(10,10,1),(6,6,1),(9,9,1),(10,10,1)] Tuple{Int64,Int64,Int64}[(2,3,1),(4,5,1),(2,3,1),(7,8,1),(4,5,1),(7,8,1)]; Tuple{Int64,Int64,Int64}[(1,8,1),(2,9,1),(1,8,1),(4,10,1),(2,9,1),(4,10,1)] Tuple{Int64,Int64,Int64}[(1,5,-1),(2,6,-1),(1,5,-1),(7,10,1),(2,6,-1),(7,10,1)] … Tuple{Int64,Int64,Int64}[(2,3,1),(4,5,1),(2,3,1),(7,8,1),(4,5,1),(7,8,1)] Tuple{Int64,Int64,Int64}[(3,3,1),(5,5,1),(6,6,1),(3,3,1),(8,8,1),(9,9,1),(5,5,1),(8,8,1),(10,10,1),(6,6,1),(9,9,1),(10,10,1)]],Array{Tuple{Int64,Int64,Int64},1}[Tuple{Int64,Int64,Int64}[] Tuple{Int64,Int64,Int64}[] … Tuple{Int64,Int64,Int64}[] Tuple{Int64,Int64,Int64}[]; Tuple{Int64,Int64,Int64}[] Tuple{Int64,Int64,Int64}[(1,1,1),(2,2,1),(3,3,1)] … Tuple{Int64,Int64,Int64}[(1,4,-1),(3,6,1)] Tuple{Int64,Int64,Int64}[(1,5,-1),(2,6,-1)]; … ; Tuple{Int64,Int64,Int64}[] Tuple{Int64,Int64,Int64}[(1,4,-1),(3,6,1)] … Tuple{Int64,Int64,Int64}[(2,2,1),(4,4,1),(6,6,1)] Tuple{Int64,Int64,Int64}[(2,3,1),(4,5,1)]; Tuple{Int64,Int64,Int64}[] Tuple{Int64,Int64,Int64}[(1,5,-1),(2,6,-1)] … Tuple{Int64,Int64,Int64}[(2,3,1),(4,5,1)] Tuple{Int64,Int64,Int64}[(3,3,1),(5,5,1),(6,6,1)]]\n",
       "\n",
       "Array{Tuple{Int64,Int64,Int64},1}[Tuple{Int64,Int64,Int64}[] Tuple{Int64,Int64,Int64}[(1,1,-1),(2,2,-1),(3,3,-1)] … Tuple{Int64,Int64,Int64}[(1,4,1),(3,6,-1)] Tuple{Int64,Int64,Int64}[(1,5,1),(2,6,1)]; Tuple{Int64,Int64,Int64}[] Tuple{Int64,Int64,Int64}[] … Tuple{Int64,Int64,Int64}[] Tuple{Int64,Int64,Int64}[]; … ; Tuple{Int64,Int64,Int64}[] Tuple{Int64,Int64,Int64}[(1,7,-1),(3,9,1)] … Tuple{Int64,Int64,Int64}[(7,4,1),(9,6,1)] Tuple{Int64,Int64,Int64}[(7,5,1)]; Tuple{Int64,Int64,Int64}[] Tuple{Int64,Int64,Int64}[(1,8,-1),(2,9,-1)] … Tuple{Int64,Int64,Int64}[(4,8,1)] Tuple{Int64,Int64,Int64}[(8,5,1),(9,6,1)]]\n",
       "\n",
       "Array{Tuple{Int64,Int64,Int64},1}[Tuple{Int64,Int64,Int64}[] Tuple{Int64,Int64,Int64}[(4,2,-1),(5,3,-1)] … Tuple{Int64,Int64,Int64}[(1,2,-1),(5,6,-1)] Tuple{Int64,Int64,Int64}[(1,3,-1),(4,6,1)]; Tuple{Int64,Int64,Int64}[] Tuple{Int64,Int64,Int64}[(7,2,-1),(8,3,-1)] … Tuple{Int64,Int64,Int64}[(8,6,-1)] Tuple{Int64,Int64,Int64}[(7,6,1)]; … ; Tuple{Int64,Int64,Int64}[] Tuple{Int64,Int64,Int64}[(3,10,1)] … Tuple{Int64,Int64,Int64}[(7,2,-1),(10,6,1)] Tuple{Int64,Int64,Int64}[(7,3,-1)]; Tuple{Int64,Int64,Int64}[] Tuple{Int64,Int64,Int64}[(2,10,-1)] … Tuple{Int64,Int64,Int64}[(2,8,-1)] Tuple{Int64,Int64,Int64}[(8,3,-1),(10,6,1)]]\n",
       "\n",
       "Array{Tuple{Int64,Int64,Int64},1}[Tuple{Int64,Int64,Int64}[] Tuple{Int64,Int64,Int64}[(4,1,1),(6,3,-1)] … Tuple{Int64,Int64,Int64}[(2,2,-1),(4,4,-1),(6,6,-1)] Tuple{Int64,Int64,Int64}[(2,3,-1),(4,5,-1)]; Tuple{Int64,Int64,Int64}[] Tuple{Int64,Int64,Int64}[(7,1,1),(9,3,-1)] … Tuple{Int64,Int64,Int64}[(7,4,-1),(9,6,-1)] Tuple{Int64,Int64,Int64}[(7,5,-1)]; … ; Tuple{Int64,Int64,Int64}[] Tuple{Int64,Int64,Int64}[] … Tuple{Int64,Int64,Int64}[] Tuple{Int64,Int64,Int64}[]; Tuple{Int64,Int64,Int64}[] Tuple{Int64,Int64,Int64}[(1,10,1)] … Tuple{Int64,Int64,Int64}[(2,9,-1),(4,10,-1)] Tuple{Int64,Int64,Int64}[(9,3,-1),(10,5,-1)]]\n",
       "\n",
       "Array{Tuple{Int64,Int64,Int64},1}[Tuple{Int64,Int64,Int64}[] Tuple{Int64,Int64,Int64}[(5,1,1),(6,2,1)] … Tuple{Int64,Int64,Int64}[(3,2,-1),(5,4,-1)] Tuple{Int64,Int64,Int64}[(3,3,-1),(5,5,-1),(6,6,-1)]; Tuple{Int64,Int64,Int64}[] Tuple{Int64,Int64,Int64}[(8,1,1),(9,2,1)] … Tuple{Int64,Int64,Int64}[(8,4,-1)] Tuple{Int64,Int64,Int64}[(8,5,-1),(9,6,-1)]; … ; Tuple{Int64,Int64,Int64}[] Tuple{Int64,Int64,Int64}[(1,10,-1)] … Tuple{Int64,Int64,Int64}[(9,2,1),(10,4,1)] Tuple{Int64,Int64,Int64}[(9,3,1),(10,5,1)]; Tuple{Int64,Int64,Int64}[] Tuple{Int64,Int64,Int64}[] … Tuple{Int64,Int64,Int64}[] Tuple{Int64,Int64,Int64}[]]\n",
       "\n",
       "Array{Tuple{Int64,Int64,Int64},1}[Tuple{Int64,Int64,Int64}[] Tuple{Int64,Int64,Int64}[] … Tuple{Int64,Int64,Int64}[] Tuple{Int64,Int64,Int64}[]; Tuple{Int64,Int64,Int64}[(1,1,-1),(2,2,-1),(3,3,-1)] Tuple{Int64,Int64,Int64}[] … Tuple{Int64,Int64,Int64}[(1,7,-1),(3,9,1)] Tuple{Int64,Int64,Int64}[(1,8,-1),(2,9,-1)]; … ; Tuple{Int64,Int64,Int64}[(1,4,1),(3,6,-1)] Tuple{Int64,Int64,Int64}[] … Tuple{Int64,Int64,Int64}[(4,7,1),(6,9,1)] Tuple{Int64,Int64,Int64}[(4,8,1)]; Tuple{Int64,Int64,Int64}[(1,5,1),(2,6,1)] Tuple{Int64,Int64,Int64}[] … Tuple{Int64,Int64,Int64}[(7,5,1)] Tuple{Int64,Int64,Int64}[(5,8,1),(6,9,1)]]\n",
       "\n",
       "Array{Tuple{Int64,Int64,Int64},1}[Tuple{Int64,Int64,Int64}[(1,1,1),(2,2,1),(3,3,1)] Tuple{Int64,Int64,Int64}[] … Tuple{Int64,Int64,Int64}[(1,7,1),(3,9,-1)] Tuple{Int64,Int64,Int64}[(1,8,1),(2,9,1)]; Tuple{Int64,Int64,Int64}[] Tuple{Int64,Int64,Int64}[] … Tuple{Int64,Int64,Int64}[] Tuple{Int64,Int64,Int64}[]; … ; Tuple{Int64,Int64,Int64}[(1,7,1),(3,9,-1)] Tuple{Int64,Int64,Int64}[] … Tuple{Int64,Int64,Int64}[(2,2,1),(7,7,1),(9,9,1)] Tuple{Int64,Int64,Int64}[(2,3,1),(7,8,1)]; Tuple{Int64,Int64,Int64}[(1,8,1),(2,9,1)] Tuple{Int64,Int64,Int64}[] … Tuple{Int64,Int64,Int64}[(2,3,1),(7,8,1)] Tuple{Int64,Int64,Int64}[(3,3,1),(8,8,1),(9,9,1)]]\n",
       "\n",
       "Array{Tuple{Int64,Int64,Int64},1}[Tuple{Int64,Int64,Int64}[(4,2,1),(5,3,1)] Tuple{Int64,Int64,Int64}[] … Tuple{Int64,Int64,Int64}[(5,9,-1)] Tuple{Int64,Int64,Int64}[(4,9,1)]; Tuple{Int64,Int64,Int64}[(2,7,1),(3,8,1)] Tuple{Int64,Int64,Int64}[] … Tuple{Int64,Int64,Int64}[(1,2,-1),(8,9,-1)] Tuple{Int64,Int64,Int64}[(1,3,-1),(7,9,1)]; … ; Tuple{Int64,Int64,Int64}[(3,10,-1)] Tuple{Int64,Int64,Int64}[] … Tuple{Int64,Int64,Int64}[(4,2,1),(10,9,1)] Tuple{Int64,Int64,Int64}[(4,3,1)]; Tuple{Int64,Int64,Int64}[(2,10,1)] Tuple{Int64,Int64,Int64}[] … Tuple{Int64,Int64,Int64}[(2,5,1)] Tuple{Int64,Int64,Int64}[(5,3,1),(10,9,1)]]\n",
       "\n",
       "Array{Tuple{Int64,Int64,Int64},1}[Tuple{Int64,Int64,Int64}[(4,1,-1),(6,3,1)] Tuple{Int64,Int64,Int64}[] … Tuple{Int64,Int64,Int64}[(4,7,-1),(6,9,-1)] Tuple{Int64,Int64,Int64}[(4,8,-1)]; Tuple{Int64,Int64,Int64}[(1,7,-1),(3,9,1)] Tuple{Int64,Int64,Int64}[] … Tuple{Int64,Int64,Int64}[(2,2,-1),(7,7,-1),(9,9,-1)] Tuple{Int64,Int64,Int64}[(2,3,-1),(7,8,-1)]; … ; Tuple{Int64,Int64,Int64}[] Tuple{Int64,Int64,Int64}[] … Tuple{Int64,Int64,Int64}[] Tuple{Int64,Int64,Int64}[]; Tuple{Int64,Int64,Int64}[(1,10,-1)] Tuple{Int64,Int64,Int64}[] … Tuple{Int64,Int64,Int64}[(2,6,1),(7,10,-1)] Tuple{Int64,Int64,Int64}[(6,3,1),(10,8,-1)]]\n",
       "\n",
       "Array{Tuple{Int64,Int64,Int64},1}[Tuple{Int64,Int64,Int64}[(5,1,-1),(6,2,-1)] Tuple{Int64,Int64,Int64}[] … Tuple{Int64,Int64,Int64}[(5,7,-1)] Tuple{Int64,Int64,Int64}[(5,8,-1),(6,9,-1)]; Tuple{Int64,Int64,Int64}[(1,8,-1),(2,9,-1)] Tuple{Int64,Int64,Int64}[] … Tuple{Int64,Int64,Int64}[(3,2,-1),(8,7,-1)] Tuple{Int64,Int64,Int64}[(3,3,-1),(8,8,-1),(9,9,-1)]; … ; Tuple{Int64,Int64,Int64}[(1,10,1)] Tuple{Int64,Int64,Int64}[] … Tuple{Int64,Int64,Int64}[(6,2,-1),(10,7,1)] Tuple{Int64,Int64,Int64}[(6,3,-1),(10,8,1)]; Tuple{Int64,Int64,Int64}[] Tuple{Int64,Int64,Int64}[] … Tuple{Int64,Int64,Int64}[] Tuple{Int64,Int64,Int64}[]]\n",
       "\n",
       "Array{Tuple{Int64,Int64,Int64},1}[Tuple{Int64,Int64,Int64}[] Tuple{Int64,Int64,Int64}[] … Tuple{Int64,Int64,Int64}[] Tuple{Int64,Int64,Int64}[]; Tuple{Int64,Int64,Int64}[(4,2,-1),(5,3,-1)] Tuple{Int64,Int64,Int64}[(2,7,-1),(3,8,-1)] … Tuple{Int64,Int64,Int64}[(3,10,1)] Tuple{Int64,Int64,Int64}[(2,10,-1)]; … ; Tuple{Int64,Int64,Int64}[(1,2,-1),(5,6,-1)] Tuple{Int64,Int64,Int64}[(8,6,-1)] … Tuple{Int64,Int64,Int64}[(2,7,-1),(6,10,1)] Tuple{Int64,Int64,Int64}[(2,8,-1)]; Tuple{Int64,Int64,Int64}[(1,3,-1),(4,6,1)] Tuple{Int64,Int64,Int64}[(7,6,1)] … Tuple{Int64,Int64,Int64}[(7,3,-1)] Tuple{Int64,Int64,Int64}[(3,8,-1),(6,10,1)]]\n",
       "\n",
       "Array{Tuple{Int64,Int64,Int64},1}[Tuple{Int64,Int64,Int64}[(2,4,1),(3,5,1)] Tuple{Int64,Int64,Int64}[(2,7,1),(3,8,1)] … Tuple{Int64,Int64,Int64}[(3,10,-1)] Tuple{Int64,Int64,Int64}[(2,10,1)]; Tuple{Int64,Int64,Int64}[] Tuple{Int64,Int64,Int64}[] … Tuple{Int64,Int64,Int64}[] Tuple{Int64,Int64,Int64}[]; … ; Tuple{Int64,Int64,Int64}[(5,9,-1)] Tuple{Int64,Int64,Int64}[(1,2,-1),(8,9,-1)] … Tuple{Int64,Int64,Int64}[(2,4,1),(9,10,1)] Tuple{Int64,Int64,Int64}[(2,5,1)]; Tuple{Int64,Int64,Int64}[(4,9,1)] Tuple{Int64,Int64,Int64}[(1,3,-1),(7,9,1)] … Tuple{Int64,Int64,Int64}[(4,3,1)] Tuple{Int64,Int64,Int64}[(3,5,1),(9,10,1)]]\n",
       "\n",
       "Array{Tuple{Int64,Int64,Int64},1}[Tuple{Int64,Int64,Int64}[(1,1,1),(4,4,1),(5,5,1)] Tuple{Int64,Int64,Int64}[(4,7,1),(5,8,1)] … Tuple{Int64,Int64,Int64}[(1,7,1),(5,10,-1)] Tuple{Int64,Int64,Int64}[(1,8,1),(4,10,1)]; Tuple{Int64,Int64,Int64}[(4,7,1),(5,8,1)] Tuple{Int64,Int64,Int64}[(1,1,1),(7,7,1),(8,8,1)] … Tuple{Int64,Int64,Int64}[(1,4,-1),(8,10,-1)] Tuple{Int64,Int64,Int64}[(1,5,-1),(7,10,1)]; … ; Tuple{Int64,Int64,Int64}[(1,7,1),(5,10,-1)] Tuple{Int64,Int64,Int64}[(1,4,-1),(8,10,-1)] … Tuple{Int64,Int64,Int64}[(4,4,1),(7,7,1),(10,10,1)] Tuple{Int64,Int64,Int64}[(4,5,1),(7,8,1)]; Tuple{Int64,Int64,Int64}[(1,8,1),(4,10,1)] Tuple{Int64,Int64,Int64}[(1,5,-1),(7,10,1)] … Tuple{Int64,Int64,Int64}[(4,5,1),(7,8,1)] Tuple{Int64,Int64,Int64}[(5,5,1),(8,8,1),(10,10,1)]]\n",
       "\n",
       "Array{Tuple{Int64,Int64,Int64},1}[Tuple{Int64,Int64,Int64}[(2,1,1),(6,5,1)] Tuple{Int64,Int64,Int64}[(6,8,1)] … Tuple{Int64,Int64,Int64}[(2,7,1),(6,10,-1)] Tuple{Int64,Int64,Int64}[(2,8,1)]; Tuple{Int64,Int64,Int64}[(5,9,1)] Tuple{Int64,Int64,Int64}[(2,1,1),(9,8,1)] … Tuple{Int64,Int64,Int64}[(2,4,-1),(9,10,-1)] Tuple{Int64,Int64,Int64}[(2,5,-1)]; … ; Tuple{Int64,Int64,Int64}[] Tuple{Int64,Int64,Int64}[] … Tuple{Int64,Int64,Int64}[] Tuple{Int64,Int64,Int64}[]; Tuple{Int64,Int64,Int64}[(1,9,1)] Tuple{Int64,Int64,Int64}[(1,6,-1)] … Tuple{Int64,Int64,Int64}[(4,6,1),(7,9,1)] Tuple{Int64,Int64,Int64}[(6,5,1),(9,8,1)]]\n",
       "\n",
       "Array{Tuple{Int64,Int64,Int64},1}[Tuple{Int64,Int64,Int64}[(3,1,1),(6,4,-1)] Tuple{Int64,Int64,Int64}[(6,7,-1)] … Tuple{Int64,Int64,Int64}[(3,7,1)] Tuple{Int64,Int64,Int64}[(3,8,1),(6,10,-1)]; Tuple{Int64,Int64,Int64}[(4,9,-1)] Tuple{Int64,Int64,Int64}[(3,1,1),(9,7,-1)] … Tuple{Int64,Int64,Int64}[(3,4,-1)] Tuple{Int64,Int64,Int64}[(3,5,-1),(9,10,-1)]; … ; Tuple{Int64,Int64,Int64}[(1,9,-1)] Tuple{Int64,Int64,Int64}[(1,6,1)] … Tuple{Int64,Int64,Int64}[(6,4,-1),(9,7,-1)] Tuple{Int64,Int64,Int64}[(6,5,-1),(9,8,-1)]; Tuple{Int64,Int64,Int64}[] Tuple{Int64,Int64,Int64}[] … Tuple{Int64,Int64,Int64}[] Tuple{Int64,Int64,Int64}[]]\n",
       "\n",
       "Array{Tuple{Int64,Int64,Int64},1}[Tuple{Int64,Int64,Int64}[] Tuple{Int64,Int64,Int64}[] … Tuple{Int64,Int64,Int64}[] Tuple{Int64,Int64,Int64}[]; Tuple{Int64,Int64,Int64}[(4,1,1),(6,3,-1)] Tuple{Int64,Int64,Int64}[(1,7,1),(3,9,-1)] … Tuple{Int64,Int64,Int64}[] Tuple{Int64,Int64,Int64}[(1,10,1)]; … ; Tuple{Int64,Int64,Int64}[(2,2,-1),(4,4,-1),(6,6,-1)] Tuple{Int64,Int64,Int64}[(7,4,-1),(9,6,-1)] … Tuple{Int64,Int64,Int64}[] Tuple{Int64,Int64,Int64}[(2,9,-1),(4,10,-1)]; Tuple{Int64,Int64,Int64}[(2,3,-1),(4,5,-1)] Tuple{Int64,Int64,Int64}[(7,5,-1)] … Tuple{Int64,Int64,Int64}[] Tuple{Int64,Int64,Int64}[(3,9,-1),(5,10,-1)]]\n",
       "\n",
       "Array{Tuple{Int64,Int64,Int64},1}[Tuple{Int64,Int64,Int64}[(1,4,-1),(3,6,1)] Tuple{Int64,Int64,Int64}[(1,7,-1),(3,9,1)] … Tuple{Int64,Int64,Int64}[] Tuple{Int64,Int64,Int64}[(1,10,-1)]; Tuple{Int64,Int64,Int64}[] Tuple{Int64,Int64,Int64}[] … Tuple{Int64,Int64,Int64}[] Tuple{Int64,Int64,Int64}[]; … ; Tuple{Int64,Int64,Int64}[(4,7,-1),(6,9,-1)] Tuple{Int64,Int64,Int64}[(2,2,-1),(7,7,-1),(9,9,-1)] … Tuple{Int64,Int64,Int64}[] Tuple{Int64,Int64,Int64}[(2,6,1),(7,10,-1)]; Tuple{Int64,Int64,Int64}[(4,8,-1)] Tuple{Int64,Int64,Int64}[(2,3,-1),(7,8,-1)] … Tuple{Int64,Int64,Int64}[] Tuple{Int64,Int64,Int64}[(3,6,1),(8,10,-1)]]\n",
       "\n",
       "Array{Tuple{Int64,Int64,Int64},1}[Tuple{Int64,Int64,Int64}[(1,2,1),(5,6,1)] Tuple{Int64,Int64,Int64}[(5,9,1)] … Tuple{Int64,Int64,Int64}[] Tuple{Int64,Int64,Int64}[(1,9,1)]; Tuple{Int64,Int64,Int64}[(6,8,1)] Tuple{Int64,Int64,Int64}[(1,2,1),(8,9,1)] … Tuple{Int64,Int64,Int64}[] Tuple{Int64,Int64,Int64}[(1,6,-1)]; … ; Tuple{Int64,Int64,Int64}[(2,7,1),(6,10,-1)] Tuple{Int64,Int64,Int64}[(2,4,-1),(9,10,-1)] … Tuple{Int64,Int64,Int64}[] Tuple{Int64,Int64,Int64}[(4,6,1),(7,9,1)]; Tuple{Int64,Int64,Int64}[(2,8,1)] Tuple{Int64,Int64,Int64}[(2,5,-1)] … Tuple{Int64,Int64,Int64}[] Tuple{Int64,Int64,Int64}[(5,6,1),(8,9,1)]]\n",
       "\n",
       "Array{Tuple{Int64,Int64,Int64},1}[Tuple{Int64,Int64,Int64}[(2,2,1),(4,4,1),(6,6,1)] Tuple{Int64,Int64,Int64}[(4,7,1),(6,9,1)] … Tuple{Int64,Int64,Int64}[] Tuple{Int64,Int64,Int64}[(2,9,1),(4,10,1)]; Tuple{Int64,Int64,Int64}[(4,7,1),(6,9,1)] Tuple{Int64,Int64,Int64}[(2,2,1),(7,7,1),(9,9,1)] … Tuple{Int64,Int64,Int64}[] Tuple{Int64,Int64,Int64}[(2,6,-1),(7,10,1)]; … ; Tuple{Int64,Int64,Int64}[] Tuple{Int64,Int64,Int64}[] … Tuple{Int64,Int64,Int64}[] Tuple{Int64,Int64,Int64}[]; Tuple{Int64,Int64,Int64}[(2,9,1),(4,10,1)] Tuple{Int64,Int64,Int64}[(2,6,-1),(7,10,1)] … Tuple{Int64,Int64,Int64}[] Tuple{Int64,Int64,Int64}[(6,6,1),(9,9,1),(10,10,1)]]\n",
       "\n",
       "Array{Tuple{Int64,Int64,Int64},1}[Tuple{Int64,Int64,Int64}[(3,2,1),(5,4,1)] Tuple{Int64,Int64,Int64}[(5,7,1)] … Tuple{Int64,Int64,Int64}[] Tuple{Int64,Int64,Int64}[(3,9,1),(5,10,1)]; Tuple{Int64,Int64,Int64}[(4,8,1)] Tuple{Int64,Int64,Int64}[(3,2,1),(8,7,1)] … Tuple{Int64,Int64,Int64}[] Tuple{Int64,Int64,Int64}[(3,6,-1),(8,10,1)]; … ; Tuple{Int64,Int64,Int64}[(2,9,-1),(4,10,-1)] Tuple{Int64,Int64,Int64}[(2,6,1),(7,10,-1)] … Tuple{Int64,Int64,Int64}[] Tuple{Int64,Int64,Int64}[(6,6,-1),(9,9,-1),(10,10,-1)]; Tuple{Int64,Int64,Int64}[] Tuple{Int64,Int64,Int64}[] … Tuple{Int64,Int64,Int64}[] Tuple{Int64,Int64,Int64}[]]\n",
       "\n",
       "Array{Tuple{Int64,Int64,Int64},1}[Tuple{Int64,Int64,Int64}[] Tuple{Int64,Int64,Int64}[] … Tuple{Int64,Int64,Int64}[] Tuple{Int64,Int64,Int64}[]; Tuple{Int64,Int64,Int64}[(5,1,1),(6,2,1)] Tuple{Int64,Int64,Int64}[(1,8,1),(2,9,1)] … Tuple{Int64,Int64,Int64}[(1,10,-1)] Tuple{Int64,Int64,Int64}[]; … ; Tuple{Int64,Int64,Int64}[(3,2,-1),(5,4,-1)] Tuple{Int64,Int64,Int64}[(8,4,-1)] … Tuple{Int64,Int64,Int64}[(2,9,1),(4,10,1)] Tuple{Int64,Int64,Int64}[]; Tuple{Int64,Int64,Int64}[(3,3,-1),(5,5,-1),(6,6,-1)] Tuple{Int64,Int64,Int64}[(8,5,-1),(9,6,-1)] … Tuple{Int64,Int64,Int64}[(9,3,1),(10,5,1)] Tuple{Int64,Int64,Int64}[]]\n",
       "\n",
       "Array{Tuple{Int64,Int64,Int64},1}[Tuple{Int64,Int64,Int64}[(1,5,-1),(2,6,-1)] Tuple{Int64,Int64,Int64}[(1,8,-1),(2,9,-1)] … Tuple{Int64,Int64,Int64}[(1,10,1)] Tuple{Int64,Int64,Int64}[]; Tuple{Int64,Int64,Int64}[] Tuple{Int64,Int64,Int64}[] … Tuple{Int64,Int64,Int64}[] Tuple{Int64,Int64,Int64}[]; … ; Tuple{Int64,Int64,Int64}[(5,7,-1)] Tuple{Int64,Int64,Int64}[(3,2,-1),(8,7,-1)] … Tuple{Int64,Int64,Int64}[(2,6,-1),(7,10,1)] Tuple{Int64,Int64,Int64}[]; Tuple{Int64,Int64,Int64}[(5,8,-1),(6,9,-1)] Tuple{Int64,Int64,Int64}[(3,3,-1),(8,8,-1),(9,9,-1)] … Tuple{Int64,Int64,Int64}[(6,3,-1),(10,8,1)] Tuple{Int64,Int64,Int64}[]]\n",
       "\n",
       "Array{Tuple{Int64,Int64,Int64},1}[Tuple{Int64,Int64,Int64}[(1,3,1),(4,6,-1)] Tuple{Int64,Int64,Int64}[(4,9,-1)] … Tuple{Int64,Int64,Int64}[(1,9,-1)] Tuple{Int64,Int64,Int64}[]; Tuple{Int64,Int64,Int64}[(6,7,-1)] Tuple{Int64,Int64,Int64}[(1,3,1),(7,9,-1)] … Tuple{Int64,Int64,Int64}[(1,6,1)] Tuple{Int64,Int64,Int64}[]; … ; Tuple{Int64,Int64,Int64}[(3,7,1)] Tuple{Int64,Int64,Int64}[(3,4,-1)] … Tuple{Int64,Int64,Int64}[(4,6,-1),(7,9,-1)] Tuple{Int64,Int64,Int64}[]; Tuple{Int64,Int64,Int64}[(3,8,1),(6,10,-1)] Tuple{Int64,Int64,Int64}[(3,5,-1),(9,10,-1)] … Tuple{Int64,Int64,Int64}[(6,5,-1),(9,8,-1)] Tuple{Int64,Int64,Int64}[]]\n",
       "\n",
       "Array{Tuple{Int64,Int64,Int64},1}[Tuple{Int64,Int64,Int64}[(2,3,1),(4,5,1)] Tuple{Int64,Int64,Int64}[(4,8,1)] … Tuple{Int64,Int64,Int64}[(2,9,-1),(4,10,-1)] Tuple{Int64,Int64,Int64}[]; Tuple{Int64,Int64,Int64}[(5,7,1)] Tuple{Int64,Int64,Int64}[(2,3,1),(7,8,1)] … Tuple{Int64,Int64,Int64}[(2,6,1),(7,10,-1)] Tuple{Int64,Int64,Int64}[]; … ; Tuple{Int64,Int64,Int64}[] Tuple{Int64,Int64,Int64}[] … Tuple{Int64,Int64,Int64}[] Tuple{Int64,Int64,Int64}[]; Tuple{Int64,Int64,Int64}[(3,9,1),(5,10,1)] Tuple{Int64,Int64,Int64}[(3,6,-1),(8,10,1)] … Tuple{Int64,Int64,Int64}[(6,6,-1),(9,9,-1),(10,10,-1)] Tuple{Int64,Int64,Int64}[]]\n",
       "\n",
       "Array{Tuple{Int64,Int64,Int64},1}[Tuple{Int64,Int64,Int64}[(3,3,1),(5,5,1),(6,6,1)] Tuple{Int64,Int64,Int64}[(5,8,1),(6,9,1)] … Tuple{Int64,Int64,Int64}[(3,9,-1),(5,10,-1)] Tuple{Int64,Int64,Int64}[]; Tuple{Int64,Int64,Int64}[(5,8,1),(6,9,1)] Tuple{Int64,Int64,Int64}[(3,3,1),(8,8,1),(9,9,1)] … Tuple{Int64,Int64,Int64}[(3,6,1),(8,10,-1)] Tuple{Int64,Int64,Int64}[]; … ; Tuple{Int64,Int64,Int64}[(3,9,-1),(5,10,-1)] Tuple{Int64,Int64,Int64}[(3,6,1),(8,10,-1)] … Tuple{Int64,Int64,Int64}[(6,6,1),(9,9,1),(10,10,1)] Tuple{Int64,Int64,Int64}[]; Tuple{Int64,Int64,Int64}[] Tuple{Int64,Int64,Int64}[] … Tuple{Int64,Int64,Int64}[] Tuple{Int64,Int64,Int64}[]],Tuple{Array{Int64,1},Int64}[(Int64[],1) ([3,4],1) … ([1,4,3,5],-1) ([1,4,2,5],1); ([4,3],1) (Int64[],1) … ([1,5],1) ([1,3,2,5],-1); … ; ([4,1,5,3],-1) ([5,1],1) … (Int64[],1) ([2,3],1); ([4,1,5,2],1) ([3,1,5,2],-1) … ([3,2],1) (Int64[],1)]))"
      ]
     },
     "execution_count": 7,
     "metadata": {},
     "output_type": "execute_result"
    }
   ],
   "source": [
    "psi=wave_function(m)"
   ]
  },
  {
   "cell_type": "code",
   "execution_count": 8,
   "metadata": {
    "collapsed": false
   },
   "outputs": [
    {
     "data": {
      "text/plain": [
       "10-element Array{Complex{Float64},1}:\n",
       " 0.0+0.0im\n",
       " 0.0+0.0im\n",
       " 0.0+0.0im\n",
       " 0.0+0.0im\n",
       " 0.0+0.0im\n",
       " 0.0+0.0im\n",
       " 0.0+0.0im\n",
       " 0.0+0.0im\n",
       " 0.0+0.0im\n",
       " 0.0+0.0im"
      ]
     },
     "execution_count": 8,
     "metadata": {},
     "output_type": "execute_result"
    }
   ],
   "source": [
    "psi.a"
   ]
  },
  {
   "cell_type": "code",
   "execution_count": 9,
   "metadata": {
    "collapsed": false
   },
   "outputs": [
    {
     "data": {
      "text/plain": [
       "5×5 Array{Float64,2}:\n",
       " 0.0  0.0  0.0  0.0  0.0\n",
       " 0.0  0.0  0.0  0.0  0.0\n",
       " 0.0  0.0  0.0  0.0  0.0\n",
       " 0.0  0.0  0.0  0.0  0.0\n",
       " 0.0  0.0  0.0  0.0  0.0"
      ]
     },
     "execution_count": 9,
     "metadata": {},
     "output_type": "execute_result"
    }
   ],
   "source": [
    "density_matrix(psi)"
   ]
  },
  {
   "cell_type": "code",
   "execution_count": 10,
   "metadata": {
    "collapsed": false
   },
   "outputs": [
    {
     "data": {
      "text/plain": [
       "5×5×5×5 Array{Float64,4}:\n",
       "[:, :, 1, 1] =\n",
       " 0.0  0.0  0.0  0.0  0.0\n",
       " 0.0  0.0  0.0  0.0  0.0\n",
       " 0.0  0.0  0.0  0.0  0.0\n",
       " 0.0  0.0  0.0  0.0  0.0\n",
       " 0.0  0.0  0.0  0.0  0.0\n",
       "\n",
       "[:, :, 2, 1] =\n",
       " 0.0  0.0  0.0  0.0  0.0\n",
       " 0.0  0.0  0.0  0.0  0.0\n",
       " 0.0  0.0  0.0  0.0  0.0\n",
       " 0.0  0.0  0.0  0.0  0.0\n",
       " 0.0  0.0  0.0  0.0  0.0\n",
       "\n",
       "[:, :, 3, 1] =\n",
       " 0.0  0.0  0.0  0.0  0.0\n",
       " 0.0  0.0  0.0  0.0  0.0\n",
       " 0.0  0.0  0.0  0.0  0.0\n",
       " 0.0  0.0  0.0  0.0  0.0\n",
       " 0.0  0.0  0.0  0.0  0.0\n",
       "\n",
       "[:, :, 4, 1] =\n",
       " 0.0  0.0  0.0  0.0  0.0\n",
       " 0.0  0.0  0.0  0.0  0.0\n",
       " 0.0  0.0  0.0  0.0  0.0\n",
       " 0.0  0.0  0.0  0.0  0.0\n",
       " 0.0  0.0  0.0  0.0  0.0\n",
       "\n",
       "[:, :, 5, 1] =\n",
       " 0.0  0.0  0.0  0.0  0.0\n",
       " 0.0  0.0  0.0  0.0  0.0\n",
       " 0.0  0.0  0.0  0.0  0.0\n",
       " 0.0  0.0  0.0  0.0  0.0\n",
       " 0.0  0.0  0.0  0.0  0.0\n",
       "\n",
       "[:, :, 1, 2] =\n",
       " 0.0  0.0  0.0  0.0  0.0\n",
       " 0.0  0.0  0.0  0.0  0.0\n",
       " 0.0  0.0  0.0  0.0  0.0\n",
       " 0.0  0.0  0.0  0.0  0.0\n",
       " 0.0  0.0  0.0  0.0  0.0\n",
       "\n",
       "[:, :, 2, 2] =\n",
       " 0.0  0.0  0.0  0.0  0.0\n",
       " 0.0  0.0  0.0  0.0  0.0\n",
       " 0.0  0.0  0.0  0.0  0.0\n",
       " 0.0  0.0  0.0  0.0  0.0\n",
       " 0.0  0.0  0.0  0.0  0.0\n",
       "\n",
       "[:, :, 3, 2] =\n",
       " 0.0  0.0  0.0  0.0  0.0\n",
       " 0.0  0.0  0.0  0.0  0.0\n",
       " 0.0  0.0  0.0  0.0  0.0\n",
       " 0.0  0.0  0.0  0.0  0.0\n",
       " 0.0  0.0  0.0  0.0  0.0\n",
       "\n",
       "[:, :, 4, 2] =\n",
       " 0.0  0.0  0.0  0.0  0.0\n",
       " 0.0  0.0  0.0  0.0  0.0\n",
       " 0.0  0.0  0.0  0.0  0.0\n",
       " 0.0  0.0  0.0  0.0  0.0\n",
       " 0.0  0.0  0.0  0.0  0.0\n",
       "\n",
       "[:, :, 5, 2] =\n",
       " 0.0  0.0  0.0  0.0  0.0\n",
       " 0.0  0.0  0.0  0.0  0.0\n",
       " 0.0  0.0  0.0  0.0  0.0\n",
       " 0.0  0.0  0.0  0.0  0.0\n",
       " 0.0  0.0  0.0  0.0  0.0\n",
       "\n",
       "[:, :, 1, 3] =\n",
       " 0.0  0.0  0.0  0.0  0.0\n",
       " 0.0  0.0  0.0  0.0  0.0\n",
       " 0.0  0.0  0.0  0.0  0.0\n",
       " 0.0  0.0  0.0  0.0  0.0\n",
       " 0.0  0.0  0.0  0.0  0.0\n",
       "\n",
       "[:, :, 2, 3] =\n",
       " 0.0  0.0  0.0  0.0  0.0\n",
       " 0.0  0.0  0.0  0.0  0.0\n",
       " 0.0  0.0  0.0  0.0  0.0\n",
       " 0.0  0.0  0.0  0.0  0.0\n",
       " 0.0  0.0  0.0  0.0  0.0\n",
       "\n",
       "[:, :, 3, 3] =\n",
       " 0.0  0.0  0.0  0.0  0.0\n",
       " 0.0  0.0  0.0  0.0  0.0\n",
       " 0.0  0.0  0.0  0.0  0.0\n",
       " 0.0  0.0  0.0  0.0  0.0\n",
       " 0.0  0.0  0.0  0.0  0.0\n",
       "\n",
       "[:, :, 4, 3] =\n",
       " 0.0  0.0  0.0  0.0  0.0\n",
       " 0.0  0.0  0.0  0.0  0.0\n",
       " 0.0  0.0  0.0  0.0  0.0\n",
       " 0.0  0.0  0.0  0.0  0.0\n",
       " 0.0  0.0  0.0  0.0  0.0\n",
       "\n",
       "[:, :, 5, 3] =\n",
       " 0.0  0.0  0.0  0.0  0.0\n",
       " 0.0  0.0  0.0  0.0  0.0\n",
       " 0.0  0.0  0.0  0.0  0.0\n",
       " 0.0  0.0  0.0  0.0  0.0\n",
       " 0.0  0.0  0.0  0.0  0.0\n",
       "\n",
       "[:, :, 1, 4] =\n",
       " 0.0  0.0  0.0  0.0  0.0\n",
       " 0.0  0.0  0.0  0.0  0.0\n",
       " 0.0  0.0  0.0  0.0  0.0\n",
       " 0.0  0.0  0.0  0.0  0.0\n",
       " 0.0  0.0  0.0  0.0  0.0\n",
       "\n",
       "[:, :, 2, 4] =\n",
       " 0.0  0.0  0.0  0.0  0.0\n",
       " 0.0  0.0  0.0  0.0  0.0\n",
       " 0.0  0.0  0.0  0.0  0.0\n",
       " 0.0  0.0  0.0  0.0  0.0\n",
       " 0.0  0.0  0.0  0.0  0.0\n",
       "\n",
       "[:, :, 3, 4] =\n",
       " 0.0  0.0  0.0  0.0  0.0\n",
       " 0.0  0.0  0.0  0.0  0.0\n",
       " 0.0  0.0  0.0  0.0  0.0\n",
       " 0.0  0.0  0.0  0.0  0.0\n",
       " 0.0  0.0  0.0  0.0  0.0\n",
       "\n",
       "[:, :, 4, 4] =\n",
       " 0.0  0.0  0.0  0.0  0.0\n",
       " 0.0  0.0  0.0  0.0  0.0\n",
       " 0.0  0.0  0.0  0.0  0.0\n",
       " 0.0  0.0  0.0  0.0  0.0\n",
       " 0.0  0.0  0.0  0.0  0.0\n",
       "\n",
       "[:, :, 5, 4] =\n",
       " 0.0  0.0  0.0  0.0  0.0\n",
       " 0.0  0.0  0.0  0.0  0.0\n",
       " 0.0  0.0  0.0  0.0  0.0\n",
       " 0.0  0.0  0.0  0.0  0.0\n",
       " 0.0  0.0  0.0  0.0  0.0\n",
       "\n",
       "[:, :, 1, 5] =\n",
       " 0.0  0.0  0.0  0.0  0.0\n",
       " 0.0  0.0  0.0  0.0  0.0\n",
       " 0.0  0.0  0.0  0.0  0.0\n",
       " 0.0  0.0  0.0  0.0  0.0\n",
       " 0.0  0.0  0.0  0.0  0.0\n",
       "\n",
       "[:, :, 2, 5] =\n",
       " 0.0  0.0  0.0  0.0  0.0\n",
       " 0.0  0.0  0.0  0.0  0.0\n",
       " 0.0  0.0  0.0  0.0  0.0\n",
       " 0.0  0.0  0.0  0.0  0.0\n",
       " 0.0  0.0  0.0  0.0  0.0\n",
       "\n",
       "[:, :, 3, 5] =\n",
       " 0.0  0.0  0.0  0.0  0.0\n",
       " 0.0  0.0  0.0  0.0  0.0\n",
       " 0.0  0.0  0.0  0.0  0.0\n",
       " 0.0  0.0  0.0  0.0  0.0\n",
       " 0.0  0.0  0.0  0.0  0.0\n",
       "\n",
       "[:, :, 4, 5] =\n",
       " 0.0  0.0  0.0  0.0  0.0\n",
       " 0.0  0.0  0.0  0.0  0.0\n",
       " 0.0  0.0  0.0  0.0  0.0\n",
       " 0.0  0.0  0.0  0.0  0.0\n",
       " 0.0  0.0  0.0  0.0  0.0\n",
       "\n",
       "[:, :, 5, 5] =\n",
       " 0.0  0.0  0.0  0.0  0.0\n",
       " 0.0  0.0  0.0  0.0  0.0\n",
       " 0.0  0.0  0.0  0.0  0.0\n",
       " 0.0  0.0  0.0  0.0  0.0\n",
       " 0.0  0.0  0.0  0.0  0.0"
      ]
     },
     "execution_count": 10,
     "metadata": {},
     "output_type": "execute_result"
    }
   ],
   "source": [
    "density2_tensor(psi)"
   ]
  },
  {
   "cell_type": "code",
   "execution_count": 12,
   "metadata": {
    "collapsed": false
   },
   "outputs": [
    {
     "data": {
      "text/plain": [
       "10-element Array{Array{Int64,1},1}:\n",
       " [1,2,3]\n",
       " [1,2,4]\n",
       " [1,2,5]\n",
       " [1,3,4]\n",
       " [1,3,5]\n",
       " [1,4,5]\n",
       " [2,3,4]\n",
       " [2,3,5]\n",
       " [2,4,5]\n",
       " [3,4,5]"
      ]
     },
     "execution_count": 12,
     "metadata": {},
     "output_type": "execute_result"
    }
   ],
   "source": [
    "b=m.slater_indices"
   ]
  },
  {
   "cell_type": "code",
   "execution_count": 13,
   "metadata": {
    "collapsed": false
   },
   "outputs": [
    {
     "data": {
      "text/plain": [
       "10×10 Array{Tuple{Array{Int64,1},Int64},2}:\n",
       " (Int64[],1)     ([3,4],1)       …  ([1,4,3,5],-1)  ([1,4,2,5],1) \n",
       " ([4,3],1)       (Int64[],1)        ([1,5],1)       ([1,3,2,5],-1)\n",
       " ([5,3],1)       ([5,4],1)          ([1,4],-1)      ([1,3,2,4],1) \n",
       " ([4,2],-1)      ([3,2],1)          ([1,2,3,5],-1)  ([1,5],1)     \n",
       " ([5,2],-1)      ([3,2,5,4],1)      ([1,2,3,4],1)   ([1,4],-1)    \n",
       " ([4,2,5,3],1)   ([5,2],-1)      …  ([1,2],1)       ([1,3],1)     \n",
       " ([4,1],1)       ([3,1],-1)         ([3,5],-1)      ([2,5],1)     \n",
       " ([5,1],1)       ([3,1,5,4],-1)     ([3,4],1)       ([2,4],-1)    \n",
       " ([4,1,5,3],-1)  ([5,1],1)          (Int64[],1)     ([2,3],1)     \n",
       " ([4,1,5,2],1)   ([3,1,5,2],-1)     ([3,2],1)       (Int64[],1)   "
      ]
     },
     "execution_count": 13,
     "metadata": {},
     "output_type": "execute_result"
    }
   ],
   "source": [
    "m.slater_rules"
   ]
  },
  {
   "cell_type": "code",
   "execution_count": 14,
   "metadata": {
    "collapsed": false
   },
   "outputs": [
    {
     "data": {
      "text/html": [
       "10"
      ],
      "text/plain": [
       "10"
      ]
     },
     "execution_count": 14,
     "metadata": {},
     "output_type": "execute_result"
    }
   ],
   "source": [
    "m.lena"
   ]
  },
  {
   "cell_type": "code",
   "execution_count": 15,
   "metadata": {
    "collapsed": false
   },
   "outputs": [
    {
     "data": {
      "text/plain": [
       "5×5 Array{Array{Tuple{Int64,Int64,Int64},1},2}:\n",
       " Tuple{Int64,Int64,Int64}[(1,1,1),(2,2,1),(3,3,1),(1,1,1),(4,4,1),(5,5,1),(2,2,1),(4,4,1),(6,6,1),(3,3,1),(5,5,1),(6,6,1)]  …  Tuple{Int64,Int64,Int64}[(1,8,1),(2,9,1),(1,8,1),(4,10,1),(2,9,1),(4,10,1)]                                                  \n",
       " Tuple{Int64,Int64,Int64}[(4,7,1),(5,8,1),(4,7,1),(6,9,1),(5,8,1),(6,9,1)]                                                     Tuple{Int64,Int64,Int64}[(1,5,-1),(2,6,-1),(1,5,-1),(7,10,1),(2,6,-1),(7,10,1)]                                              \n",
       " Tuple{Int64,Int64,Int64}[(2,7,-1),(3,8,-1),(2,7,-1),(6,10,1),(3,8,-1),(6,10,1)]                                               Tuple{Int64,Int64,Int64}[(1,3,1),(4,6,-1),(1,3,1),(7,9,-1),(4,6,-1),(7,9,-1)]                                                \n",
       " Tuple{Int64,Int64,Int64}[(1,7,1),(3,9,-1),(1,7,1),(5,10,-1),(3,9,-1),(5,10,-1)]                                               Tuple{Int64,Int64,Int64}[(2,3,1),(4,5,1),(2,3,1),(7,8,1),(4,5,1),(7,8,1)]                                                    \n",
       " Tuple{Int64,Int64,Int64}[(1,8,1),(2,9,1),(1,8,1),(4,10,1),(2,9,1),(4,10,1)]                                                   Tuple{Int64,Int64,Int64}[(3,3,1),(5,5,1),(6,6,1),(3,3,1),(8,8,1),(9,9,1),(5,5,1),(8,8,1),(10,10,1),(6,6,1),(9,9,1),(10,10,1)]"
      ]
     },
     "execution_count": 15,
     "metadata": {},
     "output_type": "execute_result"
    }
   ],
   "source": [
    "m.density_rules"
   ]
  },
  {
   "cell_type": "code",
   "execution_count": 16,
   "metadata": {
    "collapsed": false
   },
   "outputs": [
    {
     "data": {
      "text/plain": [
       "5×5×5×5 Array{Array{Tuple{Int64,Int64,Int64},1},4}:\n",
       "[:, :, 1, 1] =\n",
       " Tuple{Int64,Int64,Int64}[]  …  Tuple{Int64,Int64,Int64}[]                       \n",
       " Tuple{Int64,Int64,Int64}[]     Tuple{Int64,Int64,Int64}[(1,5,-1),(2,6,-1)]      \n",
       " Tuple{Int64,Int64,Int64}[]     Tuple{Int64,Int64,Int64}[(1,3,1),(4,6,-1)]       \n",
       " Tuple{Int64,Int64,Int64}[]     Tuple{Int64,Int64,Int64}[(2,3,1),(4,5,1)]        \n",
       " Tuple{Int64,Int64,Int64}[]     Tuple{Int64,Int64,Int64}[(3,3,1),(5,5,1),(6,6,1)]\n",
       "\n",
       "[:, :, 2, 1] =\n",
       " Tuple{Int64,Int64,Int64}[]  …  Tuple{Int64,Int64,Int64}[(1,5,1),(2,6,1)]\n",
       " Tuple{Int64,Int64,Int64}[]     Tuple{Int64,Int64,Int64}[]               \n",
       " Tuple{Int64,Int64,Int64}[]     Tuple{Int64,Int64,Int64}[(7,6,-1)]       \n",
       " Tuple{Int64,Int64,Int64}[]     Tuple{Int64,Int64,Int64}[(7,5,1)]        \n",
       " Tuple{Int64,Int64,Int64}[]     Tuple{Int64,Int64,Int64}[(8,5,1),(9,6,1)]\n",
       "\n",
       "[:, :, 3, 1] =\n",
       " Tuple{Int64,Int64,Int64}[]  …  Tuple{Int64,Int64,Int64}[(1,3,-1),(4,6,1)] \n",
       " Tuple{Int64,Int64,Int64}[]     Tuple{Int64,Int64,Int64}[(7,6,1)]          \n",
       " Tuple{Int64,Int64,Int64}[]     Tuple{Int64,Int64,Int64}[]                 \n",
       " Tuple{Int64,Int64,Int64}[]     Tuple{Int64,Int64,Int64}[(7,3,-1)]         \n",
       " Tuple{Int64,Int64,Int64}[]     Tuple{Int64,Int64,Int64}[(8,3,-1),(10,6,1)]\n",
       "\n",
       "[:, :, 4, 1] =\n",
       " Tuple{Int64,Int64,Int64}[]  …  Tuple{Int64,Int64,Int64}[(2,3,-1),(4,5,-1)] \n",
       " Tuple{Int64,Int64,Int64}[]     Tuple{Int64,Int64,Int64}[(7,5,-1)]          \n",
       " Tuple{Int64,Int64,Int64}[]     Tuple{Int64,Int64,Int64}[(7,3,1)]           \n",
       " Tuple{Int64,Int64,Int64}[]     Tuple{Int64,Int64,Int64}[]                  \n",
       " Tuple{Int64,Int64,Int64}[]     Tuple{Int64,Int64,Int64}[(9,3,-1),(10,5,-1)]\n",
       "\n",
       "[:, :, 5, 1] =\n",
       " Tuple{Int64,Int64,Int64}[]  …  Tuple{Int64,Int64,Int64}[(3,3,-1),(5,5,-1),(6,6,-1)]\n",
       " Tuple{Int64,Int64,Int64}[]     Tuple{Int64,Int64,Int64}[(8,5,-1),(9,6,-1)]         \n",
       " Tuple{Int64,Int64,Int64}[]     Tuple{Int64,Int64,Int64}[(8,3,1),(10,6,-1)]         \n",
       " Tuple{Int64,Int64,Int64}[]     Tuple{Int64,Int64,Int64}[(9,3,1),(10,5,1)]          \n",
       " Tuple{Int64,Int64,Int64}[]     Tuple{Int64,Int64,Int64}[]                          \n",
       "\n",
       "[:, :, 1, 2] =\n",
       " Tuple{Int64,Int64,Int64}[]                            …  Tuple{Int64,Int64,Int64}[]                 \n",
       " Tuple{Int64,Int64,Int64}[(1,1,-1),(2,2,-1),(3,3,-1)]     Tuple{Int64,Int64,Int64}[(1,8,-1),(2,9,-1)]\n",
       " Tuple{Int64,Int64,Int64}[(2,4,-1),(3,5,-1)]              Tuple{Int64,Int64,Int64}[(4,9,-1)]         \n",
       " Tuple{Int64,Int64,Int64}[(1,4,1),(3,6,-1)]               Tuple{Int64,Int64,Int64}[(4,8,1)]          \n",
       " Tuple{Int64,Int64,Int64}[(1,5,1),(2,6,1)]                Tuple{Int64,Int64,Int64}[(5,8,1),(6,9,1)]  \n",
       "\n",
       "[:, :, 2, 2] =\n",
       " Tuple{Int64,Int64,Int64}[(1,1,1),(2,2,1),(3,3,1)]  …  Tuple{Int64,Int64,Int64}[(1,8,1),(2,9,1)]        \n",
       " Tuple{Int64,Int64,Int64}[]                            Tuple{Int64,Int64,Int64}[]                       \n",
       " Tuple{Int64,Int64,Int64}[(2,7,-1),(3,8,-1)]           Tuple{Int64,Int64,Int64}[(1,3,1),(7,9,-1)]       \n",
       " Tuple{Int64,Int64,Int64}[(1,7,1),(3,9,-1)]            Tuple{Int64,Int64,Int64}[(2,3,1),(7,8,1)]        \n",
       " Tuple{Int64,Int64,Int64}[(1,8,1),(2,9,1)]             Tuple{Int64,Int64,Int64}[(3,3,1),(8,8,1),(9,9,1)]\n",
       "\n",
       "[:, :, 3, 2] =\n",
       " Tuple{Int64,Int64,Int64}[(4,2,1),(5,3,1)]  …  Tuple{Int64,Int64,Int64}[(4,9,1)]         \n",
       " Tuple{Int64,Int64,Int64}[(2,7,1),(3,8,1)]     Tuple{Int64,Int64,Int64}[(1,3,-1),(7,9,1)]\n",
       " Tuple{Int64,Int64,Int64}[]                    Tuple{Int64,Int64,Int64}[]                \n",
       " Tuple{Int64,Int64,Int64}[(3,10,-1)]           Tuple{Int64,Int64,Int64}[(4,3,1)]         \n",
       " Tuple{Int64,Int64,Int64}[(2,10,1)]            Tuple{Int64,Int64,Int64}[(5,3,1),(10,9,1)]\n",
       "\n",
       "[:, :, 4, 2] =\n",
       " Tuple{Int64,Int64,Int64}[(4,1,-1),(6,3,1)]  …  Tuple{Int64,Int64,Int64}[(4,8,-1)]         \n",
       " Tuple{Int64,Int64,Int64}[(1,7,-1),(3,9,1)]     Tuple{Int64,Int64,Int64}[(2,3,-1),(7,8,-1)]\n",
       " Tuple{Int64,Int64,Int64}[(3,10,1)]             Tuple{Int64,Int64,Int64}[(4,3,-1)]         \n",
       " Tuple{Int64,Int64,Int64}[]                     Tuple{Int64,Int64,Int64}[]                 \n",
       " Tuple{Int64,Int64,Int64}[(1,10,-1)]            Tuple{Int64,Int64,Int64}[(6,3,1),(10,8,-1)]\n",
       "\n",
       "[:, :, 5, 2] =\n",
       " Tuple{Int64,Int64,Int64}[(5,1,-1),(6,2,-1)]  …  Tuple{Int64,Int64,Int64}[(5,8,-1),(6,9,-1)]         \n",
       " Tuple{Int64,Int64,Int64}[(1,8,-1),(2,9,-1)]     Tuple{Int64,Int64,Int64}[(3,3,-1),(8,8,-1),(9,9,-1)]\n",
       " Tuple{Int64,Int64,Int64}[(2,10,-1)]             Tuple{Int64,Int64,Int64}[(5,3,-1),(10,9,-1)]        \n",
       " Tuple{Int64,Int64,Int64}[(1,10,1)]              Tuple{Int64,Int64,Int64}[(6,3,-1),(10,8,1)]         \n",
       " Tuple{Int64,Int64,Int64}[]                      Tuple{Int64,Int64,Int64}[]                          \n",
       "\n",
       "[:, :, 1, 3] =\n",
       " Tuple{Int64,Int64,Int64}[]                            …  Tuple{Int64,Int64,Int64}[]                  \n",
       " Tuple{Int64,Int64,Int64}[(4,2,-1),(5,3,-1)]              Tuple{Int64,Int64,Int64}[(2,10,-1)]         \n",
       " Tuple{Int64,Int64,Int64}[(1,1,-1),(4,4,-1),(5,5,-1)]     Tuple{Int64,Int64,Int64}[(1,8,-1),(4,10,-1)]\n",
       " Tuple{Int64,Int64,Int64}[(1,2,-1),(5,6,-1)]              Tuple{Int64,Int64,Int64}[(2,8,-1)]          \n",
       " Tuple{Int64,Int64,Int64}[(1,3,-1),(4,6,1)]               Tuple{Int64,Int64,Int64}[(3,8,-1),(6,10,1)] \n",
       "\n",
       "[:, :, 2, 3] =\n",
       " Tuple{Int64,Int64,Int64}[(2,4,1),(3,5,1)]    …  Tuple{Int64,Int64,Int64}[(2,10,1)]         \n",
       " Tuple{Int64,Int64,Int64}[]                      Tuple{Int64,Int64,Int64}[]                 \n",
       " Tuple{Int64,Int64,Int64}[(4,7,-1),(5,8,-1)]     Tuple{Int64,Int64,Int64}[(1,5,1),(7,10,-1)]\n",
       " Tuple{Int64,Int64,Int64}[(5,9,-1)]              Tuple{Int64,Int64,Int64}[(2,5,1)]          \n",
       " Tuple{Int64,Int64,Int64}[(4,9,1)]               Tuple{Int64,Int64,Int64}[(3,5,1),(9,10,1)] \n",
       "\n",
       "[:, :, 3, 3] =\n",
       " Tuple{Int64,Int64,Int64}[(1,1,1),(4,4,1),(5,5,1)]  …  Tuple{Int64,Int64,Int64}[(1,8,1),(4,10,1)]         \n",
       " Tuple{Int64,Int64,Int64}[(4,7,1),(5,8,1)]             Tuple{Int64,Int64,Int64}[(1,5,-1),(7,10,1)]        \n",
       " Tuple{Int64,Int64,Int64}[]                            Tuple{Int64,Int64,Int64}[]                         \n",
       " Tuple{Int64,Int64,Int64}[(1,7,1),(5,10,-1)]           Tuple{Int64,Int64,Int64}[(4,5,1),(7,8,1)]          \n",
       " Tuple{Int64,Int64,Int64}[(1,8,1),(4,10,1)]            Tuple{Int64,Int64,Int64}[(5,5,1),(8,8,1),(10,10,1)]\n",
       "\n",
       "[:, :, 4, 3] =\n",
       " Tuple{Int64,Int64,Int64}[(2,1,1),(6,5,1)]    …  Tuple{Int64,Int64,Int64}[(2,8,1)]          \n",
       " Tuple{Int64,Int64,Int64}[(5,9,1)]               Tuple{Int64,Int64,Int64}[(2,5,-1)]         \n",
       " Tuple{Int64,Int64,Int64}[(1,7,-1),(5,10,1)]     Tuple{Int64,Int64,Int64}[(4,5,-1),(7,8,-1)]\n",
       " Tuple{Int64,Int64,Int64}[]                      Tuple{Int64,Int64,Int64}[]                 \n",
       " Tuple{Int64,Int64,Int64}[(1,9,1)]               Tuple{Int64,Int64,Int64}[(6,5,1),(9,8,1)]  \n",
       "\n",
       "[:, :, 5, 3] =\n",
       " Tuple{Int64,Int64,Int64}[(3,1,1),(6,4,-1)]    …  Tuple{Int64,Int64,Int64}[(3,8,1),(6,10,-1)]           \n",
       " Tuple{Int64,Int64,Int64}[(4,9,-1)]               Tuple{Int64,Int64,Int64}[(3,5,-1),(9,10,-1)]          \n",
       " Tuple{Int64,Int64,Int64}[(1,8,-1),(4,10,-1)]     Tuple{Int64,Int64,Int64}[(5,5,-1),(8,8,-1),(10,10,-1)]\n",
       " Tuple{Int64,Int64,Int64}[(1,9,-1)]               Tuple{Int64,Int64,Int64}[(6,5,-1),(9,8,-1)]           \n",
       " Tuple{Int64,Int64,Int64}[]                       Tuple{Int64,Int64,Int64}[]                            \n",
       "\n",
       "[:, :, 1, 4] =\n",
       " Tuple{Int64,Int64,Int64}[]                            …  Tuple{Int64,Int64,Int64}[]                  \n",
       " Tuple{Int64,Int64,Int64}[(4,1,1),(6,3,-1)]               Tuple{Int64,Int64,Int64}[(1,10,1)]          \n",
       " Tuple{Int64,Int64,Int64}[(2,1,-1),(6,5,-1)]              Tuple{Int64,Int64,Int64}[(1,9,-1)]          \n",
       " Tuple{Int64,Int64,Int64}[(2,2,-1),(4,4,-1),(6,6,-1)]     Tuple{Int64,Int64,Int64}[(2,9,-1),(4,10,-1)]\n",
       " Tuple{Int64,Int64,Int64}[(2,3,-1),(4,5,-1)]              Tuple{Int64,Int64,Int64}[(3,9,-1),(5,10,-1)]\n",
       "\n",
       "[:, :, 2, 4] =\n",
       " Tuple{Int64,Int64,Int64}[(1,4,-1),(3,6,1)]   …  Tuple{Int64,Int64,Int64}[(1,10,-1)]        \n",
       " Tuple{Int64,Int64,Int64}[]                      Tuple{Int64,Int64,Int64}[]                 \n",
       " Tuple{Int64,Int64,Int64}[(6,8,-1)]              Tuple{Int64,Int64,Int64}[(1,6,1)]          \n",
       " Tuple{Int64,Int64,Int64}[(4,7,-1),(6,9,-1)]     Tuple{Int64,Int64,Int64}[(2,6,1),(7,10,-1)]\n",
       " Tuple{Int64,Int64,Int64}[(4,8,-1)]              Tuple{Int64,Int64,Int64}[(3,6,1),(8,10,-1)]\n",
       "\n",
       "[:, :, 3, 4] =\n",
       " Tuple{Int64,Int64,Int64}[(1,2,1),(5,6,1)]    …  Tuple{Int64,Int64,Int64}[(1,9,1)]        \n",
       " Tuple{Int64,Int64,Int64}[(6,8,1)]               Tuple{Int64,Int64,Int64}[(1,6,-1)]       \n",
       " Tuple{Int64,Int64,Int64}[]                      Tuple{Int64,Int64,Int64}[]               \n",
       " Tuple{Int64,Int64,Int64}[(2,7,1),(6,10,-1)]     Tuple{Int64,Int64,Int64}[(4,6,1),(7,9,1)]\n",
       " Tuple{Int64,Int64,Int64}[(2,8,1)]               Tuple{Int64,Int64,Int64}[(5,6,1),(8,9,1)]\n",
       "\n",
       "[:, :, 4, 4] =\n",
       " Tuple{Int64,Int64,Int64}[(2,2,1),(4,4,1),(6,6,1)]  …  Tuple{Int64,Int64,Int64}[(2,9,1),(4,10,1)]         \n",
       " Tuple{Int64,Int64,Int64}[(4,7,1),(6,9,1)]             Tuple{Int64,Int64,Int64}[(2,6,-1),(7,10,1)]        \n",
       " Tuple{Int64,Int64,Int64}[(2,7,-1),(6,10,1)]           Tuple{Int64,Int64,Int64}[(4,6,-1),(7,9,-1)]        \n",
       " Tuple{Int64,Int64,Int64}[]                            Tuple{Int64,Int64,Int64}[]                         \n",
       " Tuple{Int64,Int64,Int64}[(2,9,1),(4,10,1)]            Tuple{Int64,Int64,Int64}[(6,6,1),(9,9,1),(10,10,1)]\n",
       "\n",
       "[:, :, 5, 4] =\n",
       " Tuple{Int64,Int64,Int64}[(3,2,1),(5,4,1)]     …  Tuple{Int64,Int64,Int64}[(3,9,1),(5,10,1)]            \n",
       " Tuple{Int64,Int64,Int64}[(4,8,1)]                Tuple{Int64,Int64,Int64}[(3,6,-1),(8,10,1)]           \n",
       " Tuple{Int64,Int64,Int64}[(2,8,-1)]               Tuple{Int64,Int64,Int64}[(5,6,-1),(8,9,-1)]           \n",
       " Tuple{Int64,Int64,Int64}[(2,9,-1),(4,10,-1)]     Tuple{Int64,Int64,Int64}[(6,6,-1),(9,9,-1),(10,10,-1)]\n",
       " Tuple{Int64,Int64,Int64}[]                       Tuple{Int64,Int64,Int64}[]                            \n",
       "\n",
       "[:, :, 1, 5] =\n",
       " Tuple{Int64,Int64,Int64}[]                            …  Tuple{Int64,Int64,Int64}[]\n",
       " Tuple{Int64,Int64,Int64}[(5,1,1),(6,2,1)]                Tuple{Int64,Int64,Int64}[]\n",
       " Tuple{Int64,Int64,Int64}[(3,1,-1),(6,4,1)]               Tuple{Int64,Int64,Int64}[]\n",
       " Tuple{Int64,Int64,Int64}[(3,2,-1),(5,4,-1)]              Tuple{Int64,Int64,Int64}[]\n",
       " Tuple{Int64,Int64,Int64}[(3,3,-1),(5,5,-1),(6,6,-1)]     Tuple{Int64,Int64,Int64}[]\n",
       "\n",
       "[:, :, 2, 5] =\n",
       " Tuple{Int64,Int64,Int64}[(1,5,-1),(2,6,-1)]  …  Tuple{Int64,Int64,Int64}[]\n",
       " Tuple{Int64,Int64,Int64}[]                      Tuple{Int64,Int64,Int64}[]\n",
       " Tuple{Int64,Int64,Int64}[(6,7,1)]               Tuple{Int64,Int64,Int64}[]\n",
       " Tuple{Int64,Int64,Int64}[(5,7,-1)]              Tuple{Int64,Int64,Int64}[]\n",
       " Tuple{Int64,Int64,Int64}[(5,8,-1),(6,9,-1)]     Tuple{Int64,Int64,Int64}[]\n",
       "\n",
       "[:, :, 3, 5] =\n",
       " Tuple{Int64,Int64,Int64}[(1,3,1),(4,6,-1)]   …  Tuple{Int64,Int64,Int64}[]\n",
       " Tuple{Int64,Int64,Int64}[(6,7,-1)]              Tuple{Int64,Int64,Int64}[]\n",
       " Tuple{Int64,Int64,Int64}[]                      Tuple{Int64,Int64,Int64}[]\n",
       " Tuple{Int64,Int64,Int64}[(3,7,1)]               Tuple{Int64,Int64,Int64}[]\n",
       " Tuple{Int64,Int64,Int64}[(3,8,1),(6,10,-1)]     Tuple{Int64,Int64,Int64}[]\n",
       "\n",
       "[:, :, 4, 5] =\n",
       " Tuple{Int64,Int64,Int64}[(2,3,1),(4,5,1)]   …  Tuple{Int64,Int64,Int64}[]\n",
       " Tuple{Int64,Int64,Int64}[(5,7,1)]              Tuple{Int64,Int64,Int64}[]\n",
       " Tuple{Int64,Int64,Int64}[(3,7,-1)]             Tuple{Int64,Int64,Int64}[]\n",
       " Tuple{Int64,Int64,Int64}[]                     Tuple{Int64,Int64,Int64}[]\n",
       " Tuple{Int64,Int64,Int64}[(3,9,1),(5,10,1)]     Tuple{Int64,Int64,Int64}[]\n",
       "\n",
       "[:, :, 5, 5] =\n",
       " Tuple{Int64,Int64,Int64}[(3,3,1),(5,5,1),(6,6,1)]  …  Tuple{Int64,Int64,Int64}[]\n",
       " Tuple{Int64,Int64,Int64}[(5,8,1),(6,9,1)]             Tuple{Int64,Int64,Int64}[]\n",
       " Tuple{Int64,Int64,Int64}[(3,8,-1),(6,10,1)]           Tuple{Int64,Int64,Int64}[]\n",
       " Tuple{Int64,Int64,Int64}[(3,9,-1),(5,10,-1)]          Tuple{Int64,Int64,Int64}[]\n",
       " Tuple{Int64,Int64,Int64}[]                            Tuple{Int64,Int64,Int64}[]"
      ]
     },
     "execution_count": 16,
     "metadata": {},
     "output_type": "execute_result"
    }
   ],
   "source": [
    "m.density2_rules"
   ]
  },
  {
   "cell_type": "code",
   "execution_count": null,
   "metadata": {
    "collapsed": true
   },
   "outputs": [],
   "source": []
  }
 ],
 "metadata": {
  "anaconda-cloud": {},
  "kernelspec": {
   "display_name": "Julia 0.5.0",
   "language": "julia",
   "name": "julia-0.5"
  },
  "language_info": {
   "file_extension": ".jl",
   "mimetype": "application/julia",
   "name": "julia",
   "version": "0.5.0"
  }
 },
 "nbformat": 4,
 "nbformat_minor": 1
}
