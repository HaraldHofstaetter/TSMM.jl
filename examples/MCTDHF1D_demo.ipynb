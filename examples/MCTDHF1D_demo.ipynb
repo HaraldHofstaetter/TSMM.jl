{
 "cells": [
  {
   "cell_type": "code",
   "execution_count": 1,
   "metadata": {
    "collapsed": true
   },
   "outputs": [],
   "source": [
    "using TSSM"
   ]
  },
  {
   "cell_type": "code",
   "execution_count": 90,
   "metadata": {
    "collapsed": false
   },
   "outputs": [
    {
     "data": {
      "text/plain": [
       "groundstate! (generic function with 1 method)"
      ]
     },
     "execution_count": 90,
     "metadata": {},
     "output_type": "execute_result"
    }
   ],
   "source": [
    "push!(LOAD_PATH, pwd())\n",
    "include(\"mctdhf1d.jl\")"
   ]
  },
  {
   "cell_type": "code",
   "execution_count": 95,
   "metadata": {
    "collapsed": false
   },
   "outputs": [
    {
     "data": {
      "text/plain": [
       "V (generic function with 1 method)"
      ]
     },
     "execution_count": 95,
     "metadata": {},
     "output_type": "execute_result"
    }
   ],
   "source": [
    "V1(x) = -2/sqrt(x^2+1)\n",
    "V2(x,y) = 1/sqrt((x-y)^2+1)\n",
    "V(x,y) = V1(x) + V1(y) + V2(x,y)"
   ]
  },
  {
   "cell_type": "code",
   "execution_count": 97,
   "metadata": {
    "collapsed": false
   },
   "outputs": [
    {
     "name": "stdout",
     "output_type": "stream",
     "text": [
      "step=  50  E_pot= -1.1757790383  E_kin=  0.0179478792  E= -1.1578311591\n",
      "step= 100  E_pot= -1.6989801592  E_kin=  0.0740642536  E= -1.6249159057\n",
      "step= 150  E_pot= -2.0614291768  E_kin=  0.1391348725  E= -1.9222943043\n",
      "step= 200  E_pot= -2.2640585965  E_kin=  0.1895073172  E= -2.0745512793\n",
      "step= 250  E_pot= -2.3722121996  E_kin=  0.2232119847  E= -2.1490002149\n",
      "step= 300  E_pot= -2.4307883116  E_kin=  0.2449847723  E= -2.1858035393\n",
      "step= 350  E_pot= -2.4634921212  E_kin=  0.2591373141  E= -2.2043548071\n",
      "step= 400  E_pot= -2.4823759847  E_kin=  0.2685193878  E= -2.2138565969\n",
      "step= 450  E_pot= -2.4936565304  E_kin=  0.2748775432  E= -2.2187789872\n",
      "step= 500  E_pot= -2.5006225963  E_kin=  0.2792735058  E= -2.2213490905\n",
      "step= 550  E_pot= -2.5050618043  E_kin=  0.2823634799  E= -2.2226983244\n",
      "step= 600  E_pot= -2.5079730451  E_kin=  0.2845636729  E= -2.2234093722\n",
      "step= 650  E_pot= -2.5099307368  E_kin=  0.2861455880  E= -2.2237851489\n",
      "step= 700  E_pot= -2.5112752445  E_kin=  0.2872910864  E= -2.2239841581\n",
      "step= 750  E_pot= -2.5122145374  E_kin=  0.2881248150  E= -2.2240897224\n",
      "step= 800  E_pot= -2.5128796144  E_kin=  0.2887338242  E= -2.2241457901\n",
      "step= 850  E_pot= -2.5133554061  E_kin=  0.2891798066  E= -2.2241755995\n",
      "step= 900  E_pot= -2.5136984314  E_kin=  0.2895069699  E= -2.2241914616\n",
      "step= 950  E_pot= -2.5139471602  E_kin=  0.2897472522  E= -2.2241999080\n",
      "step=1000  E_pot= -2.5141282717  E_kin=  0.2899238632  E= -2.2242044085\n",
      "step=1050  E_pot= -2.5142605480  E_kin=  0.2900537403  E= -2.2242068077\n",
      "step=1100  E_pot= -2.5143573667  E_kin=  0.2901492794  E= -2.2242080874\n",
      "step=1150  E_pot= -2.5144283416  E_kin=  0.2902195714  E= -2.2242087702\n",
      "step=1200  E_pot= -2.5144804269  E_kin=  0.2902712922  E= -2.2242091347\n",
      "step=1250  E_pot= -2.5145186785  E_kin=  0.2903093491  E= -2.2242093294\n",
      "step=1300  E_pot= -2.5145467844  E_kin=  0.2903373511  E= -2.2242094334\n",
      "step=1350  E_pot= -2.5145674425  E_kin=  0.2903579535  E= -2.2242094889\n",
      "step=1400  E_pot= -2.5145826293  E_kin=  0.2903731107  E= -2.2242095187\n",
      "step=1450  E_pot= -2.5145937952  E_kin=  0.2903842606  E= -2.2242095346\n",
      "step=1500  E_pot= -2.5146020052  E_kin=  0.2903924621  E= -2.2242095431\n",
      "step=1550  E_pot= -2.5146080417  E_kin=  0.2903984940  E= -2.2242095477\n",
      "step=1600  E_pot= -2.5146124800  E_kin=  0.2904029299  E= -2.2242095501\n",
      "step=1650  E_pot= -2.5146157432  E_kin=  0.2904061917  E= -2.2242095514\n",
      "step=1700  E_pot= -2.5146181421  E_kin=  0.2904085900  E= -2.2242095521\n",
      "step=1750  E_pot= -2.5146199055  E_kin=  0.2904103530  E= -2.2242095525\n",
      "step=1800  E_pot= -2.5146212018  E_kin=  0.2904116490  E= -2.2242095527\n",
      "step=1850  E_pot= -2.5146221544  E_kin=  0.2904126016  E= -2.2242095528\n",
      "step=1900  E_pot= -2.5146228546  E_kin=  0.2904133017  E= -2.2242095529\n",
      "step=1950  E_pot= -2.5146233691  E_kin=  0.2904138162  E= -2.2242095529\n",
      "step=2000  E_pot= -2.5146237471  E_kin=  0.2904141942  E= -2.2242095529\n",
      "  6.809220 seconds (2.71 M allocations: 787.391 MB, 1.24% gc time)\n"
     ]
    }
   ],
   "source": [
    "m = MCTDHF1D(2, 2, 512, -15,15, potential1=V1, potential2=V2, spins=[1,-1,1,-1,1,-1,1,-1,1,-1]);\n",
    "psi=wave_function(m);\n",
    "@time groundstate!(psi, 0.01, 2000, output_step=50)"
   ]
  },
  {
   "cell_type": "code",
   "execution_count": 99,
   "metadata": {
    "collapsed": false
   },
   "outputs": [
    {
     "name": "stdout",
     "output_type": "stream",
     "text": [
      "step=  50  E_pot= -1.1614588927  E_kin=  0.0374228930  E= -1.1240359997\n",
      "step= 100  E_pot= -1.5659691193  E_kin=  0.0824905233  E= -1.4834785960\n",
      "step= 150  E_pot= -1.8742876946  E_kin=  0.1372211620  E= -1.7370665326\n",
      "step= 200  E_pot= -2.0871272064  E_kin=  0.1866690970  E= -1.9004581093\n",
      "step= 250  E_pot= -2.2377585832  E_kin=  0.2278459984  E= -2.0099125847\n",
      "step= 300  E_pot= -2.3451489076  E_kin=  0.2605857454  E= -2.0845631622\n",
      "step= 350  E_pot= -2.4176320910  E_kin=  0.2828884730  E= -2.1347436180\n",
      "step= 400  E_pot= -2.4635639877  E_kin=  0.2947537181  E= -2.1688102697\n",
      "step= 450  E_pot= -2.4920282707  E_kin=  0.2996543564  E= -2.1923739143\n",
      "step= 500  E_pot= -2.5096673151  E_kin=  0.3011432797  E= -2.2085240354\n",
      "step= 550  E_pot= -2.5204950155  E_kin=  0.3012572829  E= -2.2192377326\n",
      "step= 600  E_pot= -2.5269378665  E_kin=  0.3008707891  E= -2.2260670774\n",
      "step= 650  E_pot= -2.5305898501  E_kin=  0.3003205572  E= -2.2302692930\n",
      "step= 700  E_pot= -2.5325397434  E_kin=  0.2997505298  E= -2.2327892136\n",
      "step= 750  E_pot= -2.5335078120  E_kin=  0.2992320051  E= -2.2342758069\n",
      "step= 800  E_pot= -2.5339421614  E_kin=  0.2987972941  E= -2.2351448673\n",
      "step= 850  E_pot= -2.5341045226  E_kin=  0.2984536467  E= -2.2356508760\n",
      "step= 900  E_pot= -2.5341390434  E_kin=  0.2981937320  E= -2.2359453114\n",
      "step= 950  E_pot= -2.5341206268  E_kin=  0.2980037107  E= -2.2361169161\n",
      "step=1000  E_pot= -2.5340856839  E_kin=  0.2978684365  E= -2.2362172474\n",
      "step=1050  E_pot= -2.5340503313  E_kin=  0.2977741779  E= -2.2362761534\n",
      "step=1100  E_pot= -2.5340205712  E_kin=  0.2977096637  E= -2.2363109075\n",
      "step=1150  E_pot= -2.5339977173  E_kin=  0.2976661948  E= -2.2363315225\n",
      "step=1200  E_pot= -2.5339811498  E_kin=  0.2976373295  E= -2.2363438203\n",
      "step=1250  E_pot= -2.5339696361  E_kin=  0.2976184366  E= -2.2363511995\n",
      "step=1300  E_pot= -2.5339619125  E_kin=  0.2976062591  E= -2.2363556534\n",
      "step=1350  E_pot= -2.5339569029  E_kin=  0.2975985456  E= -2.2363583573\n",
      "step=1400  E_pot= -2.5339537696  E_kin=  0.2975937614  E= -2.2363600081\n",
      "step=1450  E_pot= -2.5339518950  E_kin=  0.2975908737  E= -2.2363610213\n",
      "step=1500  E_pot= -2.5339508413  E_kin=  0.2975891951  E= -2.2363616463\n",
      "step=1550  E_pot= -2.5339503066  E_kin=  0.2975882733  E= -2.2363620334\n",
      "step=1600  E_pot= -2.5339500885  E_kin=  0.2975878144  E= -2.2363622741\n",
      "step=1650  E_pot= -2.5339500542  E_kin=  0.2975876299  E= -2.2363624243\n",
      "step=1700  E_pot= -2.5339501191  E_kin=  0.2975876010  E= -2.2363625181\n",
      "step=1750  E_pot= -2.5339502309  E_kin=  0.2975876540  E= -2.2363625769\n",
      "step=1800  E_pot= -2.5339503583  E_kin=  0.2975877447  E= -2.2363626137\n",
      "step=1850  E_pot= -2.5339504839  E_kin=  0.2975878472  E= -2.2363626367\n",
      "step=1900  E_pot= -2.5339505986  E_kin=  0.2975879475  E= -2.2363626511\n",
      "step=1950  E_pot= -2.5339506986  E_kin=  0.2975880386  E= -2.2363626600\n",
      "step=2000  E_pot= -2.5339507831  E_kin=  0.2975881175  E= -2.2363626655\n",
      " 24.656858 seconds (28.06 M allocations: 6.574 GB, 2.99% gc time)\n"
     ]
    }
   ],
   "source": [
    "m = MCTDHF1D(2, 4, 512, -15, 15, potential1=V1, potential2=V2, spins=[1,-1,1,-1,1,-1,1,-1,1,-1]);\n",
    "psi=wave_function(m);\n",
    "@time groundstate!(psi, 0.01, 2000, output_step=50)"
   ]
  },
  {
   "cell_type": "code",
   "execution_count": 100,
   "metadata": {
    "collapsed": false
   },
   "outputs": [
    {
     "name": "stdout",
     "output_type": "stream",
     "text": [
      "step=  50  E_pot= -0.7315886222  E_kin=  0.0771817575  E= -0.6544068647\n",
      "step= 100  E_pot= -1.3862059590  E_kin=  0.1191072091  E= -1.2670987499\n",
      "step= 150  E_pot= -2.0879436060  E_kin=  0.1995468093  E= -1.8883967967\n",
      "step= 200  E_pot= -2.3643249460  E_kin=  0.2425894831  E= -2.1217354629\n",
      "step= 250  E_pot= -2.4379968028  E_kin=  0.2514419530  E= -2.1865548498\n",
      "step= 300  E_pot= -2.4701959407  E_kin=  0.2584186892  E= -2.2117772514\n",
      "step= 350  E_pot= -2.4890333705  E_kin=  0.2653469912  E= -2.2236863793\n",
      "step= 400  E_pot= -2.5009483964  E_kin=  0.2710476761  E= -2.2299007203\n",
      "step= 450  E_pot= -2.5086917347  E_kin=  0.2753636288  E= -2.2333281060\n",
      "step= 500  E_pot= -2.5138310925  E_kin=  0.2785595864  E= -2.2352715061\n",
      "step= 550  E_pot= -2.5173168356  E_kin=  0.2809282624  E= -2.2363885732\n",
      "step= 600  E_pot= -2.5197294488  E_kin=  0.2826931777  E= -2.2370362711\n",
      "step= 650  E_pot= -2.5214277790  E_kin=  0.2840129484  E= -2.2374148306\n",
      "step= 700  E_pot= -2.5226384733  E_kin=  0.2850005164  E= -2.2376379569\n",
      "step= 750  E_pot= -2.5235082564  E_kin=  0.2857377001  E= -2.2377705563\n",
      "step= 800  E_pot= -2.5241343168  E_kin=  0.2862844865  E= -2.2378498303\n",
      "step= 850  E_pot= -2.5245823780  E_kin=  0.2866851349  E= -2.2378972431\n",
      "step= 900  E_pot= -2.5248980185  E_kin=  0.2869726419  E= -2.2379253766\n",
      "step= 950  E_pot= -2.5251142822  E_kin=  0.2871724167  E= -2.2379418655\n",
      "step=1000  E_pot= -2.5252569004  E_kin=  0.2873053426  E= -2.2379515578\n",
      "step=1050  E_pot= -2.5253472839  E_kin=  0.2873897263  E= -2.2379575577\n",
      "step=1100  E_pot= -2.5254032905  E_kin=  0.2874415877  E= -2.2379617028\n",
      "step=1150  E_pot= -2.5254386848  E_kin=  0.2874737676  E= -2.2379649172\n",
      "step=1200  E_pot= -2.5254627754  E_kin=  0.2874951997  E= -2.2379675758\n",
      "step=1250  E_pot= -2.5254809722  E_kin=  0.2875111695  E= -2.2379698027\n",
      "step=1300  E_pot= -2.5254959548  E_kin=  0.2875243112  E= -2.2379716436\n",
      "step=1350  E_pot= -2.5255088419  E_kin=  0.2875357069  E= -2.2379731350\n",
      "step=1400  E_pot= -2.5255200237  E_kin=  0.2875457033  E= -2.2379743205\n",
      "step=1450  E_pot= -2.5255296317  E_kin=  0.2875543834  E= -2.2379752483\n",
      "step=1500  E_pot= -2.5255377516  E_kin=  0.2875617855  E= -2.2379759661\n",
      "step=1550  E_pot= -2.5255444945  E_kin=  0.2875679781  E= -2.2379765164\n",
      "step=1600  E_pot= -2.5255500045  E_kin=  0.2875730690  E= -2.2379769355\n",
      "step=1650  E_pot= -2.5255544451  E_kin=  0.2875771918  E= -2.2379772533\n",
      "step=1700  E_pot= -2.5255579823  E_kin=  0.2875804890  E= -2.2379774934\n",
      "step=1750  E_pot= -2.5255607731  E_kin=  0.2875830988  E= -2.2379776742\n",
      "step=1800  E_pot= -2.5255629574  E_kin=  0.2875851472  E= -2.2379778102\n",
      "step=1850  E_pot= -2.5255646561  E_kin=  0.2875867437  E= -2.2379779123\n",
      "step=1900  E_pot= -2.5255659700  E_kin=  0.2875879811  E= -2.2379779890\n",
      "step=1950  E_pot= -2.5255669819  E_kin=  0.2875889355  E= -2.2379780464\n",
      "step=2000  E_pot= -2.5255677583  E_kin=  0.2875896689  E= -2.2379780894\n",
      " 63.271418 seconds (132.71 M allocations: 27.170 GB, 4.62% gc time)\n"
     ]
    }
   ],
   "source": [
    "m = MCTDHF1D(2, 6, 512, -15, 15, potential1=V1, potential2=V2, spins=[1,-1,1,-1,1,-1,1,-1,1,-1]);\n",
    "psi=wave_function(m);\n",
    "@time groundstate!(psi, 0.01, 2000, output_step=50)"
   ]
  },
  {
   "cell_type": "code",
   "execution_count": 101,
   "metadata": {
    "collapsed": false
   },
   "outputs": [
    {
     "name": "stdout",
     "output_type": "stream",
     "text": [
      "step=  50  E_pot= -0.7910641880  E_kin=  0.1558582880  E= -0.6352059000\n",
      "step= 100  E_pot= -1.4191663664  E_kin=  0.1895365968  E= -1.2296297696\n",
      "step= 150  E_pot= -1.9465272010  E_kin=  0.2448320684  E= -1.7016951326\n",
      "step= 200  E_pot= -2.1925016782  E_kin=  0.2739292501  E= -1.9185724280\n",
      "step= 250  E_pot= -2.3117055492  E_kin=  0.2701060079  E= -2.0415995414\n",
      "step= 300  E_pot= -2.3867273360  E_kin=  0.2642954799  E= -2.1224318561\n",
      "step= 350  E_pot= -2.4368994832  E_kin=  0.2645268504  E= -2.1723726328\n",
      "step= 400  E_pot= -2.4698523156  E_kin=  0.2691424804  E= -2.2007098353\n",
      "step= 450  E_pot= -2.4911000169  E_kin=  0.2748154743  E= -2.2162845426\n",
      "step= 500  E_pot= -2.5043107512  E_kin=  0.2791817585  E= -2.2251289927\n",
      "step= 550  E_pot= -2.5123305610  E_kin=  0.2820332324  E= -2.2302973286\n",
      "step= 600  E_pot= -2.5172036042  E_kin=  0.2838371850  E= -2.2333664192\n",
      "step= 650  E_pot= -2.5202164534  E_kin=  0.2850034877  E= -2.2352129656\n",
      "step= 700  E_pot= -2.5221270392  E_kin=  0.2857931324  E= -2.2363339068\n",
      "step= 750  E_pot= -2.5233718652  E_kin=  0.2863535830  E= -2.2370182822\n",
      "step= 800  E_pot= -2.5242038498  E_kin=  0.2867659682  E= -2.2374378815\n",
      "step= 850  E_pot= -2.5247726685  E_kin=  0.2870765622  E= -2.2376961063\n",
      "step= 900  E_pot= -2.5251692863  E_kin=  0.2873136568  E= -2.2378556295\n",
      "step= 950  E_pot= -2.5254505104  E_kin=  0.2874959130  E= -2.2379545973\n",
      "step=1000  E_pot= -2.5256527470  E_kin=  0.2876364496  E= -2.2380162974\n",
      "step=1050  E_pot= -2.5257998961  E_kin=  0.2877449135  E= -2.2380549827\n",
      "step=1100  E_pot= -2.5259079985  E_kin=  0.2878285997  E= -2.2380793988\n",
      "step=1150  E_pot= -2.5259880388  E_kin=  0.2878931118  E= -2.2380949271\n",
      "step=1200  E_pot= -2.5260476764  E_kin=  0.2879427869  E= -2.2381048894\n",
      "step=1250  E_pot= -2.5260923364  E_kin=  0.2879809925  E= -2.2381113439\n",
      "step=1300  E_pot= -2.5261259151  E_kin=  0.2880103438  E= -2.2381155713\n",
      "step=1350  E_pot= -2.5261512425  E_kin=  0.2880328698  E= -2.2381183726\n",
      "step=1400  E_pot= -2.5261703945  E_kin=  0.2880501423  E= -2.2381202523\n",
      "step=1450  E_pot= -2.5261849060  E_kin=  0.2880633763  E= -2.2381215297\n",
      "step=1500  E_pot= -2.5261959187  E_kin=  0.2880735095  E= -2.2381224092\n",
      "step=1550  E_pot= -2.5262042868  E_kin=  0.2880812644  E= -2.2381230224\n",
      "step=1600  E_pot= -2.5262106518  E_kin=  0.2880871966  E= -2.2381234553\n",
      "step=1650  E_pot= -2.5262154971  E_kin=  0.2880917329  E= -2.2381237643\n",
      "step=1700  E_pot= -2.5262191880  E_kin=  0.2880952008  E= -2.2381239872\n",
      "step=1750  E_pot= -2.5262220009  E_kin=  0.2880978514  E= -2.2381241495\n",
      "step=1800  E_pot= -2.5262241456  E_kin=  0.2880998769  E= -2.2381242687\n",
      "step=1850  E_pot= -2.5262257814  E_kin=  0.2881014247  E= -2.2381243567\n",
      "step=1900  E_pot= -2.5262270294  E_kin=  0.2881026072  E= -2.2381244223\n",
      "step=1950  E_pot= -2.5262279818  E_kin=  0.2881035106  E= -2.2381244713\n",
      "step=2000  E_pot= -2.5262287088  E_kin=  0.2881042007  E= -2.2381245081\n",
      "138.158300 seconds (409.22 M allocations: 77.730 GB, 6.48% gc time)\n"
     ]
    }
   ],
   "source": [
    "m = MCTDHF1D(2, 8, 512, -15, 15, potential1=V1, potential2=V2, spins=[1,-1,1,-1,1,-1,1,-1,1,-1]);\n",
    "psi=wave_function(m);\n",
    "@time groundstate!(psi, 0.01, 2000, output_step=50)"
   ]
  },
  {
   "cell_type": "code",
   "execution_count": 102,
   "metadata": {
    "collapsed": false
   },
   "outputs": [
    {
     "name": "stdout",
     "output_type": "stream",
     "text": [
      "step=  50  E_pot= -0.5984678061  E_kin=  0.2380076900  E= -0.3604601161\n",
      "step= 100  E_pot= -1.3143726624  E_kin=  0.2381891346  E= -1.0761835278\n",
      "step= 150  E_pot= -2.1665969748  E_kin=  0.3021281083  E= -1.8644688665\n",
      "step= 200  E_pot= -2.4090495110  E_kin=  0.2899400441  E= -2.1191094669\n",
      "step= 250  E_pot= -2.4659602081  E_kin=  0.2757451679  E= -2.1902150402\n",
      "step= 300  E_pot= -2.4903724338  E_kin=  0.2758456606  E= -2.2145267732\n",
      "step= 350  E_pot= -2.5042039629  E_kin=  0.2788830080  E= -2.2253209549\n",
      "step= 400  E_pot= -2.5126020040  E_kin=  0.2815197062  E= -2.2310822978\n",
      "step= 450  E_pot= -2.5178944085  E_kin=  0.2836979877  E= -2.2341964209\n",
      "step= 500  E_pot= -2.5212454606  E_kin=  0.2853226967  E= -2.2359227639\n",
      "step= 550  E_pot= -2.5233844276  E_kin=  0.2864870865  E= -2.2368973411\n",
      "step= 600  E_pot= -2.5247668591  E_kin=  0.2873121739  E= -2.2374546852\n",
      "step= 650  E_pot= -2.5256727220  E_kin=  0.2878958770  E= -2.2377768449\n",
      "step= 700  E_pot= -2.5262744039  E_kin=  0.2883096170  E= -2.2379647869\n",
      "step= 750  E_pot= -2.5266792393  E_kin=  0.2886039316  E= -2.2380753077\n",
      "step= 800  E_pot= -2.5269549628  E_kin=  0.2888142051  E= -2.2381407577\n",
      "step= 850  E_pot= -2.5271448972  E_kin=  0.2889651335  E= -2.2381797638\n",
      "step= 900  E_pot= -2.5272771152  E_kin=  0.2890739653  E= -2.2382031498\n",
      "step= 950  E_pot= -2.5273700403  E_kin=  0.2891527862  E= -2.2382172541\n",
      "step=1000  E_pot= -2.5274359154  E_kin=  0.2892101032  E= -2.2382258122\n",
      "step=1050  E_pot= -2.5274829748  E_kin=  0.2892519361  E= -2.2382310387\n",
      "step=1100  E_pot= -2.5275168218  E_kin=  0.2892825689  E= -2.2382342529\n",
      "step=1150  E_pot= -2.5275413111  E_kin=  0.2893050662  E= -2.2382362448\n",
      "step=1200  E_pot= -2.5275591219  E_kin=  0.2893216321  E= -2.2382374898\n",
      "step=1250  E_pot= -2.5275721339  E_kin=  0.2893338587  E= -2.2382382752\n",
      "step=1300  E_pot= -2.5275816771  E_kin=  0.2893429014  E= -2.2382387757\n",
      "step=1350  E_pot= -2.5275886999  E_kin=  0.2893496017  E= -2.2382390982\n",
      "step=1400  E_pot= -2.5275938829  E_kin=  0.2893545744  E= -2.2382393085\n",
      "step=1450  E_pot= -2.5275977177  E_kin=  0.2893582706  E= -2.2382394472\n",
      "step=1500  E_pot= -2.5276005612  E_kin=  0.2893610214  E= -2.2382395398\n",
      "step=1550  E_pot= -2.5276026736  E_kin=  0.2893630711  E= -2.2382396025\n",
      "step=1600  E_pot= -2.5276042453  E_kin=  0.2893645999  E= -2.2382396454\n",
      "step=1650  E_pot= -2.5276054164  E_kin=  0.2893657414  E= -2.2382396751\n",
      "step=1700  E_pot= -2.5276062901  E_kin=  0.2893665943  E= -2.2382396958\n",
      "step=1750  E_pot= -2.5276069426  E_kin=  0.2893672321  E= -2.2382397105\n",
      "step=1800  E_pot= -2.5276074303  E_kin=  0.2893677093  E= -2.2382397210\n",
      "step=1850  E_pot= -2.5276077952  E_kin=  0.2893680666  E= -2.2382397285\n",
      "step=1900  E_pot= -2.5276080683  E_kin=  0.2893683343  E= -2.2382397340\n",
      "step=1950  E_pot= -2.5276082729  E_kin=  0.2893685349  E= -2.2382397380\n",
      "step=2000  E_pot= -2.5276084262  E_kin=  0.2893686853  E= -2.2382397409\n",
      "268.347360 seconds (986.33 M allocations: 179.039 GB, 7.51% gc time)\n"
     ]
    }
   ],
   "source": [
    "m = MCTDHF1D(2, 10, 512, -15, 15, potential1=V1, potential2=V2, spins=[1,-1,1,-1,1,-1,1,-1,1,-1]);\n",
    "psi=wave_function(m);\n",
    "@time groundstate!(psi, 0.01, 2000, output_step=50)"
   ]
  },
  {
   "cell_type": "code",
   "execution_count": 103,
   "metadata": {
    "collapsed": false
   },
   "outputs": [
    {
     "name": "stdout",
     "output_type": "stream",
     "text": [
      "step=  50  E_pot= -0.6243777207  E_kin=  0.3446052444  E= -0.2797724763\n",
      "step= 100  E_pot= -1.3189828532  E_kin=  0.3156214304  E= -1.0033614228\n",
      "step= 150  E_pot= -1.9724199918  E_kin=  0.3266313570  E= -1.6457886348\n",
      "step= 200  E_pot= -2.2345506731  E_kin=  0.3008959531  E= -1.9336547200\n",
      "step= 250  E_pot= -2.3514049634  E_kin=  0.2826381313  E= -2.0687668320\n",
      "step= 300  E_pot= -2.4182574458  E_kin=  0.2770123796  E= -2.1412450662\n",
      "step= 350  E_pot= -2.4584101710  E_kin=  0.2762554679  E= -2.1821547031\n",
      "step= 400  E_pot= -2.4835353973  E_kin=  0.2773299215  E= -2.2062054758\n",
      "step= 450  E_pot= -2.4995342188  E_kin=  0.2796695587  E= -2.2198646601\n",
      "step= 500  E_pot= -2.5098073185  E_kin=  0.2823448036  E= -2.2274625149\n",
      "step= 550  E_pot= -2.5163426393  E_kin=  0.2845029087  E= -2.2318397305\n",
      "step= 600  E_pot= -2.5204395539  E_kin=  0.2860277106  E= -2.2344118433\n",
      "step= 650  E_pot= -2.5229965289  E_kin=  0.2870593173  E= -2.2359372116\n",
      "step= 700  E_pot= -2.5246001823  E_kin=  0.2877516053  E= -2.2368485770\n",
      "step= 750  E_pot= -2.5256156850  E_kin=  0.2882191584  E= -2.2373965266\n",
      "step= 800  E_pot= -2.5262663994  E_kin=  0.2885387546  E= -2.2377276448\n",
      "step= 850  E_pot= -2.5266888104  E_kin=  0.2887602613  E= -2.2379285491\n",
      "step= 900  E_pot= -2.5269668070  E_kin=  0.2889159471  E= -2.2380508599\n",
      "step= 950  E_pot= -2.5271523884  E_kin=  0.2890268428  E= -2.2381255456\n",
      "step=1000  E_pot= -2.5272780946  E_kin=  0.2891068160  E= -2.2381712786\n",
      "step=1050  E_pot= -2.5273644964  E_kin=  0.2891651353  E= -2.2381993611\n",
      "step=1100  E_pot= -2.5274247409  E_kin=  0.2892080849  E= -2.2382166560\n",
      "step=1150  E_pot= -2.5274673291  E_kin=  0.2892399879  E= -2.2382273412\n",
      "step=1200  E_pot= -2.5274978270  E_kin=  0.2892638607  E= -2.2382339663\n",
      "step=1250  E_pot= -2.5275199277  E_kin=  0.2892818369  E= -2.2382380907\n",
      "step=1300  E_pot= -2.5275361154  E_kin=  0.2892954450  E= -2.2382406704\n",
      "step=1350  E_pot= -2.5275480851  E_kin=  0.2893057926  E= -2.2382422925\n",
      "step=1400  E_pot= -2.5275570097  E_kin=  0.2893136907  E= -2.2382433190\n",
      "step=1450  E_pot= -2.5275637117  E_kin=  0.2893197384  E= -2.2382439733\n",
      "step=1500  E_pot= -2.5275687758  E_kin=  0.2893243819  E= -2.2382443939\n",
      "step=1550  E_pot= -2.5275726224  E_kin=  0.2893279556  E= -2.2382446668\n",
      "step=1600  E_pot= -2.5275755574  E_kin=  0.2893307116  E= -2.2382448458\n",
      "step=1650  E_pot= -2.5275778054  E_kin=  0.2893328408  E= -2.2382449646\n",
      "step=1700  E_pot= -2.5275795329  E_kin=  0.2893344884  E= -2.2382450445\n",
      "step=1750  E_pot= -2.5275808642  E_kin=  0.2893357652  E= -2.2382450990\n",
      "step=1800  E_pot= -2.5275818926  E_kin=  0.2893367559  E= -2.2382451367\n",
      "step=1850  E_pot= -2.5275826888  E_kin=  0.2893375257  E= -2.2382451631\n",
      "step=1900  E_pot= -2.5275833064  E_kin=  0.2893381244  E= -2.2382451820\n",
      "step=1950  E_pot= -2.5275837863  E_kin=  0.2893385907  E= -2.2382451956\n",
      "step=2000  E_pot= -2.5275841597  E_kin=  0.2893389542  E= -2.2382452055\n",
      "472.462744 seconds (2.03 G allocations: 356.891 GB, 8.76% gc time)\n"
     ]
    }
   ],
   "source": [
    "m = MCTDHF1D(2, 12, 512, -15, 15, potential1=V1, potential2=V2, spins=[1,-1,1,-1,1,-1,1,-1,1,-1, 1, -1]);\n",
    "psi=wave_function(m);\n",
    "@time groundstate!(psi, 0.01, 2000, output_step=50)"
   ]
  },
  {
   "cell_type": "code",
   "execution_count": 104,
   "metadata": {
    "collapsed": false
   },
   "outputs": [
    {
     "name": "stdout",
     "output_type": "stream",
     "text": [
      "step=  50  E_pot= -0.5286774653  E_kin=  0.4436433743  E= -0.0850340910\n",
      "step= 100  E_pot= -1.3121665617  E_kin=  0.3489815102  E= -0.9631850515\n",
      "step= 150  E_pot= -2.1981766698  E_kin=  0.3603995200  E= -1.8377771498\n",
      "step= 200  E_pot= -2.4159650006  E_kin=  0.3033404943  E= -2.1126245063\n",
      "step= 250  E_pot= -2.4784563047  E_kin=  0.2932944568  E= -2.1851618479\n",
      "step= 300  E_pot= -2.5023327340  E_kin=  0.2894611525  E= -2.2128715815\n",
      "step= 350  E_pot= -2.5135369493  E_kin=  0.2888292513  E= -2.2247076979\n",
      "step= 400  E_pot= -2.5197493070  E_kin=  0.2898152169  E= -2.2299340900\n",
      "step= 450  E_pot= -2.5231764013  E_kin=  0.2893602870  E= -2.2338161143\n",
      "step= 500  E_pot= -2.5250351598  E_kin=  0.2893120355  E= -2.2357231243\n",
      "step= 550  E_pot= -2.5261176744  E_kin=  0.2893249677  E= -2.2367927067\n",
      "step= 600  E_pot= -2.5267579907  E_kin=  0.2893538549  E= -2.2374041358\n",
      "step= 650  E_pot= -2.5271432772  E_kin=  0.2893864973  E= -2.2377567798\n",
      "step= 700  E_pot= -2.5273801820  E_kin=  0.2894185839  E= -2.2379615981\n",
      "step= 750  E_pot= -2.5275291714  E_kin=  0.2894478819  E= -2.2380812895\n",
      "step= 800  E_pot= -2.5276249268  E_kin=  0.2894733071  E= -2.2381516197\n",
      "step= 850  E_pot= -2.5276877464  E_kin=  0.2894945947  E= -2.2381931516\n",
      "step= 900  E_pot= -2.5277297811  E_kin=  0.2895119896  E= -2.2382177915\n",
      "step= 950  E_pot= -2.5277584679  E_kin=  0.2895259921  E= -2.2382324758\n",
      "step=1000  E_pot= -2.5277784535  E_kin=  0.2895371864  E= -2.2382412671\n",
      "step=1050  E_pot= -2.5277926906  E_kin=  0.2895461355  E= -2.2382465551\n",
      "step=1100  E_pot= -2.5278030766  E_kin=  0.2895533250  E= -2.2382497516\n",
      "step=1150  E_pot= -2.5278108362  E_kin=  0.2895591427  E= -2.2382516936\n",
      "step=1200  E_pot= -2.5278167614  E_kin=  0.2895638818  E= -2.2382528795\n",
      "step=1250  E_pot= -2.5278213663  E_kin=  0.2895677587  E= -2.2382536076\n",
      "step=1300  E_pot= -2.5278249902  E_kin=  0.2895709331  E= -2.2382540571\n",
      "step=1350  E_pot= -2.5278278627  E_kin=  0.2895735265  E= -2.2382543361\n",
      "step=1400  E_pot= -2.5278301461  E_kin=  0.2895756357  E= -2.2382545103\n",
      "step=1450  E_pot= -2.5278319602  E_kin=  0.2895773405  E= -2.2382546197\n",
      "step=1500  E_pot= -2.5278333975  E_kin=  0.2895787088  E= -2.2382546887\n",
      "step=1550  E_pot= -2.5278345313  E_kin=  0.2895797988  E= -2.2382547325\n",
      "step=1600  E_pot= -2.5278354211  E_kin=  0.2895806607  E= -2.2382547604\n",
      "step=1650  E_pot= -2.5278361153  E_kin=  0.2895813371  E= -2.2382547781\n",
      "step=1700  E_pot= -2.5278366536  E_kin=  0.2895818642  E= -2.2382547895\n",
      "step=1750  E_pot= -2.5278370686  E_kin=  0.2895822719  E= -2.2382547967\n",
      "step=1800  E_pot= -2.5278373863  E_kin=  0.2895825851  E= -2.2382548012\n",
      "step=1850  E_pot= -2.5278376280  E_kin=  0.2895828239  E= -2.2382548040\n",
      "step=1900  E_pot= -2.5278378105  E_kin=  0.2895830048  E= -2.2382548058\n",
      "step=1950  E_pot= -2.5278379474  E_kin=  0.2895831407  E= -2.2382548068\n",
      "step=2000  E_pot= -2.5278380492  E_kin=  0.2895832419  E= -2.2382548073\n",
      "793.350609 seconds (3.74 G allocations: 643.147 GB, 9.29% gc time)\n"
     ]
    }
   ],
   "source": [
    "m = MCTDHF1D(2, 14, 512, -15, 15, potential1=V1, potential2=V2, spins=[1,-1,1,-1,1,-1,1,-1,1,-1, 1, -1, 1, -1]);\n",
    "psi=wave_function(m);\n",
    "@time groundstate!(psi, 0.01, 2000, output_step=50)"
   ]
  },
  {
   "cell_type": "code",
   "execution_count": 130,
   "metadata": {
    "collapsed": false
   },
   "outputs": [
    {
     "name": "stdout",
     "output_type": "stream",
     "text": [
      "step=  50  E_pot= -0.5380736657  E_kin=  0.5495463255  E=  0.0114726598\n",
      "step= 100  E_pot= -1.2507464167  E_kin=  0.4009069986  E= -0.8498394181\n",
      "step= 150  E_pot= -1.9660956462  E_kin=  0.3396581669  E= -1.6264374792\n",
      "step= 200  E_pot= -2.2752611582  E_kin=  0.3065033141  E= -1.9687578441\n",
      "step= 250  E_pot= -2.3919605518  E_kin=  0.2970748501  E= -2.0948857017\n",
      "step= 300  E_pot= -2.4458022749  E_kin=  0.2886092526  E= -2.1571930224\n",
      "step= 350  E_pot= -2.4763051357  E_kin=  0.2846042450  E= -2.1917008908\n",
      "step= 400  E_pot= -2.4952569339  E_kin=  0.2838894945  E= -2.2113674394\n",
      "step= 450  E_pot= -2.5071136785  E_kin=  0.2843794379  E= -2.2227342407\n",
      "step= 500  E_pot= -2.5146700462  E_kin=  0.2854974893  E= -2.2291725569\n",
      "step= 550  E_pot= -2.5194901990  E_kin=  0.2866541361  E= -2.2328360629\n",
      "step= 600  E_pot= -2.5225432932  E_kin=  0.2875519719  E= -2.2349913213\n",
      "step= 650  E_pot= -2.5244635133  E_kin=  0.2881835804  E= -2.2362799329\n",
      "step= 700  E_pot= -2.5256685931  E_kin=  0.2886129568  E= -2.2370556363\n",
      "step= 750  E_pot= -2.5264277679  E_kin=  0.2889032373  E= -2.2375245306\n",
      "step= 800  E_pot= -2.5269097875  E_kin=  0.2891008850  E= -2.2378089025\n",
      "step= 850  E_pot= -2.5272188875  E_kin=  0.2892370133  E= -2.2379818742\n",
      "step= 900  E_pot= -2.5274192798  E_kin=  0.2893319030  E= -2.2380873768\n",
      "step= 950  E_pot= -2.5275506871  E_kin=  0.2893987877  E= -2.2381518994\n",
      "step=1000  E_pot= -2.5276378688  E_kin=  0.2894464053  E= -2.2381914635\n",
      "step=1050  E_pot= -2.5276963975  E_kin=  0.2894806104  E= -2.2382157870\n",
      "step=1100  E_pot= -2.5277361616  E_kin=  0.2895053814  E= -2.2382307802\n",
      "step=1150  E_pot= -2.5277635020  E_kin=  0.2895234552  E= -2.2382400468\n",
      "step=1200  E_pot= -2.5277825254  E_kin=  0.2895367356  E= -2.2382457898\n",
      "step=1250  E_pot= -2.5277959180  E_kin=  0.2895465588  E= -2.2382493592\n",
      "step=1300  E_pot= -2.5278054553  E_kin=  0.2895538708  E= -2.2382515844\n",
      "step=1350  E_pot= -2.5278123227  E_kin=  0.2895593465  E= -2.2382529762\n",
      "step=1400  E_pot= -2.5278173204  E_kin=  0.2895634707  E= -2.2382538497\n",
      "step=1450  E_pot= -2.5278209941  E_kin=  0.2895665940  E= -2.2382544001\n",
      "step=1500  E_pot= -2.5278237202  E_kin=  0.2895689718  E= -2.2382547484\n",
      "step=1550  E_pot= -2.5278257610  E_kin=  0.2895707910  E= -2.2382549700\n",
      "step=1600  E_pot= -2.5278273011  E_kin=  0.2895721895  E= -2.2382551117\n",
      "step=1650  E_pot= -2.5278284722  E_kin=  0.2895732693  E= -2.2382552029\n",
      "step=1700  E_pot= -2.5278293688  E_kin=  0.2895741067  E= -2.2382552621\n",
      "step=1750  E_pot= -2.5278300596  E_kin=  0.2895747587  E= -2.2382553009\n",
      "step=1800  E_pot= -2.5278305948  E_kin=  0.2895752683  E= -2.2382553265\n",
      "step=1850  E_pot= -2.5278310117  E_kin=  0.2895756681  E= -2.2382553436\n",
      "step=1900  E_pot= -2.5278313379  E_kin=  0.2895759827  E= -2.2382553552\n",
      "step=1950  E_pot= -2.5278315942  E_kin=  0.2895762311  E= -2.2382553632\n",
      "step=2000  E_pot= -2.5278317965  E_kin=  0.2895764278  E= -2.2382553687\n",
      "1409.019523 seconds (6.35 G allocations: 1.050 TB, 8.34% gc time)\n"
     ]
    }
   ],
   "source": [
    "m = MCTDHF1D(2, 16, 512, -15, 15, potential1=V1, potential2=V2, spins=[1,-1,1,-1,1,-1,1,-1,1,-1, 1, -1, 1, -1,1,-1]);\n",
    "psi=wave_function(m);\n",
    "@time groundstate!(psi, 0.01, 2000, output_step=50)"
   ]
  },
  {
   "cell_type": "code",
   "execution_count": 131,
   "metadata": {
    "collapsed": false
   },
   "outputs": [
    {
     "data": {
      "text/plain": [
       "(-2.5279785032920232,0.2897206791836656,2.2382578241083344)"
      ]
     },
     "execution_count": 131,
     "metadata": {},
     "output_type": "execute_result"
    }
   ],
   "source": [
    "-2.5279785032920232, 0.2897206791836656, 2.2382578241083344"
   ]
  },
  {
   "cell_type": "code",
   "execution_count": 132,
   "metadata": {
    "collapsed": true
   },
   "outputs": [],
   "source": [
    "m2 = Schroedinger2Electrons(512, -15, 15, potential=V);\n",
    "psi2 = wave_function(m2);"
   ]
  },
  {
   "cell_type": "code",
   "execution_count": 133,
   "metadata": {
    "collapsed": false
   },
   "outputs": [
    {
     "data": {
      "text/plain": [
       "(0.9999999938756879,1.1378192601080526e-5,6.804372779874549e-5,8.653990613085604e-5)"
      ]
     },
     "execution_count": 133,
     "metadata": {},
     "output_type": "execute_result"
    }
   ],
   "source": [
    "convert_to_full!(psi2, psi);\n",
    "TSSM.norm(psi2.singlet),  TSSM.norm(psi2.triplet_down),  TSSM.norm(psi2.triplet_symm),  TSSM.norm(psi2.triplet_up),  "
   ]
  },
  {
   "cell_type": "code",
   "execution_count": 134,
   "metadata": {
    "collapsed": false
   },
   "outputs": [
    {
     "data": {
      "image/png": "[encoded data removed]",
      "text/plain": [
       "PyPlot.Figure(PyObject <matplotlib.figure.Figure object at 0x7fcd594aac90>)"
      ]
     },
     "metadata": {},
     "output_type": "display_data"
    },
    {
     "data": {
      "text/plain": [
       "PyObject <matplotlib.contour.QuadContourSet object at 0x7fcd59417650>"
      ]
     },
     "execution_count": 134,
     "metadata": {},
     "output_type": "execute_result"
    }
   ],
   "source": [
    "using PyPlot\n",
    "contourf(abs(get_data(psi2.singlet)).^2)"
   ]
  },
  {
   "cell_type": "code",
   "execution_count": 135,
   "metadata": {
    "collapsed": false
   },
   "outputs": [
    {
     "data": {
      "text/plain": [
       "0.0"
      ]
     },
     "execution_count": 135,
     "metadata": {},
     "output_type": "execute_result"
    }
   ],
   "source": [
    "gen_density_matrix(psi)\n",
    "maximum(abs(m.density_matrix-density_matrix_from_full_coeffs(psi)))"
   ]
  },
  {
   "cell_type": "code",
   "execution_count": 136,
   "metadata": {
    "collapsed": false
   },
   "outputs": [
    {
     "data": {
      "text/plain": [
       "0.0"
      ]
     },
     "execution_count": 136,
     "metadata": {},
     "output_type": "execute_result"
    }
   ],
   "source": [
    "gen_density2_tensor(psi, mult_inverse_density_matrix=false)\n",
    "maximum(abs(m.density2_tensor-density2_tensor_from_full_coeffs(psi)))"
   ]
  },
  {
   "cell_type": "code",
   "execution_count": 137,
   "metadata": {
    "collapsed": false
   },
   "outputs": [
    {
     "data": {
      "text/plain": [
       "1.0"
      ]
     },
     "execution_count": 137,
     "metadata": {},
     "output_type": "execute_result"
    }
   ],
   "source": [
    "norm(psi)"
   ]
  },
  {
   "cell_type": "code",
   "execution_count": 138,
   "metadata": {
    "collapsed": false
   },
   "outputs": [
    {
     "data": {
      "text/plain": [
       "0.9999999999999717"
      ]
     },
     "execution_count": 138,
     "metadata": {},
     "output_type": "execute_result"
    }
   ],
   "source": [
    "TSSM.norm(psi2)"
   ]
  },
  {
   "cell_type": "code",
   "execution_count": 139,
   "metadata": {
    "collapsed": false
   },
   "outputs": [
    {
     "data": {
      "text/plain": [
       "-2.527831796536688"
      ]
     },
     "execution_count": 139,
     "metadata": {},
     "output_type": "execute_result"
    }
   ],
   "source": [
    "potential_energy(psi)"
   ]
  },
  {
   "cell_type": "code",
   "execution_count": 140,
   "metadata": {
    "collapsed": false
   },
   "outputs": [
    {
     "data": {
      "text/plain": [
       "-2.5278317965366"
      ]
     },
     "execution_count": 140,
     "metadata": {},
     "output_type": "execute_result"
    }
   ],
   "source": [
    "potential_energy(psi2)"
   ]
  },
  {
   "cell_type": "code",
   "execution_count": 141,
   "metadata": {
    "collapsed": true
   },
   "outputs": [],
   "source": [
    "rhs=wave_function(m);"
   ]
  },
  {
   "cell_type": "code",
   "execution_count": 142,
   "metadata": {
    "collapsed": false
   },
   "outputs": [
    {
     "data": {
      "text/plain": [
       "-2.5278317965366885 + 1.3877787807814457e-17im"
      ]
     },
     "execution_count": 142,
     "metadata": {},
     "output_type": "execute_result"
    }
   ],
   "source": [
    "set_zero!(rhs)\n",
    "gen_rhs1!(rhs, psi)\n",
    "gen_rhs2!(rhs, psi)\n",
    "dot(psi.a, rhs.a)"
   ]
  },
  {
   "cell_type": "code",
   "execution_count": 143,
   "metadata": {
    "collapsed": false
   },
   "outputs": [
    {
     "data": {
      "text/plain": [
       "0.2895764278096526"
      ]
     },
     "execution_count": 143,
     "metadata": {},
     "output_type": "execute_result"
    }
   ],
   "source": [
    "kinetic_energy(psi)"
   ]
  },
  {
   "cell_type": "code",
   "execution_count": 144,
   "metadata": {
    "collapsed": false
   },
   "outputs": [
    {
     "data": {
      "text/plain": [
       "0.2895764278096506"
      ]
     },
     "execution_count": 144,
     "metadata": {},
     "output_type": "execute_result"
    }
   ],
   "source": [
    "kinetic_energy(psi2)"
   ]
  },
  {
   "cell_type": "code",
   "execution_count": null,
   "metadata": {
    "collapsed": true
   },
   "outputs": [],
   "source": []
  }
 ],
 "metadata": {
  "anaconda-cloud": {},
  "kernelspec": {
   "display_name": "Julia 0.4.5",
   "language": "julia",
   "name": "julia-0.4"
  },
  "language_info": {
   "file_extension": ".jl",
   "mimetype": "application/julia",
   "name": "julia",
   "version": "0.4.5"
  }
 },
 "nbformat": 4,
 "nbformat_minor": 1
}
