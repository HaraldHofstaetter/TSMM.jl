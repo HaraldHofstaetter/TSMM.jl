{
 "cells": [
  {
   "cell_type": "code",
   "execution_count": 1,
   "metadata": {
    "collapsed": false
   },
   "outputs": [
    {
     "name": "stderr",
     "output_type": "stream",
     "text": [
      "INFO: Recompiling stale cache file /home/juser/.julia/lib/v0.4/TSSM.ji for module TSSM.\n"
     ]
    },
    {
     "name": "stdout",
     "output_type": "stream",
     "text": [
      "including tssm_fourier.jl for type Float64\n",
      "    Fourier1D\n",
      "    Fourier2D\n",
      "    Fourier3D\n",
      "    FourierReal1D\n",
      "    FourierReal2D\n",
      "    FourierReal3D\n",
      "including tssm_fourier_bessel.jl for type Float64\n",
      "    FourierBessel2D\n",
      "    FourierBesselReal2D\n",
      "    BesselRotSym1D\n",
      "    BesselRotSymReal1D\n",
      "including tssm_schroedinger.jl for type Float64\n",
      "    Schroedinger1D\n",
      "    Schroedinger2D\n",
      "    Schroedinger3D\n",
      "    SchroedingerReal1D\n",
      "    SchroedingerReal2D\n",
      "    SchroedingerReal3D\n",
      "including tssm_schroedinger_rotating.jl for type Float64\n",
      "    SchroedingerRotating2D\n",
      "    SchroedingerRotating3D\n",
      "including tssm_schroedinger_hermite.jl for type Float64\n",
      "    SchroedingerHermite1D\n",
      "    SchroedingerHermite2D\n",
      "    SchroedingerHermite3D\n",
      "    SchroedingerHermiteReal1D\n",
      "    SchroedingerHermiteReal2D\n",
      "    SchroedingerHermiteReal3D\n",
      "including tssm_schroedinger_generalized_laguerre.jl for type Float64\n",
      "    SchroedingerGeneralizedLaguerre2D\n",
      "    SchroedingerGeneralizedLaguerreHermite3D\n",
      "    SchroedingerGeneralizedLaguerreReal2D\n",
      "    SchroedingerGeneralizedLaguerreHermiteReal3D\n",
      "including tssm_common.jl for type Float64\n",
      "    Fourier1D\n",
      "    Fourier2D\n",
      "    Fourier3D\n",
      "    FourierReal1D\n",
      "    FourierReal2D\n",
      "    FourierReal3D\n",
      "    FourierBessel2D\n",
      "    FourierBesselReal2D\n",
      "    BesselRotSym1D\n",
      "    BesselRotSymReal1D\n",
      "    Schroedinger1D\n",
      "    Schroedinger2D\n",
      "    Schroedinger3D\n",
      "    SchroedingerReal1D\n",
      "    SchroedingerReal2D\n",
      "    SchroedingerReal3D\n",
      "    SchroedingerRotating2D\n",
      "    SchroedingerRotating3D\n",
      "    SchroedingerHermite1D\n",
      "    SchroedingerHermite2D\n",
      "    SchroedingerHermite3D\n",
      "    SchroedingerHermiteReal1D\n",
      "    SchroedingerHermiteReal2D\n",
      "    SchroedingerHermiteReal3D\n",
      "    SchroedingerGeneralizedLaguerre2D\n",
      "    SchroedingerGeneralizedLaguerreHermite3D\n",
      "    SchroedingerGeneralizedLaguerreReal2D\n",
      "    SchroedingerGeneralizedLaguerreHermiteReal3D\n",
      "including tssm_schroedinger.jl for type Float64\n",
      "    Schroedinger1D\n",
      "    Schroedinger2D\n",
      "    Schroedinger3D\n",
      "    SchroedingerReal1D\n",
      "    SchroedingerReal2D\n",
      "    SchroedingerReal3D\n",
      "    SchroedingerRotating2D\n",
      "    SchroedingerRotating3D\n",
      "    SchroedingerHermite1D\n",
      "    SchroedingerHermite2D\n",
      "    SchroedingerHermite3D\n",
      "    SchroedingerHermiteReal1D\n",
      "    SchroedingerHermiteReal2D\n",
      "    SchroedingerHermiteReal3D\n",
      "    SchroedingerGeneralizedLaguerre2D\n",
      "    SchroedingerGeneralizedLaguerreHermite3D\n",
      "    SchroedingerGeneralizedLaguerreReal2D\n",
      "    SchroedingerGeneralizedLaguerreHermiteReal3D\n",
      " *** OPENMP n_threads =           8\n"
     ]
    },
    {
     "data": {
      "text/plain": [
       "local_orders (generic function with 5 methods)"
      ]
     },
     "execution_count": 1,
     "metadata": {},
     "output_type": "execute_result"
    }
   ],
   "source": [
    "using TSSM\n",
    "include(\"time_stepper.jl\")"
   ]
  },
  {
   "cell_type": "code",
   "execution_count": 2,
   "metadata": {
    "collapsed": false
   },
   "outputs": [
    {
     "data": {
      "text/plain": [
       "propagate_B! (generic function with 12 methods)"
      ]
     },
     "execution_count": 2,
     "metadata": {},
     "output_type": "execute_result"
    }
   ],
   "source": [
    "function TSSM.propagate_B!(psi::WfFourierReal1D, dt::Number)\n",
    "    to_real_space!(psi)\n",
    "    u = get_data(psi, true)\n",
    "    u[:] = u./(u + exp(-dt)*(1-u))\n",
    "end"
   ]
  },
  {
   "cell_type": "markdown",
   "metadata": {},
   "source": [
    "## Dirichlet boundary conditions"
   ]
  },
  {
   "cell_type": "code",
   "execution_count": 34,
   "metadata": {
    "collapsed": false
   },
   "outputs": [
    {
     "data": {
      "text/plain": [
       "TSSM.WfFourierReal1D{Float64}(Ptr{Void} @0x0000000003ff6560,TSSM.FourierReal1D{Float64}(Ptr{Void} @0x0000000004006f90))"
      ]
     },
     "execution_count": 34,
     "metadata": {},
     "output_type": "execute_result"
    }
   ],
   "source": [
    "m = FourierReal1D(Float64,8192,0,1,boundary_conditions=dirichlet)\n",
    "psi = wave_function(m)"
   ]
  },
  {
   "cell_type": "markdown",
   "metadata": {},
   "source": [
    "### Consistent initial condition\n",
    "#### Lie/Trotter"
   ]
  },
  {
   "cell_type": "code",
   "execution_count": 35,
   "metadata": {
    "collapsed": false
   },
   "outputs": [
    {
     "name": "stdout",
     "output_type": "stream",
     "text": [
      "             dt         err      p\n",
      "-----------------------------------\n",
      "  1   1.000e+00   4.524e-07\n",
      "  2   5.000e-01   6.521e-05  -7.17\n",
      "  3   2.500e-01   1.038e-03  -3.99\n",
      "  4   1.250e-01   4.477e-03  -2.11\n",
      "  5   6.250e-02   8.725e-03  -0.96\n",
      "  6   3.125e-02   8.591e-03   0.02\n",
      "  7   1.563e-02   4.932e-03   0.80\n",
      "  8   7.813e-03   2.045e-03   1.27\n",
      "  9   3.906e-03   7.010e-04   1.54\n",
      " 10   1.953e-03   2.135e-04   1.72\n",
      " 11   9.766e-04   6.031e-05   1.82\n",
      " 12   4.883e-04   1.626e-05   1.89\n",
      " 13   2.441e-04   4.263e-06   1.93\n",
      " 14   1.221e-04   1.098e-06   1.96\n",
      " 15   6.104e-05   2.800e-07   1.97\n"
     ]
    }
   ],
   "source": [
    "f(x) = sin(2*pi*x)*exp(x)\n",
    "set!(psi, f)\n",
    "local_orders(psi, 0, 1, scheme=(1,1), operator_sequence=\"AB\", rows=15, reference_steps=8);"
   ]
  },
  {
   "cell_type": "code",
   "execution_count": 36,
   "metadata": {
    "collapsed": false
   },
   "outputs": [],
   "source": [
    "set!(psi, f)\n",
    "psi_ref = wave_function(m)\n",
    "set!(psi_ref,f)\n",
    "t0 = 0\n",
    "tend = 1\n",
    "for t in equidistant_time_stepper(psi_ref, t0, tend, 0.5^16, (0.5,1,0.5), \"AB\")\n",
    "end"
   ]
  },
  {
   "cell_type": "code",
   "execution_count": 38,
   "metadata": {
    "collapsed": false
   },
   "outputs": [
    {
     "name": "stdout",
     "output_type": "stream",
     "text": [
      "             dt         err      p\n",
      "-----------------------------------\n",
      "  1   1.000e+00   3.971e-06\n",
      "  2   5.000e-01   3.935e-06   0.01\n",
      "  3   2.500e-01   3.764e-06   0.06\n",
      "  4   1.250e-01   3.518e-06   0.10\n",
      "  5   6.250e-02   3.155e-06   0.16\n",
      "  6   3.125e-02   2.358e-06   0.42\n",
      "  7   1.563e-02   1.456e-06   0.70\n",
      "  8   7.813e-03   8.061e-07   0.85\n",
      "  9   3.906e-03   4.234e-07   0.93\n",
      " 10   1.953e-03   2.168e-07   0.97\n",
      " 11   9.766e-04   1.097e-07   0.98\n",
      " 12   4.883e-04   5.518e-08   0.99\n",
      " 13   2.441e-04   2.767e-08   1.00\n",
      " 14   1.221e-04   1.386e-08   1.00\n",
      " 15   6.104e-05   6.933e-09   1.00\n"
     ]
    }
   ],
   "source": [
    "global_orders(psi, psi_ref, t0, tend, tend-t0, scheme=(1,1), rows=15);"
   ]
  },
  {
   "cell_type": "markdown",
   "metadata": {},
   "source": [
    "#### Strang"
   ]
  },
  {
   "cell_type": "code",
   "execution_count": 39,
   "metadata": {
    "collapsed": false
   },
   "outputs": [
    {
     "name": "stdout",
     "output_type": "stream",
     "text": [
      "             dt         err      p\n",
      "-----------------------------------\n",
      "  1   1.000e+00   1.119e-06\n",
      "  2   5.000e-01   1.700e-04  -7.25\n",
      "  3   2.500e-01   2.073e-03  -3.61\n",
      "  4   1.250e-01   5.975e-03  -1.53\n",
      "  5   6.250e-02   5.735e-03   0.06\n",
      "  6   3.125e-02   2.355e-03   1.28\n",
      "  7   1.563e-02   6.008e-04   1.97\n",
      "  8   7.813e-03   1.441e-04   2.06\n",
      "  9   3.906e-03   3.619e-05   1.99\n",
      " 10   1.953e-03   8.697e-06   2.06\n",
      " 11   9.766e-04   1.984e-06   2.13\n",
      " 12   4.883e-04   4.382e-07   2.18\n",
      " 13   2.441e-04   9.499e-08   2.21\n",
      " 14   1.221e-04   2.036e-08   2.22\n",
      " 15   6.104e-05   4.336e-09   2.23\n",
      " 16   3.052e-05   9.194e-10   2.24\n",
      " 17   1.526e-05   1.944e-10   2.24\n",
      " 18   7.629e-06   4.103e-11   2.24\n",
      " 19   3.815e-06   8.649e-12   2.25\n",
      " 20   1.907e-06   1.822e-12   2.25\n"
     ]
    }
   ],
   "source": [
    "set!(psi, f)\n",
    "local_orders(psi, 0, 1, scheme=(0.5,1,0.5), operator_sequence=\"AB\", rows=20, reference_steps=8);"
   ]
  },
  {
   "cell_type": "code",
   "execution_count": 40,
   "metadata": {
    "collapsed": false
   },
   "outputs": [
    {
     "name": "stdout",
     "output_type": "stream",
     "text": [
      "             dt         err      p\n",
      "-----------------------------------\n",
      "  1   1.000e+00   3.877e-06\n",
      "  2   5.000e-01   3.540e-06   0.13\n",
      "  3   2.500e-01   3.235e-06   0.13\n",
      "  4   1.250e-01   2.758e-06   0.23\n",
      "  5   6.250e-02   1.517e-06   0.86\n",
      "  6   3.125e-02   5.238e-07   1.53\n",
      "  7   1.563e-02   1.442e-07   1.86\n",
      "  8   7.813e-03   3.690e-08   1.97\n",
      "  9   3.906e-03   9.267e-09   1.99\n",
      " 10   1.953e-03   2.319e-09   2.00\n",
      " 11   9.766e-04   5.796e-10   2.00\n",
      " 12   4.883e-04   1.448e-10   2.00\n",
      " 13   2.441e-04   3.609e-11   2.00\n",
      " 14   1.221e-04   8.917e-12   2.02\n",
      " 15   6.104e-05   2.123e-12   2.07\n"
     ]
    }
   ],
   "source": [
    "set!(psi, f)\n",
    "global_orders(psi, psi_ref, t0, tend, tend-t0, scheme=(0.5,1,0.5), rows=15);"
   ]
  },
  {
   "cell_type": "markdown",
   "metadata": {},
   "source": [
    "### Inonsistent initial condition\n",
    "#### Lie/Trotter"
   ]
  },
  {
   "cell_type": "code",
   "execution_count": 28,
   "metadata": {
    "collapsed": false
   },
   "outputs": [
    {
     "name": "stdout",
     "output_type": "stream",
     "text": [
      "             dt         err      p\n",
      "-----------------------------------\n",
      "  1   1.000e+00   2.366e-06\n",
      "  2   5.000e-01   2.682e-04  -6.82\n",
      "  3   2.500e-01   2.099e-03  -2.97\n",
      "  4   1.250e-01   3.906e-03  -0.90\n",
      "  5   6.250e-02   4.397e-03  -0.17\n",
      "  6   3.125e-02   4.457e-03  -0.02\n",
      "  7   1.563e-02   3.575e-03   0.32\n",
      "  8   7.813e-03   2.018e-03   0.82\n",
      "  9   3.906e-03   8.813e-04   1.20\n",
      " 10   1.953e-03   3.594e-04   1.29\n",
      " 11   9.766e-04   1.546e-04   1.22\n",
      " 12   4.883e-04   6.894e-05   1.17\n",
      " 13   2.441e-04   3.058e-05   1.17\n",
      " 14   1.221e-04   1.336e-05   1.20\n",
      " 15   6.104e-05   5.757e-06   1.21\n",
      " 16   3.052e-05   2.459e-06   1.23\n",
      " 17   1.526e-05   1.044e-06   1.24\n",
      " 18   7.629e-06   4.420e-07   1.24\n",
      " 19   3.815e-06   1.866e-07   1.24\n",
      " 20   1.907e-06   7.868e-08   1.25\n"
     ]
    }
   ],
   "source": [
    "f(x) = cos(2*pi*x)*exp(x)\n",
    "set!(psi, f)\n",
    "local_orders(psi, 0, 1, scheme=(1,1), operator_sequence=\"AB\", rows=20, reference_steps=8);"
   ]
  },
  {
   "cell_type": "code",
   "execution_count": 29,
   "metadata": {
    "collapsed": true
   },
   "outputs": [],
   "source": [
    "set!(psi, f)\n",
    "psi_ref = wave_function(m)\n",
    "set!(psi_ref,f)\n",
    "t0 = 0\n",
    "tend = 1\n",
    "for t in equidistant_time_stepper(psi_ref, t0, tend, 0.5^16, (0.5,1,0.5), \"AB\")\n",
    "end"
   ]
  },
  {
   "cell_type": "code",
   "execution_count": 30,
   "metadata": {
    "collapsed": false
   },
   "outputs": [
    {
     "name": "stdout",
     "output_type": "stream",
     "text": [
      "             dt         err      p\n",
      "-----------------------------------\n",
      "  1   1.000e+00   5.907e-06\n",
      "  2   5.000e-01   5.724e-06   0.05\n",
      "  3   2.500e-01   4.825e-06   0.25\n",
      "  4   1.250e-01   3.541e-06   0.45\n",
      "  5   6.250e-02   2.504e-06   0.50\n",
      "  6   3.125e-02   1.775e-06   0.50\n",
      "  7   1.563e-02   1.172e-06   0.60\n",
      "  8   7.813e-03   6.864e-07   0.77\n",
      "  9   3.906e-03   3.714e-07   0.89\n",
      " 10   1.953e-03   1.931e-07   0.94\n",
      " 11   9.766e-04   9.840e-08   0.97\n",
      " 12   4.883e-04   4.967e-08   0.99\n",
      " 13   2.441e-04   2.495e-08   0.99\n",
      " 14   1.221e-04   1.250e-08   1.00\n",
      " 15   6.104e-05   6.260e-09   1.00\n"
     ]
    }
   ],
   "source": [
    "global_orders(psi, psi_ref, t0, tend, tend-t0, scheme=(1,1), rows=15);"
   ]
  },
  {
   "cell_type": "markdown",
   "metadata": {},
   "source": [
    "####Strang"
   ]
  },
  {
   "cell_type": "code",
   "execution_count": 32,
   "metadata": {
    "collapsed": false
   },
   "outputs": [
    {
     "name": "stdout",
     "output_type": "stream",
     "text": [
      "             dt         err      p\n",
      "-----------------------------------\n",
      "  1   1.000e+00   4.057e-06\n",
      "  2   5.000e-01   2.190e-04  -5.75\n",
      "  3   2.500e-01   1.055e-03  -2.27\n",
      "  4   1.250e-01   2.445e-03  -1.21\n",
      "  5   6.250e-02   3.457e-03  -0.50\n",
      "  6   3.125e-02   2.536e-03   0.45\n",
      "  7   1.563e-02   1.010e-03   1.33\n",
      "  8   7.813e-03   2.991e-04   1.76\n",
      "  9   3.906e-03   8.152e-05   1.88\n",
      " 10   1.953e-03   2.627e-05   1.63\n",
      " 11   9.766e-04   1.159e-05   1.18\n",
      " 12   4.883e-04   5.489e-06   1.08\n",
      " 13   2.441e-04   2.515e-06   1.13\n",
      " 14   1.221e-04   1.114e-06   1.17\n",
      " 15   6.104e-05   4.835e-07   1.20\n",
      " 16   3.052e-05   2.072e-07   1.22\n",
      " 17   1.526e-05   8.816e-08   1.23\n",
      " 18   7.629e-06   3.734e-08   1.24\n",
      " 19   3.815e-06   1.578e-08   1.24\n",
      " 20   1.907e-06   6.653e-09   1.25\n"
     ]
    }
   ],
   "source": [
    "set!(psi, f)\n",
    "local_orders(psi, 0, 1, scheme=(0.5,1,0.5), operator_sequence=\"AB\", rows=20, reference_steps=8);"
   ]
  },
  {
   "cell_type": "code",
   "execution_count": 33,
   "metadata": {
    "collapsed": false
   },
   "outputs": [
    {
     "name": "stdout",
     "output_type": "stream",
     "text": [
      "             dt         err      p\n",
      "-----------------------------------\n",
      "  1   1.000e+00   5.419e-06\n",
      "  2   5.000e-01   3.633e-06   0.58\n",
      "  3   2.500e-01   2.024e-06   0.84\n",
      "  4   1.250e-01   1.361e-06   0.57\n",
      "  5   6.250e-02   1.004e-06   0.44\n",
      "  6   3.125e-02   5.467e-07   0.88\n",
      "  7   1.563e-02   1.912e-07   1.52\n",
      "  8   7.813e-03   5.339e-08   1.84\n",
      "  9   3.906e-03   1.385e-08   1.95\n",
      " 10   1.953e-03   3.510e-09   1.98\n",
      " 11   9.766e-04   8.826e-10   1.99\n",
      " 12   4.883e-04   2.211e-10   2.00\n",
      " 13   2.441e-04   5.522e-11   2.00\n",
      " 14   1.221e-04   1.366e-11   2.02\n",
      " 15   6.104e-05   3.255e-12   2.07\n"
     ]
    }
   ],
   "source": [
    "set!(psi, f)\n",
    "global_orders(psi, psi_ref, t0, tend, tend-t0, scheme=(0.5,1,0.5), rows=15);"
   ]
  },
  {
   "cell_type": "code",
   "execution_count": null,
   "metadata": {
    "collapsed": true
   },
   "outputs": [],
   "source": []
  }
 ],
 "metadata": {
  "kernelspec": {
   "display_name": "Julia 0.4.5",
   "language": "julia",
   "name": "julia-0.4"
  },
  "language_info": {
   "file_extension": ".jl",
   "mimetype": "application/julia",
   "name": "julia",
   "version": "0.4.5"
  }
 },
 "nbformat": 4,
 "nbformat_minor": 0
}
