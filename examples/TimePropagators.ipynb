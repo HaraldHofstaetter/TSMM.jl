{
 "cells": [
  {
   "cell_type": "code",
   "execution_count": 1,
   "metadata": {
    "scrolled": true
   },
   "outputs": [
    {
     "name": "stdout",
     "output_type": "stream",
     "text": [
      " *** OPENMP n_threads =           8\n"
     ]
    },
    {
     "name": "stderr",
     "output_type": "stream",
     "text": [
      "WARNING: Base.Void is deprecated, use Nothing instead.\n",
      "  likely near /home/alex/.julia/dev/TSSM/examples/time_propagators.jl:643\n",
      "WARNING: Base.Void is deprecated, use Nothing instead.\n",
      "  likely near /home/alex/.julia/dev/TSSM/examples/time_propagators.jl:643\n",
      "WARNING: Base.Void is deprecated, use Nothing instead.\n",
      "  likely near /home/alex/.julia/dev/TSSM/examples/time_propagators.jl:1014\n"
     ]
    },
    {
     "data": {
      "text/plain": [
       "step! (generic function with 6 methods)"
      ]
     },
     "execution_count": 1,
     "metadata": {},
     "output_type": "execute_result"
    }
   ],
   "source": [
    "using TSSM\n",
    "include(\"time_propagators.jl\")"
   ]
  },
  {
   "cell_type": "markdown",
   "metadata": {},
   "source": [
    "# Test problem: nonlinear Schrödinger equation with time dependent potential\n",
    "\n",
    "The soliton\n",
    "$$\\psi_\\mathrm{ex}(x,t)=\\frac{a\\mathrm{e}^{\\frac{1}{2}\\mathrm{i}((a^2-b^2)t-bx)}}{\\cosh(a(bt+x-c))}$$ \n",
    "is the exact solution of the cubic nonlinear Schrödinger\n",
    "$$\\mathrm{i}\\frac{\\partial}{\\partial t}\\psi(x,t)=-\\frac{1}{2}\\Delta\\psi(x,t)+\\kappa|\\psi(x,t)|^2\\psi(x,t),\n",
    "\\quad \\psi(x,0) = \\psi_\\mathrm{ex}(x,0),$$\n",
    "where $\\kappa=-1$, and $a,b,c\\in\\mathbb{R}$ are arbitrarily chosen parameters. \n",
    "\n",
    "It follows that \n",
    "the exact solution of the *nonlinear* Schrödinger equation\n",
    "$$\\mathrm{i}\\frac{\\partial}{\\partial t}\\psi(x,t)=-\\frac{1}{2}\\Delta\\psi(x,t)+V_\\alpha(x,t)\\psi(x,t)+\\alpha\\kappa|\\psi(x,t)|^2\\psi(x,t),\\quad\\psi(x,0) = \\psi_\\mathrm{ex}(x,0),$$\n",
    "with *time dependent potential*\n",
    "$$V_\\alpha(x,t)= (1-\\alpha)\\kappa|\\psi_\\mathrm{ex}(x,t)|^2=\\frac{(1-\\alpha)\\kappa a^2}{\\cosh(a(bt+x-c))^2}$$\n",
    "and, e.g., $\\alpha=\\frac{1}{2}$ is again given by $\\psi_\\mathrm{ex}(x,t)$.\n",
    "\n",
    "We use this time-dependent problem to verify the correct implementation of various time propagation methods"
   ]
  },
  {
   "cell_type": "code",
   "execution_count": 2,
   "metadata": {},
   "outputs": [
    {
     "data": {
      "text/plain": [
       "soliton (generic function with 1 method)"
      ]
     },
     "execution_count": 2,
     "metadata": {},
     "output_type": "execute_result"
    }
   ],
   "source": [
    "# exact solution\n",
    "function soliton(x, t)\n",
    "    a = 2.0\n",
    "    b = 1.0\n",
    "    c = 0.0    \n",
    "    h = (a^2 - b^2)/2*t - b*x\n",
    "    (a./cosh(a*(b*t+x-c))).*exp(1im*h) \n",
    "end    "
   ]
  },
  {
   "cell_type": "code",
   "execution_count": 3,
   "metadata": {},
   "outputs": [
    {
     "name": "stderr",
     "output_type": "stream",
     "text": [
      "┌ Warning: `cfunction(f, r, a::Tuple)` is deprecated, use `cfunction(f, r, Tuple{a...})` instead.\n",
      "│   caller = cfunction_check_return_type(::Function, ::Type, ::Tuple{DataType}) at TSSM.jl:492\n",
      "└ @ TSSM /home/alex/.julia/dev/TSSM/src/TSSM.jl:492\n",
      "┌ Warning: The function `cfunction` is now written as a macro `@cfunction`.\n",
      "│   caller = cfunction(::Function, ::Type, ::Tuple{DataType}) at deprecated.jl:55\n",
      "└ @ Base ./deprecated.jl:55\n",
      "┌ Warning: `cfunction(f, r, a::Tuple)` is deprecated, use `cfunction(f, r, Tuple{a...})` instead.\n",
      "│   caller = cfunction_check_return_type(::Function, ::Type, ::Tuple{DataType,DataType}) at TSSM.jl:492\n",
      "└ @ TSSM /home/alex/.julia/dev/TSSM/src/TSSM.jl:492\n",
      "┌ Warning: The function `cfunction` is now written as a macro `@cfunction`.\n",
      "│   caller = cfunction(::Function, ::Type, ::Tuple{DataType,DataType}) at deprecated.jl:55\n",
      "└ @ Base ./deprecated.jl:55\n"
     ]
    },
    {
     "data": {
      "text/plain": [
       "WfSchroedinger1D{Float64}(Ptr{Nothing} @0x00000000035787d0, Schroedinger1D{Float64}(Ptr{Nothing} @0x00000000036a46d0))"
      ]
     },
     "execution_count": 3,
     "metadata": {},
     "output_type": "execute_result"
    }
   ],
   "source": [
    "nx = 1024\n",
    "xmin = -16\n",
    "xmax = +16\n",
    "V(x,t) = -0.5*abs(soliton(x,t)).^2\n",
    "m = Schroedinger1D(nx, xmin, xmax, potential_t=V, cubic_coupling=-0.5)\n",
    "psi = wave_function(m)\n",
    "psi_ref = wave_function(m)"
   ]
  },
  {
   "cell_type": "code",
   "execution_count": 4,
   "metadata": {},
   "outputs": [
    {
     "name": "stderr",
     "output_type": "stream",
     "text": [
      "┌ Warning: `cfunction(f, r, a::Tuple)` is deprecated, use `cfunction(f, r, Tuple{a...})` instead.\n",
      "│   caller = set!(::WfSchroedinger1D{Float64}, ::Function, ::Float64) at tssm_common.jl:415\n",
      "└ @ TSSM /home/alex/.julia/dev/TSSM/src/tssm_common.jl:415\n"
     ]
    }
   ],
   "source": [
    "t0 = 0.0\n",
    "tend = 1.0\n",
    "set!(psi_ref, soliton, tend) # exact reference solution"
   ]
  },
  {
   "cell_type": "markdown",
   "metadata": {},
   "source": [
    "# One-step methods"
   ]
  },
  {
   "cell_type": "markdown",
   "metadata": {},
   "source": [
    "## Explicit Runge-Kutta\n",
    "### Classical Runge-Kutta scheme of order 4"
   ]
  },
  {
   "cell_type": "code",
   "execution_count": 5,
   "metadata": {},
   "outputs": [
    {
     "name": "stdout",
     "output_type": "stream",
     "text": [
      "             dt         err           C      p      B calls\n",
      "-----------------------------------------------------------\n",
      "  1   2.500e-01         NaN                    "
     ]
    },
    {
     "name": "stderr",
     "output_type": "stream",
     "text": [
      "┌ Warning: The start/next/done iteration protocol is deprecated. Implement `iterate(::EquidistantTimeStepper)`.\n",
      "│   caller = ip:0x0\n",
      "└ @ Core :-1\n"
     ]
    },
    {
     "name": "stdout",
     "output_type": "stream",
     "text": [
      "          16\n",
      "  2   1.250e-01         NaN         NaN    NaN           32\n",
      "  3   6.250e-02         NaN         NaN    NaN           64\n",
      "  4   3.125e-02         NaN         NaN    NaN          128\n",
      "  5   1.563e-02         NaN         NaN    NaN          256\n",
      "  6   7.813e-03         NaN         NaN    NaN          512\n",
      "  7   3.906e-03         NaN         NaN    NaN         1024\n",
      "  8   1.953e-03         NaN         NaN    NaN         2048\n",
      "  9   9.766e-04         NaN         NaN    NaN         4096\n",
      " 10   4.883e-04   4.928e-13         NaN    NaN         8192\n"
     ]
    }
   ],
   "source": [
    "set!(psi, soliton, t0)\n",
    "method = ExponentialRungeKutta(:rk4)\n",
    "global_orders(method, psi, psi_ref, t0, tend, .25, rows=10)"
   ]
  },
  {
   "cell_type": "markdown",
   "metadata": {},
   "source": [
    "## Splitting Method\n",
    "### 5-step composition of order 4 (Suzuki)"
   ]
  },
  {
   "cell_type": "code",
   "execution_count": 6,
   "metadata": {},
   "outputs": [
    {
     "name": "stdout",
     "output_type": "stream",
     "text": [
      "             dt         err           C      p      B calls\n",
      "-----------------------------------------------------------\n",
      "  1   2.500e-01   5.413e-02                              20\n",
      "  2   1.250e-01   8.118e-03   2.407e+00   2.74           40\n",
      "  3   6.250e-02   5.281e-04   2.949e+01   3.94           80\n",
      "  4   3.125e-02   1.003e-05   4.064e+03   5.72          160\n",
      "  5   1.563e-02   2.574e-07   8.996e+02   5.28          320\n",
      "  6   7.813e-03   1.548e-08   5.437e+00   4.06          640\n",
      "  7   3.906e-03   9.598e-10   4.395e+00   4.01         1280\n",
      "  8   1.953e-03   5.987e-11   4.187e+00   4.00         2560\n",
      "  9   9.766e-04   3.792e-12   3.653e+00   3.98         5120\n",
      " 10   4.883e-04   1.089e-12   9.914e-07   1.80        10240\n"
     ]
    }
   ],
   "source": [
    "set!(psi, soliton, t0)\n",
    "g = [1/(4-4^(1/3)),1/(4-4^(1/3)),-4^(1/3)/(4-4^(1/3)), 1/(4-4^(1/3)), 1/(4-4^(1/3))] # Suzuki\n",
    "a, b = get_coeffs_composition(g)\n",
    "method = SplittingMethod(a,b)\n",
    "global_orders(method, psi, psi_ref, t0, tend, .25, rows=10)"
   ]
  },
  {
   "cell_type": "markdown",
   "metadata": {},
   "source": [
    "### 3-step composition of order 4 (Yoshida)"
   ]
  },
  {
   "cell_type": "code",
   "execution_count": 7,
   "metadata": {},
   "outputs": [
    {
     "name": "stdout",
     "output_type": "stream",
     "text": [
      "             dt         err           C      p      B calls\n",
      "-----------------------------------------------------------\n",
      "  1   2.500e-01   1.709e-01                              12\n",
      "  2   1.250e-01   2.148e-02   1.083e+01   2.99           24\n",
      "  3   6.250e-02   1.270e-03   1.038e+02   4.08           48\n",
      "  4   3.125e-02   4.294e-05   9.731e+02   4.89           96\n",
      "  5   1.563e-02   2.549e-06   5.830e+01   4.07          192\n",
      "  6   7.813e-03   1.614e-07   3.945e+01   3.98          384\n",
      "  7   3.906e-03   1.013e-08   4.224e+01   3.99          768\n",
      "  8   1.953e-03   6.336e-10   4.317e+01   4.00         1536\n",
      "  9   9.766e-04   3.962e-11   4.331e+01   4.00         3072\n",
      " 10   4.883e-04   2.624e-12   2.439e+01   3.92         6144\n"
     ]
    }
   ],
   "source": [
    "set!(psi, soliton, t0)\n",
    "g = [1.351207191959657634, -1.702414383919315268, 1.351207191959657634] # Yoshida\n",
    "a, b = get_coeffs_composition(g)\n",
    "method = SplittingMethod(a,b)\n",
    "global_orders(method, psi, psi_ref, t0, tend, .25, rows=10)"
   ]
  },
  {
   "cell_type": "markdown",
   "metadata": {
    "collapsed": true
   },
   "source": [
    "## Splitting using RK4 for B step\n",
    "### Suzuki 5-step order 4"
   ]
  },
  {
   "cell_type": "code",
   "execution_count": 8,
   "metadata": {},
   "outputs": [
    {
     "name": "stdout",
     "output_type": "stream",
     "text": [
      "             dt         err           C      p      B calls\n",
      "-----------------------------------------------------------\n",
      "  1   2.500e-01   5.210e-02                              80\n",
      "  2   1.250e-01   8.042e-03   2.187e+00   2.70          160\n",
      "  3   6.250e-02   5.278e-04   2.845e+01   3.93          320\n",
      "  4   3.125e-02   1.035e-05   3.565e+03   5.67          640\n",
      "  5   1.563e-02   3.080e-07   4.439e+02   5.07         1280\n",
      "  6   7.813e-03   1.881e-08   5.933e+00   4.03         2560\n",
      "  7   3.906e-03   1.171e-09   5.196e+00   4.01         5120\n",
      "  8   1.953e-03   7.319e-11   5.037e+00   4.00        10240\n",
      "  9   9.766e-04   4.756e-12   3.544e+00   3.94        20480\n",
      " 10   4.883e-04   1.160e-12   6.374e-06   2.04        40960\n"
     ]
    }
   ],
   "source": [
    "set!(psi, soliton, t0)\n",
    "g = [1/(4-4^(1/3)),1/(4-4^(1/3)),-4^(1/3)/(4-4^(1/3)), 1/(4-4^(1/3)), 1/(4-4^(1/3))] # Suzuki\n",
    "a, b = get_coeffs_composition(g)\n",
    "method = SplittingRK4BMethod(a,b)\n",
    "global_orders(method, psi, psi_ref, t0, tend, .25, rows=10)"
   ]
  },
  {
   "cell_type": "markdown",
   "metadata": {},
   "source": [
    "### Yoshida 3-step order 4"
   ]
  },
  {
   "cell_type": "markdown",
   "metadata": {},
   "source": [
    "## Composition Method, B-part: implizit midpoint rule\n",
    "### 5-step composition of order 4 (Suzuki), 3 fixed-point iterations"
   ]
  },
  {
   "cell_type": "code",
   "execution_count": 9,
   "metadata": {
    "scrolled": true
   },
   "outputs": [
    {
     "name": "stdout",
     "output_type": "stream",
     "text": [
      "             dt         err           C      p      B calls\n",
      "-----------------------------------------------------------\n",
      "  1   2.500e-01   4.153e-02                              80\n",
      "  2   1.250e-01   5.614e-03   2.273e+00   2.89          160\n",
      "  3   6.250e-02   4.207e-04   1.335e+01   3.74          320\n",
      "  4   3.125e-02   8.396e-06   2.650e+03   5.65          640\n",
      "  5   1.563e-02   2.256e-07   5.992e+02   5.22         1280\n",
      "  6   7.813e-03   1.433e-08   3.435e+00   3.98         2560\n",
      "  7   3.906e-03   9.139e-10   3.343e+00   3.97         5120\n",
      "  8   1.953e-03   5.785e-11   3.549e+00   3.98        10240\n",
      "  9   9.766e-04   3.847e-12   2.274e+00   3.91        20480\n",
      " 10   4.883e-04   1.141e-12   7.299e-07   1.75        40960\n"
     ]
    }
   ],
   "source": [
    "set!(psi, soliton, t0)\n",
    "g = [1/(4-4^(1/3)),1/(4-4^(1/3)),-4^(1/3)/(4-4^(1/3)), 1/(4-4^(1/3)), 1/(4-4^(1/3))] # Suzuki\n",
    "method = CompositionMethod(g,3)\n",
    "global_orders(method, psi, psi_ref, t0, tend, .25, rows=10)"
   ]
  },
  {
   "cell_type": "markdown",
   "metadata": {},
   "source": [
    "### 4 fixed-point iterations"
   ]
  },
  {
   "cell_type": "code",
   "execution_count": 10,
   "metadata": {},
   "outputs": [
    {
     "name": "stdout",
     "output_type": "stream",
     "text": [
      "             dt         err           C      p      B calls\n",
      "-----------------------------------------------------------\n",
      "  1   2.500e-01   4.309e-02                             100\n",
      "  2   1.250e-01   6.348e-03   1.986e+00   2.76          200\n",
      "  3   6.250e-02   4.656e-04   1.609e+01   3.77          400\n",
      "  4   3.125e-02   1.545e-05   3.840e+02   4.91          800\n",
      "  5   1.563e-02   8.905e-07   2.430e+01   4.12         1600\n",
      "  6   7.813e-03   5.723e-08   1.264e+01   3.96         3200\n",
      "  7   3.906e-03   3.627e-09   1.394e+01   3.98         6400\n",
      "  8   1.953e-03   2.282e-10   1.478e+01   3.99        12800\n",
      "  9   9.766e-04   1.407e-11   1.767e+01   4.02        25600\n",
      " 10   4.883e-04   1.096e-12   1.709e+00   3.68        51200\n"
     ]
    }
   ],
   "source": [
    "set!(psi, soliton, t0)\n",
    "g = [1/(4-4^(1/3)),1/(4-4^(1/3)),-4^(1/3)/(4-4^(1/3)), 1/(4-4^(1/3)), 1/(4-4^(1/3))] # Suzuki\n",
    "method = CompositionMethod(g,4)\n",
    "global_orders(method, psi, psi_ref, t0, tend, .25, rows=10)"
   ]
  },
  {
   "cell_type": "markdown",
   "metadata": {},
   "source": [
    "### 3-step composition of order 4 (Yoshida), 3 fixed-point iterations"
   ]
  },
  {
   "cell_type": "code",
   "execution_count": 11,
   "metadata": {},
   "outputs": [
    {
     "name": "stdout",
     "output_type": "stream",
     "text": [
      "             dt         err           C      p      B calls\n",
      "-----------------------------------------------------------\n",
      "  1   2.500e-01   9.449e-01                              48\n",
      "  2   1.250e-01   2.432e-01   1.427e+01   1.96           96\n",
      "  3   6.250e-02   1.409e-02   1.251e+03   4.11          192\n",
      "  4   3.125e-02   4.193e-04   1.793e+04   5.07          384\n",
      "  5   1.563e-02   1.015e-05   5.037e+04   5.37          768\n",
      "  6   7.813e-03   3.930e-07   3.020e+03   4.69         1536\n",
      "  7   3.906e-03   3.126e-08   1.951e+01   3.65         3072\n",
      "  8   1.953e-03   2.312e-09   3.495e+01   3.76         6144\n",
      "  9   9.766e-04   1.569e-10   7.556e+01   3.88        12288\n",
      " 10   4.883e-04   1.050e-11   8.753e+01   3.90        24576\n"
     ]
    }
   ],
   "source": [
    "set!(psi, soliton, t0)\n",
    "g = [1.351207191959657634, -1.702414383919315268, 1.351207191959657634] # Yoshida\n",
    "method = CompositionMethod(g,3)\n",
    "global_orders(method, psi, psi_ref, t0, tend, .25, rows=10)"
   ]
  },
  {
   "cell_type": "markdown",
   "metadata": {},
   "source": [
    "## Exponential Runge-Kutta \n",
    "### Krogstad scheme of order 4"
   ]
  },
  {
   "cell_type": "code",
   "execution_count": 12,
   "metadata": {},
   "outputs": [
    {
     "name": "stdout",
     "output_type": "stream",
     "text": [
      "             dt         err           C      p      B calls\n",
      "-----------------------------------------------------------\n",
      "  1   2.500e-01   3.870e-02                              16\n",
      "  2   1.250e-01   4.560e-03   2.787e+00   3.09           32\n",
      "  3   6.250e-02   3.267e-04   1.240e+01   3.80           64\n",
      "  4   3.125e-02   2.040e-05   2.148e+01   4.00          128\n",
      "  5   1.563e-02   1.245e-06   2.410e+01   4.03          256\n",
      "  6   7.813e-03   7.638e-08   2.338e+01   4.03          512\n",
      "  7   3.906e-03   4.721e-09   2.217e+01   4.02         1024\n",
      "  8   1.953e-03   2.933e-10   2.128e+01   4.01         2048\n",
      "  9   9.766e-04   1.827e-11   2.075e+01   4.00         4096\n",
      " 10   4.883e-04   1.158e-12   1.752e+01   3.98         8192\n"
     ]
    }
   ],
   "source": [
    "set!(psi, soliton, t0)\n",
    "method = ExponentialRungeKutta(:krogstad)\n",
    "global_orders(method, psi, psi_ref, t0, tend, .25, rows=10)"
   ]
  },
  {
   "cell_type": "markdown",
   "metadata": {},
   "source": [
    "### Strehmel-Weiner scheme of order 4"
   ]
  },
  {
   "cell_type": "code",
   "execution_count": 13,
   "metadata": {},
   "outputs": [
    {
     "name": "stdout",
     "output_type": "stream",
     "text": [
      "             dt         err           C      p      B calls\n",
      "-----------------------------------------------------------\n",
      "  1   2.500e-01   5.246e-02                              16\n",
      "  2   1.250e-01   5.453e-03   4.854e+00   3.27           32\n",
      "  3   6.250e-02   3.831e-04   1.573e+01   3.83           64\n",
      "  4   3.125e-02   2.401e-05   2.482e+01   4.00          128\n",
      "  5   1.563e-02   1.475e-06   2.748e+01   4.03          256\n",
      "  6   7.813e-03   9.086e-08   2.695e+01   4.02          512\n",
      "  7   3.906e-03   5.631e-09   2.589e+01   4.01         1024\n",
      "  8   1.953e-03   3.503e-10   2.510e+01   4.01         2048\n",
      "  9   9.766e-04   2.184e-11   2.457e+01   4.00         4096\n",
      " 10   4.883e-04   1.376e-12   2.224e+01   3.99         8192\n"
     ]
    }
   ],
   "source": [
    "set!(psi, soliton, t0)\n",
    "method = ExponentialRungeKutta(:strehmel_weiner)\n",
    "global_orders(method, psi, psi_ref, t0, tend, .25, rows=10)"
   ]
  },
  {
   "cell_type": "markdown",
   "metadata": {},
   "source": [
    "### Runge-Kutta-Lawson scheme of order 4"
   ]
  },
  {
   "cell_type": "code",
   "execution_count": 14,
   "metadata": {},
   "outputs": [
    {
     "name": "stdout",
     "output_type": "stream",
     "text": [
      "             dt         err           C      p      B calls\n",
      "-----------------------------------------------------------\n",
      "  1   2.500e-01   1.144e-01                              16\n",
      "  2   1.250e-01   1.482e-02   6.824e+00   2.95           32\n",
      "  3   6.250e-02   9.790e-04   5.134e+01   3.92           64\n",
      "  4   3.125e-02   4.565e-05   2.072e+02   4.42          128\n",
      "  5   1.563e-02   2.844e-06   4.861e+01   4.00          256\n",
      "  6   7.813e-03   1.796e-07   4.482e+01   3.98          512\n",
      "  7   3.906e-03   1.127e-08   4.701e+01   3.99         1024\n",
      "  8   1.953e-03   7.051e-10   4.787e+01   4.00         2048\n",
      "  9   9.766e-04   4.405e-11   4.863e+01   4.00         4096\n",
      " 10   4.883e-04   2.712e-12   5.622e+01   4.02         8192\n"
     ]
    }
   ],
   "source": [
    "set!(psi, soliton, t0)\n",
    "method = ExponentialRungeKutta(:lawson)\n",
    "global_orders(method, psi, psi_ref, t0, tend, .25, rows=10)"
   ]
  },
  {
   "cell_type": "markdown",
   "metadata": {},
   "source": [
    "# Multistep methods"
   ]
  },
  {
   "cell_type": "code",
   "execution_count": 15,
   "metadata": {},
   "outputs": [
    {
     "name": "stderr",
     "output_type": "stream",
     "text": [
      "┌ Warning: Deprecated syntax `type`.\n",
      "│ Use `mutable struct` instead.\n",
      "└ @ nothing none:1\n"
     ]
    },
    {
     "data": {
      "text/plain": [
       "step! (generic function with 7 methods)"
      ]
     },
     "execution_count": 15,
     "metadata": {},
     "output_type": "execute_result"
    }
   ],
   "source": [
    "type ExactSolution <: TimePropagationMethod\n",
    "end\n",
    "function step!(m::ExactSolution, psi::WaveFunction, \n",
    "         t0::Real, dt::Real, steps::Int, step::Int)\n",
    "    set!(psi, soliton, t0+(step+1)*dt)\n",
    "end    "
   ]
  },
  {
   "cell_type": "markdown",
   "metadata": {},
   "source": [
    "## Exponential multistep\n",
    "### exact evaluation of the integral; 4 steps; exact starting values; no correction step"
   ]
  },
  {
   "cell_type": "code",
   "execution_count": 16,
   "metadata": {},
   "outputs": [
    {
     "name": "stdout",
     "output_type": "stream",
     "text": [
      "             dt         err           C      p      B calls\n",
      "-----------------------------------------------------------\n"
     ]
    },
    {
     "name": "stderr",
     "output_type": "stream",
     "text": [
      "WARNING: Base.Void is deprecated, use Nothing instead.\n",
      "  likely near /home/alex/.julia/packages/IJulia/0cLgR/src/kernel.jl:41\n",
      "WARNING: Base.Void is deprecated, use Nothing instead.\n",
      "  likely near /home/alex/.julia/packages/IJulia/0cLgR/src/kernel.jl:41\n",
      "┌ Warning: The start/next/done iteration protocol is deprecated. Implement `iterate(::EquidistantTimeStepper)`.\n",
      "│   caller = iterate(::EquidistantTimeStepper) at essentials.jl:853\n",
      "└ @ Base ./essentials.jl:853\n"
     ]
    },
    {
     "name": "stdout",
     "output_type": "stream",
     "text": [
      "  1   2.500e-01   4.888e-01                               4\n",
      "  2   1.250e-01   6.979e-02   2.397e+01   2.81            8\n",
      "  3   6.250e-02   4.556e-03   2.508e+02   3.94           16\n",
      "  4   3.125e-02   2.948e-04   2.600e+02   3.95           32\n",
      "  5   1.563e-02   1.849e-05   3.036e+02   3.99           64\n",
      "  6   7.813e-03   1.153e-06   3.142e+02   4.00          128\n",
      "  7   3.906e-03   7.193e-08   3.140e+02   4.00          256\n",
      "  8   1.953e-03   4.490e-09   3.121e+02   4.00          512\n",
      "  9   9.766e-04   2.804e-10   3.110e+02   4.00         1024\n",
      " 10   4.883e-04   1.742e-11   3.262e+02   4.01         2048\n"
     ]
    }
   ],
   "source": [
    "set!(psi, soliton, t0)\n",
    "method = ExponentialMultistep(4, iters=0, starting_method=ExactSolution())\n",
    "global_orders(method, psi, psi_ref, t0, tend, .25, rows=10)"
   ]
  },
  {
   "cell_type": "markdown",
   "metadata": {},
   "source": [
    "### exact evaluation of the integral; 3 steps; exact starting values; one correction step"
   ]
  },
  {
   "cell_type": "code",
   "execution_count": 17,
   "metadata": {},
   "outputs": [
    {
     "name": "stdout",
     "output_type": "stream",
     "text": [
      "             dt         err           C      p      B calls\n",
      "-----------------------------------------------------------\n",
      "  1   2.500e-01   1.382e-01                               6\n",
      "  2   1.250e-01   2.286e-02   5.046e+00   2.60           14\n",
      "  3   6.250e-02   2.362e-03   2.073e+01   3.27           30\n",
      "  4   3.125e-02   1.645e-04   1.003e+02   3.84           62\n",
      "  5   1.563e-02   1.031e-05   1.705e+02   4.00          126\n",
      "  6   7.813e-03   6.355e-07   1.876e+02   4.02          254\n",
      "  7   3.906e-03   3.930e-08   1.838e+02   4.02          510\n",
      "  8   1.953e-03   2.441e-09   1.775e+02   4.01         1022\n",
      "  9   9.766e-04   1.520e-10   1.735e+02   4.01         2046\n",
      " 10   4.883e-04   9.385e-12   1.885e+02   4.02         4094\n"
     ]
    }
   ],
   "source": [
    "set!(psi, soliton, t0)\n",
    "method = ExponentialMultistep(3, iters=1, starting_method=ExactSolution())\n",
    "global_orders(method, psi, psi_ref, t0, tend, .25, rows=10)"
   ]
  },
  {
   "cell_type": "markdown",
   "metadata": {},
   "source": [
    "### Gauss quadrature of order 4 for the  integral; 3 steps; exact starting values; one correction step"
   ]
  },
  {
   "cell_type": "code",
   "execution_count": 18,
   "metadata": {},
   "outputs": [
    {
     "name": "stdout",
     "output_type": "stream",
     "text": [
      "             dt         err           C      p      B calls\n",
      "-----------------------------------------------------------\n",
      "  1   2.500e-01   2.367e-01                               6\n",
      "  2   1.250e-01   3.030e-02   1.445e+01   2.97           14\n"
     ]
    },
    {
     "name": "stderr",
     "output_type": "stream",
     "text": [
      "WARNING: Base.Void is deprecated, use Nothing instead.\n",
      "  likely near /home/alex/.julia/packages/IJulia/0cLgR/src/kernel.jl:41\n",
      "WARNING: Base.Void is deprecated, use Nothing instead.\n",
      "  likely near /home/alex/.julia/packages/IJulia/0cLgR/src/kernel.jl:41\n",
      "WARNING: Base.Void is deprecated, use Nothing instead.\n",
      "  likely near /home/alex/.julia/packages/IJulia/0cLgR/src/kernel.jl:41\n",
      "WARNING: Base.Void is deprecated, use Nothing instead.\n",
      "  likely near /home/alex/.julia/packages/IJulia/0cLgR/src/kernel.jl:41\n"
     ]
    },
    {
     "name": "stdout",
     "output_type": "stream",
     "text": [
      "  3   6.250e-02   2.643e-03   4.569e+01   3.52           30\n",
      "  4   3.125e-02   1.723e-04   1.462e+02   3.94           62\n",
      "  5   1.563e-02   1.076e-05   1.818e+02   4.00          126\n",
      "  6   7.813e-03   6.637e-07   1.949e+02   4.02          254\n",
      "  7   3.906e-03   4.107e-08   1.911e+02   4.01          510\n",
      "  8   1.953e-03   2.552e-09   1.850e+02   4.01         1022\n",
      "  9   9.766e-04   1.588e-10   1.825e+02   4.01         2046\n",
      " 10   4.883e-04   9.668e-12   2.265e+02   4.04         4094\n"
     ]
    }
   ],
   "source": [
    "set!(psi, soliton, t0)\n",
    "gauss4 = QuadratureRule([(3-sqrt(3))/6, (3+sqrt(3))/6],[0.5,0.5])\n",
    "method = ExponentialMultistep(3, iters=1, quadrature=gauss4, starting_method=ExactSolution())\n",
    "global_orders(method, psi, psi_ref, t0, tend, .25, rows=10)"
   ]
  },
  {
   "cell_type": "markdown",
   "metadata": {},
   "source": [
    "### Exponential multistep version 2; 3 steps; exact starting values; one correction step"
   ]
  },
  {
   "cell_type": "code",
   "execution_count": 19,
   "metadata": {},
   "outputs": [
    {
     "name": "stdout",
     "output_type": "stream",
     "text": [
      "             dt         err           C      p      B calls\n",
      "-----------------------------------------------------------\n",
      "  1   2.500e-01   4.537e-01                               6\n"
     ]
    },
    {
     "name": "stderr",
     "output_type": "stream",
     "text": [
      "WARNING: Base.Void is deprecated, use Nothing instead.\n",
      "  likely near /home/alex/.julia/packages/IJulia/0cLgR/src/kernel.jl:41\n",
      "WARNING: Base.Void is deprecated, use Nothing instead.\n",
      "  likely near /home/alex/.julia/packages/IJulia/0cLgR/src/kernel.jl:41\n"
     ]
    },
    {
     "name": "stdout",
     "output_type": "stream",
     "text": [
      "  2   1.250e-01   1.058e-01   8.349e+00   2.10           14\n",
      "  3   6.250e-02   1.086e-02   9.754e+01   3.28           30\n",
      "  4   3.125e-02   2.048e-03   8.604e+00   2.41           62\n",
      "  5   1.563e-02   2.102e-04   1.797e+02   3.28          126\n",
      "  6   7.813e-03   1.475e-05   1.765e+03   3.83          254\n",
      "  7   3.906e-03   9.275e-07   3.785e+03   3.99          510\n",
      "  8   1.953e-03   5.729e-08   4.376e+03   4.02         1022\n",
      "  9   9.766e-04   3.546e-09   4.301e+03   4.01         2046\n",
      " 10   4.883e-04   2.202e-10   4.154e+03   4.01         4094\n"
     ]
    }
   ],
   "source": [
    "set!(psi, soliton, t0)\n",
    "method = ExponentialMultistep(3, iters=1, version=2, starting_method=ExactSolution())\n",
    "global_orders(method, psi, psi_ref, t0, tend, .25, rows=10)"
   ]
  },
  {
   "cell_type": "markdown",
   "metadata": {},
   "source": [
    "### Exponential multistep version 2; 3 steps; starting values by Suzuki composition method; one correction step"
   ]
  },
  {
   "cell_type": "code",
   "execution_count": 20,
   "metadata": {},
   "outputs": [
    {
     "name": "stdout",
     "output_type": "stream",
     "text": [
      "             dt         err           C      p      B calls\n",
      "-----------------------------------------------------------\n",
      "  1   2.500e-01   4.319e-01                              46\n",
      "  2   1.250e-01   1.053e-01   7.258e+00   2.04           54\n",
      " "
     ]
    },
    {
     "name": "stderr",
     "output_type": "stream",
     "text": [
      "WARNING: Base.Void is deprecated, use Nothing instead.\n",
      "  likely near /home/alex/.julia/packages/IJulia/0cLgR/src/kernel.jl:41\n",
      "WARNING: Base.Void is deprecated, use Nothing instead.\n",
      "  likely near /home/alex/.julia/packages/IJulia/0cLgR/src/kernel.jl:41\n"
     ]
    },
    {
     "name": "stdout",
     "output_type": "stream",
     "text": [
      " 3   6.250e-02   1.086e-02   9.625e+01   3.28           70\n",
      "  4   3.125e-02   2.048e-03   8.570e+00   2.41          102\n",
      "  5   1.563e-02   2.102e-04   1.798e+02   3.28          166\n",
      "  6   7.813e-03   1.475e-05   1.765e+03   3.83          294\n",
      "  7   3.906e-03   9.275e-07   3.785e+03   3.99          550\n",
      "  8   1.953e-03   5.729e-08   4.376e+03   4.02         1062\n",
      "  9   9.766e-04   3.546e-09   4.301e+03   4.01         2086\n",
      " 10   4.883e-04   2.202e-10   4.153e+03   4.01         4134\n"
     ]
    }
   ],
   "source": [
    "set!(psi, soliton, t0)\n",
    "g = [1/(4-4^(1/3)),1/(4-4^(1/3)),-4^(1/3)/(4-4^(1/3)), 1/(4-4^(1/3)), 1/(4-4^(1/3))] # Suzuki\n",
    "a, b = get_coeffs_composition(g)\n",
    "#starting_method = SplittingMethod(a,b)\n",
    "starting_method = CompositionMethod(g,3)\n",
    "method = ExponentialMultistep(3, iters=1, version=2, starting_method=starting_method)\n",
    "global_orders(method, psi, psi_ref, t0, tend, .25, rows=10)"
   ]
  },
  {
   "cell_type": "markdown",
   "metadata": {},
   "source": [
    "### Exponential multistep version 2; 4 steps; starting values by Suzuki composition method; one correction step"
   ]
  },
  {
   "cell_type": "code",
   "execution_count": 21,
   "metadata": {},
   "outputs": [
    {
     "name": "stdout",
     "output_type": "stream",
     "text": [
      "             dt         err           C      p      B calls\n",
      "-----------------------------------------------------------\n",
      "  1   2.500e-01   4.768e-01                              65\n",
      "  2   1.250e-01   9.169e-02   1.289e+01   2.38           73\n",
      "  3   6.250e-02   1.203e-02   4.056e+01   2.93           89\n",
      "  4   3.125e-02   1.326e-03   8.155e+01   3.18          121\n",
      "  5   1.563e-02   5.244e-05   1.372e+04   4.66          185\n",
      "  6   7.813e-03   1.204e-06   3.576e+05   5.44          313\n",
      "  7   3.906e-03   3.721e-08   4.477e+04   5.02          569\n",
      "  8   1.953e-03   1.340e-09   1.315e+04   4.80         1081\n",
      "  9   9.766e-04   4.560e-11   2.188e+04   4.88         2105\n",
      " 10   4.883e-04   1.609e-12   1.529e+04   4.83         4153\n"
     ]
    }
   ],
   "source": [
    "set!(psi, soliton, t0)\n",
    "method = ExponentialMultistep(4, iters=1, version=2, starting_method=starting_method)\n",
    "global_orders(method, psi, psi_ref, t0, tend, .25, rows=10)"
   ]
  },
  {
   "cell_type": "markdown",
   "metadata": {},
   "source": [
    "### Exponential multistep version 2; 5 steps; starting values by Suzuki composition method; one correction step"
   ]
  },
  {
   "cell_type": "code",
   "execution_count": 22,
   "metadata": {},
   "outputs": [
    {
     "name": "stdout",
     "output_type": "stream",
     "text": [
      "             dt         err           C      p      B calls\n",
      "-----------------------------------------------------------\n",
      "  1   2.500e-01   4.153e-02                              84\n",
      "  2   1.250e-01   1.057e-01   6.411e-03  -1.35           92\n",
      "  3   6.250e-02   1.422e-02   4.348e+01   2.89          108\n",
      "  4   3.125e-02   9.562e-04   6.944e+02   3.89          140\n",
      "  5   1.563e-02   2.730e-05   5.044e+04   5.13          204\n",
      "  6   7.813e-03   7.407e-07   6.837e+04   5.20          332\n",
      "  7   3.906e-03   1.416e-08   7.927e+05   5.71          588\n",
      "  8   1.953e-03   2.227e-10   3.785e+06   5.99         1100\n",
      "  9   9.766e-04   3.491e-12   3.894e+06   6.00         2124\n",
      " 10   4.883e-04   3.389e-13   4.701e-02   3.36         4172\n"
     ]
    }
   ],
   "source": [
    "set!(psi, soliton, t0)\n",
    "method = ExponentialMultistep(5, iters=1, version=2, starting_method=starting_method)\n",
    "global_orders(method, psi, psi_ref, t0, tend, .25, rows=10)"
   ]
  },
  {
   "cell_type": "markdown",
   "metadata": {
    "collapsed": true
   },
   "source": [
    "## Splitting using propagate_A and RK4 for B\n",
    "### Suzuki 5-step order 4"
   ]
  },
  {
   "cell_type": "code",
   "execution_count": 23,
   "metadata": {},
   "outputs": [
    {
     "name": "stdout",
     "output_type": "stream",
     "text": [
      "             dt         err           C      p      B calls\n",
      "-----------------------------------------------------------\n",
      "  1   2.500e-01   5.210e-02                              80\n",
      "  2   1.250e-01   8.042e-03   2.187e+00   2.70          160\n",
      "  3   6.250e-02   5.278e-04   2.845e+01   3.93          320\n",
      "  4   3.125e-02   1.035e-05   3.565e+03   5.67          640\n",
      "  5   1.563e-02   3.080e-07   4.439e+02   5.07         1280\n",
      "  6   7.813e-03   1.881e-08   5.933e+00   4.03         2560\n",
      "  7   3.906e-03   1.171e-09   5.196e+00   4.01         5120\n",
      "  8   1.953e-03   7.319e-11   5.037e+00   4.00        10240\n",
      "  9   9.766e-04   4.756e-12   3.544e+00   3.94        20480\n",
      " 10   4.883e-04   1.160e-12   6.374e-06   2.04        40960\n"
     ]
    }
   ],
   "source": [
    "set!(psi, soliton, t0)\n",
    "g = [1/(4-4^(1/3)),1/(4-4^(1/3)),-4^(1/3)/(4-4^(1/3)), 1/(4-4^(1/3)), 1/(4-4^(1/3))] # Suzuki\n",
    "a, b = get_coeffs_composition(g)\n",
    "method = SplittingRK4BMethod(a,b)\n",
    "global_orders(method, psi, psi_ref, t0, tend, .25, rows=10)"
   ]
  },
  {
   "cell_type": "markdown",
   "metadata": {},
   "source": [
    "### Yoshida 3-step order 4"
   ]
  },
  {
   "cell_type": "code",
   "execution_count": 24,
   "metadata": {},
   "outputs": [
    {
     "name": "stdout",
     "output_type": "stream",
     "text": [
      "             dt         err           C      p      B calls\n",
      "-----------------------------------------------------------\n",
      "  1   2.500e-01   4.422e-01                              48\n",
      "  2   1.250e-01   3.341e-02   7.747e+01   3.73           96\n",
      "  3   6.250e-02   1.894e-03   1.834e+02   4.14          192\n",
      "  4   3.125e-02   1.639e-04   3.379e+01   3.53          384\n",
      "  5   1.563e-02   1.185e-05   8.295e+01   3.79          768\n",
      "  6   7.813e-03   7.775e-07   1.485e+02   3.93         1536\n",
      "  7   3.906e-03   4.948e-08   1.838e+02   3.97         3072\n",
      "  8   1.953e-03   3.116e-09   2.000e+02   3.99         6144\n",
      "  9   9.766e-04   1.955e-10   2.072e+02   3.99        12288\n",
      " 10   4.883e-04   1.254e-11   1.662e+02   3.96        24576\n"
     ]
    }
   ],
   "source": [
    "set!(psi, soliton, t0)\n",
    "g = [1.351207191959657634, -1.702414383919315268, 1.351207191959657634] # Yoshida\n",
    "a, b = get_coeffs_composition(g)\n",
    "method = SplittingRK4BMethod(a,b)\n",
    "global_orders(method, psi, psi_ref, t0, tend, .25, rows=10)"
   ]
  },
  {
   "cell_type": "code",
   "execution_count": null,
   "metadata": {},
   "outputs": [],
   "source": []
  }
 ],
 "metadata": {
  "anaconda-cloud": {},
  "kernelspec": {
   "display_name": "Julia 0.7.0",
   "language": "julia",
   "name": "julia-0.7"
  },
  "language_info": {
   "file_extension": ".jl",
   "mimetype": "application/julia",
   "name": "julia",
   "version": "0.7.0"
  }
 },
 "nbformat": 4,
 "nbformat_minor": 1
}
