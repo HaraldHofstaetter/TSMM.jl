{
 "cells": [
  {
   "cell_type": "code",
   "execution_count": 1,
   "metadata": {
    "collapsed": false
   },
   "outputs": [],
   "source": [
    "using TSSM\n",
    "include(\"time_stepper.jl\");"
   ]
  },
  {
   "cell_type": "code",
   "execution_count": 2,
   "metadata": {
    "collapsed": false
   },
   "outputs": [
    {
     "data": {
      "text/plain": [
       "get_coeffs_composition (generic function with 1 method)"
      ]
     },
     "execution_count": 2,
     "metadata": {},
     "output_type": "execute_result"
    }
   ],
   "source": [
    "function get_coeffs_composition(g::Vector{Float64})\n",
    "    n = length(g)\n",
    "    z = zeros(n)\n",
    "    a = zeros(n+1)\n",
    "    b = vcat(g, 0)\n",
    "    h = 0.0\n",
    "    z[div(n,2)+1] = 0.5\n",
    "    for j=1:div(n,2)\n",
    "        z[j] = h+g[j]/2\n",
    "        z[n-j+1] = 1-z[j]\n",
    "        h += g[j]\n",
    "    end\n",
    "    a[1] = g[1]/2\n",
    "    a[n+1] = a[1]\n",
    "    for j=2:div(n,2)+1\n",
    "        a[j] = (g[j-1]+g[j])/2\n",
    "        a[n-j+2] = a[j]\n",
    "    end\n",
    "    a,b,z\n",
    "end"
   ]
  },
  {
   "cell_type": "code",
   "execution_count": 3,
   "metadata": {
    "collapsed": false
   },
   "outputs": [
    {
     "data": {
      "text/plain": [
       "gen_interpolation_matrix (generic function with 1 method)"
      ]
     },
     "execution_count": 3,
     "metadata": {},
     "output_type": "execute_result"
    }
   ],
   "source": [
    "function gen_interpolation_matrix(x::Vector{Float64}, z::Vector{Float64})\n",
    "    n = length(x)\n",
    "    m = length(z)    \n",
    "    L = zeros(n, m)\n",
    "    for j=1:m\n",
    "        for i=1:n\n",
    "            L[i,j] = prod([(z[j]-x[k])/(x[i]-x[k]) for k=1:i-1])*prod([(z[j]-x[k])/(x[i]-x[k]) for k=i+1:n])\n",
    "        end\n",
    "    end\n",
    "    L\n",
    "end"
   ]
  },
  {
   "cell_type": "code",
   "execution_count": 4,
   "metadata": {
    "collapsed": false
   },
   "outputs": [
    {
     "data": {
      "text/plain": [
       "gen_midpoint! (generic function with 1 method)"
      ]
     },
     "execution_count": 4,
     "metadata": {},
     "output_type": "execute_result"
    }
   ],
   "source": [
    "function gen_midpoint!(midpoint::WfSchroedinger1D, L::Vector{Float64}, psi_back::Vector{WfSchroedinger1D}, first::Int)\n",
    "    n = length(psi_back)\n",
    "    set!(midpoint, 0)\n",
    "    for j=1:n\n",
    "        k = mod(j+first-2, n)+1\n",
    "        axpy!(midpoint, psi_back[k], L[j])\n",
    "    end\n",
    "end"
   ]
  },
  {
   "cell_type": "code",
   "execution_count": 5,
   "metadata": {
    "collapsed": false
   },
   "outputs": [
    {
     "data": {
      "text/plain": [
       "propagate_B! (generic function with 22 methods)"
      ]
     },
     "execution_count": 5,
     "metadata": {},
     "output_type": "execute_result"
    }
   ],
   "source": [
    "function TSSM.propagate_B!(psi::WfSchroedinger1D, dt::Number, F::Function, midpoint::WfSchroedinger1D)\n",
    "    to_real_space!(psi)\n",
    "    to_real_space!(midpoint)\n",
    "    u = get_data(psi, true)\n",
    "    u1 = get_data(midpoint, true)\n",
    "    for j=1:length(u)\n",
    "        u[j] += dt*F(u1[j])\n",
    "    end\n",
    "end"
   ]
  },
  {
   "cell_type": "code",
   "execution_count": 6,
   "metadata": {
    "collapsed": false
   },
   "outputs": [
    {
     "data": {
      "text/plain": [
       "run (generic function with 1 method)"
      ]
     },
     "execution_count": 6,
     "metadata": {},
     "output_type": "execute_result"
    }
   ],
   "source": [
    "function run(F::Function, dt::Number, N::Int, psi_back::Vector{WfSchroedinger1D}, g::Vector{Float64})\n",
    "    n = length(psi_back)\n",
    "    m = psi_back[1].m\n",
    "    psi = wave_function(m)\n",
    "    midpoint = wave_function(m)\n",
    "    copy!(psi, psi_back[n])\n",
    "    a,b,z = get_coeffs_composition(g)\n",
    "    s = length(g)\n",
    "    L = gen_interpolation_matrix(collect(-(n-1.0):0.0), z)\n",
    "    first = 1\n",
    "    for k = n:N\n",
    "        for j = 1:s\n",
    "            propagate_A!(psi, a[j]*dt)\n",
    "            gen_midpoint!(midpoint, L[:,j], psi_back, first)\n",
    "            propagate_B!(psi, b[j]*dt, F, midpoint)\n",
    "        end    \n",
    "        propagate_A!(psi, a[s+1]*dt)                \n",
    "        copy!(psi_back[first], psi)\n",
    "        to_real_space!(psi_back[first])\n",
    "        first = mod(first, n) + 1\n",
    "    end\n",
    "    psi\n",
    "end"
   ]
  },
  {
   "cell_type": "code",
   "execution_count": 7,
   "metadata": {
    "collapsed": false
   },
   "outputs": [
    {
     "data": {
      "text/plain": [
       "gen_starting_values (generic function with 1 method)"
      ]
     },
     "execution_count": 7,
     "metadata": {},
     "output_type": "execute_result"
    }
   ],
   "source": [
    "function gen_starting_values(psi::WfSchroedinger1D, dt::Number, N::Int, g::Vector{Float64})\n",
    "    a,b,z = get_coeffs_composition(g)\n",
    "    s = length(g)\n",
    "    psi_back = WfSchroedinger1D[wave_function(m) for j=1:N]\n",
    "    copy!(psi_back[1], psi)\n",
    "    for k=2:N\n",
    "        for j = 1:s\n",
    "            propagate_A!(psi, a[j]*dt)\n",
    "            propagate_B!(psi, b[j]*dt)\n",
    "        end\n",
    "        propagate_A!(psi, a[s+1]*dt)\n",
    "        copy!(psi_back[k], psi)\n",
    "    end\n",
    "    psi_back\n",
    "end"
   ]
  },
  {
   "cell_type": "code",
   "execution_count": 8,
   "metadata": {
    "collapsed": false
   },
   "outputs": [
    {
     "data": {
      "text/plain": [
       "TSSM.Schroedinger1D{Float64}(Ptr{Void} @0x00000000026b8780)"
      ]
     },
     "execution_count": 8,
     "metadata": {},
     "output_type": "execute_result"
    }
   ],
   "source": [
    "nx = 2048\n",
    "xmin = -16\n",
    "xmax = +16\n",
    "m = Schroedinger1D(nx, xmin, xmax, cubic_coupling=-1)"
   ]
  },
  {
   "cell_type": "code",
   "execution_count": 9,
   "metadata": {
    "collapsed": false
   },
   "outputs": [
    {
     "data": {
      "text/plain": [
       "F (generic function with 1 method)"
      ]
     },
     "execution_count": 9,
     "metadata": {},
     "output_type": "execute_result"
    }
   ],
   "source": [
    "# cubic_coupling=-1 has to be multiplied by -1im \n",
    "# because of the factor 1im at the lefthand side of the Schrödinger equation\n",
    "F(u) = 1im*conj(u)*u^2"
   ]
  },
  {
   "cell_type": "code",
   "execution_count": 10,
   "metadata": {
    "collapsed": false
   },
   "outputs": [
    {
     "data": {
      "text/plain": [
       "soliton (generic function with 1 method)"
      ]
     },
     "execution_count": 10,
     "metadata": {},
     "output_type": "execute_result"
    }
   ],
   "source": [
    "# exact solution\n",
    "const a = 2\n",
    "const b = 1\n",
    "const c = 0\n",
    "function soliton(x, t)\n",
    "    h = (a^2 - b^2)/2*t - b*x\n",
    "    (a./cosh(a*(b*t+x-c))).*exp(1im*h) \n",
    "end    "
   ]
  },
  {
   "cell_type": "code",
   "execution_count": 11,
   "metadata": {
    "collapsed": false
   },
   "outputs": [],
   "source": [
    "t0 = 0\n",
    "tend = 1\n",
    "psi = wave_function(m)\n",
    "psi_ref = wave_function(m)\n",
    "set!(psi, soliton, t0)        # initial data at t=t0\n",
    "set!(psi_ref, soliton, tend)  # reference solution at t=tend"
   ]
  },
  {
   "cell_type": "code",
   "execution_count": 12,
   "metadata": {
    "collapsed": false
   },
   "outputs": [
    {
     "data": {
      "text/plain": [
       "3.507350738832297e-10"
      ]
     },
     "execution_count": 12,
     "metadata": {},
     "output_type": "execute_result"
    }
   ],
   "source": [
    "set!(psi, soliton, t0)\n",
    "#g = [1/(2-2^(1/3)),-2^(1/3)/(2-2^(1/3)), 1/(2-2^(1/3))] # Yoshida\n",
    "g = [1/(4-4^(1/3)),1/(4-4^(1/3)),-4^(1/3)/(4-4^(1/3)), 1/(4-4^(1/3)), 1/(4-4^(1/3))] # Suzuki\n",
    "N = 512\n",
    "dt = (tend-t0)/N\n",
    "psi_back = gen_starting_values(psi, dt, 5, g);\n",
    "psi = run(F, dt, N, psi_back, g)\n",
    "distance(psi, psi_ref)"
   ]
  },
  {
   "cell_type": "code",
   "execution_count": 13,
   "metadata": {
    "collapsed": false
   },
   "outputs": [
    {
     "data": {
      "text/plain": [
       "19.111279255558657"
      ]
     },
     "execution_count": 13,
     "metadata": {},
     "output_type": "execute_result"
    }
   ],
   "source": [
    "1.0640857358040506e-7/5.56784149074978e-9"
   ]
  },
  {
   "cell_type": "code",
   "execution_count": 14,
   "metadata": {
    "collapsed": false
   },
   "outputs": [
    {
     "data": {
      "text/plain": [
       "15.874778159778462"
      ]
     },
     "execution_count": 14,
     "metadata": {},
     "output_type": "execute_result"
    }
   ],
   "source": [
    "5.56784149074978e-9/3.507350738832297e-10"
   ]
  }
 ],
 "metadata": {
  "kernelspec": {
   "display_name": "Julia 0.4.5",
   "language": "julia",
   "name": "julia-0.4"
  },
  "language_info": {
   "file_extension": ".jl",
   "mimetype": "application/julia",
   "name": "julia",
   "version": "0.4.5"
  }
 },
 "nbformat": 4,
 "nbformat_minor": 0
}
