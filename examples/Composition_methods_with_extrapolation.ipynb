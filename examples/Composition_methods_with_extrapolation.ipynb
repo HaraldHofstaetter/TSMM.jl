{
 "cells": [
  {
   "cell_type": "code",
   "execution_count": 1,
   "metadata": {
    "collapsed": false
   },
   "outputs": [],
   "source": [
    "using TSSM\n",
    "include(\"time_stepper.jl\");"
   ]
  },
  {
   "cell_type": "code",
   "execution_count": 2,
   "metadata": {
    "collapsed": false
   },
   "outputs": [
    {
     "data": {
      "text/plain": [
       "get_coeffs_composition (generic function with 1 method)"
      ]
     },
     "execution_count": 2,
     "metadata": {},
     "output_type": "execute_result"
    }
   ],
   "source": [
    "function get_coeffs_composition(g::Vector{Float64})\n",
    "    n = length(g)\n",
    "    z = zeros(n)\n",
    "    a = zeros(n+1)\n",
    "    b = vcat(g, 0)\n",
    "    h = 0.0\n",
    "    z[div(n,2)+1] = 0.5\n",
    "    for j=1:div(n,2)\n",
    "        z[j] = h+g[j]/2\n",
    "        z[n-j+1] = 1-z[j]\n",
    "        h += g[j]\n",
    "    end\n",
    "    a[1] = g[1]/2\n",
    "    a[n+1] = a[1]\n",
    "    for j=2:div(n,2)+1\n",
    "        a[j] = (g[j-1]+g[j])/2\n",
    "        a[n-j+2] = a[j]\n",
    "    end\n",
    "    a,b,z\n",
    "end"
   ]
  },
  {
   "cell_type": "code",
   "execution_count": 3,
   "metadata": {
    "collapsed": false
   },
   "outputs": [
    {
     "data": {
      "text/plain": [
       "gen_interpolation_matrix (generic function with 1 method)"
      ]
     },
     "execution_count": 3,
     "metadata": {},
     "output_type": "execute_result"
    }
   ],
   "source": [
    "function gen_interpolation_matrix(x::Vector{Float64}, z::Vector{Float64})\n",
    "    n = length(x)\n",
    "    m = length(z)    \n",
    "    L = zeros(n, m)\n",
    "    for j=1:m\n",
    "        for i=1:n\n",
    "            L[i,j] = prod([(z[j]-x[k])/(x[i]-x[k]) for k=1:i-1])*prod([(z[j]-x[k])/(x[i]-x[k]) for k=i+1:n])\n",
    "        end\n",
    "    end\n",
    "    L\n",
    "end"
   ]
  },
  {
   "cell_type": "code",
   "execution_count": 84,
   "metadata": {
    "collapsed": false
   },
   "outputs": [
    {
     "data": {
      "text/plain": [
       "gen_midpoint! (generic function with 1 method)"
      ]
     },
     "execution_count": 84,
     "metadata": {},
     "output_type": "execute_result"
    }
   ],
   "source": [
    "function gen_midpoint!(midpoint::WfSchroedinger1D, L::Vector{Float64}, psi_back::Vector{WfSchroedinger1D}, first::Int)\n",
    "    n = length(psi_back)\n",
    "    set!(midpoint, 0)\n",
    "    for j=1:n\n",
    "        k = mod(j+first-2, n)+1\n",
    "        axpy!(midpoint, psi_back[k], L[j])\n",
    "    end\n",
    "end"
   ]
  },
  {
   "cell_type": "code",
   "execution_count": 114,
   "metadata": {
    "collapsed": false
   },
   "outputs": [
    {
     "data": {
      "text/plain": [
       "propagate_B! (generic function with 23 methods)"
      ]
     },
     "execution_count": 114,
     "metadata": {},
     "output_type": "execute_result"
    }
   ],
   "source": [
    "function TSSM.propagate_B!(psi::WfSchroedinger1D, dt::Number, F::Function, t::Number, midpoint::WfSchroedinger1D)\n",
    "    to_real_space!(psi)\n",
    "    to_real_space!(midpoint)\n",
    "    u = get_data(psi, true)\n",
    "    u1 = get_data(midpoint, true)\n",
    "    x = get_nodes(psi.m)\n",
    "    for j=1:length(u)\n",
    "        u[j] += dt*F(t, x[j], u1[j])\n",
    "    end\n",
    "end"
   ]
  },
  {
   "cell_type": "code",
   "execution_count": 164,
   "metadata": {
    "collapsed": false
   },
   "outputs": [
    {
     "data": {
      "text/plain": [
       "run (generic function with 2 methods)"
      ]
     },
     "execution_count": 164,
     "metadata": {},
     "output_type": "execute_result"
    }
   ],
   "source": [
    "function run(F::Function, dt::Number, N::Int, psi_back::Vector{WfSchroedinger1D}, \n",
    "    a::Vector{Float64}, b::Vector{Float64}, z::Vector{Float64})\n",
    "    n = length(psi_back)\n",
    "    m = psi_back[1].m\n",
    "    psi = wave_function(m)\n",
    "    midpoint = wave_function(m)\n",
    "    copy!(psi, psi_back[n])\n",
    "    s = length(a)\n",
    "    L = gen_interpolation_matrix(collect(-(n-1.0):0.0), z)\n",
    "    first = 1\n",
    "    for k = n:N\n",
    "        for j = 1:s\n",
    "            propagate_A!(psi, a[j]*dt)            \n",
    "            if b[j]!=0.0\n",
    "                gen_midpoint!(midpoint, L[:,j], psi_back, first)\n",
    "                propagate_B!(psi, b[j]*dt, F, get_time(psi), midpoint)\n",
    "            end\n",
    "        end    \n",
    "        copy!(psi_back[first], psi)\n",
    "        to_real_space!(psi_back[first])\n",
    "        first = mod(first, n) + 1\n",
    "    end\n",
    "    psi\n",
    "end"
   ]
  },
  {
   "cell_type": "code",
   "execution_count": 161,
   "metadata": {
    "collapsed": false
   },
   "outputs": [
    {
     "data": {
      "text/plain": [
       "run (generic function with 2 methods)"
      ]
     },
     "execution_count": 161,
     "metadata": {},
     "output_type": "execute_result"
    }
   ],
   "source": [
    "run(F::Function, dt::Number, N::Int, psi_back::Vector{WfSchroedinger1D}, g::Vector{Float64}) = run(\n",
    "F, dt, N, psi_back, get_coeffs_composition(g)...)"
   ]
  },
  {
   "cell_type": "code",
   "execution_count": 162,
   "metadata": {
    "collapsed": false
   },
   "outputs": [
    {
     "data": {
      "text/plain": [
       "gen_starting_values (generic function with 2 methods)"
      ]
     },
     "execution_count": 162,
     "metadata": {},
     "output_type": "execute_result"
    }
   ],
   "source": [
    "function gen_starting_values(psi::WfSchroedinger1D, dt::Number, N::Int, \n",
    "    a::Vector{Float64}, b::Vector{Float64}, z::Vector{Float64})\n",
    "    s = length(a)\n",
    "    psi_back = WfSchroedinger1D[wave_function(m) for j=1:N]\n",
    "    copy!(psi_back[1], psi)\n",
    "    for k=2:N\n",
    "        for j = 1:s\n",
    "            propagate_A!(psi, a[j]*dt)\n",
    "            if b[j]!=0.0\n",
    "                propagate_B!(psi, b[j]*dt)\n",
    "            end\n",
    "        end\n",
    "        copy!(psi_back[k], psi)\n",
    "    end\n",
    "    psi_back\n",
    "end"
   ]
  },
  {
   "cell_type": "code",
   "execution_count": 170,
   "metadata": {
    "collapsed": false
   },
   "outputs": [
    {
     "data": {
      "text/plain": [
       "gen_starting_values (generic function with 2 methods)"
      ]
     },
     "execution_count": 170,
     "metadata": {},
     "output_type": "execute_result"
    }
   ],
   "source": [
    "gen_starting_values(psi::WfSchroedinger1D, dt::Number, N::Int, g::Vector{Float64}) = gen_starting_values(\n",
    "psi,dt, N, get_coeffs_composition(g)...)"
   ]
  },
  {
   "cell_type": "code",
   "execution_count": 117,
   "metadata": {
    "collapsed": false
   },
   "outputs": [
    {
     "data": {
      "text/plain": [
       "TSSM.Schroedinger1D{Float64}(Ptr{Void} @0x0000000006edbaa0)"
      ]
     },
     "execution_count": 117,
     "metadata": {},
     "output_type": "execute_result"
    }
   ],
   "source": [
    "nx = 8192\n",
    "xmin = -16\n",
    "xmax = +16\n",
    "m = Schroedinger1D(nx, xmin, xmax, cubic_coupling=-1)"
   ]
  },
  {
   "cell_type": "code",
   "execution_count": 118,
   "metadata": {
    "collapsed": false
   },
   "outputs": [
    {
     "data": {
      "text/plain": [
       "F (generic function with 3 methods)"
      ]
     },
     "execution_count": 118,
     "metadata": {},
     "output_type": "execute_result"
    }
   ],
   "source": [
    "# cubic_coupling=-1 has to be multiplied by -1im \n",
    "# because of the factor 1im at the lefthand side of the Schrödinger equation\n",
    "F(t, x, u) = 1im*conj(u)*u^2"
   ]
  },
  {
   "cell_type": "code",
   "execution_count": 119,
   "metadata": {
    "collapsed": false
   },
   "outputs": [
    {
     "data": {
      "text/plain": [
       "soliton (generic function with 1 method)"
      ]
     },
     "execution_count": 119,
     "metadata": {},
     "output_type": "execute_result"
    }
   ],
   "source": [
    "# exact solution\n",
    "const a = 2\n",
    "const b = 1\n",
    "const c = 0\n",
    "function soliton(x, t)\n",
    "    h = (a^2 - b^2)/2*t - b*x\n",
    "    (a./cosh(a*(b*t+x-c))).*exp(1im*h) \n",
    "end    "
   ]
  },
  {
   "cell_type": "code",
   "execution_count": 120,
   "metadata": {
    "collapsed": false
   },
   "outputs": [],
   "source": [
    "t0 = 0\n",
    "tend = 1\n",
    "psi = wave_function(m)\n",
    "psi_ref = wave_function(m)\n",
    "set!(psi, soliton, t0)        # initial data at t=t0\n",
    "set!(psi_ref, soliton, tend)  # reference solution at t=tend"
   ]
  },
  {
   "cell_type": "markdown",
   "metadata": {},
   "source": [
    "Composition coefficients from\n",
    "http://www.netlib.org/ode/composition.txt\n",
    "see also\n",
    "http://www.ams.org/journals/mcom/1997-66-219/S0025-5718-97-00873-9/S0025-5718-97-00873-9.pdf"
   ]
  },
  {
   "cell_type": "code",
   "execution_count": 121,
   "metadata": {
    "collapsed": false
   },
   "outputs": [
    {
     "data": {
      "text/plain": [
       "9-element Array{Float64,1}:\n",
       "  0.392161 \n",
       "  0.332599 \n",
       " -0.706246 \n",
       "  0.0822136\n",
       "  0.798544 \n",
       "  0.0822136\n",
       " -0.706246 \n",
       "  0.332599 \n",
       "  0.392161 "
      ]
     },
     "execution_count": 121,
     "metadata": {},
     "output_type": "execute_result"
    }
   ],
   "source": [
    "s9odr6a=[ \n",
    ".39216144400731413928,\n",
    ".33259913678935943860,\n",
    "-.70624617255763935981,\n",
    ".82213596293550800230E-1,\n",
    ".79854399093482996340,\n",
    ".82213596293550800230E-1,\n",
    "-.70624617255763935981,\n",
    ".33259913678935943860,\n",
    ".39216144400731413928,\n",
    "\n",
    "]"
   ]
  },
  {
   "cell_type": "code",
   "execution_count": 122,
   "metadata": {
    "collapsed": false
   },
   "outputs": [
    {
     "data": {
      "text/plain": [
       "9-element Array{Float64,1}:\n",
       "  0.39103  \n",
       "  0.334037 \n",
       " -0.706227 \n",
       "  0.0818775\n",
       "  0.798564 \n",
       "  0.0818775\n",
       " -0.706227 \n",
       "  0.334037 \n",
       "  0.39103  "
      ]
     },
     "execution_count": 122,
     "metadata": {},
     "output_type": "execute_result"
    }
   ],
   "source": [
    "s9odr6b=[\n",
    ".39103020330868478817,\n",
    ".33403728961113601749,\n",
    "-.70622728118756134345,\n",
    ".81877549648059445772E-1,\n",
    ".79856447723936218405,\n",
    ".81877549648059445772E-1,\n",
    "-.70622728118756134345,\n",
    ".33403728961113601749,\n",
    ".39103020330868478817]"
   ]
  },
  {
   "cell_type": "markdown",
   "metadata": {},
   "source": [
    "For the following see http://www.tandfonline.com/doi/abs/10.1080/10556780500140664"
   ]
  },
  {
   "cell_type": "code",
   "execution_count": 123,
   "metadata": {
    "collapsed": false
   },
   "outputs": [
    {
     "data": {
      "text/plain": [
       "11-element Array{Float64,1}:\n",
       "  0.213756\n",
       "  0.183294\n",
       "  0.176928\n",
       " -0.443291\n",
       "  0.117286\n",
       "  0.504055\n",
       "  0.117286\n",
       " -0.443291\n",
       "  0.176928\n",
       "  0.183294\n",
       "  0.213756"
      ]
     },
     "execution_count": 123,
     "metadata": {},
     "output_type": "execute_result"
    }
   ],
   "source": [
    "s11odr6=[\n",
    "0.21375583945878254555518066964857,\n",
    "0.18329381407425713911385974425217,\n",
    "0.17692819473098943794898811709929,\n",
    "-0.44329082681170215849622829626258,\n",
    "0.11728560432865935385403585669136,\n",
    "0.50405474843802736404832781714239,\n",
    "0.11728560432865935385403585669136,\n",
    "-0.44329082681170215849622829626258,\n",
    "0.17692819473098943794898811709929,\n",
    "0.18329381407425713911385974425217,\n",
    "0.21375583945878254555518066964857]    "
   ]
  },
  {
   "cell_type": "code",
   "execution_count": 124,
   "metadata": {
    "collapsed": false
   },
   "outputs": [
    {
     "data": {
      "text/plain": [
       "1.7002608394763918e-7"
      ]
     },
     "execution_count": 124,
     "metadata": {},
     "output_type": "execute_result"
    }
   ],
   "source": [
    "set!(psi, soliton, t0)\n",
    "#g = [1/(2-2^(1/3)),-2^(1/3)/(2-2^(1/3)), 1/(2-2^(1/3))] # Yoshida\n",
    "g = [1/(4-4^(1/3)),1/(4-4^(1/3)),-4^(1/3)/(4-4^(1/3)), 1/(4-4^(1/3)), 1/(4-4^(1/3))] # Suzuki\n",
    "#g = s11odr6\n",
    "N = 256\n",
    "dt = (tend-t0)/N\n",
    "psi_back = gen_starting_values(psi, dt, 4, g);\n",
    "psi = run(F, dt, N, psi_back, g)\n",
    "distance(psi, psi_ref)"
   ]
  },
  {
   "cell_type": "code",
   "execution_count": 104,
   "metadata": {
    "collapsed": false
   },
   "outputs": [
    {
     "data": {
      "text/plain": [
       "229.24375379798266"
      ]
     },
     "execution_count": 104,
     "metadata": {},
     "output_type": "execute_result"
    }
   ],
   "source": [
    "1.700260839476392e-7/7.416825153607977e-10"
   ]
  },
  {
   "cell_type": "code",
   "execution_count": 69,
   "metadata": {
    "collapsed": false
   },
   "outputs": [
    {
     "data": {
      "text/plain": [
       "50.7407919562073"
      ]
     },
     "execution_count": 69,
     "metadata": {},
     "output_type": "execute_result"
    }
   ],
   "source": [
    "2.9801973871570312e-5/5.873375783588756e-7"
   ]
  },
  {
   "cell_type": "code",
   "execution_count": 14,
   "metadata": {
    "collapsed": false
   },
   "outputs": [
    {
     "data": {
      "text/plain": [
       "15.874778159778462"
      ]
     },
     "execution_count": 14,
     "metadata": {},
     "output_type": "execute_result"
    }
   ],
   "source": [
    "5.56784149074978e-9/3.507350738832297e-10"
   ]
  },
  {
   "cell_type": "code",
   "execution_count": 125,
   "metadata": {
    "collapsed": true
   },
   "outputs": [],
   "source": [
    "const α=0.5\n",
    "#V2(x,t) = (α-1)*abs(soliton(x,t)).^2\n",
    "V2(x,t) = (α-1)*a^2./cosh(a*(b*t+x-c)).^2\n",
    "m = Schroedinger1D(nx, xmin, xmax, potential_t=V2, cubic_coupling=-α)\n",
    "psi = wave_function(m)\n",
    "psi_ref = wave_function(m)\n",
    "set!(psi, soliton, t0)        # initial data at t=t0\n",
    "set!(psi_ref, soliton, tend)  # reference solution at t=tend"
   ]
  },
  {
   "cell_type": "code",
   "execution_count": 136,
   "metadata": {
    "collapsed": false
   },
   "outputs": [
    {
     "data": {
      "text/plain": [
       "F (generic function with 3 methods)"
      ]
     },
     "execution_count": 136,
     "metadata": {},
     "output_type": "execute_result"
    }
   ],
   "source": [
    "F(t, x, u) = 1im*(α*conj(u)*u + (1-α)*a^2./cosh(a*(b*t+x-c)).^2)*u"
   ]
  },
  {
   "cell_type": "code",
   "execution_count": 171,
   "metadata": {
    "collapsed": false
   },
   "outputs": [
    {
     "data": {
      "text/plain": [
       "3.183650087680294e-12"
      ]
     },
     "execution_count": 171,
     "metadata": {},
     "output_type": "execute_result"
    }
   ],
   "source": [
    "set!(psi, soliton, t0)\n",
    "#g = [1/(2-2^(1/3)),-2^(1/3)/(2-2^(1/3)), 1/(2-2^(1/3))] # Yoshida\n",
    "#g = [1/(4-4^(1/3)),1/(4-4^(1/3)),-4^(1/3)/(4-4^(1/3)), 1/(4-4^(1/3)), 1/(4-4^(1/3))] # Suzuki\n",
    "g = s11odr6\n",
    "N = 512\n",
    "dt = (tend-t0)/N\n",
    "psi_back = gen_starting_values(psi, dt, 6, g);\n",
    "set_time!(psi, t0)\n",
    "psi = run(F, dt, N, psi_back, g)\n",
    "distance(psi, psi_ref)"
   ]
  },
  {
   "cell_type": "code",
   "execution_count": 177,
   "metadata": {
    "collapsed": false
   },
   "outputs": [
    {
     "data": {
      "text/plain": [
       "3-element Array{Float64,1}:\n",
       " -0.0416667\n",
       "  0.75     \n",
       "  0.291667 "
      ]
     },
     "execution_count": 177,
     "metadata": {},
     "output_type": "execute_result"
    }
   ],
   "source": [
    "a_i =[\n",
    " 1.000000000000000000,\n",
    "-0.666666666666666667,\n",
    "    0.666666666666666667]\n",
    "b_i=[\n",
    "-0.0416666666666666667,\n",
    " 0.750000000000000000,\n",
    "    0.291666666666666667]"
   ]
  },
  {
   "cell_type": "code",
   "execution_count": null,
   "metadata": {
    "collapsed": true
   },
   "outputs": [],
   "source": [
    "a_i =[\n",
    "    0.268330095781759925,\n",
    "    -0.187991618799159782,\n",
    "    0.919661523017399857]\n",
    "b_i =[\n",
    " 0.919661523017399857,\n",
    "-0.187991618799159782,\n",
    "    0.268330095781759925]"
   ]
  },
  {
   "cell_type": "code",
   "execution_count": 187,
   "metadata": {
    "collapsed": false
   },
   "outputs": [
    {
     "data": {
      "text/plain": [
       "8-element Array{Float64,1}:\n",
       "  0.578801 \n",
       "  0.273129 \n",
       " -0.102734 \n",
       "  0.0680149\n",
       " -0.835352 \n",
       "  0.253874 \n",
       "  0.562616 \n",
       "  0.201651 "
      ]
     },
     "execution_count": 187,
     "metadata": {},
     "output_type": "execute_result"
    }
   ],
   "source": [
    "a_i=[\n",
    " 0.201651044312324230,\n",
    " 0.562615975356569200,\n",
    " 0.253874038247554845,\n",
    "-0.835351693190370636,\n",
    " 0.068014946093165092,\n",
    "-0.102733803148432142,\n",
    " 0.273128836056524479,\n",
    "0.578800656272664932]\n",
    "b_i=[\n",
    " 0.578800656272664932,\n",
    " 0.273128836056524479,\n",
    "-0.102733803148432142,\n",
    " 0.068014946093165092,\n",
    "-0.835351693190370636,\n",
    " 0.253874038247554845,\n",
    " 0.562615975356569200,\n",
    "0.201651044312324230]"
   ]
  },
  {
   "cell_type": "code",
   "execution_count": 189,
   "metadata": {
    "collapsed": false
   },
   "outputs": [
    {
     "data": {
      "text/plain": [
       "1.1147852675915409e-9"
      ]
     },
     "execution_count": 189,
     "metadata": {},
     "output_type": "execute_result"
    }
   ],
   "source": [
    "z = cumsum(a_i)\n",
    "set!(psi, soliton, t0)\n",
    "N = 256\n",
    "dt = (tend-t0)/N\n",
    "psi_back = gen_starting_values(psi, dt, 5, a_i, b_i, z);\n",
    "set_time!(psi, t0)\n",
    "psi = run(F, dt, N, psi_back, a_i, b_i, z)\n",
    "distance(psi, psi_ref)"
   ]
  },
  {
   "cell_type": "code",
   "execution_count": 190,
   "metadata": {
    "collapsed": false
   },
   "outputs": [
    {
     "data": {
      "text/plain": [
       "30.529245050208615"
      ]
     },
     "execution_count": 190,
     "metadata": {},
     "output_type": "execute_result"
    }
   ],
   "source": [
    "3.403355261266454e-8/1.1147852675915409e-9"
   ]
  },
  {
   "cell_type": "code",
   "execution_count": 176,
   "metadata": {
    "collapsed": false
   },
   "outputs": [
    {
     "data": {
      "text/plain": [
       "7.899642263791185"
      ]
     },
     "execution_count": 176,
     "metadata": {},
     "output_type": "execute_result"
    }
   ],
   "source": [
    "3.636730689666147e-6/4.6036650372580443e-7"
   ]
  },
  {
   "cell_type": "code",
   "execution_count": 181,
   "metadata": {
    "collapsed": false
   },
   "outputs": [
    {
     "data": {
      "text/plain": [
       "7.898751360233607"
      ]
     },
     "execution_count": 181,
     "metadata": {},
     "output_type": "execute_result"
    }
   ],
   "source": [
    "3.692930808435428e-6/4.6753349232228637e-7"
   ]
  },
  {
   "cell_type": "code",
   "execution_count": null,
   "metadata": {
    "collapsed": true
   },
   "outputs": [],
   "source": []
  }
 ],
 "metadata": {
  "kernelspec": {
   "display_name": "Julia 0.4.5",
   "language": "julia",
   "name": "julia-0.4"
  },
  "language_info": {
   "file_extension": ".jl",
   "mimetype": "application/julia",
   "name": "julia",
   "version": "0.4.5"
  }
 },
 "nbformat": 4,
 "nbformat_minor": 0
}
