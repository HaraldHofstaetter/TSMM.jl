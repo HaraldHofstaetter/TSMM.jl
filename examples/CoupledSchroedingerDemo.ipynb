{
 "cells": [
  {
   "cell_type": "code",
   "execution_count": 1,
   "metadata": {
    "collapsed": false
   },
   "outputs": [
    {
     "name": "stdout",
     "output_type": "stream",
     "text": [
      " *** OPENMP n_threads =           8\n"
     ]
    },
    {
     "data": {
      "text/plain": [
       "local_orders (generic function with 5 methods)"
      ]
     },
     "execution_count": 1,
     "metadata": {},
     "output_type": "execute_result"
    }
   ],
   "source": [
    "using TSSM\n",
    "using PyPlot\n",
    "include(\"coupled_schroedinger.jl\")\n",
    "include(\"time_stepper.jl\")"
   ]
  },
  {
   "cell_type": "markdown",
   "metadata": {},
   "source": [
    "## Coupled Nonlinear Schrödinger equation\n",
    "\n",
    "$$\\mathrm{i}\\left(\\frac{\\partial \\psi_1}{\\partial t}+\\delta \\frac{\\partial \\psi_1}{\\partial x}\\right)+\\frac{1}{2}\\frac{\\partial^2\\psi_1}{\\partial x^2}+(|\\psi_1|^2+e|\\psi_2|^2)\\psi_1=0,\\\\\n",
    "\\mathrm{i}\\left(\\frac{\\partial \\psi_2}{\\partial t}+\\delta \\frac{\\partial \\psi_2}{\\partial x}\\right)+\\frac{1}{2}\\frac{\\partial^2\\psi_2}{\\partial x^2}+(e|\\psi_1|^2+|\\psi_2|^2)\\psi_2=0,\\\\\n",
    "$$ and initial condition\n",
    "$$\\psi_1(x,0)=\\sum_{j=1}^2\\sqrt{\\frac{2a_j}{1+e}}\\sech(\\sqrt{2\\alpha_j}x_j)\\exp(\\mathrm{i}(v_j-\\delta)x_j),\\\\\n",
    "\\psi_2(x,0)=\\sum_{j=1}^2\\sqrt{\\frac{2a_j}{1+e}}\\sech(\\sqrt{2\\alpha_j}x_j)\\exp(\\mathrm{i}(v_j-\\delta)x_j)\n",
    "$$\n",
    "where $x_1=x$ and $x_2=x-25$ ande the other parameters as below."
   ]
  },
  {
   "cell_type": "code",
   "execution_count": 2,
   "metadata": {
    "collapsed": false
   },
   "outputs": [
    {
     "data": {
      "text/plain": [
       "1024"
      ]
     },
     "execution_count": 2,
     "metadata": {},
     "output_type": "execute_result"
    }
   ],
   "source": [
    "const alpha1=1.0\n",
    "const alpha2=0.5\n",
    "const e=2/3.0\n",
    "const v1=1.0\n",
    "const v2=0.1\n",
    "const delta=0.5\n",
    "\n",
    "xmin=-20\n",
    "xmax=60\n",
    "nx=1024"
   ]
  },
  {
   "cell_type": "code",
   "execution_count": 3,
   "metadata": {
    "collapsed": false
   },
   "outputs": [
    {
     "data": {
      "text/plain": [
       "Function2(init1,init2)"
      ]
     },
     "execution_count": 3,
     "metadata": {},
     "output_type": "execute_result"
    }
   ],
   "source": [
    "m=CoupledSchroedinger1D(nx,xmin,xmax, delta, e)\n",
    "psia=wave_function(m)\n",
    "psi_ref=wave_function(m)\n",
    "psi=wave_function(m)\n",
    "\n",
    "#initialcondition\n",
    "function init1(x)\n",
    "    (sqrt(2*alpha1/(1+e)) * sech(sqrt(2*alpha1)*(x))    * exp(1im*( (v1-delta)*x )))+\n",
    "    (sqrt(2*alpha2/(1+e)) * sech(sqrt(2*alpha2)*(x-25)) * exp(1im*( (v2-delta)*(x-25) )))\n",
    "end\n",
    "\n",
    "function init2(x)\n",
    "    (sqrt(2*alpha1/(1+e)) * sech(sqrt(2*alpha1)*(x))    * exp(1im*( (v1+delta)*x )))+\n",
    "    (sqrt(2*alpha2/(1+e)) * sech(sqrt(2*alpha2)*(x-25)) * exp(1im*( (v2+delta)*(x-25) )))\n",
    "end\n",
    "\n",
    "init = Function2(init1,init2)"
   ]
  },
  {
   "cell_type": "code",
   "execution_count": 4,
   "metadata": {
    "collapsed": true
   },
   "outputs": [],
   "source": [
    "#some schemes\n",
    "#Emb 4/3 AK p\n",
    "embedded_scheme_43 = EmbeddedScheme(\n",
    "          ( 0.125962888700250514,  0.333588446797901933,\n",
    "            0.751193431379145450, -0.338296598434303506,\n",
    "            0.127551831557005609,  0.127551831557005609,\n",
    "           -0.338296598434303506,  0.751193431379145450,\n",
    "            0.333588446797901933,  0.125962888700250514 ),\n",
    "\n",
    "          ( 0.125962888700250514,  0.333588446797901933,\n",
    "            0.751193431379145450, -0.338296598434303506,\n",
    "            0.0                 ,  0.261153550449697153,\n",
    "           -0.242703571757396124,  0.596114052266110425,\n",
    "            0.365547251678000160,  0.147440548920593995 ),\n",
    "\n",
    "            4 )\n",
    "#PP 3/4 A\n",
    "palindromic_scheme_34 = PalindromicScheme( \n",
    "          ( 0.268330095781759925,  0.919661523017399857, \n",
    "           -0.187991618799159782, -0.187991618799159782, \n",
    "            0.919661523017399857,  0.268330095781759925 ),\n",
    "            3 )\n",
    "#PP 5/6 A\n",
    "palindromic_scheme_56 = PalindromicScheme(\n",
    "          ( 0.201651044312324230,   0.578800656272664932, \n",
    "            0.562615975356569200,   0.273128836056524479, \n",
    "            0.253874038247554845,  -0.102733803148432142, \n",
    "           -0.835351693190370636,   0.068014946093165092, \n",
    "            0.068014946093165092,  -0.835351693190370636,\n",
    "           -0.102733803148432142,   0.253874038247554845, \n",
    "            0.273128836056524479,   0.562615975356569200, \n",
    "            0.578800656272664932,   0.201651044312324230 ),            \n",
    "            5 )\n",
    "#defectbased\n",
    "embedded_scheme_43_D = DefectBasedScheme(\n",
    "            embedded_scheme_43.scheme2,\n",
    "            embedded_scheme_43.order )\n",
    "palindromic_scheme_34_D = DefectBasedScheme( \n",
    "            palindromic_scheme_34.scheme,\n",
    "            palindromic_scheme_34.order )\n",
    "palindromic_scheme_56_D = DefectBasedScheme(\n",
    "            palindromic_scheme_56.scheme,            \n",
    "            palindromic_scheme_56.order )\n",
    "schemes=[embedded_scheme_43  ,palindromic_scheme_34  ,palindromic_scheme_56,\n",
    "         embedded_scheme_43_D,palindromic_scheme_34_D,palindromic_scheme_56_D];"
   ]
  },
  {
   "cell_type": "code",
   "execution_count": 5,
   "metadata": {
    "collapsed": false
   },
   "outputs": [
    {
     "data": {
      "text/plain": [
       "calc_stepmin (generic function with 1 method)"
      ]
     },
     "execution_count": 5,
     "metadata": {},
     "output_type": "execute_result"
    }
   ],
   "source": [
    "function equidistant_time_stepper(psi::WaveFunction, t0::Real, tend::Real, \n",
    "                         dt::Real, es::EmbeddedScheme, \n",
    "                         operator_sequence=\"AB\")\n",
    "    equidistant_time_stepper(psi, t0, tend, dt, es.scheme2,\n",
    "                         operator_sequence)\n",
    "end \n",
    "function equidistant_time_stepper(psi::WaveFunction, t0::Real, tend::Real, \n",
    "                         dt::Real, es::DefectBasedScheme, \n",
    "                         operator_sequence=\"AB\")\n",
    "    equidistant_time_stepper(psi, t0, tend, dt, es.scheme,\n",
    "                         operator_sequence)\n",
    "end \n",
    "function equidistant_time_stepper(psi::WaveFunction, t0::Real, tend::Real, \n",
    "                         dt::Real, ps::PalindromicScheme, \n",
    "                         operator_sequence=\"AB\")\n",
    "    equidistant_time_stepper(psi, t0, tend, dt, ps.scheme,\n",
    "                         operator_sequence)\n",
    "end \n",
    "function step!(psi::WaveFunction, dt::Real, scheme::EmbeddedScheme, operator_sequence=\"AB\")\n",
    "    step!(psi,dt,scheme.scheme2,operator_sequence)\n",
    "end\n",
    "function step!(psi::WaveFunction, dt::Real, scheme::PalindromicScheme, operator_sequence=\"AB\")\n",
    "    step!(psi,dt,scheme.scheme,operator_sequence)\n",
    "end\n",
    "function step!(psi::WaveFunction, dt::Real, scheme::DefectBasedScheme, operator_sequence=\"AB\")\n",
    "    step!(psi,dt,scheme.scheme,operator_sequence)\n",
    "end\n",
    "function calc_stepmin(psi_ref,psia,psi,scheme,soliton)\n",
    "            h=1.0\n",
    "            chg=h/2\n",
    "            #@printf(\"||psi_a-psi_ref||=%5.3E ,stepmin= %5.3E,h=%5.3E \\n\",distance(psia,psi_ref),stepmin,h)\n",
    "            set!(psi, soliton) \n",
    "            while chg>1e-5 || distance(psia,psi_ref) < distance(psi,psi_ref)\n",
    "                set!(psi, soliton) \n",
    "                time = @elapsed for t in equidistant_time_stepper(psi, t0, tend, h, scheme, \"AB\")\n",
    "                end\n",
    "                #@printf(\"||psi-psi_ref||=%5.3E,  h=%5.3E \\n\",distance(psi,psi_ref),h)\n",
    "                if distance(psia,psi_ref) < distance(psi,psi_ref)\n",
    "                    h=h-chg\n",
    "                else\n",
    "                    h=h+chg\n",
    "                end\n",
    "                chg=chg/2\n",
    "            end\n",
    "    return h\n",
    "end"
   ]
  },
  {
   "cell_type": "code",
   "execution_count": 13,
   "metadata": {
    "collapsed": false
   },
   "outputs": [
    {
     "data": {
      "text/plain": [
       "1"
      ]
     },
     "execution_count": 13,
     "metadata": {},
     "output_type": "execute_result"
    }
   ],
   "source": [
    "  tend=50.0\n",
    "  t0=0.0\n",
    "  tol=-5\n",
    "  scheme=embedded_scheme_43\n",
    "  out=0\n",
    "  stepmin_ex=1"
   ]
  },
  {
   "cell_type": "code",
   "execution_count": 7,
   "metadata": {
    "collapsed": false
   },
   "outputs": [
    {
     "name": "stdout",
     "output_type": "stream",
     "text": [
      " 69.123768 seconds (9.91 M allocations: 28.251 GB, 2.14% gc time)\n",
      "||psi-psi_ref||=NaN, ||psi_a-psi_ref||=NaN \n"
     ]
    }
   ],
   "source": [
    "set!(psi_ref, init)\n",
    "@time for t in adaptive_time_stepper(psi_ref, t0, tend, 0.1, 1e-12, palindromic_scheme_56, \"AB\")\n",
    "end\n",
    "#@printf(\"||psi-psi_ref||=%E, ||psi_a-psi_ref||=%E \\n\",distance(psi,psi_ref),distance(psia,psi_ref))"
   ]
  },
  {
   "cell_type": "code",
   "execution_count": 14,
   "metadata": {
    "collapsed": false
   },
   "outputs": [
    {
     "name": "stdout",
     "output_type": "stream",
     "text": [
      "TOL | steps adaptive | steps equidist | time adaptive | time equidist \n",
      "E-5 |            1032 |           2560 |         4.832 |        3.254  \n"
     ]
    }
   ],
   "source": [
    "  x = get_nodes(m.m1)\n",
    "  u1 = get_data(psia.psi1, true)\n",
    "  u2 = get_data(psia.psi2, true)\n",
    "  stepsa=[0.0]\n",
    "  mytimea=[0.0]\n",
    "  nstepsa=0\n",
    "  steps=[0.0]\n",
    "  mytime=[0.0]\n",
    "  nsteps=0\n",
    "  set!(psia, init)\n",
    "  set!(psi, init)\n",
    "\n",
    "  plotdata1=abs(u1).^2\n",
    "  plotdata2=abs(u2).^2\n",
    "  told=0.0\n",
    "\n",
    "\n",
    "\n",
    "timea = @elapsed for t in adaptive_time_stepper(psia, t0, tend, 0.1, 10.0^tol, scheme, \"AB\")\n",
    "  push!(stepsa,t-told)\n",
    "  push!(mytimea,t)\n",
    "  told=t\n",
    "  nstepsa=nstepsa+1\n",
    "  if out==1\n",
    "     to_real_space!(psia.psi1)\n",
    "     to_real_space!(psia.psi2)\n",
    "     plotdata1 = [plotdata1 abs(u1).^2]\n",
    "     plotdata2 = [plotdata2 abs(u2).^2]\n",
    "  end\n",
    "  end\n",
    "\n",
    "  stepmin=minimum(stepsa[2:end-1])\n",
    "if stepmin_ex==1\n",
    "    stepmin=calc_stepmin(psi_ref,psia,psi,scheme,init)\n",
    "end\n",
    "set!(psi, init) #compute again with constant stepsize.\n",
    "  nsteps=0\n",
    "  told=0\n",
    "\n",
    "time = @elapsed for t in equidistant_time_stepper(psi, t0, tend, stepmin, scheme, \"AB\")\n",
    "  push!(steps,t-told)\n",
    "  push!(mytime,t)\n",
    "  told=t\n",
    "  nsteps=nsteps+1\n",
    "  if out==1\n",
    "    #@printf(\"t=%5.3f\\n\", t)\n",
    "  end\n",
    "  end\n",
    "\n",
    "@printf(\"TOL | steps adaptive | steps equidist | time adaptive | time equidist \\n\")\n",
    "@printf(\"E%d |            %d |           %d |         %5.3f |        %5.3f  \\n\",tol,nstepsa,nsteps,timea,time)\n"
   ]
  },
  {
   "cell_type": "code",
   "execution_count": 12,
   "metadata": {
    "collapsed": false
   },
   "outputs": [
    {
     "data": {
      "image/png": "[encoded data removed]",
      "text/plain": [
       "PyPlot.Figure(PyObject <matplotlib.figure.Figure object at 0x7f1c3b6214d0>)"
      ]
     },
     "metadata": {},
     "output_type": "display_data"
    }
   ],
   "source": [
    "  figure(1)\n",
    "  hold(false)\n",
    "  if out==1\n",
    "  subplot(3, 1, 1)\n",
    "  pcolormesh(mytimea,x,plotdata1)\n",
    "  xlabel(\"\\$t\\$\")\n",
    "  ylabel(\"\\$x\\$\")\n",
    "  subplot(3, 1, 2)\n",
    "  pcolormesh(mytimea,x,plotdata2)\n",
    "  xlabel(\"\\$t\\$\")\n",
    "  ylabel(\"\\$x\\$\")\n",
    "    #colorbar()\n",
    "  axis([t0,tend,xmin,xmax])\n",
    "  subplot(3, 1, 3)\n",
    "  end\n",
    "  plot(mytimea[1:end-2], stepsa[2:end-1])\n",
    "  xlabel(\"\\$t\\$\")\n",
    "  ylabel(\"stepsize\")\n",
    "savefig(\"step.png\", bbox_inches=\"tight\")"
   ]
  },
  {
   "cell_type": "code",
   "execution_count": null,
   "metadata": {
    "collapsed": false
   },
   "outputs": [],
   "source": []
  },
  {
   "cell_type": "code",
   "execution_count": null,
   "metadata": {
    "collapsed": true
   },
   "outputs": [],
   "source": []
  }
 ],
 "metadata": {
  "kernelspec": {
   "display_name": "Julia 0.4.3",
   "language": "julia",
   "name": "julia-0.4"
  },
  "language_info": {
   "file_extension": ".jl",
   "mimetype": "application/julia",
   "name": "julia",
   "version": "0.4.3"
  }
 },
 "nbformat": 4,
 "nbformat_minor": 0
}
