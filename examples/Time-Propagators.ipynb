{
 "cells": [
  {
   "cell_type": "code",
   "execution_count": 1,
   "metadata": {
    "collapsed": false
   },
   "outputs": [
    {
     "name": "stdout",
     "output_type": "stream",
     "text": [
      " *** OPENMP n_threads =           4\n"
     ]
    }
   ],
   "source": [
    "using TSSM"
   ]
  },
  {
   "cell_type": "code",
   "execution_count": 2,
   "metadata": {
    "collapsed": false
   },
   "outputs": [
    {
     "data": {
      "text/plain": [
       "TSSM.Schroedinger1D{Float64}(Ptr{Void} @0x000000000365f220)"
      ]
     },
     "execution_count": 2,
     "metadata": {},
     "output_type": "execute_result"
    }
   ],
   "source": [
    "nx = 1024\n",
    "xmin = -16\n",
    "xmax = +16\n",
    "meth = Schroedinger1D(nx, xmin, xmax, cubic_coupling=-1)"
   ]
  },
  {
   "cell_type": "code",
   "execution_count": 3,
   "metadata": {
    "collapsed": false
   },
   "outputs": [
    {
     "data": {
      "text/plain": [
       "soliton (generic function with 1 method)"
      ]
     },
     "execution_count": 3,
     "metadata": {},
     "output_type": "execute_result"
    }
   ],
   "source": [
    "# exact solution\n",
    "function soliton(x, t)\n",
    "    a = 2.0\n",
    "    b = 1.0\n",
    "    c = 0.0    \n",
    "    h = (a^2 - b^2)/2*t - b*x\n",
    "    (a./cosh(a*(b*t+x-c))).*exp(1im*h) \n",
    "end    "
   ]
  },
  {
   "cell_type": "code",
   "execution_count": 4,
   "metadata": {
    "collapsed": false
   },
   "outputs": [
    {
     "data": {
      "text/plain": [
       "TSSM.Schroedinger1D{Float64}(Ptr{Void} @0x0000000003bbff70)"
      ]
     },
     "execution_count": 4,
     "metadata": {},
     "output_type": "execute_result"
    }
   ],
   "source": [
    "V(x,t) = 0.5*abs(soliton(x,t)).^2\n",
    "method = Schroedinger1D(nx, xmin, xmax, potential_t=V, cubic_coupling=-0.5)"
   ]
  },
  {
   "cell_type": "code",
   "execution_count": 5,
   "metadata": {
    "collapsed": false
   },
   "outputs": [
    {
     "data": {
      "text/plain": [
       "gen_rhs! (generic function with 1 method)"
      ]
     },
     "execution_count": 5,
     "metadata": {},
     "output_type": "execute_result"
    }
   ],
   "source": [
    "# cubic_coupling=-1 has to be multiplied by -1im \n",
    "# because of the factor 1im at the lefthand side of the Schrödinger equation\n",
    "F(t, x, u) = 0.5*1im*conj(u)*u^2 + 0.5*1im*abs(soliton(x,t)).^2*u\n",
    "function gen_rhs!(rhs::WfSchroedinger1D, psi::WfSchroedinger1D)\n",
    "    to_real_space!(rhs)\n",
    "    to_real_space!(psi)\n",
    "    t = get_time(psi)\n",
    "    u = get_data(psi, true)\n",
    "    u1 = get_data(rhs, true)\n",
    "    x = get_nodes(psi.m)\n",
    "    for j=1:length(u)\n",
    "        u1[j] = F(t, x[j], u[j])\n",
    "    end\n",
    "end"
   ]
  },
  {
   "cell_type": "code",
   "execution_count": 6,
   "metadata": {
    "collapsed": false
   },
   "outputs": [
    {
     "data": {
      "text/plain": [
       "TSSM.WfSchroedinger1D{Float64}(Ptr{Void} @0x0000000003ba5ef0,TSSM.Schroedinger1D{Float64}(Ptr{Void} @0x000000000365f220))"
      ]
     },
     "execution_count": 6,
     "metadata": {},
     "output_type": "execute_result"
    }
   ],
   "source": [
    "t0 = 0.0\n",
    "tend = 1.0\n",
    "psi = wave_function(meth)\n",
    "psi_ref = wave_function(meth)"
   ]
  },
  {
   "cell_type": "code",
   "execution_count": 7,
   "metadata": {
    "collapsed": false
   },
   "outputs": [
    {
     "data": {
      "text/plain": [
       "step! (generic function with 4 methods)"
      ]
     },
     "execution_count": 7,
     "metadata": {},
     "output_type": "execute_result"
    }
   ],
   "source": [
    "include(\"time_propagators.jl\")"
   ]
  },
  {
   "cell_type": "markdown",
   "metadata": {},
   "source": [
    "# One-step methods"
   ]
  },
  {
   "cell_type": "markdown",
   "metadata": {},
   "source": [
    "## Explicit Runge-Kutta\n",
    "### Classical Runge-Kutta scheme of order 4"
   ]
  },
  {
   "cell_type": "code",
   "execution_count": 8,
   "metadata": {
    "collapsed": false
   },
   "outputs": [
    {
     "name": "stdout",
     "output_type": "stream",
     "text": [
      "             dt         err      p\n",
      "-----------------------------------\n",
      "  1   2.500e-01         NaN\n",
      "  2   1.250e-01         NaN    NaN\n",
      "  3   6.250e-02         NaN    NaN\n",
      "  4   3.125e-02         NaN    NaN\n",
      "  5   1.563e-02         NaN    NaN\n",
      "  6   7.813e-03         NaN    NaN\n",
      "  7   3.906e-03         NaN    NaN\n",
      "  8   1.953e-03         NaN    NaN\n",
      "  9   9.766e-04         NaN    NaN\n",
      " 10   4.883e-04   4.933e-13    NaN\n"
     ]
    }
   ],
   "source": [
    "set!(psi, soliton, t0)\n",
    "set!(psi_ref, soliton, tend)\n",
    "method = ExponentialRungeKutta(:rk4)\n",
    "global_orders(method, psi, psi_ref, t0, tend, .25, rows=10)"
   ]
  },
  {
   "cell_type": "markdown",
   "metadata": {},
   "source": [
    "## Splitting Method\n",
    "### 5-step composition of order 4 (Suzuki)"
   ]
  },
  {
   "cell_type": "code",
   "execution_count": 9,
   "metadata": {
    "collapsed": false
   },
   "outputs": [
    {
     "name": "stdout",
     "output_type": "stream",
     "text": [
      "             dt         err      p\n",
      "-----------------------------------\n",
      "  1   2.500e-01   3.184e-02\n",
      "  2   1.250e-01   4.867e-03   2.71\n",
      "  3   6.250e-02   3.391e-04   3.84\n",
      "  4   3.125e-02   8.288e-06   5.35\n",
      "  5   1.563e-02   3.653e-07   4.50\n",
      "  6   7.813e-03   2.266e-08   4.01\n",
      "  7   3.906e-03   1.414e-09   4.00\n",
      "  8   1.953e-03   8.834e-11   4.00\n",
      "  9   9.766e-04   5.289e-12   4.06\n",
      " 10   4.883e-04   9.566e-13   2.47\n"
     ]
    }
   ],
   "source": [
    "set!(psi, soliton, t0)\n",
    "set!(psi_ref, soliton, tend)\n",
    "g = [1/(4-4^(1/3)),1/(4-4^(1/3)),-4^(1/3)/(4-4^(1/3)), 1/(4-4^(1/3)), 1/(4-4^(1/3))] # Suzuki\n",
    "a, b = get_coeffs_composition(g)\n",
    "method = SplittingMethod(a,b)\n",
    "global_orders(method, psi, psi_ref, t0, tend, .25, rows=10)"
   ]
  },
  {
   "cell_type": "markdown",
   "metadata": {},
   "source": [
    "### 3-step composition of order 4 (Yoshida)"
   ]
  },
  {
   "cell_type": "code",
   "execution_count": 10,
   "metadata": {
    "collapsed": false
   },
   "outputs": [
    {
     "name": "stdout",
     "output_type": "stream",
     "text": [
      "             dt         err      p\n",
      "-----------------------------------\n",
      "  1   2.500e-01   3.696e-01\n",
      "  2   1.250e-01   6.568e-02   2.49\n",
      "  3   6.250e-02   5.800e-03   3.50\n",
      "  4   3.125e-02   3.752e-04   3.95\n",
      "  5   1.563e-02   2.397e-05   3.97\n",
      "  6   7.813e-03   1.507e-06   3.99\n",
      "  7   3.906e-03   9.435e-08   4.00\n",
      "  8   1.953e-03   5.899e-09   4.00\n",
      "  9   9.766e-04   3.688e-10   4.00\n",
      " 10   4.883e-04   2.275e-11   4.02\n"
     ]
    }
   ],
   "source": [
    "set!(psi, soliton, t0)\n",
    "set!(psi_ref, soliton, tend)\n",
    "g = [1.351207191959657634, -1.702414383919315268, 1.351207191959657634] # Yoshida\n",
    "a, b = get_coeffs_composition(g)\n",
    "method = SplittingMethod(a,b)\n",
    "global_orders(method, psi, psi_ref, t0, tend, .25, rows=10)"
   ]
  },
  {
   "cell_type": "markdown",
   "metadata": {},
   "source": [
    "## Composition Method, B-part: implizit midpoint rule\n",
    "### 5-step composition of order 4 (Suzuki), 3 fixed-point iterations"
   ]
  },
  {
   "cell_type": "code",
   "execution_count": 11,
   "metadata": {
    "collapsed": false
   },
   "outputs": [
    {
     "name": "stdout",
     "output_type": "stream",
     "text": [
      "             dt         err      p\n",
      "-----------------------------------\n",
      "  1   2.500e-01   3.357e-01\n",
      "  2   1.250e-01   5.777e-02   2.54\n",
      "  3   6.250e-02   7.520e-03   2.94\n",
      "  4   3.125e-02   9.324e-04   3.01\n",
      "  5   1.563e-02   1.155e-04   3.01\n",
      "  6   7.813e-03   1.436e-05   3.01\n",
      "  7   3.906e-03   1.790e-06   3.00\n",
      "  8   1.953e-03   2.234e-07   3.00\n",
      "  9   9.766e-04   2.790e-08   3.00\n",
      " 10   4.883e-04   3.486e-09   3.00\n"
     ]
    }
   ],
   "source": [
    "set!(psi, soliton, t0)\n",
    "set!(psi_ref, soliton, tend)\n",
    "g = [1/(4-4^(1/3)),1/(4-4^(1/3)),-4^(1/3)/(4-4^(1/3)), 1/(4-4^(1/3)), 1/(4-4^(1/3))] # Suzuki\n",
    "method = CompositionMethod(g,2)\n",
    "global_orders(method, psi, psi_ref, t0, tend, .25, rows=10)"
   ]
  },
  {
   "cell_type": "markdown",
   "metadata": {},
   "source": [
    "### 4 fixed-point iterations"
   ]
  },
  {
   "cell_type": "code",
   "execution_count": 12,
   "metadata": {
    "collapsed": false
   },
   "outputs": [
    {
     "name": "stdout",
     "output_type": "stream",
     "text": [
      "             dt         err      p\n",
      "-----------------------------------\n",
      "  1   2.500e-01   4.153e-02\n",
      "  2   1.250e-01   5.614e-03   2.89\n",
      "  3   6.250e-02   4.207e-04   3.74\n",
      "  4   3.125e-02   8.396e-06   5.65\n",
      "  5   1.563e-02   2.256e-07   5.22\n",
      "  6   7.813e-03   1.433e-08   3.98\n",
      "  7   3.906e-03   9.139e-10   3.97\n",
      "  8   1.953e-03   5.780e-11   3.98\n",
      "  9   9.766e-04   3.741e-12   3.95\n",
      " 10   4.883e-04   9.907e-13   1.92\n"
     ]
    }
   ],
   "source": [
    "set!(psi, soliton, t0)\n",
    "set!(psi_ref, soliton, tend)\n",
    "g = [1/(4-4^(1/3)),1/(4-4^(1/3)),-4^(1/3)/(4-4^(1/3)), 1/(4-4^(1/3)), 1/(4-4^(1/3))] # Suzuki\n",
    "method = CompositionMethod(g,3)\n",
    "global_orders(method, psi, psi_ref, t0, tend, .25, rows=10)"
   ]
  },
  {
   "cell_type": "markdown",
   "metadata": {},
   "source": [
    "### 3-step composition of order 4 (Yoshida), 3 fixed-point iterations"
   ]
  },
  {
   "cell_type": "code",
   "execution_count": 13,
   "metadata": {
    "collapsed": false
   },
   "outputs": [
    {
     "name": "stdout",
     "output_type": "stream",
     "text": [
      "             dt         err      p\n",
      "-----------------------------------\n",
      "  1   2.500e-01   9.449e-01\n",
      "  2   1.250e-01   2.432e-01   1.96\n",
      "  3   6.250e-02   1.409e-02   4.11\n",
      "  4   3.125e-02   4.193e-04   5.07\n",
      "  5   1.563e-02   1.015e-05   5.37\n",
      "  6   7.813e-03   3.930e-07   4.69\n",
      "  7   3.906e-03   3.126e-08   3.65\n",
      "  8   1.953e-03   2.312e-09   3.76\n",
      "  9   9.766e-04   1.569e-10   3.88\n",
      " 10   4.883e-04   1.033e-11   3.93\n"
     ]
    }
   ],
   "source": [
    "set!(psi, soliton, t0)\n",
    "set!(psi_ref, soliton, tend)\n",
    "g = [1.351207191959657634, -1.702414383919315268, 1.351207191959657634] # Yoshida\n",
    "method = CompositionMethod(g,3)\n",
    "global_orders(method, psi, psi_ref, t0, tend, .25, rows=10)"
   ]
  },
  {
   "cell_type": "markdown",
   "metadata": {},
   "source": [
    "## Exponential Runge-Kutta \n",
    "### Krogstad scheme of order 4"
   ]
  },
  {
   "cell_type": "code",
   "execution_count": 14,
   "metadata": {
    "collapsed": false
   },
   "outputs": [
    {
     "name": "stdout",
     "output_type": "stream",
     "text": [
      "             dt         err      p\n",
      "-----------------------------------\n",
      "  1   2.500e-01   3.870e-02\n",
      "  2   1.250e-01   4.560e-03   3.09\n",
      "  3   6.250e-02   3.267e-04   3.80\n",
      "  4   3.125e-02   2.040e-05   4.00\n",
      "  5   1.563e-02   1.245e-06   4.03\n",
      "  6   7.813e-03   7.638e-08   4.03\n",
      "  7   3.906e-03   4.721e-09   4.02\n",
      "  8   1.953e-03   2.933e-10   4.01\n",
      "  9   9.766e-04   1.827e-11   4.00\n",
      " 10   4.883e-04   1.158e-12   3.98\n"
     ]
    }
   ],
   "source": [
    "set!(psi, soliton, t0)\n",
    "set!(psi_ref, soliton, tend)\n",
    "method = ExponentialRungeKutta(:krogstad)\n",
    "global_orders(method, psi, psi_ref, t0, tend, .25, rows=10)"
   ]
  },
  {
   "cell_type": "markdown",
   "metadata": {},
   "source": [
    "### Strehmel-Weiner scheme of order 4"
   ]
  },
  {
   "cell_type": "code",
   "execution_count": 15,
   "metadata": {
    "collapsed": false
   },
   "outputs": [
    {
     "name": "stdout",
     "output_type": "stream",
     "text": [
      "             dt         err      p\n",
      "-----------------------------------\n",
      "  1   2.500e-01   5.246e-02\n",
      "  2   1.250e-01   5.453e-03   3.27\n",
      "  3   6.250e-02   3.831e-04   3.83\n",
      "  4   3.125e-02   2.401e-05   4.00\n",
      "  5   1.563e-02   1.475e-06   4.03\n",
      "  6   7.813e-03   9.086e-08   4.02\n",
      "  7   3.906e-03   5.631e-09   4.01\n",
      "  8   1.953e-03   3.503e-10   4.01\n",
      "  9   9.766e-04   2.184e-11   4.00\n",
      " 10   4.883e-04   1.376e-12   3.99\n"
     ]
    }
   ],
   "source": [
    "set!(psi, soliton, t0)\n",
    "set!(psi_ref, soliton, tend)\n",
    "method = ExponentialRungeKutta(:strehmel_weiner)\n",
    "global_orders(method, psi, psi_ref, t0, tend, .25, rows=10)"
   ]
  },
  {
   "cell_type": "markdown",
   "metadata": {},
   "source": [
    "# Multistep methods"
   ]
  },
  {
   "cell_type": "code",
   "execution_count": 16,
   "metadata": {
    "collapsed": false
   },
   "outputs": [
    {
     "data": {
      "text/plain": [
       "step! (generic function with 4 methods)"
      ]
     },
     "execution_count": 16,
     "metadata": {},
     "output_type": "execute_result"
    }
   ],
   "source": [
    "include(\"time_propagators.jl\")"
   ]
  },
  {
   "cell_type": "code",
   "execution_count": 17,
   "metadata": {
    "collapsed": false
   },
   "outputs": [
    {
     "data": {
      "text/plain": [
       "step! (generic function with 5 methods)"
      ]
     },
     "execution_count": 17,
     "metadata": {},
     "output_type": "execute_result"
    }
   ],
   "source": [
    "type ExactSolution <: TimePropagationMethod\n",
    "end\n",
    "function step!(m::ExactSolution, psi::WaveFunction, \n",
    "         t0::Real, dt::Real, steps::Int, step::Int)\n",
    "    set!(psi, soliton, t0+(step+1)*dt)\n",
    "end    "
   ]
  },
  {
   "cell_type": "markdown",
   "metadata": {},
   "source": [
    "## Exponential multistep\n",
    "### exact evaluation of the integral; 4 steps; exact starting values; no correction step"
   ]
  },
  {
   "cell_type": "code",
   "execution_count": 18,
   "metadata": {
    "collapsed": false
   },
   "outputs": [
    {
     "name": "stdout",
     "output_type": "stream",
     "text": [
      "             dt         err      p\n",
      "-----------------------------------\n",
      "  1   2.500e-01   4.888e-01\n",
      "  2   1.250e-01   6.979e-02   2.81\n",
      "  3   6.250e-02   4.556e-03   3.94\n",
      "  4   3.125e-02   2.948e-04   3.95\n",
      "  5   1.563e-02   1.849e-05   3.99\n",
      "  6   7.813e-03   1.153e-06   4.00\n",
      "  7   3.906e-03   7.193e-08   4.00\n",
      "  8   1.953e-03   4.490e-09   4.00\n",
      "  9   9.766e-04   2.804e-10   4.00\n",
      " 10   4.883e-04   1.748e-11   4.00\n"
     ]
    }
   ],
   "source": [
    "set!(psi, soliton, t0)\n",
    "set!(psi_ref, soliton, tend)\n",
    "method = ExponentialMultistep(4, iters=0, starting_method=ExactSolution())\n",
    "global_orders(method, psi, psi_ref, t0, tend, .25, rows=10)"
   ]
  },
  {
   "cell_type": "markdown",
   "metadata": {},
   "source": [
    "### exact evaluation of the integral; 3 steps; exact starting values; one correction step"
   ]
  },
  {
   "cell_type": "code",
   "execution_count": 19,
   "metadata": {
    "collapsed": false
   },
   "outputs": [
    {
     "name": "stdout",
     "output_type": "stream",
     "text": [
      "             dt         err      p\n",
      "-----------------------------------\n",
      "  1   2.500e-01   8.324e-02\n",
      "  2   1.250e-01   1.877e-02   2.15\n",
      "  3   6.250e-02   2.168e-03   3.11\n",
      "  4   3.125e-02   1.585e-04   3.77\n",
      "  5   1.563e-02   1.013e-05   3.97\n",
      "  6   7.813e-03   6.304e-07   4.01\n",
      "  7   3.906e-03   3.915e-08   4.01\n",
      "  8   1.953e-03   2.436e-09   4.01\n",
      "  9   9.766e-04   1.519e-10   4.00\n",
      " 10   4.883e-04   9.442e-12   4.01\n"
     ]
    }
   ],
   "source": [
    "set!(psi, soliton, t0)\n",
    "set!(psi_ref, soliton, tend)\n",
    "method = ExponentialMultistep(3, iters=1, starting_method=ExactSolution())\n",
    "global_orders(method, psi, psi_ref, t0, tend, .25, rows=10)"
   ]
  },
  {
   "cell_type": "markdown",
   "metadata": {},
   "source": [
    "### Gauss quadrature of order 4 for the  integral; 3 steps; exact starting values; one correction step"
   ]
  },
  {
   "cell_type": "code",
   "execution_count": 20,
   "metadata": {
    "collapsed": false
   },
   "outputs": [
    {
     "name": "stdout",
     "output_type": "stream",
     "text": [
      "             dt         err      p\n",
      "-----------------------------------\n",
      "  1   2.500e-01   1.414e-01\n",
      "  2   1.250e-01   2.588e-02   2.45\n",
      "  3   6.250e-02   2.443e-03   3.41\n",
      "  4   3.125e-02   1.661e-04   3.88\n",
      "  5   1.563e-02   1.058e-05   3.97\n",
      "  6   7.813e-03   6.585e-07   4.01\n",
      "  7   3.906e-03   4.091e-08   4.01\n",
      "  8   1.953e-03   2.547e-09   4.01\n",
      "  9   9.766e-04   1.587e-10   4.00\n",
      " 10   4.883e-04   9.851e-12   4.01\n"
     ]
    }
   ],
   "source": [
    "set!(psi, soliton, t0)\n",
    "set!(psi_ref, soliton, tend)\n",
    "gauss4 = QuadratureRule([(3-sqrt(3))/6, (3+sqrt(3))/6],[0.5,0.5])\n",
    "method = ExponentialMultistep(3, iters=1, quadrature=gauss4, starting_method=ExactSolution())\n",
    "global_orders(method, psi, psi_ref, t0, tend, .25, rows=10)"
   ]
  },
  {
   "cell_type": "markdown",
   "metadata": {},
   "source": [
    "### Exponential multistep version 2; 3 steps; exact starting values; one correction step"
   ]
  },
  {
   "cell_type": "code",
   "execution_count": 21,
   "metadata": {
    "collapsed": false
   },
   "outputs": [
    {
     "name": "stdout",
     "output_type": "stream",
     "text": [
      "             dt         err      p\n",
      "-----------------------------------\n",
      "  1   2.500e-01   3.885e-01\n",
      "  2   1.250e-01   9.816e-02   1.98\n",
      "  3   6.250e-02   1.049e-02   3.23\n",
      "  4   3.125e-02   1.964e-03   2.42\n",
      "  5   1.563e-02   2.065e-04   3.25\n",
      "  6   7.813e-03   1.463e-05   3.82\n",
      "  7   3.906e-03   9.240e-07   3.98\n",
      "  8   1.953e-03   5.719e-08   4.01\n",
      "  9   9.766e-04   3.543e-09   4.01\n",
      " 10   4.883e-04   2.202e-10   4.01\n"
     ]
    }
   ],
   "source": [
    "set!(psi, soliton, t0)\n",
    "set!(psi_ref, soliton, tend)\n",
    "method = ExponentialMultistep(3, iters=1, version=2, starting_method=ExactSolution())\n",
    "global_orders(method, psi, psi_ref, t0, tend, .25, rows=10)"
   ]
  },
  {
   "cell_type": "markdown",
   "metadata": {},
   "source": [
    "### Exponential multistep version 2; 3 steps; starting values by Suzuki composition method; one correction step"
   ]
  },
  {
   "cell_type": "code",
   "execution_count": 22,
   "metadata": {
    "collapsed": false
   },
   "outputs": [
    {
     "name": "stdout",
     "output_type": "stream",
     "text": [
      "             dt         err      p\n",
      "-----------------------------------\n",
      "  1   2.500e-01   3.755e-01\n",
      "  2   1.250e-01   9.767e-02   1.94\n",
      "  3   6.250e-02   1.048e-02   3.22\n",
      "  4   3.125e-02   1.964e-03   2.42\n",
      "  5   1.563e-02   2.065e-04   3.25\n",
      "  6   7.813e-03   1.463e-05   3.82\n",
      "  7   3.906e-03   9.240e-07   3.98\n",
      "  8   1.953e-03   5.719e-08   4.01\n",
      "  9   9.766e-04   3.543e-09   4.01\n",
      " 10   4.883e-04   2.202e-10   4.01\n"
     ]
    }
   ],
   "source": [
    "g = [1/(4-4^(1/3)),1/(4-4^(1/3)),-4^(1/3)/(4-4^(1/3)), 1/(4-4^(1/3)), 1/(4-4^(1/3))] # Suzuki\n",
    "a, b = get_coeffs_composition(g)\n",
    "#starting_method = SplittingMethod(a,b)\n",
    "starting_method = CompositionMethod(g,3)\n",
    "method = ExponentialMultistep(3, iters=1, version=2, starting_method=starting_method)\n",
    "global_orders(method, psi, psi_ref, t0, tend, .25, rows=10)"
   ]
  },
  {
   "cell_type": "code",
   "execution_count": null,
   "metadata": {
    "collapsed": true
   },
   "outputs": [],
   "source": []
  }
 ],
 "metadata": {
  "anaconda-cloud": {},
  "kernelspec": {
   "display_name": "Julia 0.4.7",
   "language": "julia",
   "name": "julia-0.4"
  },
  "language_info": {
   "file_extension": ".jl",
   "mimetype": "application/julia",
   "name": "julia",
   "version": "0.4.7"
  }
 },
 "nbformat": 4,
 "nbformat_minor": 1
}
