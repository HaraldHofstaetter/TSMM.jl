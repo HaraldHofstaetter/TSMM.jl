{
 "cells": [
  {
   "cell_type": "code",
   "execution_count": 1,
   "metadata": {
    "collapsed": true
   },
   "outputs": [],
   "source": [
    "using TSSM"
   ]
  },
  {
   "cell_type": "code",
   "execution_count": 2,
   "metadata": {
    "collapsed": false
   },
   "outputs": [
    {
     "data": {
      "text/plain": [
       "TSSM.WfSchroedingerGeneralizedLaguerre2D{Float64}(Ptr{Void} @0x0000000003be4310,TSSM.SchroedingerGeneralizedLaguerre2D{Float64}(Ptr{Void} @0x0000000003d275d0))"
      ]
     },
     "execution_count": 2,
     "metadata": {},
     "output_type": "execute_result"
    }
   ],
   "source": [
    "function W(x,y) \n",
    "    gamma_x = 0.8\n",
    "    gamma_y = 1.2\n",
    "    (gamma_y^2-gamma_x^2)*y^2/2\n",
    "end\n",
    "gamma_r = 0.8\n",
    "Omega = 0.5\n",
    "beta = 100\n",
    "m = SchroedingerGeneralizedLaguerre2D(100,100, gamma_r, Omega, potential=W, cubic_coupling=beta)\n",
    "psi = wave_function(m)"
   ]
  },
  {
   "cell_type": "code",
   "execution_count": 3,
   "metadata": {
    "collapsed": true
   },
   "outputs": [],
   "source": [
    "psi_0(x,y) = (x+y*1im)*exp(-(x^2+y^2)/2)/sqrt(pi)\n",
    "set!(psi,psi_0)"
   ]
  },
  {
   "cell_type": "code",
   "execution_count": 4,
   "metadata": {
    "collapsed": false
   },
   "outputs": [
    {
     "data": {
      "text/plain": [
       "0.9999999999999999"
      ]
     },
     "execution_count": 4,
     "metadata": {},
     "output_type": "execute_result"
    }
   ],
   "source": [
    "norm(psi)"
   ]
  },
  {
   "cell_type": "code",
   "execution_count": 5,
   "metadata": {
    "collapsed": false
   },
   "outputs": [
    {
     "data": {
      "text/plain": [
       "5.518873577297384"
      ]
     },
     "execution_count": 5,
     "metadata": {},
     "output_type": "execute_result"
    }
   ],
   "source": [
    "E = kinetic_energy(psi)+potential_energy(psi)+interaction_energy(psi)"
   ]
  },
  {
   "cell_type": "code",
   "execution_count": 6,
   "metadata": {
    "collapsed": false
   },
   "outputs": [
    {
     "data": {
      "text/plain": [
       "1.414213562373092"
      ]
     },
     "execution_count": 6,
     "metadata": {},
     "output_type": "execute_result"
    }
   ],
   "source": [
    "condensate_width_squared(x,y) = x^2+y^2\n",
    "sqrt(observable(psi, condensate_width_squared))"
   ]
  },
  {
   "cell_type": "code",
   "execution_count": 7,
   "metadata": {
    "collapsed": false
   },
   "outputs": [],
   "source": [
    "include(\"time_stepper.jl\");"
   ]
  },
  {
   "cell_type": "code",
   "execution_count": 8,
   "metadata": {
    "collapsed": false
   },
   "outputs": [
    {
     "data": {
      "text/plain": [
       "PalindromicScheme((0.20165104431232422,0.578800656272665,0.5626159753565692,0.2731288360565245,0.25387403824755483,-0.10273380314843214,-0.8353516931903706,0.0680149460931651,0.0680149460931651,-0.8353516931903706,-0.10273380314843214,0.25387403824755483,0.2731288360565245,0.5626159753565692,0.578800656272665,0.20165104431232422),5)"
      ]
     },
     "execution_count": 8,
     "metadata": {},
     "output_type": "execute_result"
    }
   ],
   "source": [
    "palindromic_scheme_56 = PalindromicScheme(\n",
    "          ( 0.201651044312324230,   0.578800656272664932, \n",
    "            0.562615975356569200,   0.273128836056524479, \n",
    "            0.253874038247554845,  -0.102733803148432142, \n",
    "           -0.835351693190370636,   0.068014946093165092, \n",
    "            0.068014946093165092,  -0.835351693190370636,\n",
    "           -0.102733803148432142,   0.253874038247554845, \n",
    "            0.273128836056524479,   0.562615975356569200, \n",
    "            0.578800656272664932,   0.201651044312324230 ),            \n",
    "            5 )"
   ]
  },
  {
   "cell_type": "code",
   "execution_count": 9,
   "metadata": {
    "collapsed": false
   },
   "outputs": [
    {
     "name": "stdout",
     "output_type": "stream",
     "text": [
      "step=0 t=0.01\n",
      "step=1 t=0.05\n",
      "t=  5.000000000e-02  err=   5.22028458e+00  dt=   3.04561144e-02  rejected...\n",
      "t=  5.000000000e-02  err=   1.53859047e+00  dt=   2.55111380e-02  rejected...\n",
      "step=2 t=0.07551113800199549\n",
      "t=  7.551113800e-02  err=   2.82045302e+00  dt=   1.76185913e-02  rejected...\n",
      "t=  7.551113800e-02  err=   1.62002384e+00  dt=   1.46316552e-02  rejected...\n",
      "t=  7.551113800e-02  err=   1.14878561e+00  dt=   1.28675580e-02  rejected...\n",
      "step=3 t=0.08837869603366397\n",
      "t=  8.837869603e-02  err=   1.37912023e+00  dt=   1.00213769e-02  rejected...\n",
      "t=  8.837869603e-02  err=   1.09184565e+00  dt=   8.88811568e-03  rejected...\n",
      "step=4 t=0.09726681171641141\n",
      "t=  9.726681172e-02  err=   1.11905509e+00  dt=   7.16274427e-03  rejected...\n",
      "step=5 t=0.10442955598723468\n",
      "t=  1.044295560e-01  err=   1.05264142e+00  dt=   5.79595823e-03  rejected...\n",
      "step=6 t=0.11022551421363708\n",
      "step=7 t=0.11551506265173905\n",
      "step=8 t=0.12030462237502464\n",
      "step=9 t=0.12463485687815425\n",
      "step=10 t=0.1285598138253241\n",
      "step=11 t=0.1321350523940188\n",
      "step=12 t=0.13541219680304709\n",
      "step=13 t=0.13843694604361964\n",
      "step=14 t=0.1412486834416099\n",
      "step=15 t=0.14388080409949153\n",
      "step=16 t=0.14636135696847946\n",
      "step=17 t=0.14871379360396186\n",
      "step=18 t=0.15095770667740177\n",
      "step=19 t=0.15310949652620348\n",
      "step=20 t=0.15518294077768063\n",
      "step=21 t=0.15718966489383993\n",
      "step=22 t=0.15913952358986055\n",
      "step=23 t=0.16104090785723688\n",
      "step=24 t=0.16290099271601927\n",
      "step=25 t=0.1647259389839001\n",
      "step=26 t=0.16652105966799158\n",
      "step=27 t=0.16829095886098308\n",
      "step=28 t=0.17003964867559385\n",
      "step=29 t=0.17177064796101918\n",
      "step=30 t=0.17348706534691394\n",
      "step=31 t=0.17519166849531903\n",
      "step=32 t=0.176886941190707\n",
      "step=33 t=0.17857512991403887\n",
      "step=34 t=0.18025828167447636\n",
      "step=35 t=0.18193827497629766\n",
      "step=36 t=0.18361684577899448\n",
      "step=37 t=0.18529561011383283\n",
      "step=38 t=0.18697608465111942\n",
      "step=39 t=0.18865970601921989\n",
      "step=40 t=0.19034784914609715\n",
      "step=41 t=0.19204184443095074\n",
      "step=42 t=0.1937429932533648\n",
      "step=43 t=0.1954525812533947\n",
      "step=44 t=0.19717188897937826\n",
      "step=45 t=0.1989021998552336\n",
      "step=46 t=0.20064480586847652\n",
      "step=47 t=0.20240101179679537\n",
      "step=48 t=0.20417213904548073\n",
      "step=49 t=0.2059595301632828\n",
      "step=50 t=0.20776455480714145\n",
      "step=51 t=0.20958861738899523\n",
      "step=52 t=0.2114331659992077\n",
      "step=53 t=0.21329970166016285\n",
      "step=54 t=0.21518978672712707\n",
      "step=55 t=0.21710505146593226\n",
      "step=56 t=0.21904719851497076\n",
      "step=57 t=0.2210180059295664\n",
      "step=58 t=0.22301933049606795\n",
      "step=59 t=0.22505311358599572\n",
      "step=60 t=0.2271213916381365\n",
      "step=61 t=0.229226312272047\n",
      "step=62 t=0.23137015528679453\n",
      "step=63 t=0.23355535602888797\n",
      "step=64 t=0.2357845277099796\n",
      "step=65 t=0.2380604799792176\n",
      "step=66 t=0.24038623356737002\n",
      "step=67 t=0.24276503431036703\n",
      "step=68 t=0.2452003725537289\n",
      "step=69 t=0.24769601373200756\n",
      "step=70 t=0.25025604166016774\n",
      "step=71 t=0.2528849090180789\n",
      "step=72 t=0.2555874838170405\n",
      "step=73 t=0.2583690818073014\n",
      "step=74 t=0.26123548576573136\n",
      "step=75 t=0.26419296926184754\n",
      "step=76 t=0.2672483524280408\n",
      "step=77 t=0.2704091067245409\n",
      "step=78 t=0.27368349489644905\n",
      "step=79 t=0.27708070709002297\n",
      "step=80 t=0.2806109732080393\n",
      "step=81 t=0.28428570226258926\n",
      "step=82 t=0.2881177553720108\n",
      "step=83 t=0.29212189761317714\n",
      "step=84 t=0.29631530684018936\n",
      "step=85 t=0.3007179720439581\n",
      "step=86 t=0.30535309232760366\n",
      "step=87 t=0.3102478657007563\n",
      "step=88 t=0.3154346387186319\n",
      "step=89 t=0.32095169801820705\n",
      "step=90 t=0.32684386764175855\n",
      "step=91 t=0.33316449778451385\n",
      "step=92 t=0.3399778791882118\n",
      "step=93 t=0.3473602775388274\n",
      "step=94 t=0.35540448716638506\n",
      "step=95 t=0.3642239836056838\n",
      "step=96 t=0.37395760834863817\n",
      "step=97 t=0.384782677600214\n",
      "step=98 t=0.3969287534311727\n",
      "step=99 t=0.4106995055888434\n",
      "step=100 t=0.42650149790794767\n",
      "step=101 t=0.4448688851638754\n",
      "step=102 t=0.46654218469837794\n",
      "step=103 t=0.49258333971657986\n",
      "step=104 t=0.5244527013445643\n",
      "step=105 t=0.565118777119616\n",
      "step=106 t=0.6172602844702616\n",
      "step=107 t=0.6786177835913242\n",
      "step=108 t=0.7474874656939352\n",
      "step=109 t=0.8245756707418445\n",
      "step=110 t=0.9103401364268541\n",
      "step=111 t=1.0039049314945554\n",
      "step=112 t=1.1034946381374313\n",
      "step=113 t=1.2070189400259606\n",
      "step=114 t=1.309766108678387\n",
      "step=115 t=1.4098319054405812\n",
      "step=116 t=1.503140037547632\n",
      "step=117 t=1.5912191983096289\n",
      "step=118 t=1.6715468957602\n",
      "step=119 t=1.7468878181375362\n",
      "step=120 t=1.8180035782685797\n",
      "step=121 t=1.885879529510371\n",
      "step=122 t=1.948713985230067\n",
      "step=123 t=2.00762274662754\n",
      "step=124 t=2.0644112278282933\n",
      "step=125 t=2.1199424670188822\n",
      "step=126 t=2.174746588482769\n",
      "step=127 t=2.2291895437273395\n",
      "step=128 t=2.28354014061888\n",
      "step=129 t=2.33797487709952\n",
      "step=130 t=2.392515652931558\n",
      "step=131 t=2.446924077807007\n",
      "step=132 t=2.500519100921239\n",
      "t=  2.500519101e+00  err=   1.26674417e+00  dt=   4.38253572e-02  rejected...\n",
      "step=133 t=2.5443444581372265\n",
      "t=  2.544344458e+00  err=   1.43376838e+00  dt=   3.50974528e-02  rejected...\n",
      "step=134 t=2.579441910911795\n",
      "t=  2.579441911e+00  err=   1.27599358e+00  dt=   2.73521704e-02  rejected...\n",
      "t=  2.579441911e+00  err=   1.04041905e+00  dt=   2.44549204e-02  rejected...\n",
      "step=135 t=2.6038968312957853\n",
      "step=136 t=2.626320041430933\n",
      "step=137 t=2.646700044199184\n",
      "step=138 t=2.665505096662346\n",
      "step=139 t=2.6832062619062977\n",
      "step=140 t=2.700251649181024\n",
      "step=141 t=2.7169784090192213\n",
      "step=142 t=2.7336549254512974\n",
      "step=143 t=2.750489763866126\n",
      "step=144 t=2.7676702976307404\n",
      "step=145 t=2.7853891805439193\n",
      "step=146 t=2.80389375512789\n",
      "step=147 t=2.8234742040253678\n",
      "step=148 t=2.844389645710081\n",
      "step=149 t=2.866773596764734\n",
      "step=150 t=2.890687516659541\n",
      "step=151 t=2.916014544828281\n",
      "step=152 t=2.942371860129655\n",
      "step=153 t=2.9691659676503925\n",
      "step=154 t=2.99625383761542\n",
      "step=155 t=3.0237420049559587\n",
      "step=156 t=3.0519917742077114\n",
      "step=157 t=3.081456162535511\n",
      "step=158 t=3.112658376208594\n",
      "step=159 t=3.146127506710258\n",
      "step=160 t=3.182621781318114\n",
      "step=161 t=3.2223185765967575\n",
      "step=162 t=3.264918837173051\n",
      "step=163 t=3.3086062036673343\n",
      "step=164 t=3.352158972730472\n",
      "step=165 t=3.394912541167905\n",
      "step=166 t=3.4368955018067435\n",
      "step=167 t=3.478208569780891\n",
      "step=168 t=3.518906420806335\n",
      "step=169 t=3.5591152137854642\n",
      "step=170 t=3.5987098041786254\n",
      "step=171 t=3.6385565934896476\n",
      "step=172 t=3.6791955633780944\n",
      "step=173 t=3.7204055784400043\n",
      "step=174 t=3.7620209516645047\n",
      "step=175 t=3.8039805901825554\n",
      "t=  3.803980590e+00  err=   1.13847588e+00  dt=   3.67187678e-02  rejected...\n",
      "step=176 t=3.840699357995005\n",
      "step=177 t=3.87481825910097\n",
      "step=178 t=3.9058691637663707\n",
      "step=179 t=3.935357354316125\n",
      "step=180 t=3.9650738765170277\n",
      "step=181 t=3.9969584749843596\n",
      "step=182 t=4.032542050466185\n",
      "step=183 t=4.072064793841376\n",
      "step=184 t=4.114582790637407\n",
      "step=185 t=4.159244356129115\n",
      "step=186 t=4.205964737955265\n",
      "step=187 t=4.254746593601926\n",
      "step=188 t=4.3056892507866475\n",
      "step=189 t=4.358339181514856\n",
      "step=190 t=4.41216058043749\n",
      "step=191 t=4.466248171458893\n",
      "step=192 t=4.519998891857327\n",
      "step=193 t=4.573288379847994\n",
      "step=194 t=4.625928921547231\n",
      "step=195 t=4.67777881268278\n",
      "step=196 t=4.728935123444625\n",
      "step=197 t=4.779582116788041\n",
      "step=198 t=4.8299002622481675\n",
      "step=199 t=4.880047884517886\n",
      "step=200 t=4.930227862230144\n",
      "step=201 t=4.980657890287499\n",
      "step=202 t=5.031487272126425\n",
      "step=203 t=5.083068952209333\n",
      "step=204 t=5.135650218575483\n",
      "step=205 t=5.18958355885975\n",
      "step=206 t=5.244979796200885\n",
      "step=207 t=5.301086390951248\n",
      "step=208 t=5.357126693753353\n",
      "step=209 t=5.413376593816127\n",
      "step=210 t=5.469685977608917\n",
      "step=211 t=5.5255925352060755\n",
      "step=212 t=5.58054167973303\n",
      "step=213 t=5.634200767208946\n",
      "step=214 t=5.686736475297936\n",
      "step=215 t=5.738573406988234\n",
      "step=216 t=5.789472622418738\n",
      "step=217 t=5.839219916960937\n",
      "step=218 t=5.887993129998538\n",
      "step=219 t=5.935552220272223\n",
      "step=220 t=5.9817925073759906\n",
      "step=221 t=6.0268958551319995\n",
      "step=222 t=6.070915721052872\n",
      "step=223 t=6.1140008154319485\n",
      "step=224 t=6.156135219818686\n",
      "step=225 t=6.197101084469594\n",
      "step=226 t=6.235620023400196\n",
      "step=227 t=6.2705830995527165\n",
      "step=228 t=6.304003183343338\n",
      "step=229 t=6.338291267760665\n",
      "step=230 t=6.371887794086897\n",
      "step=231 t=6.405221324255719\n",
      "step=232 t=6.4376556565602145\n",
      "step=233 t=6.468841885926715\n",
      "step=234 t=6.4974111663867635\n",
      "step=235 t=6.523151391609879\n",
      "step=236 t=6.547032938647775\n",
      "step=237 t=6.570431626767438\n",
      "step=238 t=6.594791019074684\n",
      "step=239 t=6.620453537658889\n",
      "step=240 t=6.645752724815806\n",
      "t=  6.645752725e+00  err=   1.06359838e+00  dt=   2.07220619e-02  rejected...\n",
      "step=241 t=6.666474786711605\n",
      "step=242 t=6.685505835073871\n",
      "step=243 t=6.702771771553747\n",
      "step=244 t=6.718440854823913\n",
      "step=245 t=6.732736200968692\n",
      "step=246 t=6.745881828566284\n",
      "step=247 t=6.758105737507558\n",
      "step=248 t=6.769616324024475\n",
      "step=249 t=6.780600963843866\n",
      "step=250 t=6.791212781819481\n",
      "step=251 t=6.801591205117191\n",
      "step=252 t=6.8118597332988875\n",
      "step=253 t=6.822133536409095\n",
      "step=254 t=6.832507819557768\n",
      "step=255 t=6.843065720948242\n",
      "step=256 t=6.853895334318395\n",
      "step=257 t=6.865100174465561\n",
      "step=258 t=6.8768149820342455\n",
      "step=259 t=6.889176439065853\n",
      "step=260 t=6.902265650451016\n",
      "step=261 t=6.916126478347065\n",
      "step=262 t=6.930942663611195\n",
      "step=263 t=6.946934846539444\n",
      "step=264 t=6.964198214830946\n",
      "step=265 t=6.982604982746948\n",
      "step=266 t=7.002075347949129\n",
      "step=267 t=7.022247345902109\n",
      "step=268 t=7.042527929873055\n",
      "step=269 t=7.062910394121562\n",
      "step=270 t=7.083699375022824\n",
      "step=271 t=7.105167493686673\n",
      "step=272 t=7.127527316833789\n",
      "step=273 t=7.150734953237672\n",
      "step=274 t=7.174606254706705\n",
      "step=275 t=7.199071770193566\n",
      "step=276 t=7.224585483634194\n",
      "step=277 t=7.25199228121687\n",
      "step=278 t=7.282429763429565\n",
      "step=279 t=7.316416743929609\n",
      "step=280 t=7.353580462386836\n",
      "step=281 t=7.393110956609137\n",
      "step=282 t=7.434896195262795\n",
      "step=283 t=7.478060808322445\n",
      "step=284 t=7.522730680673412\n",
      "step=285 t=7.5689839593516535\n",
      "step=286 t=7.616173898744321\n",
      "step=287 t=7.663601432886991\n",
      "step=288 t=7.710954544739773\n",
      "step=289 t=7.757928439792349\n",
      "step=290 t=7.804621242578512\n",
      "step=291 t=7.85090023316602\n",
      "step=292 t=7.89720567465238\n",
      "step=293 t=7.943920319530705\n",
      "step=294 t=7.9910204116068755\n",
      "step=295 t=8.038457429573803\n",
      "step=296 t=8.086410622362964\n",
      "step=297 t=8.134438066544751\n",
      "step=298 t=8.182543273002945\n",
      "step=299 t=8.2306338955585\n",
      "step=300 t=8.278641111255098\n",
      "step=301 t=8.326414574772892\n",
      "step=302 t=8.374227663468051\n",
      "step=303 t=8.422231763955095\n",
      "step=304 t=8.470743440906178\n",
      "step=305 t=8.520039096951438\n",
      "step=306 t=8.569549378466512\n",
      "step=307 t=8.618556207328178\n",
      "step=308 t=8.666912932546833\n",
      "step=309 t=8.714866611002032\n",
      "step=310 t=8.762809114963972\n",
      "step=311 t=8.811190517347422\n",
      "step=312 t=8.860250050588075\n",
      "step=313 t=8.909456099838504\n",
      "step=314 t=8.957850324713378\n",
      "step=315 t=9.005072945737599\n",
      "step=316 t=9.050719944068673\n",
      "step=317 t=9.09346252041255\n",
      "step=318 t=9.134162127777035\n",
      "step=319 t=9.172529588688242\n",
      "t=  9.172529589e+00  err=   1.07631871e+00  dt=   3.25413094e-02  rejected...\n",
      "step=320 t=9.205070898049492\n",
      "step=321 t=9.235613352737772\n",
      "step=322 t=9.263503846181127\n",
      "step=323 t=9.289063923820203\n",
      "step=324 t=9.312116990649114\n",
      "step=325 t=9.333269891784754\n",
      "step=326 t=9.35363583466084\n",
      "step=327 t=9.374433243792133\n",
      "step=328 t=9.395587908882005\n",
      "step=329 t=9.416266169586326\n",
      "step=330 t=9.436241820918655\n",
      "step=331 t=9.4558214649146\n",
      "step=332 t=9.474925370797893\n",
      "t=  9.474925371e+00  err=   1.05941699e+00  dt=   1.57902689e-02  rejected...\n",
      "step=333 t=9.490715639734397\n",
      "t=  9.490715640e+00  err=   1.01195956e+00  dt=   1.30095380e-02  rejected...\n",
      "step=334 t=9.503725177703005\n",
      "step=335 t=9.515690685677246\n",
      "step=336 t=9.526589936408227\n",
      "step=337 t=9.536503601359138\n",
      "step=338 t=9.545550229614946\n",
      "step=339 t=9.553850521727714\n",
      "step=340 t=9.561511708685456\n",
      "step=341 t=9.568628130318254\n",
      "step=342 t=9.575277494083169\n",
      "step=343 t=9.581527647792003\n",
      "step=344 t=9.587438107628529\n",
      "step=345 t=9.59306114198604\n",
      "step=346 t=9.59844455545887\n",
      "step=347 t=9.603631064673769\n",
      "step=348 t=9.60865756110333\n",
      "step=349 t=9.61355638092948\n",
      "step=350 t=9.618356138858388\n",
      "step=351 t=9.623081650057381\n",
      "step=352 t=9.627754458694117\n",
      "step=353 t=9.632393938442181\n",
      "step=354 t=9.63701792165066\n",
      "step=355 t=9.641642870904146\n",
      "step=356 t=9.646284241616007\n",
      "step=357 t=9.650957033730126\n",
      "step=358 t=9.655676233132938\n",
      "step=359 t=9.660457306008976\n",
      "step=360 t=9.665316724340547\n",
      "step=361 t=9.670271975530676\n",
      "step=362 t=9.67534133504204\n",
      "step=363 t=9.680544734092363\n",
      "step=364 t=9.68590570919563\n",
      "step=365 t=9.691452649225917\n",
      "step=366 t=9.69721948400152\n",
      "step=367 t=9.703247448588993\n",
      "step=368 t=9.709584946284926\n",
      "step=369 t=9.716285730134786\n",
      "step=370 t=9.723415154456942\n",
      "step=371 t=9.731049002787518\n",
      "step=372 t=9.739256561975255\n",
      "step=373 t=9.7481372260879\n",
      "step=374 t=9.757812976546466\n",
      "step=375 t=9.768337381096329\n",
      "step=376 t=9.779758734330015\n",
      "step=377 t=9.792063845149986\n",
      "step=378 t=9.805177578934341\n",
      "step=379 t=9.818989221223083\n",
      "step=380 t=9.833289234467067\n",
      "step=381 t=9.847923889495595\n",
      "step=382 t=9.862790789232209\n",
      "step=383 t=9.877834121697386\n",
      "step=384 t=9.893113821166816\n",
      "step=385 t=9.908726855313288\n",
      "step=386 t=9.924699768071894\n",
      "step=387 t=9.940936569722096\n",
      "step=388 t=9.957178110647531\n",
      "step=389 t=9.973062863375045\n",
      "step=390 t=9.988299642799772\n",
      "step=391 t=10.0\n"
     ]
    }
   ],
   "source": [
    "t0 = 0\n",
    "tend = 10\n",
    "tol = 1e-5\n",
    "\n",
    "set!(psi,psi_0)\n",
    "\n",
    "stepsizes=[0.0]\n",
    "times=[0.0]\n",
    "condensate_widths=[0.0]\n",
    "told=0.0\n",
    "nsteps=0\n",
    "\n",
    "for t in adaptive_time_stepper(psi, t0, tend, 0.01, tol, palindromic_scheme_56, \"AB\")\n",
    "    println(\"step=\",nsteps, \" t=\", t)\n",
    "    push!(stepsizes,t-told)\n",
    "    push!(times,t)\n",
    "    push!(condensate_widths, sqrt(observable(psi, condensate_width_squared)))\n",
    "    told=t\n",
    "    nsteps=nsteps+1\n",
    "end"
   ]
  },
  {
   "cell_type": "code",
   "execution_count": 10,
   "metadata": {
    "collapsed": false
   },
   "outputs": [
    {
     "name": "stderr",
     "output_type": "stream",
     "text": [
      "/home/hofi/.julia/v0.4/Conda/deps/usr/lib/python2.7/site-packages/matplotlib/font_manager.py:273: UserWarning: Matplotlib is building the font cache using fc-list. This may take a moment.\n",
      "  warnings.warn('Matplotlib is building the font cache using fc-list. This may take a moment.')\n"
     ]
    }
   ],
   "source": [
    "using PyPlot"
   ]
  },
  {
   "cell_type": "code",
   "execution_count": 11,
   "metadata": {
    "collapsed": false
   },
   "outputs": [
    {
     "data": {
      "image/png": "[encoded data removed]",
      "text/plain": [
       "PyPlot.Figure(PyObject <matplotlib.figure.Figure object at 0x7efee9d97750>)"
      ]
     },
     "metadata": {},
     "output_type": "display_data"
    },
    {
     "data": {
      "text/plain": [
       "PyObject <matplotlib.text.Text object at 0x7efee75aa410>"
      ]
     },
     "execution_count": 11,
     "metadata": {},
     "output_type": "execute_result"
    }
   ],
   "source": [
    "subplot(2, 1, 1)\n",
    "plot(times[1:end-2], condensate_widths[2:end-1])\n",
    "xlabel(\"t\")\n",
    "ylabel(\"condensate width\")\n",
    "\n",
    "subplot(2, 1, 2)\n",
    "plot(times[1:end-2], stepsizes[2:end-1])\n",
    "xlabel(\"t\")\n",
    "ylabel(\"stepsize\")"
   ]
  },
  {
   "cell_type": "code",
   "execution_count": null,
   "metadata": {
    "collapsed": true
   },
   "outputs": [],
   "source": []
  }
 ],
 "metadata": {
  "kernelspec": {
   "display_name": "Julia 0.4.5",
   "language": "julia",
   "name": "julia-0.4"
  },
  "language_info": {
   "file_extension": ".jl",
   "mimetype": "application/julia",
   "name": "julia",
   "version": "0.4.5"
  }
 },
 "nbformat": 4,
 "nbformat_minor": 0
}
