{
 "cells": [
  {
   "cell_type": "markdown",
   "metadata": {},
   "source": [
    "# Numerical examples for $p+2$ paper"
   ]
  },
  {
   "cell_type": "markdown",
   "metadata": {},
   "source": [
    "## Cubic Schrödinger equation"
   ]
  },
  {
   "cell_type": "code",
   "execution_count": 1,
   "metadata": {},
   "outputs": [
    {
     "data": {
      "text/plain": [
       "local_orders (generic function with 5 methods)"
      ]
     },
     "execution_count": 1,
     "metadata": {},
     "output_type": "execute_result"
    }
   ],
   "source": [
    "using TSSM\n",
    "include(string(ENV[\"HOME\"], \"/.julia/dev/TSSM/examples/time_stepper.jl\"))"
   ]
  },
  {
   "cell_type": "markdown",
   "metadata": {},
   "source": [
    "### Exact solution"
   ]
  },
  {
   "cell_type": "code",
   "execution_count": 2,
   "metadata": {},
   "outputs": [
    {
     "data": {
      "text/plain": [
       "soliton (generic function with 1 method)"
      ]
     },
     "execution_count": 2,
     "metadata": {},
     "output_type": "execute_result"
    }
   ],
   "source": [
    "const κ = -1.0\n",
    "const a = 2.0\n",
    "const b = 1.0\n",
    "const c= 0.0\n",
    "function soliton(x, t)\n",
    "    h = (a^2 - b^2)/2*t - b*x\n",
    "    (a./cosh(a*(b*t+x-c))).*exp(1im*h) \n",
    "end"
   ]
  },
  {
   "cell_type": "markdown",
   "metadata": {},
   "source": [
    "### Computational domain"
   ]
  },
  {
   "cell_type": "code",
   "execution_count": 3,
   "metadata": {},
   "outputs": [
    {
     "name": "stderr",
     "output_type": "stream",
     "text": [
      "┌ Warning: `cfunction(f, r, a::Tuple)` is deprecated, use `cfunction(f, r, Tuple{a...})` instead.\n",
      "│   caller = cfunction_check_return_type(::Function, ::Type, ::Tuple{DataType}) at TSSM.jl:492\n",
      "└ @ TSSM /home/hofi/.julia/dev/TSSM/src/TSSM.jl:492\n",
      "┌ Warning: The function `cfunction` is now written as a macro `@cfunction`.\n",
      "│   caller = cfunction(::Function, ::Type, ::Tuple{DataType}) at deprecated.jl:55\n",
      "└ @ Base ./deprecated.jl:55\n",
      "┌ Warning: `cfunction(f, r, a::Tuple)` is deprecated, use `cfunction(f, r, Tuple{a...})` instead.\n",
      "│   caller = cfunction_check_return_type(::Function, ::Type, ::Tuple{DataType,DataType}) at TSSM.jl:492\n",
      "└ @ TSSM /home/hofi/.julia/dev/TSSM/src/TSSM.jl:492\n",
      "┌ Warning: The function `cfunction` is now written as a macro `@cfunction`.\n",
      "│   caller = cfunction(::Function, ::Type, ::Tuple{DataType,DataType}) at deprecated.jl:55\n",
      "└ @ Base ./deprecated.jl:55\n"
     ]
    },
    {
     "data": {
      "text/plain": [
       "Schroedinger1D{Float64}(Ptr{Nothing} @0x000000000370cf80)"
      ]
     },
     "execution_count": 3,
     "metadata": {},
     "output_type": "execute_result"
    }
   ],
   "source": [
    "nx = 512\n",
    "xmin = -16\n",
    "xmax = +16\n",
    "method = Schroedinger1D(nx, xmin, xmax, cubic_coupling=κ)"
   ]
  },
  {
   "cell_type": "code",
   "execution_count": 4,
   "metadata": {},
   "outputs": [
    {
     "name": "stderr",
     "output_type": "stream",
     "text": [
      "┌ Warning: `cfunction(f, r, a::Tuple)` is deprecated, use `cfunction(f, r, Tuple{a...})` instead.\n",
      "│   caller = set!(::WfSchroedinger1D{Float64}, ::Function, ::Int64) at tssm_common.jl:415\n",
      "└ @ TSSM /home/hofi/.julia/dev/TSSM/src/tssm_common.jl:415\n"
     ]
    }
   ],
   "source": [
    "t0 = 0\n",
    "tend = 1\n",
    "psi = wave_function(method)\n",
    "psi_ref = wave_function(method)\n",
    "set!(psi, soliton, t0)        # initial data at t=t0\n",
    "set!(psi_ref, soliton, tend)  # reference solution at t=tend"
   ]
  },
  {
   "cell_type": "markdown",
   "metadata": {},
   "source": [
    "### Local errors Strang splitting (Table2)"
   ]
  },
  {
   "cell_type": "code",
   "execution_count": 5,
   "metadata": {},
   "outputs": [
    {
     "name": "stdout",
     "output_type": "stream",
     "text": [
      "             dt         err      p         err      p\n",
      "------------------------------------------------------\n",
      "  "
     ]
    },
    {
     "name": "stderr",
     "output_type": "stream",
     "text": [
      "┌ Warning: `cfunction(f, r, a::Tuple)` is deprecated, use `cfunction(f, r, Tuple{a...})` instead.\n",
      "│   caller = set!(::WfSchroedinger1D{Float64}, ::Function, ::Float64) at tssm_common.jl:415\n",
      "└ @ TSSM /home/hofi/.julia/dev/TSSM/src/tssm_common.jl:415\n"
     ]
    },
    {
     "name": "stdout",
     "output_type": "stream",
     "text": [
      "1   3.125e-02   2.997e-04          8.112e-06\n",
      "  2   1.563e-02   3.791e-05   2.98   3.377e-07   4.59\n",
      "  3   7.813e-03   4.753e-06   3.00   1.161e-08   4.86\n",
      "  4   3.906e-03   5.946e-07   3.00   3.726e-10   4.96\n",
      "  5   1.953e-03   7.434e-08   3.00   1.172e-11   4.99\n",
      "  6   9.766e-04   9.293e-09   3.00   3.669e-13   5.00\n",
      "  7   4.883e-04   1.162e-09   3.00   1.160e-14   4.98\n"
     ]
    }
   ],
   "source": [
    "local_orders(psi, soliton, t0, 1/32, DefectBasedScheme(Strang, 2, true), operator_sequence=\"AB\", rows=7)\n",
    ";"
   ]
  },
  {
   "cell_type": "markdown",
   "metadata": {},
   "source": [
    "### Local errors Emb 5/3 AK s (Table2)"
   ]
  },
  {
   "cell_type": "code",
   "execution_count": 6,
   "metadata": {},
   "outputs": [
    {
     "name": "stdout",
     "output_type": "stream",
     "text": [
      "             dt         err      p         err      p\n",
      "------------------------------------------------------\n",
      "  1   6.250e-02   1.805e-04          2.805e-05\n",
      "  2   3.125e-02   7.017e-06   4.69   3.420e-07   6.36\n",
      "  3   1.563e-02   2.282e-07   4.94   2.646e-09   7.01\n",
      "  4   7.813e-03   7.164e-09   4.99   2.123e-11   6.96\n",
      "  5   3.906e-03   2.240e-10   5.00   1.706e-13   6.96\n"
     ]
    }
   ],
   "source": [
    "scheme4=(\n",
    " 0.267171359000977615, -0.361837907604416033,\n",
    "-0.0338279096695056672, 0.861837907604416033,\n",
    " 0.5333131013370561044, 0.861837907604416033,\n",
    "-0.0338279096695056672,-0.361837907604416033,\n",
    " 0.267171359000977615,  0.0)\n",
    "local_orders(psi, soliton, t0, 1/16, DefectBasedScheme(scheme4, 4, true), operator_sequence=\"AB\", rows=5);\n"
   ]
  },
  {
   "cell_type": "markdown",
   "metadata": {},
   "source": [
    "### Global errors Strang splitting, basis scheme "
   ]
  },
  {
   "cell_type": "code",
   "execution_count": 7,
   "metadata": {},
   "outputs": [
    {
     "name": "stdout",
     "output_type": "stream",
     "text": [
      "             dt         err      p\n",
      "-----------------------------------\n",
      "  1   3.125e-02   1.071e-02\n",
      "  2   1.563e-02   2.698e-03   1.99\n",
      "  3   7.813e-03   6.758e-04   2.00\n",
      "  4   3.906e-03   1.690e-04   2.00\n",
      "  5   1.953e-03   4.226e-05   2.00\n",
      "  6   9.766e-04   1.057e-05   2.00\n",
      "  7   4.883e-04   2.642e-06   2.00\n",
      "  8   2.441e-04   6.604e-07   2.00\n",
      "  9   1.221e-04   1.651e-07   2.00\n",
      " 10   6.104e-05   4.128e-08   2.00\n",
      " 11   3.052e-05   1.032e-08   2.00\n",
      " 12   1.526e-05   2.571e-09   2.01\n"
     ]
    }
   ],
   "source": [
    "global_orders(psi, psi_ref, t0, tend, 1/32, scheme=Strang, rows=12); \n"
   ]
  },
  {
   "cell_type": "markdown",
   "metadata": {},
   "source": [
    "### Global errors Strang splitting, corrected scheme "
   ]
  },
  {
   "cell_type": "code",
   "execution_count": 8,
   "metadata": {},
   "outputs": [
    {
     "name": "stdout",
     "output_type": "stream",
     "text": [
      "             dt         err      p\n",
      "-----------------------------------\n",
      "  1   3.125e-02   4.797e-05\n",
      "  2   1.563e-02   3.010e-06   3.99\n",
      "  3   7.813e-03   1.902e-07   3.98\n",
      "  4   3.906e-03   1.196e-08   3.99\n",
      "  5   1.953e-03   7.496e-10   4.00\n",
      "  6   9.766e-04   4.648e-11   4.01\n",
      "  7   4.883e-04   2.177e-12   4.42\n"
     ]
    }
   ],
   "source": [
    "global_orders(psi, psi_ref, t0, tend, 1/32, scheme=Strang, rows=7, \n",
    "    corrector=\"symmetrized_defect_based\", order=2); \n"
   ]
  },
  {
   "cell_type": "markdown",
   "metadata": {},
   "source": [
    "### Global errors Emb 5/3 AK s, basis scheme"
   ]
  },
  {
   "cell_type": "code",
   "execution_count": 9,
   "metadata": {},
   "outputs": [
    {
     "name": "stdout",
     "output_type": "stream",
     "text": [
      "             dt         err      p\n",
      "-----------------------------------\n",
      "  1   1.250e-01   1.002e-02\n",
      "  2   6.250e-02   6.265e-04   4.00\n",
      "  3   3.125e-02   1.770e-05   5.15\n",
      "  4   1.563e-02   9.166e-07   4.27\n",
      "  5   7.813e-03   5.702e-08   4.01\n",
      "  6   3.906e-03   3.560e-09   4.00\n",
      "  7   1.953e-03   2.220e-10   4.00\n",
      "  8   9.766e-04   1.297e-11   4.10\n",
      "  9   4.883e-04   1.823e-12   2.83\n"
     ]
    }
   ],
   "source": [
    "global_orders(psi, psi_ref, t0, tend, 1/8, scheme=scheme4, rows=9); "
   ]
  },
  {
   "cell_type": "markdown",
   "metadata": {},
   "source": [
    "### Global errors Emb 5/3 AK s, corrected scheme"
   ]
  },
  {
   "cell_type": "code",
   "execution_count": 10,
   "metadata": {},
   "outputs": [
    {
     "name": "stdout",
     "output_type": "stream",
     "text": [
      "             dt         err      p\n",
      "-----------------------------------\n",
      "  1   1.250e-01   2.736e-03\n",
      "  2   6.250e-02   1.300e-04   4.40\n",
      "  3   3.125e-02   1.944e-06   6.06\n",
      "  4   1.563e-02   5.064e-09   8.58\n",
      "  5   7.813e-03   3.011e-11   7.39\n",
      "  6   3.906e-03   6.426e-13   5.55\n",
      "  7   1.953e-03   8.827e-13  -0.46\n"
     ]
    }
   ],
   "source": [
    "global_orders(psi, psi_ref, t0, tend, 1/8, scheme=scheme4, rows=7, \n",
    "    corrector=\"symmetrized_defect_based\", order=4); \n"
   ]
  },
  {
   "cell_type": "markdown",
   "metadata": {},
   "source": [
    "### Plot of adaptive step-sizes"
   ]
  },
  {
   "cell_type": "code",
   "execution_count": 11,
   "metadata": {},
   "outputs": [
    {
     "data": {
      "text/plain": [
       "two_solitons (generic function with 1 method)"
      ]
     },
     "execution_count": 11,
     "metadata": {},
     "output_type": "execute_result"
    }
   ],
   "source": [
    "const aa=[2.0, 2.0,  0.0,  0.0] #amplitude\n",
    "const bb=[1.0,-3.0,  1.0, -9.0] #speed\n",
    "const cc=[5.0,-5.0,  0.0, -10.0] #offset x\n",
    "\n",
    "function two_solitons(x)\n",
    "    (aa[1]/cosh(aa[1]*(x-cc[1]))) * exp(-bb[1]*x*1im)+\n",
    "    (aa[2]/cosh(aa[2]*(x-cc[2]))) * exp(-bb[2]*x*1im)\n",
    "end"
   ]
  },
  {
   "cell_type": "code",
   "execution_count": 12,
   "metadata": {},
   "outputs": [
    {
     "data": {
      "text/plain": [
       "1.0e-7"
      ]
     },
     "execution_count": 12,
     "metadata": {},
     "output_type": "execute_result"
    }
   ],
   "source": [
    "t0 = 0\n",
    "tend = 5\n",
    "tol =1e-7"
   ]
  },
  {
   "cell_type": "code",
   "execution_count": 13,
   "metadata": {},
   "outputs": [],
   "source": [
    "x = get_nodes(method)\n",
    "to_real_space!(psi)\n",
    "u = get_data(psi, true);"
   ]
  },
  {
   "cell_type": "code",
   "execution_count": 14,
   "metadata": {},
   "outputs": [
    {
     "name": "stderr",
     "output_type": "stream",
     "text": [
      "┌ Warning: `cfunction(f, r, a::Tuple)` is deprecated, use `cfunction(f, r, Tuple{a...})` instead.\n",
      "│   caller = set!(::WfSchroedinger1D{Float64}, ::Function) at tssm_common.jl:400\n",
      "└ @ TSSM /home/hofi/.julia/dev/TSSM/src/tssm_common.jl:400\n",
      "┌ Warning: Deprecated syntax `implicit assignment to global variable `told``.\n",
      "│ Use `global told` instead.\n",
      "└ @ nothing none:0\n",
      "┌ Warning: Deprecated syntax `implicit assignment to global variable `nsteps``.\n",
      "│ Use `global nsteps` instead.\n",
      "└ @ nothing none:0\n",
      "┌ Warning: Deprecated syntax `implicit assignment to global variable `plotdata``.\n",
      "│ Use `global plotdata` instead.\n",
      "└ @ nothing none:0\n",
      "┌ Warning: The start/next/done iteration protocol is deprecated. Implement `iterate(::AdaptiveTimeStepperIterator)`.\n",
      "│   caller = ip:0x0\n",
      "└ @ Core :-1\n"
     ]
    },
    {
     "name": "stdout",
     "output_type": "stream",
     "text": [
      "  0.726751 seconds (383.70 k allocations: 642.596 MiB, 8.28% gc time)\n"
     ]
    }
   ],
   "source": [
    "set!(psi, two_solitons)\n",
    "\n",
    "plotdata=abs.(u).^2\n",
    "steps=[0.0]\n",
    "mytime=[0.0]\n",
    "told=0.0\n",
    "nsteps=0\n",
    "\n",
    "\n",
    "@time  for t in adaptive_time_stepper(psi, t0, tend, 0.01, tol, DefectBasedScheme(scheme4, 4, true), \"AB\")\n",
    "      push!(steps,t-told)\n",
    "      push!(mytime,t)\n",
    "      told=t\n",
    "      nsteps=nsteps+1  \n",
    "      to_real_space!(psi)\n",
    "      plotdata = [plotdata abs.(u).^2]\n",
    " end"
   ]
  },
  {
   "cell_type": "code",
   "execution_count": 15,
   "metadata": {},
   "outputs": [
    {
     "data": {
      "image/png": "[encoded data removed]",
      "text/plain": [
       "Figure(PyObject <Figure size 640x480 with 2 Axes>)"
      ]
     },
     "metadata": {},
     "output_type": "display_data"
    },
    {
     "data": {
      "text/plain": [
       "PyObject Text(24.0, 0.5, 'stepsize')"
      ]
     },
     "execution_count": 15,
     "metadata": {},
     "output_type": "execute_result"
    }
   ],
   "source": [
    "using PyPlot\n",
    "  figure(1)\n",
    "  subplot(2, 1, 1)\n",
    "  pcolormesh(mytime,x,plotdata)\n",
    "  #xlabel(\"\\$t\\$\")\n",
    "  ylabel(\"\\$x\\$\")\n",
    "  axis([t0,tend,xmin,xmax])\n",
    "  title(\"\\$|\\\\psi(x,t)|^2\\$\")\n",
    "\n",
    "  subplot(2, 1, 2)\n",
    "  plot(mytime[1:end-2], steps[2:end-1])\n",
    "  xlabel(\"\\$t\\$\")\n",
    "  ylabel(\"stepsize\")\n",
    "#  savefig(\"step.png\", bbox_inches=\"tight\")\n"
   ]
  },
  {
   "cell_type": "code",
   "execution_count": null,
   "metadata": {},
   "outputs": [],
   "source": []
  }
 ],
 "metadata": {
  "kernelspec": {
   "display_name": "Julia 0.7.0",
   "language": "julia",
   "name": "julia-0.7"
  },
  "language_info": {
   "file_extension": ".jl",
   "mimetype": "application/julia",
   "name": "julia",
   "version": "0.7.0"
  }
 },
 "nbformat": 4,
 "nbformat_minor": 2
}
