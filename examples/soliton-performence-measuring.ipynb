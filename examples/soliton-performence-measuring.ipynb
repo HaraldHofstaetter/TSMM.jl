{
 "cells": [
  {
   "cell_type": "code",
   "execution_count": 1,
   "metadata": {
    "collapsed": false
   },
   "outputs": [
    {
     "name": "stdout",
     "output_type": "stream",
     "text": [
      " *** OPENMP n_threads =           8\n"
     ]
    }
   ],
   "source": [
    "using TSSM\n",
    "include(\"time_stepper.jl\");\n",
    "using PyPlot\n",
    "#using CPUTime"
   ]
  },
  {
   "cell_type": "code",
   "execution_count": 2,
   "metadata": {
    "collapsed": false
   },
   "outputs": [
    {
     "data": {
      "text/plain": [
       "TSSM.WfSchroedinger1D{Float64}(Ptr{Void} @0x000000000391a3f0,TSSM.Schroedinger1D{Float64}(Ptr{Void} @0x00000000027e9ee0))"
      ]
     },
     "execution_count": 2,
     "metadata": {},
     "output_type": "execute_result"
    }
   ],
   "source": [
    "cubic_coupling = -1.0\n",
    "xmin=-16.0\n",
    "xmax=16.0\n",
    "Nx=1024\n",
    "\n",
    "m=Schroedinger1D(Nx,xmin, xmax,cubic_coupling=cubic_coupling)\n",
    "psia=wave_function(m)\n",
    "psi_ref=wave_function(m)\n",
    "psi=wave_function(m)"
   ]
  },
  {
   "cell_type": "code",
   "execution_count": 3,
   "metadata": {
    "collapsed": false
   },
   "outputs": [
    {
     "data": {
      "text/plain": [
       "soliton (generic function with 1 method)"
      ]
     },
     "execution_count": 3,
     "metadata": {},
     "output_type": "execute_result"
    }
   ],
   "source": [
    "const a=[2.0, 2.0,  0.0,  0.0] #aplitude\n",
    "const b=[1.0,-3.0,  1.0, -9.0] #speed\n",
    "const c=[5.0,-5.0,  0.0, -10.0] #offset x\n",
    "\n",
    "function soliton(x)\n",
    "    (a[1]/cosh(a[1]*(x-c[1]))) * exp(-b[1]*x*1im)+\n",
    "    (a[2]/cosh(a[2]*(x-c[2]))) * exp(-b[2]*x*1im)+\n",
    "    (a[3]/cosh(a[3]*(x-c[3]))) * exp(-b[3]*x*1im)+\n",
    "    (a[4]/cosh(a[4]*(x-c[4]))) * exp(-b[4]*x*1im)\n",
    "end"
   ]
  },
  {
   "cell_type": "code",
   "execution_count": 4,
   "metadata": {
    "collapsed": false
   },
   "outputs": [],
   "source": [
    "#some schemes\n",
    "#Emb 4/3 AK p\n",
    "embedded_scheme_43 = EmbeddedScheme(\n",
    "          ( 0.125962888700250514,  0.333588446797901933,\n",
    "            0.751193431379145450, -0.338296598434303506,\n",
    "            0.127551831557005609,  0.127551831557005609,\n",
    "           -0.338296598434303506,  0.751193431379145450,\n",
    "            0.333588446797901933,  0.125962888700250514 ),\n",
    "\n",
    "          ( 0.125962888700250514,  0.333588446797901933,\n",
    "            0.751193431379145450, -0.338296598434303506,\n",
    "            0.0                 ,  0.261153550449697153,\n",
    "           -0.242703571757396124,  0.596114052266110425,\n",
    "            0.365547251678000160,  0.147440548920593995 ),\n",
    "\n",
    "            4 )\n",
    "#PP 3/4 A\n",
    "palindromic_scheme_34 = PalindromicScheme( \n",
    "          ( 0.268330095781759925,  0.919661523017399857, \n",
    "           -0.187991618799159782, -0.187991618799159782, \n",
    "            0.919661523017399857,  0.268330095781759925 ),\n",
    "            3 )\n",
    "#PP 5/6 A\n",
    "palindromic_scheme_56 = PalindromicScheme(\n",
    "          ( 0.201651044312324230,   0.578800656272664932, \n",
    "            0.562615975356569200,   0.273128836056524479, \n",
    "            0.253874038247554845,  -0.102733803148432142, \n",
    "           -0.835351693190370636,   0.068014946093165092, \n",
    "            0.068014946093165092,  -0.835351693190370636,\n",
    "           -0.102733803148432142,   0.253874038247554845, \n",
    "            0.273128836056524479,   0.562615975356569200, \n",
    "            0.578800656272664932,   0.201651044312324230 ),            \n",
    "            5 )\n",
    "#defectbased\n",
    "embedded_scheme_43_D = DefectBasedScheme(\n",
    "            embedded_scheme_43.scheme2,\n",
    "            embedded_scheme_43.order-1 )\n",
    "palindromic_scheme_34_D = DefectBasedScheme( \n",
    "            palindromic_scheme_34.scheme,\n",
    "            palindromic_scheme_34.order )\n",
    "palindromic_scheme_56_D = DefectBasedScheme(\n",
    "            palindromic_scheme_56.scheme,            \n",
    "            palindromic_scheme_56.order )\n",
    "schemes=[embedded_scheme_43  ,palindromic_scheme_34  ,palindromic_scheme_56,\n",
    "         embedded_scheme_43_D,palindromic_scheme_34_D,palindromic_scheme_56_D];"
   ]
  },
  {
   "cell_type": "code",
   "execution_count": 10,
   "metadata": {
    "collapsed": false
   },
   "outputs": [
    {
     "data": {
      "text/plain": [
       "step! (generic function with 9 methods)"
      ]
     },
     "execution_count": 10,
     "metadata": {},
     "output_type": "execute_result"
    }
   ],
   "source": [
    "function equidistant_time_stepper(psi::WaveFunction, t0::Real, tend::Real, \n",
    "                         dt::Real, es::EmbeddedScheme, \n",
    "                         operator_sequence=\"AB\")\n",
    "    equidistant_time_stepper(psi, t0, tend, dt, es.scheme2,\n",
    "                         operator_sequence)\n",
    "end \n",
    "function equidistant_time_stepper(psi::WaveFunction, t0::Real, tend::Real, \n",
    "                         dt::Real, es::DefectBasedScheme, \n",
    "                         operator_sequence=\"AB\")\n",
    "    equidistant_time_stepper(psi, t0, tend, dt, es.scheme,\n",
    "                         operator_sequence)\n",
    "end \n",
    "function equidistant_time_stepper(psi::WaveFunction, t0::Real, tend::Real, \n",
    "                         dt::Real, ps::PalindromicScheme, \n",
    "                         operator_sequence=\"AB\")\n",
    "    equidistant_time_stepper(psi, t0, tend, dt, ps.scheme,\n",
    "                         operator_sequence)\n",
    "end \n",
    "function step!(psi::WaveFunction, dt::Real, scheme::EmbeddedScheme, operator_sequence=\"AB\")\n",
    "    step!(psi,dt,scheme.scheme2,operator_sequence)\n",
    "end\n",
    "function step!(psi::WaveFunction, dt::Real, scheme::PalindromicScheme, operator_sequence=\"AB\")\n",
    "    step!(psi,dt,scheme.scheme,operator_sequence)\n",
    "end\n",
    "function step!(psi::WaveFunction, dt::Real, scheme::DefectBasedScheme, operator_sequence=\"AB\")\n",
    "    step!(psi,dt,scheme.scheme,operator_sequence)\n",
    "end"
   ]
  },
  {
   "cell_type": "code",
   "execution_count": 6,
   "metadata": {
    "collapsed": false
   },
   "outputs": [
    {
     "data": {
      "text/plain": [
       "my_latex (generic function with 1 method)"
      ]
     },
     "execution_count": 6,
     "metadata": {},
     "output_type": "execute_result"
    }
   ],
   "source": [
    "function my_savefig(scheme,schemes,mytime,steps_a,nsteps_a)\n",
    "    figure(1)\n",
    "    hold(false)\n",
    "            plot(mytime[1:nsteps_a-1], steps_a[1:nsteps_a-1])\n",
    "            xlabel(\"t\")\n",
    "            ylabel(\"stepsize\")\n",
    "            if scheme==schemes[1]\n",
    "                savefig(\"Emb43AKp_$(tol)_step.png\", bbox_inches=\"tight\")\n",
    "            end\n",
    "            if scheme==schemes[2]\n",
    "                savefig(\"PP34A$(tol)_step.png\", bbox_inches=\"tight\")\n",
    "            end\n",
    "            if scheme==schemes[3]\n",
    "                savefig(\"PP56A_$(tol)_step.png\", bbox_inches=\"tight\")\n",
    "            end\n",
    "            if scheme==schemes[4]\n",
    "                savefig(\"Emb43AKp_defect_$(tol)_step.png\", bbox_inches=\"tight\")\n",
    "            end\n",
    "            if scheme==schemes[5]\n",
    "                savefig(\"PP34A_defect$(tol)_step.png\", bbox_inches=\"tight\")\n",
    "            end\n",
    "            if scheme==schemes[6]\n",
    "                savefig(\"PP56A_defect_$(tol)_step.png\", bbox_inches=\"tight\")\n",
    "            end\n",
    "end\n",
    "function calc_stepmin(psi_ref,psia,psi,scheme,soliton)\n",
    "    h=1.0\n",
    "    chg=h/2\n",
    "    #@printf(\"||psi_a-psi_ref||=%5.3E ,h=%5.3E \\n\",distance(psia,psi_ref),h)\n",
    "    set!(psi, soliton) \n",
    "    while chg>1e-3 || distance(psia,psi_ref) < distance(psi,psi_ref)\n",
    "        set!(psi, soliton) \n",
    "        time = @elapsed for t in equidistant_time_stepper(psi, t0, tend, h, scheme, \"AB\")\n",
    "        end\n",
    "        #@printf(\"||psi-psi_ref||=%5.3E,  h=%5.3E \\n\",distance(psi,psi_ref),h)\n",
    "        if distance(psia,psi_ref) < distance(psi,psi_ref)\n",
    "            h=h-chg\n",
    "        else\n",
    "            h=h+chg\n",
    "        end\n",
    "        chg=chg/2\n",
    "    end\n",
    "    #@printf(\"||psi-psi_ref||=%5.3E,  h=%20.18E \\n\",distance(psi,psi_ref),h)\n",
    "    return h\n",
    "end\n",
    "function my_latex(scheme,schemes,tol,nsteps_a,nsteps,time_a,time)\n",
    "            if scheme==schemes[1]\n",
    "            @printf(\"\\\\texttt{Emb 4/3 AK p}, TOL = \\$ 10^{%d} \\$ & \\$ %d \\$ & \\$ %d \\$ & \\$ %5.3f \\$ & \\$ %5.3f \\$ \\\\\\\\ \\n\",tol,nsteps_a,nsteps,time_a,time)\n",
    "        end\n",
    "        if scheme==schemes[2]\n",
    "            @printf(    \"\\\\texttt{PP 3/4 A}, TOL = \\$ 10^{%d} \\$ & \\$ %d \\$ & \\$ %d \\$ & \\$ %5.3f \\$ & \\$ %5.3f \\$ \\\\\\\\ \\n\",tol,nsteps_a,nsteps,time_a,time)\n",
    "        end\n",
    "        if scheme==schemes[3]\n",
    "            @printf(    \"\\\\texttt{PP 5/6 A}, TOL = \\$ 10^{%d} \\$ & \\$ %d \\$ & \\$ %d \\$ & \\$ %5.3f \\$ & \\$ %5.3f \\$ \\\\\\\\ \\\\hline \\n\",tol,nsteps_a,nsteps,time_a,time)\n",
    "        end\n",
    "        if scheme==schemes[4]\n",
    "            @printf(\"\\\\texttt{Emb 4/3 AK p (defect)}, TOL = \\$ 10^{%d} \\$ & \\$ %d \\$ & \\$ %d \\$ & \\$ %5.3f \\$ & \\$ %5.3f \\$ \\\\\\\\ \\n\",tol,nsteps_a,nsteps,time_a,time)\n",
    "        end\n",
    "        if scheme==schemes[5]\n",
    "            @printf(    \"\\\\texttt{PP 3/4 A (defect)}, TOL = \\$ 10^{%d} \\$ & \\$ %d \\$ & \\$ %d \\$ & \\$ %5.3f \\$ & \\$ %5.3f \\$ \\\\\\\\ \\n\",tol,nsteps_a,nsteps,time_a,time)\n",
    "        end\n",
    "        if scheme==schemes[6]\n",
    "            @printf(    \"\\\\texttt{PP 5/6 A (defect)}, TOL = \\$ 10^{%d} \\$ & \\$ %d \\$ & \\$ %d \\$ & \\$ %5.3f \\$ & \\$ %5.3f \\$ \\\\\\\\ \\\\hline \\n\",tol,nsteps_a,nsteps,time_a,time)\n",
    "        end\n",
    "end"
   ]
  },
  {
   "cell_type": "code",
   "execution_count": 7,
   "metadata": {
    "collapsed": false
   },
   "outputs": [],
   "source": [
    "tend=5.0;\n",
    "t0=0.0;\n",
    "tols=[-5,-8,-10];\n",
    "out=0;\n",
    "stepmin_ex=0;\n",
    "latex=1;"
   ]
  },
  {
   "cell_type": "code",
   "execution_count": 8,
   "metadata": {
    "collapsed": false
   },
   "outputs": [
    {
     "name": "stdout",
     "output_type": "stream",
     "text": [
      "  2.981041 seconds (292.03 k allocations: 8.054 MB, 0.15% gc time)\n"
     ]
    }
   ],
   "source": [
    "set!(psi_ref, soliton) #compute ref_solution\n",
    "@time for t in adaptive_time_stepper(psi_ref, t0, tend, 0.01, 1e-12, palindromic_scheme_56, \"AB\")\n",
    "end"
   ]
  },
  {
   "cell_type": "code",
   "execution_count": 9,
   "metadata": {
    "collapsed": false,
    "scrolled": true
   },
   "outputs": [
    {
     "name": "stdout",
     "output_type": "stream",
     "text": [
      "Method & \\# steps adaptive & \\# steps equidist & time adaptive & time equidist \\\\ \\hline \n",
      "\\texttt{Emb 4/3 AK p}, TOL = $ 10^{-5} $ & $ 275 $ & $ 1070 $ & $ 0.140 $ & $ 0.322 $ \\\\ \n",
      "\\texttt{PP 3/4 A}, TOL = $ 10^{-5} $ & $ 438 $ & $ 1749 $ & $ 0.186 $ & $ 0.333 $ \\\\ \n",
      "\\texttt{PP 5/6 A}, TOL = $ 10^{-5} $ & $ 156 $ & $ 501 $ & $ 0.167 $ & $ 0.240 $ \\\\ \\hline \n",
      "\\texttt{Emb 4/3 AK p (defect)}, TOL = $ 10^{-5} $ & $ 265 $ & $ 1034 $ & $ 0.159 $ & $ 0.261 $ \\\\ \n",
      "\\texttt{PP 3/4 A (defect)}, TOL = $ 10^{-5} $ & $ 438 $ & $ 1749 $ & $ 0.187 $ & $ 0.305 $ \\\\ \n",
      "\\texttt{PP 5/6 A (defect)}, TOL = $ 10^{-5} $ & $ 189 $ & $ 733 $ & $ 0.203 $ & $ 0.350 $ \\\\ \\hline \n",
      "\\texttt{Emb 4/3 AK p}, TOL = $ 10^{-8} $ & $ 1536 $ & $ 6005 $ & $ 0.716 $ & $ 1.654 $ \\\\ \n",
      "\\texttt{PP 3/4 A}, TOL = $ 10^{-8} $ & $ 2478 $ & $ 9900 $ & $ 0.924 $ & $ 1.606 $ \\\\ \n",
      "\\texttt{PP 5/6 A}, TOL = $ 10^{-8} $ & $ 504 $ & $ 2005 $ & $ 0.494 $ & $ 0.901 $ \\\\ \\hline \n",
      "\\texttt{Emb 4/3 AK p (defect)}, TOL = $ 10^{-8} $ & $ 1495 $ & $ 5847 $ & $ 0.845 $ & $ 1.401 $ \\\\ \n",
      "\\texttt{PP 3/4 A (defect)}, TOL = $ 10^{-8} $ & $ 2478 $ & $ 9900 $ & $ 0.993 $ & $ 1.648 $ \\\\ \n",
      "\\texttt{PP 5/6 A (defect)}, TOL = $ 10^{-8} $ & $ 567 $ & $ 2240 $ & $ 0.606 $ & $ 1.015 $ \\\\ \\hline \n",
      "\\texttt{Emb 4/3 AK p}, TOL = $ 10^{-10} $ & $ 4854 $ & $ 18986 $ & $ 2.092 $ & $ 5.034 $ \\\\ \n",
      "\\texttt{PP 3/4 A}, TOL = $ 10^{-10} $ & $ 7837 $ & $ 31311 $ & $ 3.025 $ & $ 5.005 $ \\\\ \n",
      "\\texttt{PP 5/6 A}, TOL = $ 10^{-10} $ & $ 1136 $ & $ 4515 $ & $ 1.074 $ & $ 2.072 $ \\\\ \\hline \n",
      "\\texttt{Emb 4/3 AK p (defect)}, TOL = $ 10^{-10} $ & $ 4728 $ & $ 18492 $ & $ 2.531 $ & $ 4.270 $ \\\\ \n",
      "\\texttt{PP 3/4 A (defect)}, TOL = $ 10^{-10} $ & $ 7837 $ & $ 31311 $ & $ 3.003 $ & $ 5.100 $ \\\\ \n",
      "\\texttt{PP 5/6 A (defect)}, TOL = $ 10^{-10} $ & $ 1174 $ & $ 4653 $ & $ 1.194 $ & $ 2.047 $ \\\\ \\hline \n"
     ]
    }
   ],
   "source": [
    "@printf(\"Method & \\\\# steps adaptive & \\\\# steps equidist & time adaptive & time equidist \\\\\\\\ \\\\hline \\n\")\n",
    "maxsteps=10^6\n",
    "nrep=25\n",
    "for tol in tols\n",
    "    for scheme in schemes\n",
    "        steps_a=zeros(maxsteps)\n",
    "        mytime=zeros(maxsteps)\n",
    "        time_a=0.0\n",
    "        nsteps_a=0\n",
    "        for n in 1:nrep #average time over nrep runs\n",
    "            told=0.0\n",
    "            nsteps_a=0\n",
    "            set!(psia, soliton)\n",
    "            time_a =time_a+ @elapsed  for t in adaptive_time_stepper(psia, t0, tend, 0.01, 10.0^tol, scheme, \"AB\")\n",
    "                    nsteps_a=nsteps_a+1\n",
    "                    steps_a[nsteps_a]=t-told\n",
    "                    mytime[nsteps_a]=t\n",
    "                    told=t    \n",
    "            end\n",
    "        end\n",
    "        time_a=time_a/nrep\n",
    "        stepmin=minimum(steps_a[1:nsteps_a-1])\n",
    "        if out==1\n",
    "            my_savefig(scheme,schemes,mytime,steps_a,nsteps_a)\n",
    "        end\n",
    "        if stepmin_ex==1\n",
    "            stepmin=calc_stepmin(psi_ref,psia,psi,scheme,soliton)\n",
    "        end \n",
    "        steps=zeros(maxsteps)\n",
    "        mytime=zeros(maxsteps)\n",
    "        nsteps=0\n",
    "        time=0.0\n",
    "        for n in 1:nrep #average time over nrep runs\n",
    "            told=0.0\n",
    "            nsteps=0\n",
    "            set!(psi, soliton)\n",
    "            time = time + @elapsed  for t in equidistant_time_stepper(psi, t0, tend, stepmin, scheme, \"AB\")\n",
    "                nsteps=nsteps+1\n",
    "                steps[nsteps]=t-told\n",
    "                mytime[nsteps]=t\n",
    "                told=t \n",
    "            end\n",
    "        end\n",
    "        time=time/nrep\n",
    "        if latex==1\n",
    "            my_latex(scheme,schemes,tol,nsteps_a,nsteps,time_a,time)\n",
    "        end\n",
    "    end\n",
    "end"
   ]
  },
  {
   "cell_type": "code",
   "execution_count": 8,
   "metadata": {
    "collapsed": false
   },
   "outputs": [
    {
     "name": "stdout",
     "output_type": "stream",
     "text": [
      "Method & 10000 steps without errorestimator & 10000 steps with errorestimator\\\\ \\hline \n",
      "\\texttt{Emb 4/3 AK p} & $ 2.733 $ & $ 3.687 $ \\\\ \n",
      "\\texttt{PP 3/4 A} & $ 1.647 $ & $ 3.013 $ \\\\ \n",
      "\\texttt{PP 5/6 A} & $ 4.395 $ & $ 7.794 $ \\\\ \\hline \n",
      "\\texttt{Emb 4/3 AK p (defect)} & $ 2.742 $ & $ 6.006 $ \\\\ \n",
      "\\texttt{PP 3/4 A (defect)} & $ 1.654 $ & $ 3.665 $ \\\\ \n",
      "\\texttt{PP 5/6 A (defect)} & $ 4.374 $ & $ 9.243 $ \\\\ \\hline \n"
     ]
    }
   ],
   "source": [
    "    nstep=10000\n",
    "    tol=1e-5\n",
    "    dt=0.01\n",
    "    @printf(\"Method & %d steps without errorestimator & %d steps with errorestimator\\\\\\\\ \\\\hline \\n\",nstep,nstep)\n",
    "    for scheme in schemes\n",
    "        set!(psi, soliton)\n",
    "        time1 = @elapsed  for t in 1:nstep\n",
    "            step!(psi, dt, scheme,\"AB\")\n",
    "        end\n",
    "        psi2=clone(psi)\n",
    "        time2 = @elapsed  for t in 1:nstep\n",
    "        if typeof(scheme)==PalindromicScheme\n",
    "           copy!(psi, psi2)\n",
    "           step_palindromic!(psi, psi2, dt, scheme.scheme, \"AB\")\n",
    "           err = 0.5*distance(psi, psi2)/tol\n",
    "        end\n",
    "        if typeof(scheme)==EmbeddedScheme\n",
    "           copy!(psi, psi2)\n",
    "           step_embedded!(psi, psi2, dt, scheme.scheme1, scheme.scheme2, \"AB\")\n",
    "           err = distance(psi, psi2)/tol\n",
    "        end  \n",
    "        if typeof(scheme)==DefectBasedScheme\n",
    "            step_defect_based!(psi, psi2, dt, scheme.scheme, \"AB\")\n",
    "            err = dt*norm(psi2)/(scheme.order+1)/tol\n",
    "        end\n",
    "    end\n",
    "        if scheme==schemes[1]\n",
    "            @printf(\"\\\\texttt{Emb 4/3 AK p} & \\$ %5.3f \\$ & \\$ %5.3f \\$ \\\\\\\\ \\n\",time1,time2)\n",
    "        end\n",
    "        if scheme==schemes[2]\n",
    "            @printf(    \"\\\\texttt{PP 3/4 A} & \\$ %5.3f \\$ & \\$ %5.3f \\$ \\\\\\\\ \\n\",time1,time2)\n",
    "        end\n",
    "        if scheme==schemes[3]\n",
    "        @printf(    \"\\\\texttt{PP 5/6 A} & \\$ %5.3f \\$ & \\$ %5.3f \\$ \\\\\\\\ \\\\hline \\n\",time1,time2)\n",
    "        end\n",
    "        if scheme==schemes[4]\n",
    "            @printf(\"\\\\texttt{Emb 4/3 AK p (defect)} & \\$ %5.3f \\$ & \\$ %5.3f \\$ \\\\\\\\ \\n\",time1,time2)\n",
    "        end\n",
    "        if scheme==schemes[5]\n",
    "            @printf(    \"\\\\texttt{PP 3/4 A (defect)} & \\$ %5.3f \\$ & \\$ %5.3f \\$ \\\\\\\\ \\n\",time1,time2)\n",
    "        end\n",
    "        if scheme==schemes[6]\n",
    "        @printf(    \"\\\\texttt{PP 5/6 A (defect)} & \\$ %5.3f \\$ & \\$ %5.3f \\$ \\\\\\\\ \\\\hline \\n\",time1,time2)\n",
    "        end\n",
    "    end"
   ]
  },
  {
   "cell_type": "code",
   "execution_count": 9,
   "metadata": {
    "collapsed": false
   },
   "outputs": [
    {
     "name": "stdout",
     "output_type": "stream",
     "text": [
      "             dt         err      p         err      p\n",
      "------------------------------------------------------\n",
      "  1   1.000e+00   1.174e+00          1.159e+00\n",
      "  2   5.000e-01   3.684e-01   1.67   2.704e-01   2.10\n",
      "  3   2.500e-01   8.816e-02   2.06   4.521e-02   2.58\n",
      "  4   1.250e-01   1.357e-02   2.70   5.133e-03   3.14\n",
      "  5   6.250e-02   1.336e-03   3.34   3.562e-04   3.85\n",
      "  6   3.125e-02   1.000e-04   3.74   1.549e-05   4.52\n",
      "  7   1.563e-02   6.708e-06   3.90   5.165e-07   4.91\n",
      "  8   7.813e-03   4.294e-07   3.97   1.612e-08   5.00\n",
      "  9   3.906e-03   2.702e-08   3.99   5.022e-10   5.00\n",
      " 10   1.953e-03   1.692e-09   4.00   1.568e-11   5.00\n",
      " 11   9.766e-04   1.058e-10   4.00   4.897e-13   5.00\n",
      " 12   4.883e-04   6.612e-12   4.00   1.556e-14   4.98\n",
      "             dt         err      p         err      p\n",
      "------------------------------------------------------\n",
      "  1   1.000e+00   1.174e+00          1.116e+00\n",
      "  2   5.000e-01   3.684e-01   1.67   3.308e-01   1.76\n",
      "  3   2.500e-01   8.816e-02   2.06   6.847e-02   2.27\n",
      "  4   1.250e-01   1.357e-02   2.70   8.311e-03   3.04\n",
      "  5   6.250e-02   1.336e-03   3.34   5.384e-04   3.95\n",
      "  6   3.125e-02   1.000e-04   3.74   2.065e-05   4.70\n",
      "  7   1.563e-02   6.708e-06   3.90   6.626e-07   4.96\n",
      "  8   7.813e-03   4.294e-07   3.97   2.108e-08   4.97\n",
      "  9   3.906e-03   2.702e-08   3.99   6.640e-10   4.99\n",
      " 10   1.953e-03   1.692e-09   4.00   2.080e-11   5.00\n",
      " 11   9.766e-04   1.058e-10   4.00   6.503e-13   5.00\n",
      " 12   4.883e-04   6.612e-12   4.00   2.053e-14   4.99\n"
     ]
    }
   ],
   "source": [
    "t0 = 0\n",
    "tend = 1\n",
    "cubic_coupling = -1.0\n",
    "xmin=-16.0\n",
    "xmax=16.0\n",
    "Nx=1024\n",
    "\n",
    "const a1 = 2\n",
    "const b1 = 1\n",
    "const c1 = 0\n",
    "function soliton(x, t)\n",
    "    h = (a1^2 - b1^2)/2*t - b1*x\n",
    "    (a1./cosh(a1*(b1*t+x-c1))).*exp(1im*h) \n",
    "end \n",
    "\n",
    "m=Schroedinger1D(Nx,xmin, xmax,cubic_coupling=cubic_coupling)\n",
    "for scheme in [schemes[2],schemes[5],] \n",
    "psi = wave_function(m)\n",
    "psi_ref = wave_function(m)\n",
    "set!(psi, soliton, t0)        # initial data at t=t0\n",
    "set!(psi_ref, soliton, tend)\n",
    "    local_orders(psi, soliton, t0, tend-t0, scheme, operator_sequence=\"AB\", rows=12)\n",
    "end\n",
    ";"
   ]
  },
  {
   "cell_type": "code",
   "execution_count": null,
   "metadata": {
    "collapsed": false
   },
   "outputs": [],
   "source": []
  },
  {
   "cell_type": "code",
   "execution_count": null,
   "metadata": {
    "collapsed": true
   },
   "outputs": [],
   "source": []
  }
 ],
 "metadata": {
  "kernelspec": {
   "display_name": "Julia 0.4.3",
   "language": "julia",
   "name": "julia-0.4"
  },
  "language_info": {
   "file_extension": ".jl",
   "mimetype": "application/julia",
   "name": "julia",
   "version": "0.4.3"
  }
 },
 "nbformat": 4,
 "nbformat_minor": 0
}
