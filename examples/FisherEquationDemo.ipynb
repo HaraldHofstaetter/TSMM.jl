{
 "cells": [
  {
   "cell_type": "code",
   "execution_count": 1,
   "metadata": {
    "collapsed": false
   },
   "outputs": [
    {
     "name": "stderr",
     "output_type": "stream",
     "text": [
      "INFO: Recompiling stale cache file /home/juser/.julia/lib/v0.4/TSSM.ji for module TSSM.\n"
     ]
    },
    {
     "name": "stdout",
     "output_type": "stream",
     "text": [
      "including tssm_fourier.jl for type Float64\n",
      "    Fourier1D\n",
      "    Fourier2D\n",
      "    Fourier3D\n",
      "    FourierReal1D\n",
      "    FourierReal2D\n",
      "    FourierReal3D\n",
      "including tssm_fourier_bessel.jl for type Float64\n",
      "    FourierBessel2D\n",
      "    FourierBesselReal2D\n",
      "    BesselRotSym1D\n",
      "    BesselRotSymReal1D\n",
      "including tssm_schroedinger.jl for type Float64\n",
      "    Schroedinger1D\n",
      "    Schroedinger2D\n",
      "    Schroedinger3D\n",
      "    SchroedingerReal1D\n",
      "    SchroedingerReal2D\n",
      "    SchroedingerReal3D\n",
      "including tssm_schroedinger_rotating.jl for type Float64\n",
      "    SchroedingerRotating2D\n",
      "    SchroedingerRotating3D\n",
      "including tssm_schroedinger_hermite.jl for type Float64\n",
      "    SchroedingerHermite1D\n",
      "    SchroedingerHermite2D\n",
      "    SchroedingerHermite3D\n",
      "    SchroedingerHermiteReal1D\n",
      "    SchroedingerHermiteReal2D\n",
      "    SchroedingerHermiteReal3D\n",
      "including tssm_schroedinger_generalized_laguerre.jl for type Float64\n",
      "    SchroedingerGeneralizedLaguerre2D\n",
      "    SchroedingerGeneralizedLaguerreHermite3D\n",
      "    SchroedingerGeneralizedLaguerreReal2D\n",
      "    SchroedingerGeneralizedLaguerreHermiteReal3D\n",
      "including tssm_common.jl for type Float64\n",
      "    Fourier1D\n",
      "    Fourier2D\n",
      "    Fourier3D\n",
      "    FourierReal1D\n",
      "    FourierReal2D\n",
      "    FourierReal3D\n",
      "    FourierBessel2D\n",
      "    FourierBesselReal2D\n",
      "    BesselRotSym1D\n",
      "    BesselRotSymReal1D\n",
      "    Schroedinger1D\n",
      "    Schroedinger2D\n",
      "    Schroedinger3D\n",
      "    SchroedingerReal1D\n",
      "    SchroedingerReal2D\n",
      "    SchroedingerReal3D\n",
      "    SchroedingerRotating2D\n",
      "    SchroedingerRotating3D\n",
      "    SchroedingerHermite1D\n",
      "    SchroedingerHermite2D\n",
      "    SchroedingerHermite3D\n",
      "    SchroedingerHermiteReal1D\n",
      "    SchroedingerHermiteReal2D\n",
      "    SchroedingerHermiteReal3D\n",
      "    SchroedingerGeneralizedLaguerre2D\n",
      "    SchroedingerGeneralizedLaguerreHermite3D\n",
      "    SchroedingerGeneralizedLaguerreReal2D\n",
      "    SchroedingerGeneralizedLaguerreHermiteReal3D\n",
      "including tssm_schroedinger.jl for type Float64\n",
      "    Schroedinger1D\n",
      "    Schroedinger2D\n",
      "    Schroedinger3D\n",
      "    SchroedingerReal1D\n",
      "    SchroedingerReal2D\n",
      "    SchroedingerReal3D\n",
      "    SchroedingerRotating2D\n",
      "    SchroedingerRotating3D\n",
      "    SchroedingerHermite1D\n",
      "    SchroedingerHermite2D\n",
      "    SchroedingerHermite3D\n",
      "    SchroedingerHermiteReal1D\n",
      "    SchroedingerHermiteReal2D\n",
      "    SchroedingerHermiteReal3D\n",
      "    SchroedingerGeneralizedLaguerre2D\n",
      "    SchroedingerGeneralizedLaguerreHermite3D\n",
      "    SchroedingerGeneralizedLaguerreReal2D\n",
      "    SchroedingerGeneralizedLaguerreHermiteReal3D\n",
      "including tssm_fourier.jl for type Float128\n",
      "    Fourier1D\n",
      "    Fourier2D\n",
      "    Fourier3D\n",
      "    FourierReal1D\n",
      "    FourierReal2D\n",
      "    FourierReal3D\n",
      "including tssm_fourier_bessel.jl for type Float128\n",
      "    FourierBessel2D\n",
      "    FourierBesselReal2D\n",
      "    BesselRotSym1D\n",
      "    BesselRotSymReal1D\n",
      "including tssm_schroedinger.jl for type Float128\n",
      "    Schroedinger1D\n",
      "    Schroedinger2D\n",
      "    Schroedinger3D\n",
      "    SchroedingerReal1D\n",
      "    SchroedingerReal2D\n",
      "    SchroedingerReal3D\n",
      "including tssm_schroedinger_rotating.jl for type Float128\n",
      "    SchroedingerRotating2D\n",
      "    SchroedingerRotating3D\n",
      "including tssm_schroedinger_hermite.jl for type Float128\n",
      "    SchroedingerHermite1D\n",
      "    SchroedingerHermite2D\n",
      "    SchroedingerHermite3D\n",
      "    SchroedingerHermiteReal1D\n",
      "    SchroedingerHermiteReal2D\n",
      "    SchroedingerHermiteReal3D\n",
      "including tssm_schroedinger_generalized_laguerre.jl for type Float128\n",
      "    SchroedingerGeneralizedLaguerre2D\n",
      "    SchroedingerGeneralizedLaguerreHermite3D\n",
      "    SchroedingerGeneralizedLaguerreReal2D\n",
      "    SchroedingerGeneralizedLaguerreHermiteReal3D\n",
      "including tssm_common.jl for type Float128\n",
      "    Fourier1D\n",
      "    Fourier2D\n",
      "    Fourier3D\n",
      "    FourierReal1D\n",
      "    FourierReal2D\n",
      "    FourierReal3D\n",
      "    FourierBessel2D\n",
      "    FourierBesselReal2D\n",
      "    BesselRotSym1D\n",
      "    BesselRotSymReal1D\n",
      "    Schroedinger1D\n",
      "    Schroedinger2D\n",
      "    Schroedinger3D\n",
      "    SchroedingerReal1D\n",
      "    SchroedingerReal2D\n",
      "    SchroedingerReal3D\n",
      "    SchroedingerRotating2D\n",
      "    SchroedingerRotating3D\n",
      "    SchroedingerHermite1D\n",
      "    SchroedingerHermite2D\n",
      "    SchroedingerHermite3D\n",
      "    SchroedingerHermiteReal1D\n",
      "    SchroedingerHermiteReal2D\n",
      "    SchroedingerHermiteReal3D\n",
      "    SchroedingerGeneralizedLaguerre2D\n",
      "    SchroedingerGeneralizedLaguerreHermite3D\n",
      "    SchroedingerGeneralizedLaguerreReal2D\n",
      "    SchroedingerGeneralizedLaguerreHermiteReal3D\n",
      "including tssm_schroedinger.jl for type Float128\n",
      "    Schroedinger1D\n",
      "    Schroedinger2D\n",
      "    Schroedinger3D\n",
      "    SchroedingerReal1D\n",
      "    SchroedingerReal2D\n",
      "    SchroedingerReal3D\n",
      "    SchroedingerRotating2D\n",
      "    SchroedingerRotating3D\n",
      "    SchroedingerHermite1D\n",
      "    SchroedingerHermite2D\n",
      "    SchroedingerHermite3D\n",
      "    SchroedingerHermiteReal1D\n",
      "    SchroedingerHermiteReal2D\n",
      "    SchroedingerHermiteReal3D\n",
      "    SchroedingerGeneralizedLaguerre2D\n",
      "    SchroedingerGeneralizedLaguerreHermite3D\n",
      "    SchroedingerGeneralizedLaguerreReal2D\n",
      "    SchroedingerGeneralizedLaguerreHermiteReal3D\n",
      " *** OPENMP n_threads =           8\n",
      " *** OPENMP n_threads =           8\n",
      " W: could not import fftw wisdom file\n"
     ]
    },
    {
     "data": {
      "text/plain": [
       "local_orders (generic function with 5 methods)"
      ]
     },
     "execution_count": 1,
     "metadata": {},
     "output_type": "execute_result"
    }
   ],
   "source": [
    "using TSSM\n",
    "include(\"time_stepper.jl\")"
   ]
  },
  {
   "cell_type": "code",
   "execution_count": 2,
   "metadata": {
    "collapsed": false
   },
   "outputs": [
    {
     "data": {
      "text/plain": [
       "propagate_B! (generic function with 22 methods)"
      ]
     },
     "execution_count": 2,
     "metadata": {},
     "output_type": "execute_result"
    }
   ],
   "source": [
    "function TSSM.propagate_B!(psi::WfFourierReal1D, dt::Number)\n",
    "    to_real_space!(psi)\n",
    "    u = get_data(psi, true)\n",
    "    u[:] = u./(u + exp(-dt)*(1-u))\n",
    "end"
   ]
  },
  {
   "cell_type": "code",
   "execution_count": 32,
   "metadata": {
    "collapsed": false
   },
   "outputs": [],
   "source": [
    "m = FourierReal1D(Float64,64*1024,0,1,boundary_conditions=periodic)\n",
    "psi = wave_function(m)\n",
    "f(x) = cos(2*pi*x)+x\n",
    "set!(psi, f)"
   ]
  },
  {
   "cell_type": "code",
   "execution_count": 33,
   "metadata": {
    "collapsed": false
   },
   "outputs": [
    {
     "name": "stdout",
     "output_type": "stream",
     "text": [
      "             dt         err      p\n",
      "-----------------------------------\n",
      "  1   3.052e-05   2.465e-07\n",
      "  2   1.526e-05   1.035e-07   1.25\n",
      "  3   7.629e-06   4.361e-08   1.25\n",
      "  4   3.815e-06   1.838e-08   1.25\n",
      "  5   1.907e-06   7.744e-09   1.25\n",
      "  6   9.537e-07   3.261e-09   1.25\n",
      "  7   4.768e-07   1.373e-09   1.25\n",
      "  8   2.384e-07   5.778e-10   1.25\n",
      "  9   1.192e-07   2.431e-10   1.25\n",
      " 10   5.960e-08   1.023e-10   1.25\n"
     ]
    }
   ],
   "source": [
    "local_orders(psi, 0, 1/Float64(2)^15, scheme=(1,1), operator_sequence=\"AB\", rows=10, reference_steps=8);"
   ]
  },
  {
   "cell_type": "code",
   "execution_count": 34,
   "metadata": {
    "collapsed": false
   },
   "outputs": [
    {
     "name": "stdout",
     "output_type": "stream",
     "text": [
      "             dt         err      p\n",
      "-----------------------------------\n",
      "  1   3.052e-05   2.946e-08\n",
      "  2   1.526e-05   1.233e-08   1.26\n",
      "  3   7.629e-06   5.168e-09   1.25\n",
      "  4   3.815e-06   2.168e-09   1.25\n",
      "  5   1.907e-06   9.102e-10   1.25\n",
      "  6   9.537e-07   3.823e-10   1.25\n",
      "  7   4.768e-07   1.606e-10   1.25\n",
      "  8   2.384e-07   6.749e-11   1.25\n",
      "  9   1.192e-07   2.837e-11   1.25\n",
      " 10   5.960e-08   1.193e-11   1.25\n",
      " 11   2.980e-08   5.019e-12   1.25\n",
      " 12   1.490e-08   2.114e-12   1.25\n",
      " 13   7.451e-09   8.917e-13   1.25\n",
      " 14   3.725e-09   3.775e-13   1.24\n",
      " 15   1.863e-09   6.009e-13  -0.67\n"
     ]
    }
   ],
   "source": [
    "local_orders(psi, 0, 1/Float64(2)^15, scheme=(.5,1,.5), operator_sequence=\"AB\", rows=15, reference_steps=8);"
   ]
  },
  {
   "cell_type": "code",
   "execution_count": 23,
   "metadata": {
    "collapsed": true
   },
   "outputs": [],
   "source": [
    "m = FourierReal1D(Float64,8*1024,0,1,boundary_conditions=dirichlet)\n",
    "psi = wave_function(m)\n",
    "f(x) = sin(2*pi*x)\n",
    "set!(psi, f)"
   ]
  },
  {
   "cell_type": "code",
   "execution_count": 24,
   "metadata": {
    "collapsed": false
   },
   "outputs": [
    {
     "name": "stdout",
     "output_type": "stream",
     "text": [
      "             dt         err      p\n",
      "-----------------------------------\n",
      "  1   3.052e-05   1.941e-08\n",
      "  2   1.526e-05   4.876e-09   1.99\n",
      "  3   7.629e-06   1.223e-09   2.00\n",
      "  4   3.815e-06   3.064e-10   2.00\n",
      "  5   1.907e-06   7.670e-11   2.00\n",
      "  6   9.537e-07   1.919e-11   2.00\n",
      "  7   4.768e-07   4.802e-12   2.00\n",
      "  8   2.384e-07   1.201e-12   2.00\n",
      "  9   1.192e-07   3.004e-13   2.00\n",
      " 10   5.960e-08   7.516e-14   2.00\n"
     ]
    }
   ],
   "source": [
    "f(x) = sin(2*pi*x)\n",
    "set!(psi, f)\n",
    "local_orders(psi, 0, 1/Float64(2)^15, scheme=(1,1), operator_sequence=\"AB\", rows=10, reference_steps=8);"
   ]
  },
  {
   "cell_type": "code",
   "execution_count": 25,
   "metadata": {
    "collapsed": false
   },
   "outputs": [
    {
     "name": "stdout",
     "output_type": "stream",
     "text": [
      "             dt         err      p\n",
      "-----------------------------------\n",
      "  1   3.052e-05   4.776e-07\n",
      "  2   1.526e-05   2.014e-07   1.25\n",
      "  3   7.629e-06   8.482e-08   1.25\n",
      "  4   3.815e-06   3.569e-08   1.25\n",
      "  5   1.907e-06   1.501e-08   1.25\n",
      "  6   9.537e-07   6.310e-09   1.25\n",
      "  7   4.768e-07   2.652e-09   1.25\n",
      "  8   2.384e-07   1.114e-09   1.25\n",
      "  9   1.192e-07   4.670e-10   1.25\n",
      " 10   5.960e-08   1.953e-10   1.26\n"
     ]
    }
   ],
   "source": [
    "f(x) = cos(2*pi*x)\n",
    "set!(psi, f)\n",
    "local_orders(psi, 0, 1/Float64(2)^15, scheme=(1,1), operator_sequence=\"AB\", rows=10, reference_steps=8);"
   ]
  },
  {
   "cell_type": "code",
   "execution_count": 26,
   "metadata": {
    "collapsed": false
   },
   "outputs": [
    {
     "name": "stdout",
     "output_type": "stream",
     "text": [
      "             dt         err      p\n",
      "-----------------------------------\n",
      "  1   3.052e-05   1.775e-10\n",
      "  2   1.526e-05   3.734e-11   2.25\n",
      "  3   7.629e-06   7.851e-12   2.25\n",
      "  4   3.815e-06   1.651e-12   2.25\n",
      "  5   1.907e-06   3.470e-13   2.25\n",
      "  6   9.537e-07   7.296e-14   2.25\n",
      "  7   4.768e-07   1.534e-14   2.25\n",
      "  8   2.384e-07   3.292e-15   2.22\n",
      "  9   1.192e-07   7.522e-16   2.13\n",
      " 10   5.960e-08   3.582e-16   1.07\n"
     ]
    }
   ],
   "source": [
    "f(x) = sin(2*pi*x)\n",
    "set!(psi, f)\n",
    "local_orders(psi, 0, 1/Float64(2)^15, scheme=(.5,1,.5), operator_sequence=\"AB\", rows=10, reference_steps=8);"
   ]
  },
  {
   "cell_type": "code",
   "execution_count": 27,
   "metadata": {
    "collapsed": false
   },
   "outputs": [
    {
     "name": "stdout",
     "output_type": "stream",
     "text": [
      "             dt         err      p\n",
      "-----------------------------------\n",
      "  1   3.052e-05   4.034e-08\n",
      "  2   1.526e-05   1.703e-08   1.24\n",
      "  3   7.629e-06   7.177e-09   1.25\n",
      "  4   3.815e-06   3.020e-09   1.25\n",
      "  5   1.907e-06   1.270e-09   1.25\n",
      "  6   9.537e-07   5.339e-10   1.25\n",
      "  7   4.768e-07   2.243e-10   1.25\n",
      "  8   2.384e-07   9.407e-11   1.25\n",
      "  9   1.192e-07   3.933e-11   1.26\n",
      " 10   5.960e-08   1.629e-11   1.27\n"
     ]
    }
   ],
   "source": [
    "f(x) = cos(2*pi*x)\n",
    "set!(psi, f)\n",
    "local_orders(psi, 0, 1/Float64(2)^15, scheme=(.5,1,.5), operator_sequence=\"AB\", rows=10, reference_steps=8);"
   ]
  },
  {
   "cell_type": "code",
   "execution_count": null,
   "metadata": {
    "collapsed": true
   },
   "outputs": [],
   "source": []
  }
 ],
 "metadata": {
  "kernelspec": {
   "display_name": "Julia 0.4.3",
   "language": "julia",
   "name": "julia-0.4"
  },
  "language_info": {
   "file_extension": ".jl",
   "mimetype": "application/julia",
   "name": "julia",
   "version": "0.4.3"
  }
 },
 "nbformat": 4,
 "nbformat_minor": 0
}
