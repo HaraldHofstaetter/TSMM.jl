{
 "cells": [
  {
   "cell_type": "code",
   "execution_count": 1,
   "metadata": {},
   "outputs": [],
   "source": [
    "using TSSM"
   ]
  },
  {
   "cell_type": "code",
   "execution_count": 2,
   "metadata": {},
   "outputs": [],
   "source": [
    "include(\"dirac.jl\")"
   ]
  },
  {
   "cell_type": "code",
   "execution_count": 3,
   "metadata": {},
   "outputs": [
    {
     "data": {
      "text/plain": [
       "step! (generic function with 6 methods)"
      ]
     },
     "execution_count": 3,
     "metadata": {},
     "output_type": "execute_result"
    }
   ],
   "source": [
    "include(\"time_propagators.jl\")"
   ]
  },
  {
   "cell_type": "code",
   "execution_count": 4,
   "metadata": {},
   "outputs": [
    {
     "data": {
      "text/plain": [
       "V (generic function with 1 method)"
      ]
     },
     "execution_count": 4,
     "metadata": {},
     "output_type": "execute_result"
    }
   ],
   "source": [
    "V(x)=(1-x)/(1+x^2) # potential as in Bao paper"
   ]
  },
  {
   "cell_type": "code",
   "execution_count": 5,
   "metadata": {},
   "outputs": [
    {
     "name": "stderr",
     "output_type": "stream",
     "text": [
      "┌ Warning: `cfunction(f, r, a::Tuple)` is deprecated, use `cfunction(f, r, Tuple{a...})` instead.\n",
      "│   caller = cfunction_check_return_type(::Function, ::Type, ::Tuple{DataType}) at TSSM.jl:492\n",
      "└ @ TSSM /home/hofi/.julia/dev/TSSM/src/TSSM.jl:492\n",
      "┌ Warning: The function `cfunction` is now written as a macro `@cfunction`.\n",
      "│   caller = cfunction(::Function, ::Type, ::Tuple{DataType}) at deprecated.jl:55\n",
      "└ @ Base ./deprecated.jl:55\n",
      "┌ Warning: `cfunction(f, r, a::Tuple)` is deprecated, use `cfunction(f, r, Tuple{a...})` instead.\n",
      "│   caller = cfunction_check_return_type(::Function, ::Type, ::Tuple{DataType,DataType}) at TSSM.jl:492\n",
      "└ @ TSSM /home/hofi/.julia/dev/TSSM/src/TSSM.jl:492\n",
      "┌ Warning: The function `cfunction` is now written as a macro `@cfunction`.\n",
      "│   caller = cfunction(::Function, ::Type, ::Tuple{DataType,DataType}) at deprecated.jl:55\n",
      "└ @ Base ./deprecated.jl:55\n"
     ]
    },
    {
     "data": {
      "text/plain": [
       "Dirac1D(Schroedinger1D{Float64}(Ptr{Nothing} @0x0000000003595070), 1.0, 1.0, 1.0, [1.0, 1.00481, 1.01909, 1.04247, 1.07434, 1.11398, 1.16059, 1.21337, 1.27155, 1.33443  …  1.40137, 1.33443, 1.27155, 1.21337, 1.16059, 1.11398, 1.07434, 1.04247, 1.01909, 1.00481], [1.0, 0.998803, 0.995305, 0.989763, 0.982548, 0.974084, 0.964787, 0.955026, 0.945103, 0.93525  …  0.925632, 0.93525, 0.945103, 0.955026, 0.964787, 0.974084, 0.982548, 0.989763, 0.995305, 0.998803], [0.0, 0.0489111, 0.0967898, 0.142724, 0.186009, 0.226186, 0.263033, 0.296523, 0.326773, 0.353989  …  -0.378425, -0.353989, -0.326773, -0.296523, -0.263033, -0.226186, -0.186009, -0.142724, -0.0967898, -0.0489111])"
      ]
     },
     "execution_count": 5,
     "metadata": {},
     "output_type": "execute_result"
    }
   ],
   "source": [
    "m = Dirac1D(1024, -32, 32, epsilon=1, delta=1, nu=1, potential=V) # grid as in Bao paper"
   ]
  },
  {
   "cell_type": "code",
   "execution_count": 6,
   "metadata": {},
   "outputs": [
    {
     "data": {
      "text/plain": [
       "WfDirac1D(Dirac1D(Schroedinger1D{Float64}(Ptr{Nothing} @0x0000000003595070), 1.0, 1.0, 1.0, [1.0, 1.00481, 1.01909, 1.04247, 1.07434, 1.11398, 1.16059, 1.21337, 1.27155, 1.33443  …  1.40137, 1.33443, 1.27155, 1.21337, 1.16059, 1.11398, 1.07434, 1.04247, 1.01909, 1.00481], [1.0, 0.998803, 0.995305, 0.989763, 0.982548, 0.974084, 0.964787, 0.955026, 0.945103, 0.93525  …  0.925632, 0.93525, 0.945103, 0.955026, 0.964787, 0.974084, 0.982548, 0.989763, 0.995305, 0.998803], [0.0, 0.0489111, 0.0967898, 0.142724, 0.186009, 0.226186, 0.263033, 0.296523, 0.326773, 0.353989  …  -0.378425, -0.353989, -0.326773, -0.296523, -0.263033, -0.226186, -0.186009, -0.142724, -0.0967898, -0.0489111]), WfSchroedinger1D{Float64}(Ptr{Nothing} @0x0000000003838380, Schroedinger1D{Float64}(Ptr{Nothing} @0x0000000003595070)), WfSchroedinger1D{Float64}(Ptr{Nothing} @0x00000000035d47d0, Schroedinger1D{Float64}(Ptr{Nothing} @0x0000000003595070)))"
      ]
     },
     "execution_count": 6,
     "metadata": {},
     "output_type": "execute_result"
    }
   ],
   "source": [
    "psi_ref=wave_function(m)\n",
    "psi=wave_function(m)"
   ]
  },
  {
   "cell_type": "code",
   "execution_count": 7,
   "metadata": {},
   "outputs": [
    {
     "data": {
      "text/plain": [
       "phi2 (generic function with 1 method)"
      ]
     },
     "execution_count": 7,
     "metadata": {},
     "output_type": "execute_result"
    }
   ],
   "source": [
    "phi1(x) = exp(-x^2/2)     # initial data ad in Bao paper\n",
    "phi2(x) = exp(-(x-1)^2/2)"
   ]
  },
  {
   "cell_type": "markdown",
   "metadata": {},
   "source": [
    "## Reference solution computed with novel 6th order scheme"
   ]
  },
  {
   "cell_type": "code",
   "execution_count": 8,
   "metadata": {},
   "outputs": [
    {
     "data": {
      "text/plain": [
       "SplittingMethod(5, [0.109512, 0.445172, -0.109366, 0.445172, 0.109512], [0.268722, 0.231278, 0.231278, 0.268722, 0.0])"
      ]
     },
     "execution_count": 8,
     "metadata": {},
     "output_type": "execute_result"
    }
   ],
   "source": [
    "a1 = .10951155775139804132\n",
    "a2 = .44517150809553409515\n",
    "a3 = -.1093661316938642729\n",
    "b1 = .2687222082048146936\n",
    "b2 = .2312777917951853064\n",
    "a=[a1, a2, a3, a2, a1]\n",
    "b=[b1, b2, b2, b1, 0.0]\n",
    "method = SplittingMethod(a,b)"
   ]
  },
  {
   "cell_type": "code",
   "execution_count": 9,
   "metadata": {},
   "outputs": [
    {
     "name": "stderr",
     "output_type": "stream",
     "text": [
      "┌ Warning: `cfunction(f, r, a::Tuple)` is deprecated, use `cfunction(f, r, Tuple{a...})` instead.\n",
      "│   caller = set!(::WfSchroedinger1D{Float64}, ::Function) at tssm_common.jl:396\n",
      "└ @ TSSM /home/hofi/.julia/dev/TSSM/src/tssm_common.jl:396\n"
     ]
    }
   ],
   "source": [
    "t0=0\n",
    "tend=1\n",
    "steps=4096\n",
    "dt = (tend-t0)/steps\n",
    "set!(psi_ref, phi1, phi2)\n",
    "for t in EquidistantTimeStepper(method, psi_ref, 0.0, dt, steps) \n",
    "#k+=1\n",
    "#    println(\"step=\",k)\n",
    "end"
   ]
  },
  {
   "cell_type": "markdown",
   "metadata": {},
   "source": [
    "## 4th order compact splitting"
   ]
  },
  {
   "cell_type": "code",
   "execution_count": 10,
   "metadata": {},
   "outputs": [
    {
     "data": {
      "text/plain": [
       "SplittingMethod(3, [0.0, 0.5, 0.5], [0.166667, 0.666667, 0.166667])"
      ]
     },
     "execution_count": 10,
     "metadata": {},
     "output_type": "execute_result"
    }
   ],
   "source": [
    "a=[0.0, 0.5, 0.5]\n",
    "b=[1/6, 2/3, 1/6]\n",
    "method = SplittingMethod(a,b)"
   ]
  },
  {
   "cell_type": "code",
   "execution_count": 11,
   "metadata": {},
   "outputs": [
    {
     "name": "stdout",
     "output_type": "stream",
     "text": [
      "             dt         err           C      p      B calls\n",
      "-----------------------------------------------------------\n",
      "  1   1.000e+00   1.190e-02                               3\n",
      "  2   5.000e-01   5.420e-04   1.190e-02   4.46            6\n",
      "  3   2.500e-01   2.957e-05   9.931e-03   4.20           12\n",
      "  4   1.250e-01   1.807e-06   7.923e-03   4.03           24\n",
      "  5   6.250e-02   1.123e-07   7.523e-03   4.01           48\n",
      "  6   3.125e-02   7.010e-09   7.402e-03   4.00           96\n",
      "  7   1.563e-02   4.378e-10   7.382e-03   4.00          192\n",
      "  8   7.813e-03   2.810e-11   6.252e-03   3.96          384\n",
      "  9   3.906e-03   7.605e-12   2.645e-07   1.89          768\n",
      " 10   1.953e-03   7.296e-12   1.059e-11   0.06         1536\n"
     ]
    }
   ],
   "source": [
    "set!(psi, phi1, phi2)\n",
    "global_orders(method, psi, psi_ref, t0, tend, 1.0, rows=10)"
   ]
  },
  {
   "cell_type": "markdown",
   "metadata": {},
   "source": [
    "## 4th order Yoshida splitting"
   ]
  },
  {
   "cell_type": "code",
   "execution_count": 12,
   "metadata": {},
   "outputs": [
    {
     "data": {
      "text/plain": [
       "SplittingMethod(4, [0.675604, -0.175604, -0.175604, 0.675604], [1.35121, -1.70241, 1.35121, 0.0])"
      ]
     },
     "execution_count": 12,
     "metadata": {},
     "output_type": "execute_result"
    }
   ],
   "source": [
    "a=[\n",
    " 0.675603595979828817,\n",
    "-0.175603595979828817,\n",
    "-0.175603595979828817,\n",
    " 0.675603595979828817\n",
    "    ]\n",
    "b=[\n",
    " 1.351207191959657634,\n",
    "-1.702414383919315268,\n",
    " 1.351207191959657634,\n",
    " 0.000000000000000000\n",
    "    ]\n",
    "method = SplittingMethod(a,b)"
   ]
  },
  {
   "cell_type": "code",
   "execution_count": 13,
   "metadata": {},
   "outputs": [
    {
     "name": "stdout",
     "output_type": "stream",
     "text": [
      "             dt         err           C      p      B calls\n",
      "-----------------------------------------------------------\n",
      "  1   1.000e+00   3.455e-02                               3\n",
      "  2   5.000e-01   2.440e-03   3.455e-02   3.82            6\n",
      "  3   2.500e-01   1.565e-04   3.806e-02   3.96           12\n",
      "  4   1.250e-01   9.850e-06   3.949e-02   3.99           24\n",
      "  5   6.250e-02   6.167e-07   4.013e-02   4.00           48\n",
      "  6   3.125e-02   3.856e-08   4.034e-02   4.00           96\n",
      "  7   1.563e-02   2.411e-09   4.037e-02   4.00          192\n",
      "  8   7.813e-03   1.514e-10   3.933e-02   3.99          384\n",
      "  9   3.906e-03   1.234e-11   6.338e-03   3.62          768\n",
      " 10   1.953e-03   7.051e-12   1.085e-09   0.81         1536\n"
     ]
    }
   ],
   "source": [
    "set!(psi, phi1, phi2)\n",
    "global_orders(method, psi, psi_ref, t0, tend, 1.0, rows=10)"
   ]
  },
  {
   "cell_type": "markdown",
   "metadata": {},
   "source": [
    "## Novel 6th order scheme for $[B,[B,A]]=0$"
   ]
  },
  {
   "cell_type": "code",
   "execution_count": 14,
   "metadata": {},
   "outputs": [
    {
     "data": {
      "text/plain": [
       "SplittingMethod(5, [0.109512, 0.445172, -0.109366, 0.445172, 0.109512], [0.268722, 0.231278, 0.231278, 0.268722, 0.0])"
      ]
     },
     "execution_count": 14,
     "metadata": {},
     "output_type": "execute_result"
    }
   ],
   "source": [
    "a1 = .10951155775139804132\n",
    "a2 = .44517150809553409515\n",
    "a3 = -.1093661316938642729\n",
    "b1 = .2687222082048146936\n",
    "b2 = .2312777917951853064\n",
    "a=[a1, a2, a3, a2, a1]\n",
    "b=[b1, b2, b2, b1, 0.0]\n",
    "method = SplittingMethod(a,b)"
   ]
  },
  {
   "cell_type": "code",
   "execution_count": 15,
   "metadata": {},
   "outputs": [
    {
     "name": "stdout",
     "output_type": "stream",
     "text": [
      "             dt         err           C      p      B calls\n",
      "-----------------------------------------------------------\n",
      "  1   1.000e+00   5.282e-04                               4\n",
      "  2   5.000e-01   7.699e-06   5.282e-04   6.10            8\n",
      "  3   2.500e-01   5.640e-08   1.051e-03   7.09           16\n",
      "  4   1.250e-01   8.012e-10   2.795e-04   6.14           32\n",
      "  5   6.250e-02   1.433e-11   1.400e-04   5.80           64\n",
      "  6   3.125e-02   7.614e-12   1.799e-10   0.91          128\n",
      "  7   1.563e-02   7.556e-12   7.914e-12   0.01          256\n"
     ]
    }
   ],
   "source": [
    "set!(psi, phi1, phi2)\n",
    "global_orders(method, psi, psi_ref, t0, tend, 1.0, rows=7)"
   ]
  },
  {
   "cell_type": "markdown",
   "metadata": {},
   "source": [
    "## Another novel 6th order scheme for $[B,[B,A]]=0$"
   ]
  },
  {
   "cell_type": "code",
   "execution_count": 16,
   "metadata": {},
   "outputs": [
    {
     "data": {
      "text/plain": [
       "SplittingMethod(5, [-1.37268, 1.58683, 0.571701, 1.58683, -1.37268], [0.000236877, 0.499763, 0.499763, 0.000236877, 0.0])"
      ]
     },
     "execution_count": 16,
     "metadata": {},
     "output_type": "execute_result"
    }
   ],
   "source": [
    "a1=-1.3726838813041553\n",
    "a2= 1.5868331938715983\n",
    "a3= 0.5717013748651176\n",
    "b1=0.00023687690880613843\n",
    "b2=0.49976312309119386\n",
    "a=[a1, a2, a3, a2, a1]\n",
    "b=[b1, b2, b2, b1, 0.0]\n",
    "method = SplittingMethod(a,b)"
   ]
  },
  {
   "cell_type": "code",
   "execution_count": 17,
   "metadata": {},
   "outputs": [
    {
     "name": "stdout",
     "output_type": "stream",
     "text": [
      "             dt         err           C      p      B calls\n",
      "-----------------------------------------------------------\n",
      "  1   1.000e+00   6.484e-03                               4\n",
      "  2   5.000e-01   1.682e-04   6.484e-03   5.27            8\n",
      "  3   2.500e-01   2.632e-06   1.075e-02   6.00           16\n",
      "  4   1.250e-01   4.331e-08   9.716e-03   5.93           32\n",
      "  5   6.250e-02   6.872e-10   1.084e-02   5.98           64\n",
      "  6   3.125e-02   1.328e-11   4.928e-03   5.69          128\n",
      "  7   1.563e-02   7.564e-12   2.214e-10   0.81          256\n"
     ]
    }
   ],
   "source": [
    "set!(psi, phi1, phi2)\n",
    "global_orders(method, psi, psi_ref, t0, tend, 1.0, rows=7)"
   ]
  },
  {
   "cell_type": "code",
   "execution_count": null,
   "metadata": {},
   "outputs": [],
   "source": []
  }
 ],
 "metadata": {
  "kernelspec": {
   "display_name": "Julia 0.7.0",
   "language": "julia",
   "name": "julia-0.7"
  },
  "language_info": {
   "file_extension": ".jl",
   "mimetype": "application/julia",
   "name": "julia",
   "version": "0.7.0"
  }
 },
 "nbformat": 4,
 "nbformat_minor": 2
}
