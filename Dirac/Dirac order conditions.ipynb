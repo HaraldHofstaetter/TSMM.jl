{
 "cells": [
  {
   "cell_type": "code",
   "execution_count": 1,
   "metadata": {},
   "outputs": [],
   "source": [
    "using Expocon"
   ]
  },
  {
   "cell_type": "code",
   "execution_count": 2,
   "metadata": {},
   "outputs": [],
   "source": [
    "using Giac"
   ]
  },
  {
   "cell_type": "code",
   "execution_count": 59,
   "metadata": {},
   "outputs": [
    {
     "data": {
      "text/plain": [
       "(a1, a2, a3, b1, b2, b3)"
      ]
     },
     "execution_count": 59,
     "metadata": {},
     "output_type": "execute_result"
    }
   ],
   "source": [
    "@giac a1 a2 a3 b1 b2 b3"
   ]
  },
  {
   "cell_type": "code",
   "execution_count": 60,
   "metadata": {},
   "outputs": [
    {
     "data": {
      "text/plain": [
       "B"
      ]
     },
     "execution_count": 60,
     "metadata": {},
     "output_type": "execute_result"
    }
   ],
   "source": [
    "A=Generator(\"A\")\n",
    "B=Generator(\"B\")"
   ]
  },
  {
   "cell_type": "code",
   "execution_count": 61,
   "metadata": {},
   "outputs": [
    {
     "data": {
      "text/plain": [
       "exp((a1)*A)*exp((b1)*B)*exp((a2)*A)*exp((b2)*B)*exp((a3)*A)*exp((b2)*B)*exp((a2)*A)*exp((b1)*B)*exp((a1)*A)"
      ]
     },
     "execution_count": 61,
     "metadata": {},
     "output_type": "execute_result"
    }
   ],
   "source": [
    "Sa = exp(a1*A)*exp(b1*B)*exp(a2*A)*exp(b2*B)*exp(a3*A)*exp(b2*B)*exp(a2*A)*exp(b1*B)*exp(a1*A)"
   ]
  },
  {
   "cell_type": "code",
   "execution_count": 62,
   "metadata": {},
   "outputs": [
    {
     "data": {
      "text/plain": [
       "exp((b1)*B)*exp((a1)*A)*exp((b2)*B)*exp((a2)*A)*exp((b3)*B)*exp((a2)*A)*exp((b2)*B)*exp((a1)*A)*exp((b1)*B)"
      ]
     },
     "execution_count": 62,
     "metadata": {},
     "output_type": "execute_result"
    }
   ],
   "source": [
    "Sb = exp(b1*B)*exp(a1*A)*exp(b2*B)*exp(a2*A)*exp(b3*B)*exp(a2*A)*exp(b2*B)*exp(a1*A)*exp(b1*B)"
   ]
  },
  {
   "cell_type": "code",
   "execution_count": 63,
   "metadata": {},
   "outputs": [
    {
     "data": {
      "text/plain": [
       "6-element Array{Expocon.Word,1}:\n",
       " A        \n",
       " B        \n",
       " A.A.B    \n",
       " A.A.A.A.B\n",
       " A.A.A.B.B\n",
       " A.A.B.A.B"
      ]
     },
     "execution_count": 63,
     "metadata": {},
     "output_type": "execute_result"
    }
   ],
   "source": [
    "W=[\n",
    "    Word(A), Word(B),\n",
    "    Word(A,A,B),\n",
    "    Word(A,A,A,A,B), Word(A,A,A,B,B), Word(A,A,B,A,B)\n",
    "]"
   ]
  },
  {
   "cell_type": "code",
   "execution_count": 64,
   "metadata": {},
   "outputs": [
    {
     "data": {
      "text/plain": [
       "5-element Array{Giac.giac_SYMB,1}:\n",
       " 2*a1+2*a2+a3-1                                                                                                                                                                                                                                                                                                                                                                                                                                                            \n",
       " 2*b1+2*b2-1                                                                                                                                                                                                                                                                                                                                                                                                                                                               \n",
       " a1^2*b1+a1^2*b2+2*a2^2*b1+a2^2*b2+1/2*a3^2*b1+1/2*a3^2*b2+2*a1*a2*b1+2*a1*a2*b2+a1*a3*b1+a1*a3*b2+2*a2*a3*b1+a2*a3*b2-1/6                                                                                                                                                                                                                                                                                                                                                 \n",
       " 1/12*a1^4*b1+1/12*a1^4*b2+2/3*a2^4*b1+1/12*a2^4*b2+1/24*a3^4*b1+1/24*a3^4*b2+4/3*a1*a2^3*b1+1/3*a1*a2^3*b2+1/6*a1*a3^3*b1+1/6*a1*a3^3*b2+1/3*a2*a3^3*b1+1/6*a2*a3^3*b2+a1^2*a2^2*b1+1/2*a1^2*a2^2*b2+1/4*a1^2*a3^2*b1+1/4*a1^2*a3^2*b2+1/3*a1^3*a2*b1+1/3*a1^3*a2*b2+1/6*a1^3*a3*b1+1/6*a1^3*a3*b2+a2^2*a3^2*b1+1/4*a2^2*a3^2*b2+4/3*a2^3*a3*b1+1/6*a2^3*a3*b2+a1*a2*a3^2*b1+1/2*a1*a2*a3^2*b2+2*a1*a2^2*a3*b1+1/2*a1*a2^2*a3*b2+a1^2*a2*a3*b1+1/2*a1^2*a2*a3*b2-1/120    \n",
       " 2/3*a1^3*b1^2+2/3*a1^3*b2^2+4/3*a2^3*b1^2+2/3*a2^3*b2^2+1/6*a3^3*b1^2+1/6*a3^3*b2^2+2*a1*a2^2*b1^2+2*a1*a2^2*b2^2+1/2*a1*a3^2*b1^2+1/2*a1*a3^2*b2^2+a2*a3^2*b1^2+1/2*a2*a3^2*b2^2+2*a1^2*a2*b1^2+2*a1^2*a2*b2^2+a1^2*a3*b1^2+a1^2*a3*b2^2+4/3*a1^3*b1*b2+2*a2^2*a3*b1^2+a2^2*a3*b2^2+5/3*a2^3*b1*b2+1/3*a3^3*b1*b2+2*a1*a2*a3*b1^2+2*a1*a2*a3*b2^2+4*a1*a2^2*b1*b2+a1*a3^2*b1*b2+3/2*a2*a3^2*b1*b2+4*a1^2*a2*b1*b2+2*a1^2*a3*b1*b2+5/2*a2^2*a3*b1*b2+4*a1*a2*a3*b1*b2-1/40"
      ]
     },
     "execution_count": 64,
     "metadata": {},
     "output_type": "execute_result"
    }
   ],
   "source": [
    "eqs_a=expand.(coeffs(W, Sa)-rhs_splitting(W))\n",
    "eqs_a=vcat(eqs_a[1:4], expand(2*eqs_a[5]+eqs_a[6]))"
   ]
  },
  {
   "cell_type": "code",
   "execution_count": 65,
   "metadata": {},
   "outputs": [
    {
     "data": {
      "text/plain": [
       "5-element Array{Giac.giac_IDNT,1}:\n",
       " a1\n",
       " a2\n",
       " a3\n",
       " b1\n",
       " b2"
      ]
     },
     "execution_count": 65,
     "metadata": {},
     "output_type": "execute_result"
    }
   ],
   "source": [
    "vars_a=[a1,a2,a3,b1,b2]"
   ]
  },
  {
   "cell_type": "code",
   "execution_count": 67,
   "metadata": {},
   "outputs": [
    {
     "name": "stderr",
     "output_type": "stream",
     "text": [
      "// Groebner basis computation time 0.002386 Memory 0.282M\n",
      "Rational univariate representation is not certified, set proba_epsilon:=0 to certify\n"
     ]
    },
    {
     "data": {
      "text/plain": [
       "2-element Array{Array{Float64,1},1}:\n",
       " [0.109512, 0.445172, -0.109366, 0.268722, 0.231278] \n",
       " [-1.37268, 1.58683, 0.571701, 0.000236877, 0.499763]"
      ]
     },
     "execution_count": 67,
     "metadata": {},
     "output_type": "execute_result"
    }
   ],
   "source": [
    "sols_a=to_julia(solve(eqs_a, vars_a))"
   ]
  },
  {
   "cell_type": "code",
   "execution_count": 68,
   "metadata": {},
   "outputs": [
    {
     "data": {
      "text/plain": [
       "5-element Array{Giac.giac_SYMB,1}:\n",
       " 2*a1+2*a2-1                                                                                                                                                                                                                                                                                                                                                                         \n",
       " 2*b1+2*b2+b3-1                                                                                                                                                                                                                                                                                                                                                                      \n",
       " 2*a1^2*b1+a1^2*b2+1/2*a1^2*b3+2*a2^2*b1+2*a2^2*b2+1/2*a2^2*b3+4*a1*a2*b1+2*a1*a2*b2+a1*a2*b3-1/6                                                                                                                                                                                                                                                                                    \n",
       " 2/3*a1^4*b1+1/12*a1^4*b2+1/24*a1^4*b3+2/3*a2^4*b1+2/3*a2^4*b2+1/24*a2^4*b3+8/3*a1*a2^3*b1+4/3*a1*a2^3*b2+1/6*a1*a2^3*b3+4*a1^2*a2^2*b1+a1^2*a2^2*b2+1/4*a1^2*a2^2*b3+8/3*a1^3*a2*b1+1/3*a1^3*a2*b2+1/6*a1^3*a2*b3-1/120                                                                                                                                                             \n",
       " 4/3*a1^3*b1^2+2/3*a1^3*b2^2+1/6*a1^3*b3^2+4/3*a2^3*b1^2+4/3*a2^3*b2^2+1/6*a2^3*b3^2+4*a1*a2^2*b1^2+2*a1*a2^2*b2^2+1/2*a1*a2^2*b3^2+4*a1^2*a2*b1^2+2*a1^2*a2*b2^2+1/2*a1^2*a2*b3^2+5/3*a1^3*b1*b2+5/6*a1^3*b1*b3+2/3*a1^3*b2*b3+8/3*a2^3*b1*b2+5/6*a2^3*b1*b3+5/6*a2^3*b2*b3+6*a1*a2^2*b1*b2+5/2*a1*a2^2*b1*b3+2*a1*a2^2*b2*b3+5*a1^2*a2*b1*b2+5/2*a1^2*a2*b1*b3+2*a1^2*a2*b2*b3-1/40"
      ]
     },
     "execution_count": 68,
     "metadata": {},
     "output_type": "execute_result"
    }
   ],
   "source": [
    "eqs_b=expand.(coeffs(W, Sb)-rhs_splitting(W))\n",
    "eqs_b=vcat(eqs_b[1:4], expand(2*eqs_b[5]+eqs_b[6]))"
   ]
  },
  {
   "cell_type": "code",
   "execution_count": 69,
   "metadata": {},
   "outputs": [
    {
     "data": {
      "text/plain": [
       "5-element Array{Giac.giac_IDNT,1}:\n",
       " a1\n",
       " a2\n",
       " b1\n",
       " b2\n",
       " b3"
      ]
     },
     "execution_count": 69,
     "metadata": {},
     "output_type": "execute_result"
    }
   ],
   "source": [
    "vars_b=[a1,a2,b1,b2,b3]"
   ]
  },
  {
   "cell_type": "code",
   "execution_count": 75,
   "metadata": {},
   "outputs": [
    {
     "data": {
      "text/plain": [
       "1-element Array{Array{Giac.giac_SYMB,1},1}:\n",
       " Giac.giac_SYMB[(2/3517774305569968383590400*rootof([[-1,-25920,10077696000,382417120788480,-6824829088117555200,-909769216957750444032000],[1,0,-12093235200,0,36561584400629760000,0,11318984689701547924468531200]])+1)/2, -1/3517774305569968383590400*rootof([[-1,-25920,10077696000,382417120788480,-6824829088117555200,-909769216957750444032000],[1,0,-12093235200,0,36561584400629760000,0,11318984689701547924468531200]]), (-2/407149803885413007360*rootof([[3,0,-30233088000,-1090829164216320,105297363073813708800],[1,0,-12093235200,0,36561584400629760000,0,11318984689701547924468531200]])+(-24*(-1/3517774305569968383590400*rootof([[-1,-25920,10077696000,382417120788480,-6824829088117555200,-909769216957750444032000],[1,0,-12093235200,0,36561584400629760000,0,11318984689701547924468531200]]))^2/407149803885413007360*rootof([[3,0,-30233088000,-1090829164216320,105297363073813708800],[1,0,-12093235200,0,36561584400629760000,0,11318984689701547924468531200]])+6/407149803885413007360*rootof([[3,0,-30233088000,-1090829164216320,105297363073813708800],[1,0,-12093235200,0,36561584400629760000,0,11318984689701547924468531200]])-2)/3+1)/2, 1/407149803885413007360*rootof([[3,0,-30233088000,-1090829164216320,105297363073813708800],[1,0,-12093235200,0,36561584400629760000,0,11318984689701547924468531200]]), -(-24*(-1/3517774305569968383590400*rootof([[-1,-25920,10077696000,382417120788480,-6824829088117555200,-909769216957750444032000],[1,0,-12093235200,0,36561584400629760000,0,11318984689701547924468531200]]))^2/407149803885413007360*rootof([[3,0,-30233088000,-1090829164216320,105297363073813708800],[1,0,-12093235200,0,36561584400629760000,0,11318984689701547924468531200]])+6/407149803885413007360*rootof([[3,0,-30233088000,-1090829164216320,105297363073813708800],[1,0,-12093235200,0,36561584400629760000,0,11318984689701547924468531200]])-2)/3]"
      ]
     },
     "execution_count": 75,
     "metadata": {},
     "output_type": "execute_result"
    }
   ],
   "source": [
    "sols_b=to_julia(solve(eqs_b, vars_b))"
   ]
  },
  {
   "cell_type": "code",
   "execution_count": 82,
   "metadata": {},
   "outputs": [
    {
     "data": {
      "text/plain": [
       "5-element Array{Giac.giac,1}:\n",
       " 1.07985242638+1.71693725502e-16*i  \n",
       " -0.579852426382                    \n",
       " 0.359950808794-5.53309857576e-17*i \n",
       " -0.143714727303-5.53309857576e-17*i\n",
       " 0.567527837017                     "
      ]
     },
     "execution_count": 82,
     "metadata": {},
     "output_type": "execute_result"
    }
   ],
   "source": [
    "evalf.(sols_b[1])"
   ]
  },
  {
   "cell_type": "code",
   "execution_count": null,
   "metadata": {},
   "outputs": [],
   "source": [
    "{a1 = .21007378680878455877-0.46600721949282283246e-1*I, a2 = .28992621319121544123+0.46600721949282283246e-1*I, b1 = 0.70024595602928186261e-1-0.15533573983094094415e-1*I, b2 = .28019069698466035507-0.45035902822440560196e-1*I, b3 = .29956941482482291734+.12113895361106930922*I}"
   ]
  },
  {
   "cell_type": "code",
   "execution_count": 39,
   "metadata": {},
   "outputs": [
    {
     "data": {
      "text/plain": [
       "(-0.12020789467970872, 0.6202078946797087, 0.2904371621663735, -0.0804419441141353, 0.5800095638955227)"
      ]
     },
     "execution_count": 39,
     "metadata": {},
     "output_type": "execute_result"
    }
   ],
   "source": [
    "a1,a2,b1,b2,b3=(sols[3]...)"
   ]
  },
  {
   "cell_type": "code",
   "execution_count": 93,
   "metadata": {},
   "outputs": [
    {
     "data": {
      "text/plain": [
       "6×6 Array{Int64,2}:\n",
       " 1   0  0   0  0  0\n",
       " 0   1  0   0  0  0\n",
       " 0  -2  1   0  0  0\n",
       " 0   0  0   1  0  0\n",
       " 0   0  0  -3  1  0\n",
       " 0   0  0   0  0  1"
      ]
     },
     "execution_count": 93,
     "metadata": {},
     "output_type": "execute_result"
    }
   ],
   "source": [
    "W5=lyndon_words([A,B],5, all_lower_terms=false)\n",
    "B5=lyndon_basis([A,B],5, all_lower_terms=false)\n",
    "T5=[coeff(w,b) for w in W5, b in B5]"
   ]
  },
  {
   "cell_type": "code",
   "execution_count": 94,
   "metadata": {},
   "outputs": [
    {
     "data": {
      "text/plain": [
       "exp(0.10951155775139804*A)*exp(0.2687222082048147*B)*exp(0.4451715080955341*A)*exp(0.23127779179518532*B)*exp((-0.10936613169386428)*A)*exp(0.23127779179518532*B)*exp(0.4451715080955341*A)*exp(0.2687222082048147*B)*exp(0.10951155775139804*A)"
      ]
     },
     "execution_count": 94,
     "metadata": {},
     "output_type": "execute_result"
    }
   ],
   "source": [
    "a1 = .10951155775139804132\n",
    "a2 = .44517150809553409515\n",
    "a3 = -.1093661316938642729\n",
    "b1 = .2687222082048146936\n",
    "b2 = .2312777917951853064\n",
    "Sa = exp(a1*A)*exp(b1*B)*exp(a2*A)*exp(b2*B)*exp(a3*A)*exp(b2*B)*exp(a2*A)*exp(b1*B)*exp(a1*A)"
   ]
  },
  {
   "cell_type": "code",
   "execution_count": 102,
   "metadata": {},
   "outputs": [
    {
     "data": {
      "text/plain": [
       "(0.10951155775139121, 0.44517150809553385, -0.10936613169384835, 0.2687222082048084, 0.2312777917951907)"
      ]
     },
     "execution_count": 102,
     "metadata": {},
     "output_type": "execute_result"
    }
   ],
   "source": [
    "a1,a2,a3,b1,b2=(sols_a[1]...)"
   ]
  },
  {
   "cell_type": "code",
   "execution_count": 106,
   "metadata": {},
   "outputs": [
    {
     "data": {
      "text/plain": [
       "(-1.3726838813041553, 1.5868331938715983, 0.5717013748651176, 0.00023687690880613843, 0.49976312309119386)"
      ]
     },
     "execution_count": 106,
     "metadata": {},
     "output_type": "execute_result"
    }
   ],
   "source": [
    "a1,a2,a3,b1,b2=(sols_a[2]...)"
   ]
  },
  {
   "cell_type": "code",
   "execution_count": 107,
   "metadata": {},
   "outputs": [
    {
     "data": {
      "text/plain": [
       "6-element Array{Float64,1}:\n",
       " -3.46945e-18\n",
       "  0.00132508 \n",
       " -0.00265016 \n",
       "  0.00212427 \n",
       " -0.00279612 \n",
       "  0.00134608 "
      ]
     },
     "execution_count": 107,
     "metadata": {},
     "output_type": "execute_result"
    }
   ],
   "source": [
    "c=coeffs(W5, Sa)-rhs_splitting(W5)"
   ]
  },
  {
   "cell_type": "code",
   "execution_count": 108,
   "metadata": {},
   "outputs": [
    {
     "data": {
      "text/plain": [
       "6-element Array{Expocon.SimpleCommutator,1}:\n",
       " [A,[A,[A,[A,B]]]]\n",
       " [A,[A,[[A,B],B]]]\n",
       " [[A,[A,B]],[A,B]]\n",
       " [A,[[[A,B],B],B]]\n",
       " [[A,B],[[A,B],B]]\n",
       " [[[[A,B],B],B],B]"
      ]
     },
     "execution_count": 108,
     "metadata": {},
     "output_type": "execute_result"
    }
   ],
   "source": [
    "B5"
   ]
  },
  {
   "cell_type": "code",
   "execution_count": 109,
   "metadata": {},
   "outputs": [
    {
     "data": {
      "text/plain": [
       "6-element Array{Float64,1}:\n",
       " -3.46945e-18\n",
       "  0.00132508 \n",
       " -7.80626e-18\n",
       "  0.00212427 \n",
       "  0.00357667 \n",
       "  0.00134608 "
      ]
     },
     "execution_count": 109,
     "metadata": {},
     "output_type": "execute_result"
    }
   ],
   "source": [
    "T5\\c"
   ]
  },
  {
   "cell_type": "code",
   "execution_count": 20,
   "metadata": {},
   "outputs": [
    {
     "data": {
      "text/plain": [
       "0.00016119182942461163"
      ]
     },
     "execution_count": 20,
     "metadata": {},
     "output_type": "execute_result"
    }
   ],
   "source": [
    "a1,a2,b1,b2,b3=(sols[3]...)\n",
    "Sb = exp(b1*B)*exp(a1*A)*exp(b2*B)*exp(a2*A)*exp(b3*B)*exp(a2*A)*exp(b2*B)*exp(a1*A)*exp(b1*B)\n",
    "norm(coeffs(W7x,Sb)-rhs_splitting(W7x))"
   ]
  },
  {
   "cell_type": "code",
   "execution_count": null,
   "metadata": {},
   "outputs": [],
   "source": []
  }
 ],
 "metadata": {
  "kernelspec": {
   "display_name": "Julia 0.6.1",
   "language": "julia",
   "name": "julia-0.6"
  },
  "language_info": {
   "file_extension": ".jl",
   "mimetype": "application/julia",
   "name": "julia",
   "version": "0.6.1"
  }
 },
 "nbformat": 4,
 "nbformat_minor": 2
}
